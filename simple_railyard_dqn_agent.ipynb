{
 "cells": [
  {
   "cell_type": "markdown",
   "metadata": {},
   "source": [
    "#### Creating a custom Rail Yard gym environment"
   ]
  },
  {
   "cell_type": "markdown",
   "metadata": {},
   "source": [
    "We first create a custome rail yard environment or \"game\". We are using the Open AI Gym library which is intended to help test out different AI agents on various game like environments. We created this environment by subclassing the Gym evironment class and overiding key methods such as __init__(), step(), and reset()."
   ]
  },
  {
   "cell_type": "code",
   "execution_count": 1,
   "metadata": {
    "scrolled": true
   },
   "outputs": [],
   "source": [
    "import gym\n",
    "import RailYardGymEnv\n",
    "env_name = 'RailYardGymEnv-v0'\n",
    "rail_yard_env = gym.make(env_name)"
   ]
  },
  {
   "cell_type": "markdown",
   "metadata": {},
   "source": [
    "The environment is a text based game. The objective is to load the cars as per the schedule in as few steps as possible.  Each step you take you lose -10 points.  If you load all the required cars you get 1000 points.  Let's reset the environment and see the loading schedule:"
   ]
  },
  {
   "cell_type": "code",
   "execution_count": 2,
   "metadata": {},
   "outputs": [
    {
     "name": "stdout",
     "output_type": "stream",
     "text": [
      "Loading Schedule:\n",
      "Set: 1\n",
      "Car: m2 Product:M\n",
      "Car: d3 Product:D\n",
      "Set: 2\n",
      "Car: d4 Product:D\n",
      "\n",
      "\n"
     ]
    }
   ],
   "source": [
    "rail_yard_env.reset()\n",
    "print(\"Loading Schedule:\")\n",
    "print(str(rail_yard_env.ry.loading_schedule) + \"\\n\")"
   ]
  },
  {
   "cell_type": "markdown",
   "metadata": {},
   "source": [
    "As you can see the schedule is broken up into sets.  Each set lists the car number and product to load (e.g. Car: m2 Product:M).  \n",
    "\n",
    "Now let's create a main game loop for this environment and play the game!  Note that the environment expects an action at each step of the game that indicates how many cars to move from a source to destination track. The user can also \"wait\" or \"skip the turn\" by entering a blank for any of the fields. Finally, if there are insufficient cars, spots or the tracks do not connect the moves are considered invalid and result in a loss of -10 points.\n",
    "\n",
    "The environment returns an observation,m "
   ]
  },
  {
   "cell_type": "code",
   "execution_count": 3,
   "metadata": {},
   "outputs": [
    {
     "name": "stdout",
     "output_type": "stream",
     "text": [
      "Period: 0\n",
      "Track 1: []\n",
      "Track 2: ['m1', 'm2', 'd3', 'd4']\n",
      "Track 3: []\n",
      "Track 4: []\n",
      "Rack 5: []\n",
      "Rack 6: []\n",
      "Track 7: []\n",
      "\n",
      "From track: 2\n",
      "To track: 1\n",
      "Number of cars: 4\n",
      "Period: 1\n",
      "Track 1: ['d4', 'd3', 'm2', 'm1']\n",
      "Track 2: []\n",
      "Track 3: []\n",
      "Track 4: []\n",
      "Rack 5: []\n",
      "Rack 6: []\n",
      "Track 7: []\n",
      "\n",
      "From track: 1\n",
      "To track: 5\n",
      "Number of cars: 2\n",
      "Period: 2\n",
      "Track 1: ['d4', 'd3']\n",
      "Track 2: []\n",
      "Track 3: []\n",
      "Track 4: []\n",
      "Rack 5: ['m1', 'm2']\n",
      "Rack 6: []\n",
      "Track 7: []\n",
      "\n",
      "From track: 1\n",
      "To track: 6\n",
      "Number of cars: 2\n",
      "Period: 3\n",
      "Track 1: []\n",
      "Track 2: []\n",
      "Track 3: []\n",
      "Track 4: []\n",
      "Rack 5: ['m1', 'm2']\n",
      "Rack 6: ['d3', 'd4']\n",
      "Track 7: []\n",
      "\n",
      "From track: \n",
      "To track: \n",
      "Number of cars: \n",
      "Period: 4\n",
      "Track 1: []\n",
      "Track 2: []\n",
      "Track 3: []\n",
      "Track 4: []\n",
      "Rack 5: ['m1', 'm2']\n",
      "Rack 6: ['d3', 'd4']\n",
      "Track 7: []\n",
      "\n",
      "From track: \n",
      "To track: \n",
      "Number of cars: \n",
      "Period: 5\n",
      "Track 1: []\n",
      "Track 2: []\n",
      "Track 3: []\n",
      "Track 4: []\n",
      "Rack 5: ['M1', 'M2']\n",
      "Rack 6: ['d3', 'd4']\n",
      "Track 7: []\n",
      "\n",
      "From track: \n",
      "To track: \n",
      "Number of cars: \n",
      "Period: 6\n",
      "Track 1: []\n",
      "Track 2: []\n",
      "Track 3: []\n",
      "Track 4: []\n",
      "Rack 5: ['M1', 'M2']\n",
      "Rack 6: ['D3', 'D4']\n",
      "Track 7: []\n",
      "\n",
      "From track: 5\n",
      "To track: 1\n",
      "Number of cars: 2\n",
      "Period: 7\n",
      "Track 1: ['M2', 'M1']\n",
      "Track 2: []\n",
      "Track 3: []\n",
      "Track 4: []\n",
      "Rack 5: []\n",
      "Rack 6: ['D3', 'D4']\n",
      "Track 7: []\n",
      "\n",
      "From track: 6\n",
      "To track: 1\n",
      "Number of cars: 6\n",
      "Period: 8\n",
      "Track 1: ['M2', 'M1']\n",
      "Track 2: []\n",
      "Track 3: []\n",
      "Track 4: []\n",
      "Rack 5: []\n",
      "Rack 6: ['D3', 'D4']\n",
      "Track 7: []\n",
      "\n",
      "From track: 6\n",
      "To track: 1\n",
      "Number of cars: 2\n",
      "Period: 9\n",
      "Track 1: ['M2', 'M1', 'D4', 'D3']\n",
      "Track 2: []\n",
      "Track 3: []\n",
      "Track 4: []\n",
      "Rack 5: []\n",
      "Rack 6: []\n",
      "Track 7: []\n",
      "\n",
      "From track: 1\n",
      "To track: 7\n",
      "Number of cars: 4\n",
      "Period: 10\n",
      "Track 1: []\n",
      "Track 2: []\n",
      "Track 3: []\n",
      "Track 4: []\n",
      "Rack 5: []\n",
      "Rack 6: []\n",
      "Track 7: ['D3', 'D4', 'M1', 'M2']\n",
      "\n"
     ]
    }
   ],
   "source": [
    "def run_railyard_game(rail_yard_env):\n",
    "    print(rail_yard_env.render())\n",
    "    done = False\n",
    "    while not done:\n",
    "        #get input from user\n",
    "        from_track = input(\"From track: \")\n",
    "        to_track = input(\"To track: \")\n",
    "        num_cars = input(\"Number of cars: \")\n",
    "        if from_track == \"\" or to_track  == \"\" or num_cars == \"\" :\n",
    "            action = 0 #DO_NOTHING_ACTION\n",
    "        else:    \n",
    "            action = rail_yard_env.encode_action(int(from_track), int(to_track), int(num_cars))\n",
    "\n",
    "        observation, reward, done, info = rail_yard_env.step(action)\n",
    "        print(rail_yard_env.render())\n",
    "        \n",
    "run_railyard_game(rail_yard_env)"
   ]
  },
  {
   "cell_type": "code",
   "execution_count": 4,
   "metadata": {},
   "outputs": [
    {
     "data": {
      "text/plain": [
       "array([[2, 0, 0, 0, 0],\n",
       "       [2, 1, 0, 1, 0],\n",
       "       [2, 2, 0, 1, 1],\n",
       "       [2, 3, 0, 2, 1]])"
      ]
     },
     "execution_count": 4,
     "metadata": {},
     "output_type": "execute_result"
    }
   ],
   "source": [
    "rail_yard_env.reset()"
   ]
  },
  {
   "cell_type": "markdown",
   "metadata": {},
   "source": [
    "Each row in our observation corresponds to a rail car and is of the form: (track number, position on track, loaded or empty, set number and product if on loading schedule).  Thus the second row in the matrix  [2, 1, 0, 1, 0] means that rail car 2 is on track number 2, in spot 1, it is empty, it is scheduled for loading on set 1, and should be loaded with product 0 (M).\n",
    "\n",
    "Let's take an action in the environment and see how the observation changes:"
   ]
  },
  {
   "cell_type": "code",
   "execution_count": 5,
   "metadata": {},
   "outputs": [
    {
     "data": {
      "text/plain": [
       "(array([[2, 0, 0, 0, 0],\n",
       "        [2, 1, 0, 1, 0],\n",
       "        [1, 1, 0, 1, 1],\n",
       "        [1, 0, 0, 2, 1]]),\n",
       " -10,\n",
       " False,\n",
       " None)"
      ]
     },
     "execution_count": 5,
     "metadata": {},
     "output_type": "execute_result"
    }
   ],
   "source": [
    "rail_yard_env.step(rail_yard_env.encode_action(2,1,2))"
   ]
  },
  {
   "cell_type": "markdown",
   "metadata": {},
   "source": [
    "We \"popped\" 2 cars from track 2 and \"pushed\" them onto 1.  Note we used the encode_action() method in our custom gym environment which assigns a unique integer to every possible action in our discrete action space."
   ]
  },
  {
   "cell_type": "markdown",
   "metadata": {},
   "source": [
    "Let's start with the smallest problem of just 3 tracks, 1 car and 1 product to load."
   ]
  },
  {
   "cell_type": "code",
   "execution_count": 6,
   "metadata": {},
   "outputs": [
    {
     "name": "stdout",
     "output_type": "stream",
     "text": [
      "Loading Schedule:\n",
      "Set: 1\n",
      "Car: m1 Product:M\n",
      "\n",
      "\n",
      "Period: 0\n",
      "Track 1: ['m1']\n",
      "Rack 2: []\n",
      "Track 3: []\n",
      "\n",
      "From track: 1\n",
      "To track: 2\n",
      "Number of cars: 1\n",
      "Period: 1\n",
      "Track 1: []\n",
      "Rack 2: ['m1']\n",
      "Track 3: []\n",
      "\n",
      "From track: \n",
      "To track: \n",
      "Number of cars: \n",
      "Period: 2\n",
      "Track 1: []\n",
      "Rack 2: ['m1']\n",
      "Track 3: []\n",
      "\n",
      "From track: \n",
      "To track: \n",
      "Number of cars: \n",
      "Period: 3\n",
      "Track 1: []\n",
      "Rack 2: ['m1']\n",
      "Track 3: []\n",
      "\n",
      "From track: \n",
      "To track: \n",
      "Number of cars: \n",
      "Period: 4\n",
      "Track 1: []\n",
      "Rack 2: ['M1']\n",
      "Track 3: []\n",
      "\n",
      "From track: 2\n",
      "To track: 1\n",
      "Number of cars: 1\n",
      "Period: 5\n",
      "Track 1: ['M1']\n",
      "Rack 2: []\n",
      "Track 3: []\n",
      "\n",
      "From track: 1\n",
      "To track: 3\n",
      "Number of cars: 1\n",
      "Period: 6\n",
      "Track 1: []\n",
      "Rack 2: []\n",
      "Track 3: ['M1']\n",
      "\n"
     ]
    }
   ],
   "source": [
    "env_name = 'MinScenarioRailYardGymEnv-v0'\n",
    "rail_yard_env = gym.make(env_name)\n",
    "rail_yard_env.reset()\n",
    "print(\"Loading Schedule:\")\n",
    "print(str(rail_yard_env.ry.loading_schedule) + \"\\n\")\n",
    "run_railyard_game(rail_yard_env)"
   ]
  },
  {
   "cell_type": "markdown",
   "metadata": {},
   "source": [
    "#### Wrapping the environment for use by TF Agents"
   ]
  },
  {
   "cell_type": "markdown",
   "metadata": {},
   "source": [
    "Here we are going to start using the TensorFlow Agents library. We load and wrap our gym environment in a Tensorflow wrapper.  This allows us to exchange obserations, actions, and rewards between the agent and the environment as tensors and be callable from within a high performance graph code. Note we typically create one environment for training and one for evaluation."
   ]
  },
  {
   "cell_type": "code",
   "execution_count": 7,
   "metadata": {},
   "outputs": [],
   "source": [
    "from tf_agents.environments import suite_gym\n",
    "from tf_agents.environments import tf_py_environment\n",
    "\n",
    "train_py_env = suite_gym.load(env_name)\n",
    "eval_py_env = suite_gym.load(env_name)\n",
    "train_env = tf_py_environment.TFPyEnvironment(train_py_env)\n",
    "eval_env = tf_py_environment.TFPyEnvironment(eval_py_env)"
   ]
  },
  {
   "cell_type": "markdown",
   "metadata": {},
   "source": [
    "The reset method returns an observation in a TimeStep object."
   ]
  },
  {
   "cell_type": "code",
   "execution_count": 8,
   "metadata": {},
   "outputs": [
    {
     "data": {
      "text/plain": [
       "TimeStep(step_type=<tf.Tensor: shape=(1,), dtype=int32, numpy=array([0])>, reward=<tf.Tensor: shape=(1,), dtype=float32, numpy=array([0.], dtype=float32)>, discount=<tf.Tensor: shape=(1,), dtype=float32, numpy=array([1.], dtype=float32)>, observation=<tf.Tensor: shape=(1, 1, 5), dtype=int32, numpy=array([[[1, 0, 0, 1, 0]]])>)"
      ]
     },
     "execution_count": 8,
     "metadata": {},
     "output_type": "execute_result"
    }
   ],
   "source": [
    "train_env.reset()\n",
    "eval_env.reset()"
   ]
  },
  {
   "cell_type": "markdown",
   "metadata": {},
   "source": [
    "We can also see the specifications of our observation and action space.  These are used to configure the agent network input and out layers so that we can vary the environment implementation without impacting the agents."
   ]
  },
  {
   "cell_type": "code",
   "execution_count": 9,
   "metadata": {},
   "outputs": [
    {
     "data": {
      "text/plain": [
       "BoundedTensorSpec(shape=(1, 5), dtype=tf.int32, name='observation', minimum=array(0), maximum=array(4))"
      ]
     },
     "execution_count": 9,
     "metadata": {},
     "output_type": "execute_result"
    }
   ],
   "source": [
    "train_env.observation_spec()"
   ]
  },
  {
   "cell_type": "code",
   "execution_count": 10,
   "metadata": {},
   "outputs": [
    {
     "data": {
      "text/plain": [
       "BoundedTensorSpec(shape=(), dtype=tf.int64, name='action', minimum=array(0, dtype=int64), maximum=array(9, dtype=int64))"
      ]
     },
     "execution_count": 10,
     "metadata": {},
     "output_type": "execute_result"
    }
   ],
   "source": [
    "train_env.action_spec()"
   ]
  },
  {
   "cell_type": "markdown",
   "metadata": {},
   "source": [
    "#### Creating a DQN agent\n",
    "\n",
    "A TF-Agents training program is split into an environment exploration part (a driver that explores the environment using a collect policy and sends trajectories (observations, actions, rewards) to one or more observers who write to a replay buffer) and a learning part (an agent who pulls batches off the replay buffer and trains networks to be leveraged by the collect policy and the final agent policy).\n",
    "\n",
    "We first create a Q network with a fully connected layer of 32 neurons"
   ]
  },
  {
   "cell_type": "code",
   "execution_count": 40,
   "metadata": {},
   "outputs": [],
   "source": [
    "from tf_agents.networks import q_network\n",
    "fc_layer_params = [32]\n",
    "q_net = q_network.QNetwork(\n",
    "    train_env.observation_spec(),\n",
    "    train_env.action_spec(),\n",
    "    fc_layer_params=fc_layer_params)"
   ]
  },
  {
   "cell_type": "markdown",
   "metadata": {},
   "source": [
    "We then use the network to create a DQN agent which uses 2 Q networks (one for exploration and one for setting targets in loss calculations) and an epsilon greedy policy for exploration.  Note we also provide a gradient based optimizer for performnig updates to the network weights to minimize the loss, the loss function (Huber loss which is just the squared different of the target vs current estimate of the value state/action function), and the "
   ]
  },
  {
   "cell_type": "code",
   "execution_count": 41,
   "metadata": {},
   "outputs": [],
   "source": [
    "import tensorflow as tf\n",
    "from tensorflow import keras\n",
    "from tf_agents.agents.dqn.dqn_agent import DqnAgent\n",
    "\n",
    "num_iterations = 200000\n",
    "learning_rate = 2.5e-3 #how fast to update the Q value function\n",
    "initial_e = 0.5 #initial epsilon\n",
    "final_e = 0.01 #final epsilon\n",
    "target_update_period = 100 #how many training iterations to play between every update to the target Q value function\n",
    "\n",
    "train_step = tf.Variable(0,dtype=tf.int64) #keeps track of number of training iterations\n",
    "\n",
    "optimizer = tf.compat.v1.train.RMSPropOptimizer(learning_rate=learning_rate, decay=0.95, momentum=0.0,\n",
    "                                     epsilon=0.00001, centered=True)\n",
    "\n",
    "epsilon_fn = keras.optimizers.schedules.PolynomialDecay(\n",
    "    initial_learning_rate=initial_e, # initial ε\n",
    "    decay_steps=num_iterations,\n",
    "    end_learning_rate=final_e) # final ε\n",
    "\n",
    "agent = DqnAgent(train_env.time_step_spec(),\n",
    "                 train_env.action_spec(),\n",
    "                 q_network=q_net,\n",
    "                 optimizer=optimizer,\n",
    "                 #observation_and_action_constraint_splitter=observation_and_action_constraint_splitter,\n",
    "                 target_update_period=100,\n",
    "                 td_errors_loss_fn=keras.losses.Huber(reduction=\"none\"),\n",
    "                 gamma=0.99, # discount factor\n",
    "                 train_step_counter=train_step,\n",
    "                 epsilon_greedy=lambda: epsilon_fn(train_step))\n",
    "agent.initialize()"
   ]
  },
  {
   "cell_type": "markdown",
   "metadata": {},
   "source": [
    "Let's create a replay buffer to store the trajectories (experience) collected by the driver and passed to the observer."
   ]
  },
  {
   "cell_type": "code",
   "execution_count": 42,
   "metadata": {},
   "outputs": [],
   "source": [
    "from tf_agents.replay_buffers import tf_uniform_replay_buffer\n",
    "replay_buffer_max_length = 10000\n",
    "\n",
    "# A buffer to stores the experience from interacting with the environment\n",
    "replay_buffer = tf_uniform_replay_buffer.TFUniformReplayBuffer(\n",
    "    data_spec=agent.collect_data_spec,\n",
    "    batch_size=train_env.batch_size,\n",
    "    max_length=replay_buffer_max_length)"
   ]
  },
  {
   "cell_type": "markdown",
   "metadata": {},
   "source": [
    "Let's create the observer that writes the experience to the replay buffer"
   ]
  },
  {
   "cell_type": "code",
   "execution_count": 43,
   "metadata": {},
   "outputs": [],
   "source": [
    "#An observer to write the trajectories to the buffer\n",
    "replay_buffer_observer = replay_buffer.add_batch"
   ]
  },
  {
   "cell_type": "markdown",
   "metadata": {},
   "source": [
    "Let's create the metrics to be written to the screen and tensorboard"
   ]
  },
  {
   "cell_type": "code",
   "execution_count": 44,
   "metadata": {},
   "outputs": [],
   "source": [
    "from tf_agents.metrics import tf_metrics\n",
    "import logging\n",
    "#Training metrics\n",
    "train_metrics = [\n",
    "    tf_metrics.NumberOfEpisodes(),\n",
    "    tf_metrics.EnvironmentSteps(),\n",
    "    tf_metrics.AverageReturnMetric(),\n",
    "    tf_metrics.AverageEpisodeLengthMetric()\n",
    "]\n",
    "logging.getLogger().setLevel(logging.INFO)"
   ]
  },
  {
   "cell_type": "markdown",
   "metadata": {},
   "source": [
    "Now let's create the driver to explore the environment.  The driver will use the collect policy and pass the experience trajectories from num_steps to the replay_buffer_observer.add_batch and all the train_metrics functions."
   ]
  },
  {
   "cell_type": "code",
   "execution_count": 45,
   "metadata": {},
   "outputs": [],
   "source": [
    "from tf_agents.drivers.dynamic_step_driver import DynamicStepDriver\n",
    "collect_steps_per_iteration = 1 #how many steps to play in each training iteration\n",
    "#Create the driver\n",
    "collect_driver = DynamicStepDriver(\n",
    "    train_env,\n",
    "    agent.collect_policy,\n",
    "    observers=[replay_buffer_observer] + train_metrics,\n",
    "    num_steps=collect_steps_per_iteration) # collect # steps for each training iteration"
   ]
  },
  {
   "cell_type": "markdown",
   "metadata": {},
   "source": [
    "Finally create a data set from the buffer that the agent will use to pull records for training"
   ]
  },
  {
   "cell_type": "code",
   "execution_count": 46,
   "metadata": {},
   "outputs": [],
   "source": [
    "batch_size = 32\n",
    "# Dataset generates trajectories with shape [Bx2x...]\n",
    "dataset = replay_buffer.as_dataset(\n",
    "    num_parallel_calls=3, \n",
    "    sample_batch_size=batch_size, \n",
    "    num_steps=2).prefetch(3)"
   ]
  },
  {
   "cell_type": "markdown",
   "metadata": {},
   "source": [
    "Create the main training loop and convert it to a graph function for high performance execution"
   ]
  },
  {
   "cell_type": "code",
   "execution_count": 47,
   "metadata": {},
   "outputs": [],
   "source": [
    "import datetime\n",
    "from tf_agents.utils.common import function\n",
    "from tf_agents.eval.metric_utils import log_metrics\n",
    "\n",
    "def train_agent(n_iterations):\n",
    "    current_time = datetime.datetime.now().strftime(\"%Y%m%d-%H%M%S\")\n",
    "    train_log_dir = 'logs/dqn_agent/' + current_time + '/train'\n",
    "    writer = tf.summary.create_file_writer(train_log_dir)\n",
    "    time_step = None\n",
    "    policy_state = agent.collect_policy.get_initial_state(train_env.batch_size)\n",
    "    iterator = iter(dataset)\n",
    "    with writer.as_default():\n",
    "        for iteration in range(n_iterations):\n",
    "            time_step, policy_state = collect_driver.run(time_step, policy_state)\n",
    "            trajectories, buffer_info = next(iterator)\n",
    "            train_loss = agent.train(trajectories)\n",
    "            #log metrics\n",
    "            print(\"\\r{} loss:{:.5f}\".format(iteration, train_loss.loss.numpy()), end=\"\")\n",
    "            if iteration % 1000 == 0:\n",
    "                log_metrics(train_metrics)\n",
    "                tf.summary.scalar(\"number_of_episodes\", train_metrics[0].result(), iteration)\n",
    "                tf.summary.scalar(\"environment_steps\", train_metrics[1].result(), iteration)\n",
    "                tf.summary.scalar(\"average_return\", train_metrics[2].result(), iteration)\n",
    "                tf.summary.scalar(\"average_episode_length\", train_metrics[3].result(), iteration)\n",
    "                writer.flush()\n",
    "                \n",
    "collect_driver.run = function(collect_driver.run)\n",
    "agent.train = function(agent.train)"
   ]
  },
  {
   "cell_type": "markdown",
   "metadata": {},
   "source": [
    "We are now ready to start the training.  The first thing we will do is prefill the buffer with actions following the optimal policy (this is a very simple environment and we know it!). We also create a utility observer to track progress on the initial run."
   ]
  },
  {
   "cell_type": "code",
   "execution_count": 48,
   "metadata": {},
   "outputs": [
    {
     "name": "stdout",
     "output_type": "stream",
     "text": [
      "10000/10000"
     ]
    }
   ],
   "source": [
    "class ShowProgress:\n",
    "    def __init__(self, total):\n",
    "        self.counter = 0\n",
    "        self.total = total\n",
    "    def __call__(self, trajectory):\n",
    "        if not trajectory.is_boundary():\n",
    "            self.counter += 1\n",
    "        if self.counter % 100 == 0:\n",
    "            print(\"\\r{}/{}\".format(self.counter, self.total), end=\"\")\n",
    "            \n",
    "from min_scenario_policy import MinYardScenarioPolicy\n",
    "pretrain_steps = 10000 #number of steps to initialize the buffer with a pre trained policy\n",
    "initial_collect_policy = MinYardScenarioPolicy(train_env.time_step_spec(),train_env.action_spec())\n",
    "\n",
    "init_driver = DynamicStepDriver(\n",
    "    train_env,\n",
    "    initial_collect_policy,\n",
    "    observers=[replay_buffer.add_batch,ShowProgress(pretrain_steps)],\n",
    "    num_steps=pretrain_steps)\n",
    "final_time_step, final_policy_state = init_driver.run()"
   ]
  },
  {
   "cell_type": "code",
   "execution_count": 25,
   "metadata": {},
   "outputs": [
    {
     "name": "stdout",
     "output_type": "stream",
     "text": [
      "The tensorboard extension is already loaded. To reload it, use:\n",
      "  %reload_ext tensorboard\n"
     ]
    },
    {
     "data": {
      "text/plain": [
       "Reusing TensorBoard on port 6006 (pid 10936), started 5 days, 0:31:33 ago. (Use '!kill 10936' to kill it.)"
      ]
     },
     "metadata": {},
     "output_type": "display_data"
    },
    {
     "data": {
      "text/html": [
       "\n",
       "      <iframe id=\"tensorboard-frame-c212e9c915d5fba9\" width=\"100%\" height=\"800\" frameborder=\"0\">\n",
       "      </iframe>\n",
       "      <script>\n",
       "        (function() {\n",
       "          const frame = document.getElementById(\"tensorboard-frame-c212e9c915d5fba9\");\n",
       "          const url = new URL(\"/\", window.location);\n",
       "          url.port = 6006;\n",
       "          frame.src = url;\n",
       "        })();\n",
       "      </script>\n",
       "  "
      ],
      "text/plain": [
       "<IPython.core.display.HTML object>"
      ]
     },
     "metadata": {},
     "output_type": "display_data"
    }
   ],
   "source": [
    "%load_ext tensorboard\n",
    "%tensorboard --logdir logs/dqn_agent"
   ]
  },
  {
   "cell_type": "markdown",
   "metadata": {},
   "source": [
    "Finally let's run the training loop..."
   ]
  },
  {
   "cell_type": "code",
   "execution_count": 49,
   "metadata": {},
   "outputs": [
    {
     "name": "stderr",
     "output_type": "stream",
     "text": [
      "INFO:absl: \n",
      "\t\t NumberOfEpisodes = 0\n",
      "\t\t EnvironmentSteps = 1\n",
      "\t\t AverageReturn = 0.0\n",
      "\t\t AverageEpisodeLength = 0.0\n"
     ]
    },
    {
     "name": "stdout",
     "output_type": "stream",
     "text": [
      "954 loss:70.224022"
     ]
    },
    {
     "name": "stderr",
     "output_type": "stream",
     "text": [
      "INFO:absl: \n",
      "\t\t NumberOfEpisodes = 12\n",
      "\t\t EnvironmentSteps = 1001\n",
      "\t\t AverageReturn = -665.0\n",
      "\t\t AverageEpisodeLength = 86.69999694824219\n"
     ]
    },
    {
     "name": "stdout",
     "output_type": "stream",
     "text": [
      "1960 loss:269.454715"
     ]
    },
    {
     "name": "stderr",
     "output_type": "stream",
     "text": [
      "INFO:absl: \n",
      "\t\t NumberOfEpisodes = 28\n",
      "\t\t EnvironmentSteps = 2001\n",
      "\t\t AverageReturn = 25.0\n",
      "\t\t AverageEpisodeLength = 58.099998474121094\n"
     ]
    },
    {
     "name": "stdout",
     "output_type": "stream",
     "text": [
      "2961 loss:464.836495"
     ]
    },
    {
     "name": "stderr",
     "output_type": "stream",
     "text": [
      "INFO:absl: \n",
      "\t\t NumberOfEpisodes = 39\n",
      "\t\t EnvironmentSteps = 3001\n",
      "\t\t AverageReturn = -542.0\n",
      "\t\t AverageEpisodeLength = 84.5\n"
     ]
    },
    {
     "name": "stdout",
     "output_type": "stream",
     "text": [
      "3968 loss:283.700936"
     ]
    },
    {
     "name": "stderr",
     "output_type": "stream",
     "text": [
      "INFO:absl: \n",
      "\t\t NumberOfEpisodes = 53\n",
      "\t\t EnvironmentSteps = 4001\n",
      "\t\t AverageReturn = -195.0\n",
      "\t\t AverageEpisodeLength = 70.0\n"
     ]
    },
    {
     "name": "stdout",
     "output_type": "stream",
     "text": [
      "4990 loss:302.96729"
     ]
    },
    {
     "name": "stderr",
     "output_type": "stream",
     "text": [
      "INFO:absl: \n",
      "\t\t NumberOfEpisodes = 65\n",
      "\t\t EnvironmentSteps = 5001\n",
      "\t\t AverageReturn = -533.0\n",
      "\t\t AverageEpisodeLength = 83.5999984741211\n"
     ]
    },
    {
     "name": "stdout",
     "output_type": "stream",
     "text": [
      "5963 loss:213.19344"
     ]
    },
    {
     "name": "stderr",
     "output_type": "stream",
     "text": [
      "INFO:absl: \n",
      "\t\t NumberOfEpisodes = 75\n",
      "\t\t EnvironmentSteps = 6001\n",
      "\t\t AverageReturn = -899.0\n",
      "\t\t AverageEpisodeLength = 100.0\n"
     ]
    },
    {
     "name": "stdout",
     "output_type": "stream",
     "text": [
      "6980 loss:110.31485"
     ]
    },
    {
     "name": "stderr",
     "output_type": "stream",
     "text": [
      "INFO:absl: \n",
      "\t\t NumberOfEpisodes = 86\n",
      "\t\t EnvironmentSteps = 7001\n",
      "\t\t AverageReturn = -693.0\n",
      "\t\t AverageEpisodeLength = 89.5\n"
     ]
    },
    {
     "name": "stdout",
     "output_type": "stream",
     "text": [
      "7990 loss:90.699220"
     ]
    },
    {
     "name": "stderr",
     "output_type": "stream",
     "text": [
      "INFO:absl: \n",
      "\t\t NumberOfEpisodes = 96\n",
      "\t\t EnvironmentSteps = 8001\n",
      "\t\t AverageReturn = -818.0\n",
      "\t\t AverageEpisodeLength = 91.9000015258789\n"
     ]
    },
    {
     "name": "stdout",
     "output_type": "stream",
     "text": [
      "8952 loss:120.78868"
     ]
    },
    {
     "name": "stderr",
     "output_type": "stream",
     "text": [
      "INFO:absl: \n",
      "\t\t NumberOfEpisodes = 108\n",
      "\t\t EnvironmentSteps = 9001\n",
      "\t\t AverageReturn = -493.0\n",
      "\t\t AverageEpisodeLength = 79.5999984741211\n"
     ]
    },
    {
     "name": "stdout",
     "output_type": "stream",
     "text": [
      "9987 loss:12.591956"
     ]
    },
    {
     "name": "stderr",
     "output_type": "stream",
     "text": [
      "INFO:absl: \n",
      "\t\t NumberOfEpisodes = 119\n",
      "\t\t EnvironmentSteps = 10001\n",
      "\t\t AverageReturn = -706.0\n",
      "\t\t AverageEpisodeLength = 90.80000305175781\n"
     ]
    },
    {
     "name": "stdout",
     "output_type": "stream",
     "text": [
      "10953 loss:46.178389"
     ]
    },
    {
     "name": "stderr",
     "output_type": "stream",
     "text": [
      "INFO:absl: \n",
      "\t\t NumberOfEpisodes = 131\n",
      "\t\t EnvironmentSteps = 11001\n",
      "\t\t AverageReturn = -443.0\n",
      "\t\t AverageEpisodeLength = 84.69999694824219\n"
     ]
    },
    {
     "name": "stdout",
     "output_type": "stream",
     "text": [
      "11979 loss:41.43985"
     ]
    },
    {
     "name": "stderr",
     "output_type": "stream",
     "text": [
      "INFO:absl: \n",
      "\t\t NumberOfEpisodes = 142\n",
      "\t\t EnvironmentSteps = 12001\n",
      "\t\t AverageReturn = -671.0\n",
      "\t\t AverageEpisodeLength = 87.30000305175781\n"
     ]
    },
    {
     "name": "stdout",
     "output_type": "stream",
     "text": [
      "12946 loss:7.177952"
     ]
    },
    {
     "name": "stderr",
     "output_type": "stream",
     "text": [
      "INFO:absl: \n",
      "\t\t NumberOfEpisodes = 154\n",
      "\t\t EnvironmentSteps = 13001\n",
      "\t\t AverageReturn = -653.0\n",
      "\t\t AverageEpisodeLength = 85.5\n"
     ]
    },
    {
     "name": "stdout",
     "output_type": "stream",
     "text": [
      "13961 loss:14.87339"
     ]
    },
    {
     "name": "stderr",
     "output_type": "stream",
     "text": [
      "INFO:absl: \n",
      "\t\t NumberOfEpisodes = 166\n",
      "\t\t EnvironmentSteps = 14001\n",
      "\t\t AverageReturn = -390.0\n",
      "\t\t AverageEpisodeLength = 79.4000015258789\n"
     ]
    },
    {
     "name": "stdout",
     "output_type": "stream",
     "text": [
      "14998 loss:8.535100"
     ]
    },
    {
     "name": "stderr",
     "output_type": "stream",
     "text": [
      "INFO:absl: \n",
      "\t\t NumberOfEpisodes = 178\n",
      "\t\t EnvironmentSteps = 15001\n",
      "\t\t AverageReturn = -574.0\n",
      "\t\t AverageEpisodeLength = 87.69999694824219\n"
     ]
    },
    {
     "name": "stdout",
     "output_type": "stream",
     "text": [
      "15997 loss:0.219011"
     ]
    },
    {
     "name": "stderr",
     "output_type": "stream",
     "text": [
      "INFO:absl: \n",
      "\t\t NumberOfEpisodes = 188\n",
      "\t\t EnvironmentSteps = 16001\n",
      "\t\t AverageReturn = -887.0\n",
      "\t\t AverageEpisodeLength = 98.80000305175781\n"
     ]
    },
    {
     "name": "stdout",
     "output_type": "stream",
     "text": [
      "16950 loss:0.108098"
     ]
    },
    {
     "name": "stderr",
     "output_type": "stream",
     "text": [
      "INFO:absl: \n",
      "\t\t NumberOfEpisodes = 199\n",
      "\t\t EnvironmentSteps = 17001\n",
      "\t\t AverageReturn = -620.0\n",
      "\t\t AverageEpisodeLength = 92.30000305175781\n"
     ]
    },
    {
     "name": "stdout",
     "output_type": "stream",
     "text": [
      "17968 loss:4.517403"
     ]
    },
    {
     "name": "stderr",
     "output_type": "stream",
     "text": [
      "INFO:absl: \n",
      "\t\t NumberOfEpisodes = 211\n",
      "\t\t EnvironmentSteps = 18001\n",
      "\t\t AverageReturn = -648.0\n",
      "\t\t AverageEpisodeLength = 85.0\n"
     ]
    },
    {
     "name": "stdout",
     "output_type": "stream",
     "text": [
      "18947 loss:0.255442"
     ]
    },
    {
     "name": "stderr",
     "output_type": "stream",
     "text": [
      "INFO:absl: \n",
      "\t\t NumberOfEpisodes = 222\n",
      "\t\t EnvironmentSteps = 19001\n",
      "\t\t AverageReturn = -677.0\n",
      "\t\t AverageEpisodeLength = 87.9000015258789\n"
     ]
    },
    {
     "name": "stdout",
     "output_type": "stream",
     "text": [
      "19975 loss:0.052948"
     ]
    },
    {
     "name": "stderr",
     "output_type": "stream",
     "text": [
      "INFO:absl: \n",
      "\t\t NumberOfEpisodes = 233\n",
      "\t\t EnvironmentSteps = 20001\n",
      "\t\t AverageReturn = -595.0\n",
      "\t\t AverageEpisodeLength = 89.80000305175781\n"
     ]
    },
    {
     "name": "stdout",
     "output_type": "stream",
     "text": [
      "21000 loss:8.622291"
     ]
    },
    {
     "name": "stderr",
     "output_type": "stream",
     "text": [
      "INFO:absl: \n",
      "\t\t NumberOfEpisodes = 246\n",
      "\t\t EnvironmentSteps = 21001\n",
      "\t\t AverageReturn = -141.0\n",
      "\t\t AverageEpisodeLength = 74.69999694824219\n"
     ]
    },
    {
     "name": "stdout",
     "output_type": "stream",
     "text": [
      "21991 loss:2.358883"
     ]
    },
    {
     "name": "stderr",
     "output_type": "stream",
     "text": [
      "INFO:absl: \n",
      "\t\t NumberOfEpisodes = 267\n",
      "\t\t EnvironmentSteps = 22001\n",
      "\t\t AverageReturn = 659.0\n",
      "\t\t AverageEpisodeLength = 35.099998474121094\n"
     ]
    },
    {
     "name": "stdout",
     "output_type": "stream",
     "text": [
      "22967 loss:1.532061"
     ]
    },
    {
     "name": "stderr",
     "output_type": "stream",
     "text": [
      "INFO:absl: \n",
      "\t\t NumberOfEpisodes = 287\n",
      "\t\t EnvironmentSteps = 23001\n",
      "\t\t AverageReturn = 711.0\n",
      "\t\t AverageEpisodeLength = 29.899999618530273\n"
     ]
    },
    {
     "name": "stdout",
     "output_type": "stream",
     "text": [
      "23967 loss:0.6249489"
     ]
    },
    {
     "name": "stderr",
     "output_type": "stream",
     "text": [
      "INFO:absl: \n",
      "\t\t NumberOfEpisodes = 308\n",
      "\t\t EnvironmentSteps = 24001\n",
      "\t\t AverageReturn = 155.0\n",
      "\t\t AverageEpisodeLength = 55.20000076293945\n"
     ]
    },
    {
     "name": "stdout",
     "output_type": "stream",
     "text": [
      "24968 loss:0.9026739"
     ]
    },
    {
     "name": "stderr",
     "output_type": "stream",
     "text": [
      "INFO:absl: \n",
      "\t\t NumberOfEpisodes = 334\n",
      "\t\t EnvironmentSteps = 25001\n",
      "\t\t AverageReturn = 653.0\n",
      "\t\t AverageEpisodeLength = 25.600000381469727\n"
     ]
    },
    {
     "name": "stdout",
     "output_type": "stream",
     "text": [
      "25975 loss:0.4586549"
     ]
    },
    {
     "name": "stderr",
     "output_type": "stream",
     "text": [
      "INFO:absl: \n",
      "\t\t NumberOfEpisodes = 387\n",
      "\t\t EnvironmentSteps = 26001\n",
      "\t\t AverageReturn = 906.0\n",
      "\t\t AverageEpisodeLength = 10.399999618530273\n"
     ]
    },
    {
     "name": "stdout",
     "output_type": "stream",
     "text": [
      "26991 loss:44.648713"
     ]
    },
    {
     "name": "stderr",
     "output_type": "stream",
     "text": [
      "INFO:absl: \n",
      "\t\t NumberOfEpisodes = 467\n",
      "\t\t EnvironmentSteps = 27001\n",
      "\t\t AverageReturn = 830.0\n",
      "\t\t AverageEpisodeLength = 18.0\n"
     ]
    },
    {
     "name": "stdout",
     "output_type": "stream",
     "text": [
      "27953 loss:41.128744"
     ]
    },
    {
     "name": "stderr",
     "output_type": "stream",
     "text": [
      "INFO:absl: \n",
      "\t\t NumberOfEpisodes = 537\n",
      "\t\t EnvironmentSteps = 28001\n",
      "\t\t AverageReturn = 861.0\n",
      "\t\t AverageEpisodeLength = 14.899999618530273\n"
     ]
    },
    {
     "name": "stdout",
     "output_type": "stream",
     "text": [
      "28938 loss:65.031854"
     ]
    },
    {
     "name": "stderr",
     "output_type": "stream",
     "text": [
      "INFO:absl: \n",
      "\t\t NumberOfEpisodes = 609\n",
      "\t\t EnvironmentSteps = 29001\n",
      "\t\t AverageReturn = 913.0\n",
      "\t\t AverageEpisodeLength = 9.699999809265137\n"
     ]
    },
    {
     "name": "stdout",
     "output_type": "stream",
     "text": [
      "29963 loss:170.73140"
     ]
    },
    {
     "name": "stderr",
     "output_type": "stream",
     "text": [
      "INFO:absl: \n",
      "\t\t NumberOfEpisodes = 641\n",
      "\t\t EnvironmentSteps = 30001\n",
      "\t\t AverageReturn = 707.0\n",
      "\t\t AverageEpisodeLength = 30.299999237060547\n"
     ]
    },
    {
     "name": "stdout",
     "output_type": "stream",
     "text": [
      "30991 loss:59.122074"
     ]
    },
    {
     "name": "stderr",
     "output_type": "stream",
     "text": [
      "INFO:absl: \n",
      "\t\t NumberOfEpisodes = 665\n",
      "\t\t EnvironmentSteps = 31001\n",
      "\t\t AverageReturn = 504.0\n",
      "\t\t AverageEpisodeLength = 40.5\n"
     ]
    },
    {
     "name": "stdout",
     "output_type": "stream",
     "text": [
      "31968 loss:27.123747"
     ]
    },
    {
     "name": "stderr",
     "output_type": "stream",
     "text": [
      "INFO:absl: \n",
      "\t\t NumberOfEpisodes = 692\n",
      "\t\t EnvironmentSteps = 32001\n",
      "\t\t AverageReturn = 702.0\n",
      "\t\t AverageEpisodeLength = 30.799999237060547\n"
     ]
    },
    {
     "name": "stdout",
     "output_type": "stream",
     "text": [
      "32991 loss:66.300709"
     ]
    },
    {
     "name": "stderr",
     "output_type": "stream",
     "text": [
      "INFO:absl: \n",
      "\t\t NumberOfEpisodes = 723\n",
      "\t\t EnvironmentSteps = 33001\n",
      "\t\t AverageReturn = 835.0\n",
      "\t\t AverageEpisodeLength = 17.5\n"
     ]
    },
    {
     "name": "stdout",
     "output_type": "stream",
     "text": [
      "33967 loss:120.40193"
     ]
    },
    {
     "name": "stderr",
     "output_type": "stream",
     "text": [
      "INFO:absl: \n",
      "\t\t NumberOfEpisodes = 757\n",
      "\t\t EnvironmentSteps = 34001\n",
      "\t\t AverageReturn = 764.0\n",
      "\t\t AverageEpisodeLength = 24.600000381469727\n"
     ]
    },
    {
     "name": "stdout",
     "output_type": "stream",
     "text": [
      "34980 loss:123.99229"
     ]
    },
    {
     "name": "stderr",
     "output_type": "stream",
     "text": [
      "INFO:absl: \n",
      "\t\t NumberOfEpisodes = 788\n",
      "\t\t EnvironmentSteps = 35001\n",
      "\t\t AverageReturn = 705.0\n",
      "\t\t AverageEpisodeLength = 20.399999618530273\n"
     ]
    },
    {
     "name": "stdout",
     "output_type": "stream",
     "text": [
      "35959 loss:84.450611"
     ]
    },
    {
     "name": "stderr",
     "output_type": "stream",
     "text": [
      "INFO:absl: \n",
      "\t\t NumberOfEpisodes = 820\n",
      "\t\t EnvironmentSteps = 36001\n",
      "\t\t AverageReturn = 814.0\n",
      "\t\t AverageEpisodeLength = 19.600000381469727\n"
     ]
    },
    {
     "name": "stdout",
     "output_type": "stream",
     "text": [
      "36941 loss:43.507922"
     ]
    },
    {
     "name": "stderr",
     "output_type": "stream",
     "text": [
      "INFO:absl: \n",
      "\t\t NumberOfEpisodes = 850\n",
      "\t\t EnvironmentSteps = 37001\n",
      "\t\t AverageReturn = 768.0\n",
      "\t\t AverageEpisodeLength = 24.200000762939453\n"
     ]
    },
    {
     "name": "stdout",
     "output_type": "stream",
     "text": [
      "37957 loss:31.554759"
     ]
    },
    {
     "name": "stderr",
     "output_type": "stream",
     "text": [
      "INFO:absl: \n",
      "\t\t NumberOfEpisodes = 889\n",
      "\t\t EnvironmentSteps = 38001\n",
      "\t\t AverageReturn = 776.0\n",
      "\t\t AverageEpisodeLength = 23.399999618530273\n"
     ]
    },
    {
     "name": "stdout",
     "output_type": "stream",
     "text": [
      "38986 loss:92.799620"
     ]
    },
    {
     "name": "stderr",
     "output_type": "stream",
     "text": [
      "INFO:absl: \n",
      "\t\t NumberOfEpisodes = 924\n",
      "\t\t EnvironmentSteps = 39001\n",
      "\t\t AverageReturn = 595.0\n",
      "\t\t AverageEpisodeLength = 31.399999618530273\n"
     ]
    },
    {
     "name": "stdout",
     "output_type": "stream",
     "text": [
      "39956 loss:102.83696"
     ]
    },
    {
     "name": "stderr",
     "output_type": "stream",
     "text": [
      "INFO:absl: \n",
      "\t\t NumberOfEpisodes = 951\n",
      "\t\t EnvironmentSteps = 40001\n",
      "\t\t AverageReturn = 824.0\n",
      "\t\t AverageEpisodeLength = 18.600000381469727\n"
     ]
    },
    {
     "name": "stdout",
     "output_type": "stream",
     "text": [
      "40968 loss:56.101227"
     ]
    },
    {
     "name": "stderr",
     "output_type": "stream",
     "text": [
      "INFO:absl: \n",
      "\t\t NumberOfEpisodes = 991\n",
      "\t\t EnvironmentSteps = 41001\n",
      "\t\t AverageReturn = 730.0\n",
      "\t\t AverageEpisodeLength = 28.0\n"
     ]
    },
    {
     "name": "stdout",
     "output_type": "stream",
     "text": [
      "41992 loss:24.810561"
     ]
    },
    {
     "name": "stderr",
     "output_type": "stream",
     "text": [
      "INFO:absl: \n",
      "\t\t NumberOfEpisodes = 1028\n",
      "\t\t EnvironmentSteps = 42001\n",
      "\t\t AverageReturn = 576.0\n",
      "\t\t AverageEpisodeLength = 33.29999923706055\n"
     ]
    },
    {
     "name": "stdout",
     "output_type": "stream",
     "text": [
      "42941 loss:0.1577732"
     ]
    },
    {
     "name": "stderr",
     "output_type": "stream",
     "text": [
      "INFO:absl: \n",
      "\t\t NumberOfEpisodes = 1053\n",
      "\t\t EnvironmentSteps = 43001\n",
      "\t\t AverageReturn = 698.0\n",
      "\t\t AverageEpisodeLength = 31.200000762939453\n"
     ]
    },
    {
     "name": "stdout",
     "output_type": "stream",
     "text": [
      "43964 loss:82.298688"
     ]
    },
    {
     "name": "stderr",
     "output_type": "stream",
     "text": [
      "INFO:absl: \n",
      "\t\t NumberOfEpisodes = 1093\n",
      "\t\t EnvironmentSteps = 44001\n",
      "\t\t AverageReturn = 851.0\n",
      "\t\t AverageEpisodeLength = 15.899999618530273\n"
     ]
    },
    {
     "name": "stdout",
     "output_type": "stream",
     "text": [
      "44946 loss:26.356245"
     ]
    },
    {
     "name": "stderr",
     "output_type": "stream",
     "text": [
      "INFO:absl: \n",
      "\t\t NumberOfEpisodes = 1131\n",
      "\t\t EnvironmentSteps = 45001\n",
      "\t\t AverageReturn = 855.0\n",
      "\t\t AverageEpisodeLength = 15.5\n"
     ]
    },
    {
     "name": "stdout",
     "output_type": "stream",
     "text": [
      "45967 loss:31.996815"
     ]
    },
    {
     "name": "stderr",
     "output_type": "stream",
     "text": [
      "INFO:absl: \n",
      "\t\t NumberOfEpisodes = 1151\n",
      "\t\t EnvironmentSteps = 46001\n",
      "\t\t AverageReturn = 383.0\n",
      "\t\t AverageEpisodeLength = 42.5\n"
     ]
    },
    {
     "name": "stdout",
     "output_type": "stream",
     "text": [
      "46955 loss:62.679539"
     ]
    },
    {
     "name": "stderr",
     "output_type": "stream",
     "text": [
      "INFO:absl: \n",
      "\t\t NumberOfEpisodes = 1189\n",
      "\t\t EnvironmentSteps = 47001\n",
      "\t\t AverageReturn = 802.0\n",
      "\t\t AverageEpisodeLength = 20.799999237060547\n"
     ]
    },
    {
     "name": "stdout",
     "output_type": "stream",
     "text": [
      "47990 loss:93.308911"
     ]
    },
    {
     "name": "stderr",
     "output_type": "stream",
     "text": [
      "INFO:absl: \n",
      "\t\t NumberOfEpisodes = 1215\n",
      "\t\t EnvironmentSteps = 48001\n",
      "\t\t AverageReturn = 776.0\n",
      "\t\t AverageEpisodeLength = 23.399999618530273\n"
     ]
    },
    {
     "name": "stdout",
     "output_type": "stream",
     "text": [
      "48946 loss:0.4354240"
     ]
    },
    {
     "name": "stderr",
     "output_type": "stream",
     "text": [
      "INFO:absl: \n",
      "\t\t NumberOfEpisodes = 1256\n",
      "\t\t EnvironmentSteps = 49001\n",
      "\t\t AverageReturn = 702.0\n",
      "\t\t AverageEpisodeLength = 30.799999237060547\n"
     ]
    },
    {
     "name": "stdout",
     "output_type": "stream",
     "text": [
      "49963 loss:27.988399"
     ]
    },
    {
     "name": "stderr",
     "output_type": "stream",
     "text": [
      "INFO:absl: \n",
      "\t\t NumberOfEpisodes = 1304\n",
      "\t\t EnvironmentSteps = 50001\n",
      "\t\t AverageReturn = 775.0\n",
      "\t\t AverageEpisodeLength = 23.5\n"
     ]
    },
    {
     "name": "stdout",
     "output_type": "stream",
     "text": [
      "50965 loss:28.057972"
     ]
    },
    {
     "name": "stderr",
     "output_type": "stream",
     "text": [
      "INFO:absl: \n",
      "\t\t NumberOfEpisodes = 1349\n",
      "\t\t EnvironmentSteps = 51001\n",
      "\t\t AverageReturn = 619.0\n",
      "\t\t AverageEpisodeLength = 29.0\n"
     ]
    },
    {
     "name": "stdout",
     "output_type": "stream",
     "text": [
      "51979 loss:31.763230"
     ]
    },
    {
     "name": "stderr",
     "output_type": "stream",
     "text": [
      "INFO:absl: \n",
      "\t\t NumberOfEpisodes = 1374\n",
      "\t\t EnvironmentSteps = 52001\n",
      "\t\t AverageReturn = 497.0\n",
      "\t\t AverageEpisodeLength = 41.20000076293945\n"
     ]
    },
    {
     "name": "stdout",
     "output_type": "stream",
     "text": [
      "52942 loss:59.337954"
     ]
    },
    {
     "name": "stderr",
     "output_type": "stream",
     "text": [
      "INFO:absl: \n",
      "\t\t NumberOfEpisodes = 1403\n",
      "\t\t EnvironmentSteps = 53001\n",
      "\t\t AverageReturn = 758.0\n",
      "\t\t AverageEpisodeLength = 25.200000762939453\n"
     ]
    },
    {
     "name": "stdout",
     "output_type": "stream",
     "text": [
      "53967 loss:31.256820"
     ]
    },
    {
     "name": "stderr",
     "output_type": "stream",
     "text": [
      "INFO:absl: \n",
      "\t\t NumberOfEpisodes = 1425\n",
      "\t\t EnvironmentSteps = 54001\n",
      "\t\t AverageReturn = 97.0\n",
      "\t\t AverageEpisodeLength = 61.0\n"
     ]
    },
    {
     "name": "stdout",
     "output_type": "stream",
     "text": [
      "54995 loss:31.723337"
     ]
    },
    {
     "name": "stderr",
     "output_type": "stream",
     "text": [
      "INFO:absl: \n",
      "\t\t NumberOfEpisodes = 1460\n",
      "\t\t EnvironmentSteps = 55001\n",
      "\t\t AverageReturn = 845.0\n",
      "\t\t AverageEpisodeLength = 16.5\n"
     ]
    },
    {
     "name": "stdout",
     "output_type": "stream",
     "text": [
      "55955 loss:152.57379"
     ]
    },
    {
     "name": "stderr",
     "output_type": "stream",
     "text": [
      "INFO:absl: \n",
      "\t\t NumberOfEpisodes = 1492\n",
      "\t\t EnvironmentSteps = 56001\n",
      "\t\t AverageReturn = 555.0\n",
      "\t\t AverageEpisodeLength = 35.400001525878906\n"
     ]
    },
    {
     "name": "stdout",
     "output_type": "stream",
     "text": [
      "56990 loss:31.047904"
     ]
    },
    {
     "name": "stderr",
     "output_type": "stream",
     "text": [
      "INFO:absl: \n",
      "\t\t NumberOfEpisodes = 1520\n",
      "\t\t EnvironmentSteps = 57001\n",
      "\t\t AverageReturn = 668.0\n",
      "\t\t AverageEpisodeLength = 34.20000076293945\n"
     ]
    },
    {
     "name": "stdout",
     "output_type": "stream",
     "text": [
      "57954 loss:90.482223"
     ]
    },
    {
     "name": "stderr",
     "output_type": "stream",
     "text": [
      "INFO:absl: \n",
      "\t\t NumberOfEpisodes = 1551\n",
      "\t\t EnvironmentSteps = 58001\n",
      "\t\t AverageReturn = 713.0\n",
      "\t\t AverageEpisodeLength = 29.700000762939453\n"
     ]
    },
    {
     "name": "stdout",
     "output_type": "stream",
     "text": [
      "58968 loss:86.995302"
     ]
    },
    {
     "name": "stderr",
     "output_type": "stream",
     "text": [
      "INFO:absl: \n",
      "\t\t NumberOfEpisodes = 1580\n",
      "\t\t EnvironmentSteps = 59001\n",
      "\t\t AverageReturn = 753.0\n",
      "\t\t AverageEpisodeLength = 25.700000762939453\n"
     ]
    },
    {
     "name": "stdout",
     "output_type": "stream",
     "text": [
      "59957 loss:1.8404524"
     ]
    },
    {
     "name": "stderr",
     "output_type": "stream",
     "text": [
      "INFO:absl: \n",
      "\t\t NumberOfEpisodes = 1602\n",
      "\t\t EnvironmentSteps = 60001\n",
      "\t\t AverageReturn = 336.0\n",
      "\t\t AverageEpisodeLength = 47.20000076293945\n"
     ]
    },
    {
     "name": "stdout",
     "output_type": "stream",
     "text": [
      "60935 loss:58.424660"
     ]
    },
    {
     "name": "stderr",
     "output_type": "stream",
     "text": [
      "INFO:absl: \n",
      "\t\t NumberOfEpisodes = 1633\n",
      "\t\t EnvironmentSteps = 61001\n",
      "\t\t AverageReturn = 748.0\n",
      "\t\t AverageEpisodeLength = 26.200000762939453\n"
     ]
    },
    {
     "name": "stdout",
     "output_type": "stream",
     "text": [
      "61978 loss:88.538439"
     ]
    },
    {
     "name": "stderr",
     "output_type": "stream",
     "text": [
      "INFO:absl: \n",
      "\t\t NumberOfEpisodes = 1670\n",
      "\t\t EnvironmentSteps = 62001\n",
      "\t\t AverageReturn = 868.0\n",
      "\t\t AverageEpisodeLength = 14.199999809265137\n"
     ]
    },
    {
     "name": "stdout",
     "output_type": "stream",
     "text": [
      "62955 loss:31.328644"
     ]
    },
    {
     "name": "stderr",
     "output_type": "stream",
     "text": [
      "INFO:absl: \n",
      "\t\t NumberOfEpisodes = 1712\n",
      "\t\t EnvironmentSteps = 63001\n",
      "\t\t AverageReturn = 833.0\n",
      "\t\t AverageEpisodeLength = 17.700000762939453\n"
     ]
    },
    {
     "name": "stdout",
     "output_type": "stream",
     "text": [
      "63974 loss:120.77207"
     ]
    },
    {
     "name": "stderr",
     "output_type": "stream",
     "text": [
      "INFO:absl: \n",
      "\t\t NumberOfEpisodes = 1748\n",
      "\t\t EnvironmentSteps = 64001\n",
      "\t\t AverageReturn = 769.0\n",
      "\t\t AverageEpisodeLength = 24.100000381469727\n"
     ]
    },
    {
     "name": "stdout",
     "output_type": "stream",
     "text": [
      "64947 loss:62.633530"
     ]
    },
    {
     "name": "stderr",
     "output_type": "stream",
     "text": [
      "INFO:absl: \n",
      "\t\t NumberOfEpisodes = 1771\n",
      "\t\t EnvironmentSteps = 65001\n",
      "\t\t AverageReturn = 609.0\n",
      "\t\t AverageEpisodeLength = 40.099998474121094\n"
     ]
    },
    {
     "name": "stdout",
     "output_type": "stream",
     "text": [
      "65987 loss:60.460452"
     ]
    },
    {
     "name": "stderr",
     "output_type": "stream",
     "text": [
      "INFO:absl: \n",
      "\t\t NumberOfEpisodes = 1800\n",
      "\t\t EnvironmentSteps = 66001\n",
      "\t\t AverageReturn = 725.0\n",
      "\t\t AverageEpisodeLength = 28.5\n"
     ]
    },
    {
     "name": "stdout",
     "output_type": "stream",
     "text": [
      "66954 loss:89.527389"
     ]
    },
    {
     "name": "stderr",
     "output_type": "stream",
     "text": [
      "INFO:absl: \n",
      "\t\t NumberOfEpisodes = 1840\n",
      "\t\t EnvironmentSteps = 67001\n",
      "\t\t AverageReturn = 810.0\n",
      "\t\t AverageEpisodeLength = 20.0\n"
     ]
    },
    {
     "name": "stdout",
     "output_type": "stream",
     "text": [
      "67999 loss:30.981574"
     ]
    },
    {
     "name": "stderr",
     "output_type": "stream",
     "text": [
      "INFO:absl: \n",
      "\t\t NumberOfEpisodes = 1871\n",
      "\t\t EnvironmentSteps = 68001\n",
      "\t\t AverageReturn = 796.0\n",
      "\t\t AverageEpisodeLength = 21.399999618530273\n"
     ]
    },
    {
     "name": "stdout",
     "output_type": "stream",
     "text": [
      "68954 loss:91.205219"
     ]
    },
    {
     "name": "stderr",
     "output_type": "stream",
     "text": [
      "INFO:absl: \n",
      "\t\t NumberOfEpisodes = 1912\n",
      "\t\t EnvironmentSteps = 69001\n",
      "\t\t AverageReturn = 706.0\n",
      "\t\t AverageEpisodeLength = 30.399999618530273\n"
     ]
    },
    {
     "name": "stdout",
     "output_type": "stream",
     "text": [
      "69939 loss:120.73705"
     ]
    },
    {
     "name": "stderr",
     "output_type": "stream",
     "text": [
      "INFO:absl: \n",
      "\t\t NumberOfEpisodes = 1936\n",
      "\t\t EnvironmentSteps = 70001\n",
      "\t\t AverageReturn = 740.0\n",
      "\t\t AverageEpisodeLength = 27.0\n"
     ]
    },
    {
     "name": "stdout",
     "output_type": "stream",
     "text": [
      "70987 loss:59.709044"
     ]
    },
    {
     "name": "stderr",
     "output_type": "stream",
     "text": [
      "INFO:absl: \n",
      "\t\t NumberOfEpisodes = 1959\n",
      "\t\t EnvironmentSteps = 71001\n",
      "\t\t AverageReturn = 494.0\n",
      "\t\t AverageEpisodeLength = 41.5\n"
     ]
    },
    {
     "name": "stdout",
     "output_type": "stream",
     "text": [
      "71943 loss:0.7466254"
     ]
    },
    {
     "name": "stderr",
     "output_type": "stream",
     "text": [
      "INFO:absl: \n",
      "\t\t NumberOfEpisodes = 1984\n",
      "\t\t EnvironmentSteps = 72001\n",
      "\t\t AverageReturn = 760.0\n",
      "\t\t AverageEpisodeLength = 25.0\n"
     ]
    },
    {
     "name": "stdout",
     "output_type": "stream",
     "text": [
      "72940 loss:60.800873"
     ]
    },
    {
     "name": "stderr",
     "output_type": "stream",
     "text": [
      "INFO:absl: \n",
      "\t\t NumberOfEpisodes = 2016\n",
      "\t\t EnvironmentSteps = 73001\n",
      "\t\t AverageReturn = 753.0\n",
      "\t\t AverageEpisodeLength = 25.700000762939453\n"
     ]
    },
    {
     "name": "stdout",
     "output_type": "stream",
     "text": [
      "73949 loss:61.327336"
     ]
    },
    {
     "name": "stderr",
     "output_type": "stream",
     "text": [
      "INFO:absl: \n",
      "\t\t NumberOfEpisodes = 2053\n",
      "\t\t EnvironmentSteps = 74001\n",
      "\t\t AverageReturn = 822.0\n",
      "\t\t AverageEpisodeLength = 18.799999237060547\n"
     ]
    },
    {
     "name": "stdout",
     "output_type": "stream",
     "text": [
      "74945 loss:0.6408623"
     ]
    },
    {
     "name": "stderr",
     "output_type": "stream",
     "text": [
      "INFO:absl: \n",
      "\t\t NumberOfEpisodes = 2087\n",
      "\t\t EnvironmentSteps = 75001\n",
      "\t\t AverageReturn = 861.0\n",
      "\t\t AverageEpisodeLength = 14.899999618530273\n"
     ]
    },
    {
     "name": "stdout",
     "output_type": "stream",
     "text": [
      "75973 loss:60.218471"
     ]
    },
    {
     "name": "stderr",
     "output_type": "stream",
     "text": [
      "INFO:absl: \n",
      "\t\t NumberOfEpisodes = 2121\n",
      "\t\t EnvironmentSteps = 76001\n",
      "\t\t AverageReturn = 742.0\n",
      "\t\t AverageEpisodeLength = 26.799999237060547\n"
     ]
    },
    {
     "name": "stdout",
     "output_type": "stream",
     "text": [
      "76990 loss:30.814099"
     ]
    },
    {
     "name": "stderr",
     "output_type": "stream",
     "text": [
      "INFO:absl: \n",
      "\t\t NumberOfEpisodes = 2138\n",
      "\t\t EnvironmentSteps = 77001\n",
      "\t\t AverageReturn = -25.0\n",
      "\t\t AverageEpisodeLength = 73.19999694824219\n"
     ]
    },
    {
     "name": "stdout",
     "output_type": "stream",
     "text": [
      "77965 loss:120.07031"
     ]
    },
    {
     "name": "stderr",
     "output_type": "stream",
     "text": [
      "INFO:absl: \n",
      "\t\t NumberOfEpisodes = 2170\n",
      "\t\t EnvironmentSteps = 78001\n",
      "\t\t AverageReturn = 740.0\n",
      "\t\t AverageEpisodeLength = 27.0\n"
     ]
    },
    {
     "name": "stdout",
     "output_type": "stream",
     "text": [
      "78939 loss:30.085664"
     ]
    },
    {
     "name": "stderr",
     "output_type": "stream",
     "text": [
      "INFO:absl: \n",
      "\t\t NumberOfEpisodes = 2199\n",
      "\t\t EnvironmentSteps = 79001\n",
      "\t\t AverageReturn = 773.0\n",
      "\t\t AverageEpisodeLength = 23.700000762939453\n"
     ]
    },
    {
     "name": "stdout",
     "output_type": "stream",
     "text": [
      "79971 loss:118.45206"
     ]
    },
    {
     "name": "stderr",
     "output_type": "stream",
     "text": [
      "INFO:absl: \n",
      "\t\t NumberOfEpisodes = 2229\n",
      "\t\t EnvironmentSteps = 80001\n",
      "\t\t AverageReturn = 59.0\n",
      "\t\t AverageEpisodeLength = 64.80000305175781\n"
     ]
    },
    {
     "name": "stdout",
     "output_type": "stream",
     "text": [
      "80945 loss:29.907277"
     ]
    },
    {
     "name": "stderr",
     "output_type": "stream",
     "text": [
      "INFO:absl: \n",
      "\t\t NumberOfEpisodes = 2249\n",
      "\t\t EnvironmentSteps = 81001\n",
      "\t\t AverageReturn = 634.0\n",
      "\t\t AverageEpisodeLength = 37.599998474121094\n"
     ]
    },
    {
     "name": "stdout",
     "output_type": "stream",
     "text": [
      "81969 loss:60.057916"
     ]
    },
    {
     "name": "stderr",
     "output_type": "stream",
     "text": [
      "INFO:absl: \n",
      "\t\t NumberOfEpisodes = 2268\n",
      "\t\t EnvironmentSteps = 82001\n",
      "\t\t AverageReturn = 454.0\n",
      "\t\t AverageEpisodeLength = 35.400001525878906\n"
     ]
    },
    {
     "name": "stdout",
     "output_type": "stream",
     "text": [
      "82986 loss:0.6881253"
     ]
    },
    {
     "name": "stderr",
     "output_type": "stream",
     "text": [
      "INFO:absl: \n",
      "\t\t NumberOfEpisodes = 2296\n",
      "\t\t EnvironmentSteps = 83001\n",
      "\t\t AverageReturn = 700.0\n",
      "\t\t AverageEpisodeLength = 31.0\n"
     ]
    },
    {
     "name": "stdout",
     "output_type": "stream",
     "text": [
      "83990 loss:60.764705"
     ]
    },
    {
     "name": "stderr",
     "output_type": "stream",
     "text": [
      "INFO:absl: \n",
      "\t\t NumberOfEpisodes = 2332\n",
      "\t\t EnvironmentSteps = 84001\n",
      "\t\t AverageReturn = 594.0\n",
      "\t\t AverageEpisodeLength = 31.5\n"
     ]
    },
    {
     "name": "stdout",
     "output_type": "stream",
     "text": [
      "84993 loss:62.362952"
     ]
    },
    {
     "name": "stderr",
     "output_type": "stream",
     "text": [
      "INFO:absl: \n",
      "\t\t NumberOfEpisodes = 2362\n",
      "\t\t EnvironmentSteps = 85001\n",
      "\t\t AverageReturn = 778.0\n",
      "\t\t AverageEpisodeLength = 23.200000762939453\n"
     ]
    },
    {
     "name": "stdout",
     "output_type": "stream",
     "text": [
      "85969 loss:31.111027"
     ]
    },
    {
     "name": "stderr",
     "output_type": "stream",
     "text": [
      "INFO:absl: \n",
      "\t\t NumberOfEpisodes = 2397\n",
      "\t\t EnvironmentSteps = 86001\n",
      "\t\t AverageReturn = 856.0\n",
      "\t\t AverageEpisodeLength = 15.399999618530273\n"
     ]
    },
    {
     "name": "stdout",
     "output_type": "stream",
     "text": [
      "86968 loss:31.322368"
     ]
    },
    {
     "name": "stderr",
     "output_type": "stream",
     "text": [
      "INFO:absl: \n",
      "\t\t NumberOfEpisodes = 2436\n",
      "\t\t EnvironmentSteps = 87001\n",
      "\t\t AverageReturn = 495.0\n",
      "\t\t AverageEpisodeLength = 31.299999237060547\n"
     ]
    },
    {
     "name": "stdout",
     "output_type": "stream",
     "text": [
      "87997 loss:30.397476"
     ]
    },
    {
     "name": "stderr",
     "output_type": "stream",
     "text": [
      "INFO:absl: \n",
      "\t\t NumberOfEpisodes = 2466\n",
      "\t\t EnvironmentSteps = 88001\n",
      "\t\t AverageReturn = 822.0\n",
      "\t\t AverageEpisodeLength = 18.799999237060547\n"
     ]
    },
    {
     "name": "stdout",
     "output_type": "stream",
     "text": [
      "88974 loss:31.392387"
     ]
    },
    {
     "name": "stderr",
     "output_type": "stream",
     "text": [
      "INFO:absl: \n",
      "\t\t NumberOfEpisodes = 2491\n",
      "\t\t EnvironmentSteps = 89001\n",
      "\t\t AverageReturn = 615.0\n",
      "\t\t AverageEpisodeLength = 29.399999618530273\n"
     ]
    },
    {
     "name": "stdout",
     "output_type": "stream",
     "text": [
      "89947 loss:30.702373"
     ]
    },
    {
     "name": "stderr",
     "output_type": "stream",
     "text": [
      "INFO:absl: \n",
      "\t\t NumberOfEpisodes = 2521\n",
      "\t\t EnvironmentSteps = 90001\n",
      "\t\t AverageReturn = 835.0\n",
      "\t\t AverageEpisodeLength = 17.5\n"
     ]
    },
    {
     "name": "stdout",
     "output_type": "stream",
     "text": [
      "90945 loss:90.612136"
     ]
    },
    {
     "name": "stderr",
     "output_type": "stream",
     "text": [
      "INFO:absl: \n",
      "\t\t NumberOfEpisodes = 2548\n",
      "\t\t EnvironmentSteps = 91001\n",
      "\t\t AverageReturn = 608.0\n",
      "\t\t AverageEpisodeLength = 30.100000381469727\n"
     ]
    },
    {
     "name": "stdout",
     "output_type": "stream",
     "text": [
      "91983 loss:1.5537023"
     ]
    },
    {
     "name": "stderr",
     "output_type": "stream",
     "text": [
      "INFO:absl: \n",
      "\t\t NumberOfEpisodes = 2573\n",
      "\t\t EnvironmentSteps = 92001\n",
      "\t\t AverageReturn = -38.0\n",
      "\t\t AverageEpisodeLength = 54.29999923706055\n"
     ]
    },
    {
     "name": "stdout",
     "output_type": "stream",
     "text": [
      "92950 loss:1.9357148"
     ]
    },
    {
     "name": "stderr",
     "output_type": "stream",
     "text": [
      "INFO:absl: \n",
      "\t\t NumberOfEpisodes = 2600\n",
      "\t\t EnvironmentSteps = 93001\n",
      "\t\t AverageReturn = 508.0\n",
      "\t\t AverageEpisodeLength = 40.099998474121094\n"
     ]
    },
    {
     "name": "stdout",
     "output_type": "stream",
     "text": [
      "93979 loss:61.169956"
     ]
    },
    {
     "name": "stderr",
     "output_type": "stream",
     "text": [
      "INFO:absl: \n",
      "\t\t NumberOfEpisodes = 2626\n",
      "\t\t EnvironmentSteps = 94001\n",
      "\t\t AverageReturn = 751.0\n",
      "\t\t AverageEpisodeLength = 25.899999618530273\n"
     ]
    },
    {
     "name": "stdout",
     "output_type": "stream",
     "text": [
      "94990 loss:30.193604"
     ]
    },
    {
     "name": "stderr",
     "output_type": "stream",
     "text": [
      "INFO:absl: \n",
      "\t\t NumberOfEpisodes = 2651\n",
      "\t\t EnvironmentSteps = 95001\n",
      "\t\t AverageReturn = 705.0\n",
      "\t\t AverageEpisodeLength = 30.5\n"
     ]
    },
    {
     "name": "stdout",
     "output_type": "stream",
     "text": [
      "95945 loss:30.219293"
     ]
    },
    {
     "name": "stderr",
     "output_type": "stream",
     "text": [
      "INFO:absl: \n",
      "\t\t NumberOfEpisodes = 2680\n",
      "\t\t EnvironmentSteps = 96001\n",
      "\t\t AverageReturn = 778.0\n",
      "\t\t AverageEpisodeLength = 23.200000762939453\n"
     ]
    },
    {
     "name": "stdout",
     "output_type": "stream",
     "text": [
      "96946 loss:60.858310"
     ]
    },
    {
     "name": "stderr",
     "output_type": "stream",
     "text": [
      "INFO:absl: \n",
      "\t\t NumberOfEpisodes = 2714\n",
      "\t\t EnvironmentSteps = 97001\n",
      "\t\t AverageReturn = 737.0\n",
      "\t\t AverageEpisodeLength = 27.299999237060547\n"
     ]
    },
    {
     "name": "stdout",
     "output_type": "stream",
     "text": [
      "97983 loss:31.816969"
     ]
    },
    {
     "name": "stderr",
     "output_type": "stream",
     "text": [
      "INFO:absl: \n",
      "\t\t NumberOfEpisodes = 2746\n",
      "\t\t EnvironmentSteps = 98001\n",
      "\t\t AverageReturn = 463.0\n",
      "\t\t AverageEpisodeLength = 44.599998474121094\n"
     ]
    },
    {
     "name": "stdout",
     "output_type": "stream",
     "text": [
      "98957 loss:31.811325"
     ]
    },
    {
     "name": "stderr",
     "output_type": "stream",
     "text": [
      "INFO:absl: \n",
      "\t\t NumberOfEpisodes = 2767\n",
      "\t\t EnvironmentSteps = 99001\n",
      "\t\t AverageReturn = 590.0\n",
      "\t\t AverageEpisodeLength = 31.899999618530273\n"
     ]
    },
    {
     "name": "stdout",
     "output_type": "stream",
     "text": [
      "100000 loss:89.89150"
     ]
    },
    {
     "name": "stderr",
     "output_type": "stream",
     "text": [
      "INFO:absl: \n",
      "\t\t NumberOfEpisodes = 2790\n",
      "\t\t EnvironmentSteps = 100001\n",
      "\t\t AverageReturn = 582.0\n",
      "\t\t AverageEpisodeLength = 32.70000076293945\n"
     ]
    },
    {
     "name": "stdout",
     "output_type": "stream",
     "text": [
      "100968 loss:30.431335"
     ]
    },
    {
     "name": "stderr",
     "output_type": "stream",
     "text": [
      "INFO:absl: \n",
      "\t\t NumberOfEpisodes = 2817\n",
      "\t\t EnvironmentSteps = 101001\n",
      "\t\t AverageReturn = 441.0\n",
      "\t\t AverageEpisodeLength = 46.79999923706055\n"
     ]
    },
    {
     "name": "stdout",
     "output_type": "stream",
     "text": [
      "101988 loss:89.228437"
     ]
    },
    {
     "name": "stderr",
     "output_type": "stream",
     "text": [
      "INFO:absl: \n",
      "\t\t NumberOfEpisodes = 2849\n",
      "\t\t EnvironmentSteps = 102001\n",
      "\t\t AverageReturn = 720.0\n",
      "\t\t AverageEpisodeLength = 29.0\n"
     ]
    },
    {
     "name": "stdout",
     "output_type": "stream",
     "text": [
      "102957 loss:0.4502029"
     ]
    },
    {
     "name": "stderr",
     "output_type": "stream",
     "text": [
      "INFO:absl: \n",
      "\t\t NumberOfEpisodes = 2883\n",
      "\t\t EnvironmentSteps = 103001\n",
      "\t\t AverageReturn = 540.0\n",
      "\t\t AverageEpisodeLength = 36.900001525878906\n"
     ]
    },
    {
     "name": "stdout",
     "output_type": "stream",
     "text": [
      "103964 loss:60.248288"
     ]
    },
    {
     "name": "stderr",
     "output_type": "stream",
     "text": [
      "INFO:absl: \n",
      "\t\t NumberOfEpisodes = 2911\n",
      "\t\t EnvironmentSteps = 104001\n",
      "\t\t AverageReturn = 563.0\n",
      "\t\t AverageEpisodeLength = 34.599998474121094\n"
     ]
    },
    {
     "name": "stdout",
     "output_type": "stream",
     "text": [
      "104995 loss:0.5274644"
     ]
    },
    {
     "name": "stderr",
     "output_type": "stream",
     "text": [
      "INFO:absl: \n",
      "\t\t NumberOfEpisodes = 2947\n",
      "\t\t EnvironmentSteps = 105001\n",
      "\t\t AverageReturn = 806.0\n",
      "\t\t AverageEpisodeLength = 20.399999618530273\n"
     ]
    },
    {
     "name": "stdout",
     "output_type": "stream",
     "text": [
      "105950 loss:92.295941"
     ]
    },
    {
     "name": "stderr",
     "output_type": "stream",
     "text": [
      "INFO:absl: \n",
      "\t\t NumberOfEpisodes = 2972\n",
      "\t\t EnvironmentSteps = 106001\n",
      "\t\t AverageReturn = 392.0\n",
      "\t\t AverageEpisodeLength = 41.599998474121094\n"
     ]
    },
    {
     "name": "stdout",
     "output_type": "stream",
     "text": [
      "106985 loss:31.232000"
     ]
    },
    {
     "name": "stderr",
     "output_type": "stream",
     "text": [
      "INFO:absl: \n",
      "\t\t NumberOfEpisodes = 2993\n",
      "\t\t EnvironmentSteps = 107001\n",
      "\t\t AverageReturn = 244.0\n",
      "\t\t AverageEpisodeLength = 56.400001525878906\n"
     ]
    },
    {
     "name": "stdout",
     "output_type": "stream",
     "text": [
      "107955 loss:0.0378273"
     ]
    },
    {
     "name": "stderr",
     "output_type": "stream",
     "text": [
      "INFO:absl: \n",
      "\t\t NumberOfEpisodes = 3026\n",
      "\t\t EnvironmentSteps = 108001\n",
      "\t\t AverageReturn = 804.0\n",
      "\t\t AverageEpisodeLength = 20.600000381469727\n"
     ]
    },
    {
     "name": "stdout",
     "output_type": "stream",
     "text": [
      "108931 loss:0.6327426"
     ]
    },
    {
     "name": "stderr",
     "output_type": "stream",
     "text": [
      "INFO:absl: \n",
      "\t\t NumberOfEpisodes = 3055\n",
      "\t\t EnvironmentSteps = 109001\n",
      "\t\t AverageReturn = 734.0\n",
      "\t\t AverageEpisodeLength = 27.600000381469727\n"
     ]
    },
    {
     "name": "stdout",
     "output_type": "stream",
     "text": [
      "109990 loss:32.216130"
     ]
    },
    {
     "name": "stderr",
     "output_type": "stream",
     "text": [
      "INFO:absl: \n",
      "\t\t NumberOfEpisodes = 3082\n",
      "\t\t EnvironmentSteps = 110001\n",
      "\t\t AverageReturn = 71.0\n",
      "\t\t AverageEpisodeLength = 53.5\n"
     ]
    },
    {
     "name": "stdout",
     "output_type": "stream",
     "text": [
      "110957 loss:30.562354"
     ]
    },
    {
     "name": "stderr",
     "output_type": "stream",
     "text": [
      "INFO:absl: \n",
      "\t\t NumberOfEpisodes = 3112\n",
      "\t\t EnvironmentSteps = 111001\n",
      "\t\t AverageReturn = 774.0\n",
      "\t\t AverageEpisodeLength = 23.600000381469727\n"
     ]
    },
    {
     "name": "stdout",
     "output_type": "stream",
     "text": [
      "111937 loss:1.6618771"
     ]
    },
    {
     "name": "stderr",
     "output_type": "stream",
     "text": [
      "INFO:absl: \n",
      "\t\t NumberOfEpisodes = 3137\n",
      "\t\t EnvironmentSteps = 112001\n",
      "\t\t AverageReturn = 651.0\n",
      "\t\t AverageEpisodeLength = 25.799999237060547\n"
     ]
    },
    {
     "name": "stdout",
     "output_type": "stream",
     "text": [
      "112990 loss:60.048867"
     ]
    },
    {
     "name": "stderr",
     "output_type": "stream",
     "text": [
      "INFO:absl: \n",
      "\t\t NumberOfEpisodes = 3158\n",
      "\t\t EnvironmentSteps = 113001\n",
      "\t\t AverageReturn = 185.0\n",
      "\t\t AverageEpisodeLength = 52.20000076293945\n"
     ]
    },
    {
     "name": "stdout",
     "output_type": "stream",
     "text": [
      "113937 loss:30.339732"
     ]
    },
    {
     "name": "stderr",
     "output_type": "stream",
     "text": [
      "INFO:absl: \n",
      "\t\t NumberOfEpisodes = 3185\n",
      "\t\t EnvironmentSteps = 114001\n",
      "\t\t AverageReturn = 584.0\n",
      "\t\t AverageEpisodeLength = 32.5\n"
     ]
    },
    {
     "name": "stdout",
     "output_type": "stream",
     "text": [
      "114948 loss:3.7419045"
     ]
    },
    {
     "name": "stderr",
     "output_type": "stream",
     "text": [
      "INFO:absl: \n",
      "\t\t NumberOfEpisodes = 3224\n",
      "\t\t EnvironmentSteps = 115001\n",
      "\t\t AverageReturn = 747.0\n",
      "\t\t AverageEpisodeLength = 26.299999237060547\n"
     ]
    },
    {
     "name": "stdout",
     "output_type": "stream",
     "text": [
      "115941 loss:118.12263"
     ]
    },
    {
     "name": "stderr",
     "output_type": "stream",
     "text": [
      "INFO:absl: \n",
      "\t\t NumberOfEpisodes = 3265\n",
      "\t\t EnvironmentSteps = 116001\n",
      "\t\t AverageReturn = 793.0\n",
      "\t\t AverageEpisodeLength = 21.700000762939453\n"
     ]
    },
    {
     "name": "stdout",
     "output_type": "stream",
     "text": [
      "116995 loss:91.798165"
     ]
    },
    {
     "name": "stderr",
     "output_type": "stream",
     "text": [
      "INFO:absl: \n",
      "\t\t NumberOfEpisodes = 3277\n",
      "\t\t EnvironmentSteps = 117001\n",
      "\t\t AverageReturn = -682.0\n",
      "\t\t AverageEpisodeLength = 88.4000015258789\n"
     ]
    },
    {
     "name": "stdout",
     "output_type": "stream",
     "text": [
      "117954 loss:142.73752"
     ]
    },
    {
     "name": "stderr",
     "output_type": "stream",
     "text": [
      "INFO:absl: \n",
      "\t\t NumberOfEpisodes = 3308\n",
      "\t\t EnvironmentSteps = 118001\n",
      "\t\t AverageReturn = 682.0\n",
      "\t\t AverageEpisodeLength = 32.79999923706055\n"
     ]
    },
    {
     "name": "stdout",
     "output_type": "stream",
     "text": [
      "118984 loss:33.490474"
     ]
    },
    {
     "name": "stderr",
     "output_type": "stream",
     "text": [
      "INFO:absl: \n",
      "\t\t NumberOfEpisodes = 3344\n",
      "\t\t EnvironmentSteps = 119001\n",
      "\t\t AverageReturn = 633.0\n",
      "\t\t AverageEpisodeLength = 27.600000381469727\n"
     ]
    },
    {
     "name": "stdout",
     "output_type": "stream",
     "text": [
      "119942 loss:121.67220"
     ]
    },
    {
     "name": "stderr",
     "output_type": "stream",
     "text": [
      "INFO:absl: \n",
      "\t\t NumberOfEpisodes = 3383\n",
      "\t\t EnvironmentSteps = 120001\n",
      "\t\t AverageReturn = 836.0\n",
      "\t\t AverageEpisodeLength = 17.399999618530273\n"
     ]
    },
    {
     "name": "stdout",
     "output_type": "stream",
     "text": [
      "120974 loss:120.31746"
     ]
    },
    {
     "name": "stderr",
     "output_type": "stream",
     "text": [
      "INFO:absl: \n",
      "\t\t NumberOfEpisodes = 3403\n",
      "\t\t EnvironmentSteps = 121001\n",
      "\t\t AverageReturn = 245.0\n",
      "\t\t AverageEpisodeLength = 56.29999923706055\n"
     ]
    },
    {
     "name": "stdout",
     "output_type": "stream",
     "text": [
      "121997 loss:88.168796"
     ]
    },
    {
     "name": "stderr",
     "output_type": "stream",
     "text": [
      "INFO:absl: \n",
      "\t\t NumberOfEpisodes = 3418\n",
      "\t\t EnvironmentSteps = 122001\n",
      "\t\t AverageReturn = 211.0\n",
      "\t\t AverageEpisodeLength = 49.599998474121094\n"
     ]
    },
    {
     "name": "stdout",
     "output_type": "stream",
     "text": [
      "122998 loss:29.241741"
     ]
    },
    {
     "name": "stderr",
     "output_type": "stream",
     "text": [
      "INFO:absl: \n",
      "\t\t NumberOfEpisodes = 3446\n",
      "\t\t EnvironmentSteps = 123001\n",
      "\t\t AverageReturn = 701.0\n",
      "\t\t AverageEpisodeLength = 30.899999618530273\n"
     ]
    },
    {
     "name": "stdout",
     "output_type": "stream",
     "text": [
      "123949 loss:56.927972"
     ]
    },
    {
     "name": "stderr",
     "output_type": "stream",
     "text": [
      "INFO:absl: \n",
      "\t\t NumberOfEpisodes = 3477\n",
      "\t\t EnvironmentSteps = 124001\n",
      "\t\t AverageReturn = 415.0\n",
      "\t\t AverageEpisodeLength = 39.29999923706055\n"
     ]
    },
    {
     "name": "stdout",
     "output_type": "stream",
     "text": [
      "124982 loss:1.6489306"
     ]
    },
    {
     "name": "stderr",
     "output_type": "stream",
     "text": [
      "INFO:absl: \n",
      "\t\t NumberOfEpisodes = 3493\n",
      "\t\t EnvironmentSteps = 125001\n",
      "\t\t AverageReturn = 271.0\n",
      "\t\t AverageEpisodeLength = 53.70000076293945\n"
     ]
    },
    {
     "name": "stdout",
     "output_type": "stream",
     "text": [
      "125950 loss:60.040796"
     ]
    },
    {
     "name": "stderr",
     "output_type": "stream",
     "text": [
      "INFO:absl: \n",
      "\t\t NumberOfEpisodes = 3521\n",
      "\t\t EnvironmentSteps = 126001\n",
      "\t\t AverageReturn = 483.0\n",
      "\t\t AverageEpisodeLength = 32.5\n"
     ]
    },
    {
     "name": "stdout",
     "output_type": "stream",
     "text": [
      "126976 loss:58.364954"
     ]
    },
    {
     "name": "stderr",
     "output_type": "stream",
     "text": [
      "INFO:absl: \n",
      "\t\t NumberOfEpisodes = 3539\n",
      "\t\t EnvironmentSteps = 127001\n",
      "\t\t AverageReturn = -409.0\n",
      "\t\t AverageEpisodeLength = 81.30000305175781\n"
     ]
    },
    {
     "name": "stdout",
     "output_type": "stream",
     "text": [
      "127993 loss:0.3083308"
     ]
    },
    {
     "name": "stderr",
     "output_type": "stream",
     "text": [
      "INFO:absl: \n",
      "\t\t NumberOfEpisodes = 3568\n",
      "\t\t EnvironmentSteps = 128001\n",
      "\t\t AverageReturn = 555.0\n",
      "\t\t AverageEpisodeLength = 35.400001525878906\n"
     ]
    },
    {
     "name": "stdout",
     "output_type": "stream",
     "text": [
      "128950 loss:3.6404109"
     ]
    },
    {
     "name": "stderr",
     "output_type": "stream",
     "text": [
      "INFO:absl: \n",
      "\t\t NumberOfEpisodes = 3589\n",
      "\t\t EnvironmentSteps = 129001\n",
      "\t\t AverageReturn = 484.0\n",
      "\t\t AverageEpisodeLength = 42.5\n"
     ]
    },
    {
     "name": "stdout",
     "output_type": "stream",
     "text": [
      "129968 loss:2.1318965"
     ]
    },
    {
     "name": "stderr",
     "output_type": "stream",
     "text": [
      "INFO:absl: \n",
      "\t\t NumberOfEpisodes = 3614\n",
      "\t\t EnvironmentSteps = 130001\n",
      "\t\t AverageReturn = 586.0\n",
      "\t\t AverageEpisodeLength = 42.400001525878906\n"
     ]
    },
    {
     "name": "stdout",
     "output_type": "stream",
     "text": [
      "130979 loss:33.984687"
     ]
    },
    {
     "name": "stderr",
     "output_type": "stream",
     "text": [
      "INFO:absl: \n",
      "\t\t NumberOfEpisodes = 3637\n",
      "\t\t EnvironmentSteps = 131001\n",
      "\t\t AverageReturn = 482.0\n",
      "\t\t AverageEpisodeLength = 42.70000076293945\n"
     ]
    },
    {
     "name": "stdout",
     "output_type": "stream",
     "text": [
      "131998 loss:62.497191"
     ]
    },
    {
     "name": "stderr",
     "output_type": "stream",
     "text": [
      "INFO:absl: \n",
      "\t\t NumberOfEpisodes = 3653\n",
      "\t\t EnvironmentSteps = 132001\n",
      "\t\t AverageReturn = 5.0\n",
      "\t\t AverageEpisodeLength = 60.099998474121094\n"
     ]
    },
    {
     "name": "stdout",
     "output_type": "stream",
     "text": [
      "132979 loss:2.2737826"
     ]
    },
    {
     "name": "stderr",
     "output_type": "stream",
     "text": [
      "INFO:absl: \n",
      "\t\t NumberOfEpisodes = 3682\n",
      "\t\t EnvironmentSteps = 133001\n",
      "\t\t AverageReturn = 724.0\n",
      "\t\t AverageEpisodeLength = 28.600000381469727\n"
     ]
    },
    {
     "name": "stdout",
     "output_type": "stream",
     "text": [
      "133963 loss:33.800994"
     ]
    },
    {
     "name": "stderr",
     "output_type": "stream",
     "text": [
      "INFO:absl: \n",
      "\t\t NumberOfEpisodes = 3712\n",
      "\t\t EnvironmentSteps = 134001\n",
      "\t\t AverageReturn = 248.0\n",
      "\t\t AverageEpisodeLength = 56.0\n"
     ]
    },
    {
     "name": "stdout",
     "output_type": "stream",
     "text": [
      "134935 loss:40.750760"
     ]
    },
    {
     "name": "stderr",
     "output_type": "stream",
     "text": [
      "INFO:absl: \n",
      "\t\t NumberOfEpisodes = 3738\n",
      "\t\t EnvironmentSteps = 135001\n",
      "\t\t AverageReturn = 409.0\n",
      "\t\t AverageEpisodeLength = 39.900001525878906\n"
     ]
    },
    {
     "name": "stdout",
     "output_type": "stream",
     "text": [
      "135957 loss:0.1274356"
     ]
    },
    {
     "name": "stderr",
     "output_type": "stream",
     "text": [
      "INFO:absl: \n",
      "\t\t NumberOfEpisodes = 3767\n",
      "\t\t EnvironmentSteps = 136001\n",
      "\t\t AverageReturn = 351.0\n",
      "\t\t AverageEpisodeLength = 45.70000076293945\n"
     ]
    },
    {
     "name": "stdout",
     "output_type": "stream",
     "text": [
      "136957 loss:59.928476"
     ]
    },
    {
     "name": "stderr",
     "output_type": "stream",
     "text": [
      "INFO:absl: \n",
      "\t\t NumberOfEpisodes = 3788\n",
      "\t\t EnvironmentSteps = 137001\n",
      "\t\t AverageReturn = 381.0\n",
      "\t\t AverageEpisodeLength = 42.70000076293945\n"
     ]
    },
    {
     "name": "stdout",
     "output_type": "stream",
     "text": [
      "137951 loss:36.130681"
     ]
    },
    {
     "name": "stderr",
     "output_type": "stream",
     "text": [
      "INFO:absl: \n",
      "\t\t NumberOfEpisodes = 3858\n",
      "\t\t EnvironmentSteps = 138001\n",
      "\t\t AverageReturn = 931.0\n",
      "\t\t AverageEpisodeLength = 7.900000095367432\n"
     ]
    },
    {
     "name": "stdout",
     "output_type": "stream",
     "text": [
      "138998 loss:32.654374"
     ]
    },
    {
     "name": "stderr",
     "output_type": "stream",
     "text": [
      "INFO:absl: \n",
      "\t\t NumberOfEpisodes = 4003\n",
      "\t\t EnvironmentSteps = 139001\n",
      "\t\t AverageReturn = 948.0\n",
      "\t\t AverageEpisodeLength = 6.199999809265137\n"
     ]
    },
    {
     "name": "stdout",
     "output_type": "stream",
     "text": [
      "139967 loss:33.287492"
     ]
    },
    {
     "name": "stderr",
     "output_type": "stream",
     "text": [
      "INFO:absl: \n",
      "\t\t NumberOfEpisodes = 4152\n",
      "\t\t EnvironmentSteps = 140001\n",
      "\t\t AverageReturn = 943.0\n",
      "\t\t AverageEpisodeLength = 6.699999809265137\n"
     ]
    },
    {
     "name": "stdout",
     "output_type": "stream",
     "text": [
      "140966 loss:131.43994"
     ]
    },
    {
     "name": "stderr",
     "output_type": "stream",
     "text": [
      "INFO:absl: \n",
      "\t\t NumberOfEpisodes = 4223\n",
      "\t\t EnvironmentSteps = 141001\n",
      "\t\t AverageReturn = 243.0\n",
      "\t\t AverageEpisodeLength = 56.5\n"
     ]
    },
    {
     "name": "stdout",
     "output_type": "stream",
     "text": [
      "141985 loss:52.309062"
     ]
    },
    {
     "name": "stderr",
     "output_type": "stream",
     "text": [
      "INFO:absl: \n",
      "\t\t NumberOfEpisodes = 4334\n",
      "\t\t EnvironmentSteps = 142001\n",
      "\t\t AverageReturn = 946.0\n",
      "\t\t AverageEpisodeLength = 6.400000095367432\n"
     ]
    },
    {
     "name": "stdout",
     "output_type": "stream",
     "text": [
      "142993 loss:103.71695"
     ]
    },
    {
     "name": "stderr",
     "output_type": "stream",
     "text": [
      "INFO:absl: \n",
      "\t\t NumberOfEpisodes = 4482\n",
      "\t\t EnvironmentSteps = 143001\n",
      "\t\t AverageReturn = 940.0\n",
      "\t\t AverageEpisodeLength = 7.0\n"
     ]
    },
    {
     "name": "stdout",
     "output_type": "stream",
     "text": [
      "143990 loss:68.526865"
     ]
    },
    {
     "name": "stderr",
     "output_type": "stream",
     "text": [
      "INFO:absl: \n",
      "\t\t NumberOfEpisodes = 4608\n",
      "\t\t EnvironmentSteps = 144001\n",
      "\t\t AverageReturn = 832.0\n",
      "\t\t AverageEpisodeLength = 17.799999237060547\n"
     ]
    },
    {
     "name": "stdout",
     "output_type": "stream",
     "text": [
      "144947 loss:113.68420"
     ]
    },
    {
     "name": "stderr",
     "output_type": "stream",
     "text": [
      "INFO:absl: \n",
      "\t\t NumberOfEpisodes = 4653\n",
      "\t\t EnvironmentSteps = 145001\n",
      "\t\t AverageReturn = 544.0\n",
      "\t\t AverageEpisodeLength = 36.5\n"
     ]
    },
    {
     "name": "stdout",
     "output_type": "stream",
     "text": [
      "145990 loss:189.73497"
     ]
    },
    {
     "name": "stderr",
     "output_type": "stream",
     "text": [
      "INFO:absl: \n",
      "\t\t NumberOfEpisodes = 4675\n",
      "\t\t EnvironmentSteps = 146001\n",
      "\t\t AverageReturn = -3.0\n",
      "\t\t AverageEpisodeLength = 60.900001525878906\n"
     ]
    },
    {
     "name": "stdout",
     "output_type": "stream",
     "text": [
      "146966 loss:299.16168"
     ]
    },
    {
     "name": "stderr",
     "output_type": "stream",
     "text": [
      "INFO:absl: \n",
      "\t\t NumberOfEpisodes = 4687\n",
      "\t\t EnvironmentSteps = 147001\n",
      "\t\t AverageReturn = -381.0\n",
      "\t\t AverageEpisodeLength = 78.5\n"
     ]
    },
    {
     "name": "stdout",
     "output_type": "stream",
     "text": [
      "147968 loss:102.29091"
     ]
    },
    {
     "name": "stderr",
     "output_type": "stream",
     "text": [
      "INFO:absl: \n",
      "\t\t NumberOfEpisodes = 4700\n",
      "\t\t EnvironmentSteps = 148001\n",
      "\t\t AverageReturn = -117.0\n",
      "\t\t AverageEpisodeLength = 72.30000305175781\n"
     ]
    },
    {
     "name": "stdout",
     "output_type": "stream",
     "text": [
      "148946 loss:82.245073"
     ]
    },
    {
     "name": "stderr",
     "output_type": "stream",
     "text": [
      "INFO:absl: \n",
      "\t\t NumberOfEpisodes = 4712\n",
      "\t\t EnvironmentSteps = 149001\n",
      "\t\t AverageReturn = -370.0\n",
      "\t\t AverageEpisodeLength = 77.4000015258789\n"
     ]
    },
    {
     "name": "stdout",
     "output_type": "stream",
     "text": [
      "149979 loss:44.201487"
     ]
    },
    {
     "name": "stderr",
     "output_type": "stream",
     "text": [
      "INFO:absl: \n",
      "\t\t NumberOfEpisodes = 4726\n",
      "\t\t EnvironmentSteps = 150001\n",
      "\t\t AverageReturn = -123.0\n",
      "\t\t AverageEpisodeLength = 62.79999923706055\n"
     ]
    },
    {
     "name": "stdout",
     "output_type": "stream",
     "text": [
      "150966 loss:91.134609"
     ]
    },
    {
     "name": "stderr",
     "output_type": "stream",
     "text": [
      "INFO:absl: \n",
      "\t\t NumberOfEpisodes = 4740\n",
      "\t\t EnvironmentSteps = 151001\n",
      "\t\t AverageReturn = -91.0\n",
      "\t\t AverageEpisodeLength = 69.69999694824219\n"
     ]
    },
    {
     "name": "stdout",
     "output_type": "stream",
     "text": [
      "151937 loss:93.356255"
     ]
    },
    {
     "name": "stderr",
     "output_type": "stream",
     "text": [
      "INFO:absl: \n",
      "\t\t NumberOfEpisodes = 4776\n",
      "\t\t EnvironmentSteps = 152001\n",
      "\t\t AverageReturn = 926.0\n",
      "\t\t AverageEpisodeLength = 8.399999618530273\n"
     ]
    },
    {
     "name": "stdout",
     "output_type": "stream",
     "text": [
      "152972 loss:59.778372"
     ]
    },
    {
     "name": "stderr",
     "output_type": "stream",
     "text": [
      "INFO:absl: \n",
      "\t\t NumberOfEpisodes = 4906\n",
      "\t\t EnvironmentSteps = 153001\n",
      "\t\t AverageReturn = 912.0\n",
      "\t\t AverageEpisodeLength = 9.800000190734863\n"
     ]
    },
    {
     "name": "stdout",
     "output_type": "stream",
     "text": [
      "153994 loss:116.63877"
     ]
    },
    {
     "name": "stderr",
     "output_type": "stream",
     "text": [
      "INFO:absl: \n",
      "\t\t NumberOfEpisodes = 5010\n",
      "\t\t EnvironmentSteps = 154001\n",
      "\t\t AverageReturn = 932.0\n",
      "\t\t AverageEpisodeLength = 7.800000190734863\n"
     ]
    },
    {
     "name": "stdout",
     "output_type": "stream",
     "text": [
      "154959 loss:200.99004"
     ]
    },
    {
     "name": "stderr",
     "output_type": "stream",
     "text": [
      "INFO:absl: \n",
      "\t\t NumberOfEpisodes = 5086\n",
      "\t\t EnvironmentSteps = 155001\n",
      "\t\t AverageReturn = 879.0\n",
      "\t\t AverageEpisodeLength = 13.100000381469727\n"
     ]
    },
    {
     "name": "stdout",
     "output_type": "stream",
     "text": [
      "156000 loss:65.024234"
     ]
    },
    {
     "name": "stderr",
     "output_type": "stream",
     "text": [
      "INFO:absl: \n",
      "\t\t NumberOfEpisodes = 5181\n",
      "\t\t EnvironmentSteps = 156001\n",
      "\t\t AverageReturn = 939.0\n",
      "\t\t AverageEpisodeLength = 7.099999904632568\n"
     ]
    },
    {
     "name": "stdout",
     "output_type": "stream",
     "text": [
      "156997 loss:64.985518"
     ]
    },
    {
     "name": "stderr",
     "output_type": "stream",
     "text": [
      "INFO:absl: \n",
      "\t\t NumberOfEpisodes = 5304\n",
      "\t\t EnvironmentSteps = 157001\n",
      "\t\t AverageReturn = 941.0\n",
      "\t\t AverageEpisodeLength = 6.900000095367432\n"
     ]
    },
    {
     "name": "stdout",
     "output_type": "stream",
     "text": [
      "157957 loss:84.383679"
     ]
    },
    {
     "name": "stderr",
     "output_type": "stream",
     "text": [
      "INFO:absl: \n",
      "\t\t NumberOfEpisodes = 5444\n",
      "\t\t EnvironmentSteps = 158001\n",
      "\t\t AverageReturn = 943.0\n",
      "\t\t AverageEpisodeLength = 6.699999809265137\n"
     ]
    },
    {
     "name": "stdout",
     "output_type": "stream",
     "text": [
      "158951 loss:161.50159"
     ]
    },
    {
     "name": "stderr",
     "output_type": "stream",
     "text": [
      "INFO:absl: \n",
      "\t\t NumberOfEpisodes = 5572\n",
      "\t\t EnvironmentSteps = 159001\n",
      "\t\t AverageReturn = 920.0\n",
      "\t\t AverageEpisodeLength = 9.0\n"
     ]
    },
    {
     "name": "stdout",
     "output_type": "stream",
     "text": [
      "159964 loss:213.73013"
     ]
    },
    {
     "name": "stderr",
     "output_type": "stream",
     "text": [
      "INFO:absl: \n",
      "\t\t NumberOfEpisodes = 5698\n",
      "\t\t EnvironmentSteps = 160001\n",
      "\t\t AverageReturn = 943.0\n",
      "\t\t AverageEpisodeLength = 6.699999809265137\n"
     ]
    },
    {
     "name": "stdout",
     "output_type": "stream",
     "text": [
      "160946 loss:235.03317"
     ]
    },
    {
     "name": "stderr",
     "output_type": "stream",
     "text": [
      "INFO:absl: \n",
      "\t\t NumberOfEpisodes = 5826\n",
      "\t\t EnvironmentSteps = 161001\n",
      "\t\t AverageReturn = 930.0\n",
      "\t\t AverageEpisodeLength = 8.0\n"
     ]
    },
    {
     "name": "stdout",
     "output_type": "stream",
     "text": [
      "161960 loss:289.98651"
     ]
    },
    {
     "name": "stderr",
     "output_type": "stream",
     "text": [
      "INFO:absl: \n",
      "\t\t NumberOfEpisodes = 5934\n",
      "\t\t EnvironmentSteps = 162001\n",
      "\t\t AverageReturn = 933.0\n",
      "\t\t AverageEpisodeLength = 7.699999809265137\n"
     ]
    },
    {
     "name": "stdout",
     "output_type": "stream",
     "text": [
      "162987 loss:186.02255"
     ]
    },
    {
     "name": "stderr",
     "output_type": "stream",
     "text": [
      "INFO:absl: \n",
      "\t\t NumberOfEpisodes = 6083\n",
      "\t\t EnvironmentSteps = 163001\n",
      "\t\t AverageReturn = 944.0\n",
      "\t\t AverageEpisodeLength = 6.599999904632568\n"
     ]
    },
    {
     "name": "stdout",
     "output_type": "stream",
     "text": [
      "163989 loss:299.08923"
     ]
    },
    {
     "name": "stderr",
     "output_type": "stream",
     "text": [
      "INFO:absl: \n",
      "\t\t NumberOfEpisodes = 6225\n",
      "\t\t EnvironmentSteps = 164001\n",
      "\t\t AverageReturn = 944.0\n",
      "\t\t AverageEpisodeLength = 6.599999904632568\n"
     ]
    },
    {
     "name": "stdout",
     "output_type": "stream",
     "text": [
      "164999 loss:249.00893"
     ]
    },
    {
     "name": "stderr",
     "output_type": "stream",
     "text": [
      "INFO:absl: \n",
      "\t\t NumberOfEpisodes = 6318\n",
      "\t\t EnvironmentSteps = 165001\n",
      "\t\t AverageReturn = 604.0\n",
      "\t\t AverageEpisodeLength = 30.5\n"
     ]
    },
    {
     "name": "stdout",
     "output_type": "stream",
     "text": [
      "165952 loss:146.20499"
     ]
    },
    {
     "name": "stderr",
     "output_type": "stream",
     "text": [
      "INFO:absl: \n",
      "\t\t NumberOfEpisodes = 6436\n",
      "\t\t EnvironmentSteps = 166001\n",
      "\t\t AverageReturn = 945.0\n",
      "\t\t AverageEpisodeLength = 6.5\n"
     ]
    },
    {
     "name": "stdout",
     "output_type": "stream",
     "text": [
      "166990 loss:173.32777"
     ]
    },
    {
     "name": "stderr",
     "output_type": "stream",
     "text": [
      "INFO:absl: \n",
      "\t\t NumberOfEpisodes = 6574\n",
      "\t\t EnvironmentSteps = 167001\n",
      "\t\t AverageReturn = 935.0\n",
      "\t\t AverageEpisodeLength = 7.5\n"
     ]
    },
    {
     "name": "stdout",
     "output_type": "stream",
     "text": [
      "167979 loss:242.28046"
     ]
    },
    {
     "name": "stderr",
     "output_type": "stream",
     "text": [
      "INFO:absl: \n",
      "\t\t NumberOfEpisodes = 6688\n",
      "\t\t EnvironmentSteps = 168001\n",
      "\t\t AverageReturn = 947.0\n",
      "\t\t AverageEpisodeLength = 6.300000190734863\n"
     ]
    },
    {
     "name": "stdout",
     "output_type": "stream",
     "text": [
      "168983 loss:152.76132"
     ]
    },
    {
     "name": "stderr",
     "output_type": "stream",
     "text": [
      "INFO:absl: \n",
      "\t\t NumberOfEpisodes = 6821\n",
      "\t\t EnvironmentSteps = 169001\n",
      "\t\t AverageReturn = 920.0\n",
      "\t\t AverageEpisodeLength = 9.0\n"
     ]
    },
    {
     "name": "stdout",
     "output_type": "stream",
     "text": [
      "169971 loss:263.43100"
     ]
    },
    {
     "name": "stderr",
     "output_type": "stream",
     "text": [
      "INFO:absl: \n",
      "\t\t NumberOfEpisodes = 6927\n",
      "\t\t EnvironmentSteps = 170001\n",
      "\t\t AverageReturn = 913.0\n",
      "\t\t AverageEpisodeLength = 9.699999809265137\n"
     ]
    },
    {
     "name": "stdout",
     "output_type": "stream",
     "text": [
      "170961 loss:121.64391"
     ]
    },
    {
     "name": "stderr",
     "output_type": "stream",
     "text": [
      "INFO:absl: \n",
      "\t\t NumberOfEpisodes = 6960\n",
      "\t\t EnvironmentSteps = 171001\n",
      "\t\t AverageReturn = 411.0\n",
      "\t\t AverageEpisodeLength = 39.70000076293945\n"
     ]
    },
    {
     "name": "stdout",
     "output_type": "stream",
     "text": [
      "171966 loss:100.55814"
     ]
    },
    {
     "name": "stderr",
     "output_type": "stream",
     "text": [
      "INFO:absl: \n",
      "\t\t NumberOfEpisodes = 7057\n",
      "\t\t EnvironmentSteps = 172001\n",
      "\t\t AverageReturn = 949.0\n",
      "\t\t AverageEpisodeLength = 6.099999904632568\n"
     ]
    },
    {
     "name": "stdout",
     "output_type": "stream",
     "text": [
      "172949 loss:81.290329"
     ]
    },
    {
     "name": "stderr",
     "output_type": "stream",
     "text": [
      "INFO:absl: \n",
      "\t\t NumberOfEpisodes = 7136\n",
      "\t\t EnvironmentSteps = 173001\n",
      "\t\t AverageReturn = 289.0\n",
      "\t\t AverageEpisodeLength = 41.79999923706055\n"
     ]
    },
    {
     "name": "stdout",
     "output_type": "stream",
     "text": [
      "173951 loss:76.359645"
     ]
    },
    {
     "name": "stderr",
     "output_type": "stream",
     "text": [
      "INFO:absl: \n",
      "\t\t NumberOfEpisodes = 7148\n",
      "\t\t EnvironmentSteps = 174001\n",
      "\t\t AverageReturn = -218.0\n",
      "\t\t AverageEpisodeLength = 82.4000015258789\n"
     ]
    },
    {
     "name": "stdout",
     "output_type": "stream",
     "text": [
      "174987 loss:81.670150"
     ]
    },
    {
     "name": "stderr",
     "output_type": "stream",
     "text": [
      "INFO:absl: \n",
      "\t\t NumberOfEpisodes = 7198\n",
      "\t\t EnvironmentSteps = 175001\n",
      "\t\t AverageReturn = 950.0\n",
      "\t\t AverageEpisodeLength = 6.0\n"
     ]
    },
    {
     "name": "stdout",
     "output_type": "stream",
     "text": [
      "175977 loss:124.83128"
     ]
    },
    {
     "name": "stderr",
     "output_type": "stream",
     "text": [
      "INFO:absl: \n",
      "\t\t NumberOfEpisodes = 7328\n",
      "\t\t EnvironmentSteps = 176001\n",
      "\t\t AverageReturn = 753.0\n",
      "\t\t AverageEpisodeLength = 15.600000381469727\n"
     ]
    },
    {
     "name": "stdout",
     "output_type": "stream",
     "text": [
      "176969 loss:90.858352"
     ]
    },
    {
     "name": "stderr",
     "output_type": "stream",
     "text": [
      "INFO:absl: \n",
      "\t\t NumberOfEpisodes = 7405\n",
      "\t\t EnvironmentSteps = 177001\n",
      "\t\t AverageReturn = 944.0\n",
      "\t\t AverageEpisodeLength = 6.599999904632568\n"
     ]
    },
    {
     "name": "stdout",
     "output_type": "stream",
     "text": [
      "177972 loss:106.72392"
     ]
    },
    {
     "name": "stderr",
     "output_type": "stream",
     "text": [
      "INFO:absl: \n",
      "\t\t NumberOfEpisodes = 7553\n",
      "\t\t EnvironmentSteps = 178001\n",
      "\t\t AverageReturn = 946.0\n",
      "\t\t AverageEpisodeLength = 6.400000095367432\n"
     ]
    },
    {
     "name": "stdout",
     "output_type": "stream",
     "text": [
      "178990 loss:59.071113"
     ]
    },
    {
     "name": "stderr",
     "output_type": "stream",
     "text": [
      "INFO:absl: \n",
      "\t\t NumberOfEpisodes = 7672\n",
      "\t\t EnvironmentSteps = 179001\n",
      "\t\t AverageReturn = 950.0\n",
      "\t\t AverageEpisodeLength = 6.0\n"
     ]
    },
    {
     "name": "stdout",
     "output_type": "stream",
     "text": [
      "179998 loss:151.39610"
     ]
    },
    {
     "name": "stderr",
     "output_type": "stream",
     "text": [
      "INFO:absl: \n",
      "\t\t NumberOfEpisodes = 7708\n",
      "\t\t EnvironmentSteps = 180001\n",
      "\t\t AverageReturn = -39.0\n",
      "\t\t AverageEpisodeLength = 64.5\n"
     ]
    },
    {
     "name": "stdout",
     "output_type": "stream",
     "text": [
      "180946 loss:0.2768292"
     ]
    },
    {
     "name": "stderr",
     "output_type": "stream",
     "text": [
      "INFO:absl: \n",
      "\t\t NumberOfEpisodes = 7808\n",
      "\t\t EnvironmentSteps = 181001\n",
      "\t\t AverageReturn = 916.0\n",
      "\t\t AverageEpisodeLength = 9.399999618530273\n"
     ]
    },
    {
     "name": "stdout",
     "output_type": "stream",
     "text": [
      "181976 loss:56.913800"
     ]
    },
    {
     "name": "stderr",
     "output_type": "stream",
     "text": [
      "INFO:absl: \n",
      "\t\t NumberOfEpisodes = 7936\n",
      "\t\t EnvironmentSteps = 182001\n",
      "\t\t AverageReturn = 933.0\n",
      "\t\t AverageEpisodeLength = 7.699999809265137\n"
     ]
    },
    {
     "name": "stdout",
     "output_type": "stream",
     "text": [
      "182967 loss:155.11356"
     ]
    },
    {
     "name": "stderr",
     "output_type": "stream",
     "text": [
      "INFO:absl: \n",
      "\t\t NumberOfEpisodes = 8079\n",
      "\t\t EnvironmentSteps = 183001\n",
      "\t\t AverageReturn = 911.0\n",
      "\t\t AverageEpisodeLength = 9.899999618530273\n"
     ]
    },
    {
     "name": "stdout",
     "output_type": "stream",
     "text": [
      "183979 loss:121.54477"
     ]
    },
    {
     "name": "stderr",
     "output_type": "stream",
     "text": [
      "INFO:absl: \n",
      "\t\t NumberOfEpisodes = 8218\n",
      "\t\t EnvironmentSteps = 184001\n",
      "\t\t AverageReturn = 947.0\n",
      "\t\t AverageEpisodeLength = 6.300000190734863\n"
     ]
    },
    {
     "name": "stdout",
     "output_type": "stream",
     "text": [
      "184976 loss:187.56560"
     ]
    },
    {
     "name": "stderr",
     "output_type": "stream",
     "text": [
      "INFO:absl: \n",
      "\t\t NumberOfEpisodes = 8362\n",
      "\t\t EnvironmentSteps = 185001\n",
      "\t\t AverageReturn = 943.0\n",
      "\t\t AverageEpisodeLength = 6.699999809265137\n"
     ]
    },
    {
     "name": "stdout",
     "output_type": "stream",
     "text": [
      "185978 loss:44.240023"
     ]
    },
    {
     "name": "stderr",
     "output_type": "stream",
     "text": [
      "INFO:absl: \n",
      "\t\t NumberOfEpisodes = 8506\n",
      "\t\t EnvironmentSteps = 186001\n",
      "\t\t AverageReturn = 948.0\n",
      "\t\t AverageEpisodeLength = 6.199999809265137\n"
     ]
    },
    {
     "name": "stdout",
     "output_type": "stream",
     "text": [
      "186967 loss:357.05280"
     ]
    },
    {
     "name": "stderr",
     "output_type": "stream",
     "text": [
      "INFO:absl: \n",
      "\t\t NumberOfEpisodes = 8656\n",
      "\t\t EnvironmentSteps = 187001\n",
      "\t\t AverageReturn = 935.0\n",
      "\t\t AverageEpisodeLength = 7.5\n"
     ]
    },
    {
     "name": "stdout",
     "output_type": "stream",
     "text": [
      "187990 loss:111.02963"
     ]
    },
    {
     "name": "stderr",
     "output_type": "stream",
     "text": [
      "INFO:absl: \n",
      "\t\t NumberOfEpisodes = 8807\n",
      "\t\t EnvironmentSteps = 188001\n",
      "\t\t AverageReturn = 941.0\n",
      "\t\t AverageEpisodeLength = 6.900000095367432\n"
     ]
    },
    {
     "name": "stdout",
     "output_type": "stream",
     "text": [
      "188999 loss:234.11935"
     ]
    },
    {
     "name": "stderr",
     "output_type": "stream",
     "text": [
      "INFO:absl: \n",
      "\t\t NumberOfEpisodes = 8949\n",
      "\t\t EnvironmentSteps = 189001\n",
      "\t\t AverageReturn = 920.0\n",
      "\t\t AverageEpisodeLength = 9.0\n"
     ]
    },
    {
     "name": "stdout",
     "output_type": "stream",
     "text": [
      "189976 loss:143.04782"
     ]
    },
    {
     "name": "stderr",
     "output_type": "stream",
     "text": [
      "INFO:absl: \n",
      "\t\t NumberOfEpisodes = 9082\n",
      "\t\t EnvironmentSteps = 190001\n",
      "\t\t AverageReturn = 946.0\n",
      "\t\t AverageEpisodeLength = 6.400000095367432\n"
     ]
    },
    {
     "name": "stdout",
     "output_type": "stream",
     "text": [
      "190990 loss:194.02959"
     ]
    },
    {
     "name": "stderr",
     "output_type": "stream",
     "text": [
      "INFO:absl: \n",
      "\t\t NumberOfEpisodes = 9233\n",
      "\t\t EnvironmentSteps = 191001\n",
      "\t\t AverageReturn = 946.0\n",
      "\t\t AverageEpisodeLength = 6.400000095367432\n"
     ]
    },
    {
     "name": "stdout",
     "output_type": "stream",
     "text": [
      "191979 loss:196.49144"
     ]
    },
    {
     "name": "stderr",
     "output_type": "stream",
     "text": [
      "INFO:absl: \n",
      "\t\t NumberOfEpisodes = 9386\n",
      "\t\t EnvironmentSteps = 192001\n",
      "\t\t AverageReturn = 940.0\n",
      "\t\t AverageEpisodeLength = 7.0\n"
     ]
    },
    {
     "name": "stdout",
     "output_type": "stream",
     "text": [
      "192998 loss:99.581631"
     ]
    },
    {
     "name": "stderr",
     "output_type": "stream",
     "text": [
      "INFO:absl: \n",
      "\t\t NumberOfEpisodes = 9527\n",
      "\t\t EnvironmentSteps = 193001\n",
      "\t\t AverageReturn = 932.0\n",
      "\t\t AverageEpisodeLength = 7.800000190734863\n"
     ]
    },
    {
     "name": "stdout",
     "output_type": "stream",
     "text": [
      "193978 loss:102.84866"
     ]
    },
    {
     "name": "stderr",
     "output_type": "stream",
     "text": [
      "INFO:absl: \n",
      "\t\t NumberOfEpisodes = 9669\n",
      "\t\t EnvironmentSteps = 194001\n",
      "\t\t AverageReturn = 940.0\n",
      "\t\t AverageEpisodeLength = 7.0\n"
     ]
    },
    {
     "name": "stdout",
     "output_type": "stream",
     "text": [
      "194976 loss:405.92783"
     ]
    },
    {
     "name": "stderr",
     "output_type": "stream",
     "text": [
      "INFO:absl: \n",
      "\t\t NumberOfEpisodes = 9810\n",
      "\t\t EnvironmentSteps = 195001\n",
      "\t\t AverageReturn = 948.0\n",
      "\t\t AverageEpisodeLength = 6.199999809265137\n"
     ]
    },
    {
     "name": "stdout",
     "output_type": "stream",
     "text": [
      "195963 loss:204.66499"
     ]
    },
    {
     "name": "stderr",
     "output_type": "stream",
     "text": [
      "INFO:absl: \n",
      "\t\t NumberOfEpisodes = 9952\n",
      "\t\t EnvironmentSteps = 196001\n",
      "\t\t AverageReturn = 936.0\n",
      "\t\t AverageEpisodeLength = 7.400000095367432\n"
     ]
    },
    {
     "name": "stdout",
     "output_type": "stream",
     "text": [
      "196989 loss:155.74352"
     ]
    },
    {
     "name": "stderr",
     "output_type": "stream",
     "text": [
      "INFO:absl: \n",
      "\t\t NumberOfEpisodes = 10075\n",
      "\t\t EnvironmentSteps = 197001\n",
      "\t\t AverageReturn = 937.0\n",
      "\t\t AverageEpisodeLength = 7.300000190734863\n"
     ]
    },
    {
     "name": "stdout",
     "output_type": "stream",
     "text": [
      "197967 loss:386.51575"
     ]
    },
    {
     "name": "stderr",
     "output_type": "stream",
     "text": [
      "INFO:absl: \n",
      "\t\t NumberOfEpisodes = 10219\n",
      "\t\t EnvironmentSteps = 198001\n",
      "\t\t AverageReturn = 944.0\n",
      "\t\t AverageEpisodeLength = 6.599999904632568\n"
     ]
    },
    {
     "name": "stdout",
     "output_type": "stream",
     "text": [
      "198956 loss:72.079574"
     ]
    },
    {
     "name": "stderr",
     "output_type": "stream",
     "text": [
      "INFO:absl: \n",
      "\t\t NumberOfEpisodes = 10375\n",
      "\t\t EnvironmentSteps = 199001\n",
      "\t\t AverageReturn = 950.0\n",
      "\t\t AverageEpisodeLength = 6.0\n"
     ]
    },
    {
     "name": "stdout",
     "output_type": "stream",
     "text": [
      "199999 loss:230.52231"
     ]
    }
   ],
   "source": [
    "train_agent(num_iterations)"
   ]
  },
  {
   "cell_type": "markdown",
   "metadata": {},
   "source": [
    "Let's evaluate the agent to see if it can solve the rail yard on its own"
   ]
  },
  {
   "cell_type": "code",
   "execution_count": 52,
   "metadata": {},
   "outputs": [],
   "source": [
    "#how many episodes to play to evaluate the agent \n",
    "num_eval_episodes = 5 \n",
    "\n",
    "def create_policy_eval_text_log(policy, filename, num_episodes=5):\n",
    "    logfile = open(filename + \".txt\",\"w\")\n",
    "    for _ in range(num_episodes):\n",
    "        time_step = eval_env.reset()\n",
    "        logfile.write(eval_py_env.render())\n",
    "        while not time_step.is_last():\n",
    "            action_step = policy.action(time_step)\n",
    "            time_step = eval_env.step(action_step.action)\n",
    "            logfile.write(\"=============================\\n\")\n",
    "            logfile.write(\"Action: \" + str(eval_py_env.decode_action(action_step.action.numpy()[0])) + \"\\n\")\n",
    "            logfile.write(eval_py_env.render())\n",
    "\n",
    "create_policy_eval_text_log(agent.policy, \"trained-agent\",num_eval_episodes)"
   ]
  },
  {
   "cell_type": "code",
   "execution_count": null,
   "metadata": {},
   "outputs": [],
   "source": [
    "# %load trained-agent.txt\n",
    "Period: 0\n",
    "Track 1: ['m1']\n",
    "Rack 2: []\n",
    "Track 3: []\n",
    "=============================\n",
    "Action: [3, 2, 1]\n",
    "Period: 1\n",
    "Track 1: ['m1']\n",
    "Rack 2: []\n",
    "Track 3: []\n",
    "=============================\n",
    "Action: [3, 2, 1]\n",
    "Period: 2\n",
    "Track 1: ['m1']\n",
    "Rack 2: []\n",
    "Track 3: []\n",
    "=============================\n",
    "Action: [3, 2, 1]\n",
    "Period: 3\n",
    "Track 1: ['m1']\n",
    "Rack 2: []\n",
    "Track 3: []\n",
    "=============================\n",
    "Action: [3, 2, 1]\n",
    "Period: 4\n",
    "Track 1: ['m1']\n",
    "Rack 2: []\n",
    "Track 3: []\n",
    "=============================\n",
    "Action: [3, 2, 1]\n",
    "Period: 5\n",
    "Track 1: ['m1']\n",
    "Rack 2: []\n",
    "Track 3: []\n",
    "=============================\n",
    "Action: [3, 2, 1]\n",
    "Period: 6\n",
    "Track 1: ['m1']\n",
    "Rack 2: []\n",
    "Track 3: []\n",
    "=============================\n",
    "Action: [3, 2, 1]\n",
    "Period: 7\n",
    "Track 1: ['m1']\n",
    "Rack 2: []\n",
    "Track 3: []\n",
    "=============================\n",
    "Action: [3, 2, 1]\n",
    "Period: 8\n",
    "Track 1: ['m1']\n",
    "Rack 2: []\n",
    "Track 3: []\n",
    "=============================\n",
    "Action: [3, 2, 1]\n",
    "Period: 9\n",
    "Track 1: ['m1']\n",
    "Rack 2: []\n",
    "Track 3: []\n",
    "=============================\n",
    "Action: [3, 2, 1]\n",
    "Period: 10\n",
    "Track 1: ['m1']\n",
    "Rack 2: []\n",
    "Track 3: []\n",
    "=============================\n",
    "Action: [3, 2, 1]\n",
    "Period: 11\n",
    "Track 1: ['m1']\n",
    "Rack 2: []\n",
    "Track 3: []\n",
    "=============================\n",
    "Action: [3, 2, 1]\n",
    "Period: 12\n",
    "Track 1: ['m1']\n",
    "Rack 2: []\n",
    "Track 3: []\n",
    "=============================\n",
    "Action: [3, 2, 1]\n",
    "Period: 13\n",
    "Track 1: ['m1']\n",
    "Rack 2: []\n",
    "Track 3: []\n",
    "=============================\n",
    "Action: [3, 2, 1]\n",
    "Period: 14\n",
    "Track 1: ['m1']\n",
    "Rack 2: []\n",
    "Track 3: []\n",
    "=============================\n",
    "Action: [3, 2, 1]\n",
    "Period: 15\n",
    "Track 1: ['m1']\n",
    "Rack 2: []\n",
    "Track 3: []\n",
    "=============================\n",
    "Action: [3, 2, 1]\n",
    "Period: 16\n",
    "Track 1: ['m1']\n",
    "Rack 2: []\n",
    "Track 3: []\n",
    "=============================\n",
    "Action: [3, 2, 1]\n",
    "Period: 17\n",
    "Track 1: ['m1']\n",
    "Rack 2: []\n",
    "Track 3: []\n",
    "=============================\n",
    "Action: [3, 2, 1]\n",
    "Period: 18\n",
    "Track 1: ['m1']\n",
    "Rack 2: []\n",
    "Track 3: []\n",
    "=============================\n",
    "Action: [3, 2, 1]\n",
    "Period: 19\n",
    "Track 1: ['m1']\n",
    "Rack 2: []\n",
    "Track 3: []\n",
    "=============================\n",
    "Action: [3, 2, 1]\n",
    "Period: 20\n",
    "Track 1: ['m1']\n",
    "Rack 2: []\n",
    "Track 3: []\n",
    "=============================\n",
    "Action: [3, 2, 1]\n",
    "Period: 21\n",
    "Track 1: ['m1']\n",
    "Rack 2: []\n",
    "Track 3: []\n",
    "=============================\n",
    "Action: [3, 2, 1]\n",
    "Period: 22\n",
    "Track 1: ['m1']\n",
    "Rack 2: []\n",
    "Track 3: []\n",
    "=============================\n",
    "Action: [3, 2, 1]\n",
    "Period: 23\n",
    "Track 1: ['m1']\n",
    "Rack 2: []\n",
    "Track 3: []\n",
    "=============================\n",
    "Action: [3, 2, 1]\n",
    "Period: 24\n",
    "Track 1: ['m1']\n",
    "Rack 2: []\n",
    "Track 3: []\n",
    "=============================\n",
    "Action: [3, 2, 1]\n",
    "Period: 25\n",
    "Track 1: ['m1']\n",
    "Rack 2: []\n",
    "Track 3: []\n",
    "=============================\n",
    "Action: [3, 2, 1]\n",
    "Period: 26\n",
    "Track 1: ['m1']\n",
    "Rack 2: []\n",
    "Track 3: []\n",
    "=============================\n",
    "Action: [3, 2, 1]\n",
    "Period: 27\n",
    "Track 1: ['m1']\n",
    "Rack 2: []\n",
    "Track 3: []\n",
    "=============================\n",
    "Action: [3, 2, 1]\n",
    "Period: 28\n",
    "Track 1: ['m1']\n",
    "Rack 2: []\n",
    "Track 3: []\n",
    "=============================\n",
    "Action: [3, 2, 1]\n",
    "Period: 29\n",
    "Track 1: ['m1']\n",
    "Rack 2: []\n",
    "Track 3: []\n",
    "=============================\n",
    "Action: [3, 2, 1]\n",
    "Period: 30\n",
    "Track 1: ['m1']\n",
    "Rack 2: []\n",
    "Track 3: []\n",
    "=============================\n",
    "Action: [3, 2, 1]\n",
    "Period: 31\n",
    "Track 1: ['m1']\n",
    "Rack 2: []\n",
    "Track 3: []\n",
    "=============================\n",
    "Action: [3, 2, 1]\n",
    "Period: 32\n",
    "Track 1: ['m1']\n",
    "Rack 2: []\n",
    "Track 3: []\n",
    "=============================\n",
    "Action: [3, 2, 1]\n",
    "Period: 33\n",
    "Track 1: ['m1']\n",
    "Rack 2: []\n",
    "Track 3: []\n",
    "=============================\n",
    "Action: [3, 2, 1]\n",
    "Period: 34\n",
    "Track 1: ['m1']\n",
    "Rack 2: []\n",
    "Track 3: []\n",
    "=============================\n",
    "Action: [3, 2, 1]\n",
    "Period: 35\n",
    "Track 1: ['m1']\n",
    "Rack 2: []\n",
    "Track 3: []\n",
    "=============================\n",
    "Action: [3, 2, 1]\n",
    "Period: 36\n",
    "Track 1: ['m1']\n",
    "Rack 2: []\n",
    "Track 3: []\n",
    "=============================\n",
    "Action: [3, 2, 1]\n",
    "Period: 37\n",
    "Track 1: ['m1']\n",
    "Rack 2: []\n",
    "Track 3: []\n",
    "=============================\n",
    "Action: [3, 2, 1]\n",
    "Period: 38\n",
    "Track 1: ['m1']\n",
    "Rack 2: []\n",
    "Track 3: []\n",
    "=============================\n",
    "Action: [3, 2, 1]\n",
    "Period: 39\n",
    "Track 1: ['m1']\n",
    "Rack 2: []\n",
    "Track 3: []\n",
    "=============================\n",
    "Action: [3, 2, 1]\n",
    "Period: 40\n",
    "Track 1: ['m1']\n",
    "Rack 2: []\n",
    "Track 3: []\n",
    "=============================\n",
    "Action: [3, 2, 1]\n",
    "Period: 41\n",
    "Track 1: ['m1']\n",
    "Rack 2: []\n",
    "Track 3: []\n",
    "=============================\n",
    "Action: [3, 2, 1]\n",
    "Period: 42\n",
    "Track 1: ['m1']\n",
    "Rack 2: []\n",
    "Track 3: []\n",
    "=============================\n",
    "Action: [3, 2, 1]\n",
    "Period: 43\n",
    "Track 1: ['m1']\n",
    "Rack 2: []\n",
    "Track 3: []\n",
    "=============================\n",
    "Action: [3, 2, 1]\n",
    "Period: 44\n",
    "Track 1: ['m1']\n",
    "Rack 2: []\n",
    "Track 3: []\n",
    "=============================\n",
    "Action: [3, 2, 1]\n",
    "Period: 45\n",
    "Track 1: ['m1']\n",
    "Rack 2: []\n",
    "Track 3: []\n",
    "=============================\n",
    "Action: [3, 2, 1]\n",
    "Period: 46\n",
    "Track 1: ['m1']\n",
    "Rack 2: []\n",
    "Track 3: []\n",
    "=============================\n",
    "Action: [3, 2, 1]\n",
    "Period: 47\n",
    "Track 1: ['m1']\n",
    "Rack 2: []\n",
    "Track 3: []\n",
    "=============================\n",
    "Action: [3, 2, 1]\n",
    "Period: 48\n",
    "Track 1: ['m1']\n",
    "Rack 2: []\n",
    "Track 3: []\n",
    "=============================\n",
    "Action: [3, 2, 1]\n",
    "Period: 49\n",
    "Track 1: ['m1']\n",
    "Rack 2: []\n",
    "Track 3: []\n",
    "=============================\n",
    "Action: [3, 2, 1]\n",
    "Period: 50\n",
    "Track 1: ['m1']\n",
    "Rack 2: []\n",
    "Track 3: []\n",
    "=============================\n",
    "Action: [3, 2, 1]\n",
    "Period: 51\n",
    "Track 1: ['m1']\n",
    "Rack 2: []\n",
    "Track 3: []\n",
    "=============================\n",
    "Action: [3, 2, 1]\n",
    "Period: 52\n",
    "Track 1: ['m1']\n",
    "Rack 2: []\n",
    "Track 3: []\n",
    "=============================\n",
    "Action: [3, 2, 1]\n",
    "Period: 53\n",
    "Track 1: ['m1']\n",
    "Rack 2: []\n",
    "Track 3: []\n",
    "=============================\n",
    "Action: [3, 2, 1]\n",
    "Period: 54\n",
    "Track 1: ['m1']\n",
    "Rack 2: []\n",
    "Track 3: []\n",
    "=============================\n",
    "Action: [3, 2, 1]\n",
    "Period: 55\n",
    "Track 1: ['m1']\n",
    "Rack 2: []\n",
    "Track 3: []\n",
    "=============================\n",
    "Action: [3, 2, 1]\n",
    "Period: 56\n",
    "Track 1: ['m1']\n",
    "Rack 2: []\n",
    "Track 3: []\n",
    "=============================\n",
    "Action: [3, 2, 1]\n",
    "Period: 57\n",
    "Track 1: ['m1']\n",
    "Rack 2: []\n",
    "Track 3: []\n",
    "=============================\n",
    "Action: [3, 2, 1]\n",
    "Period: 58\n",
    "Track 1: ['m1']\n",
    "Rack 2: []\n",
    "Track 3: []\n",
    "=============================\n",
    "Action: [3, 2, 1]\n",
    "Period: 59\n",
    "Track 1: ['m1']\n",
    "Rack 2: []\n",
    "Track 3: []\n",
    "=============================\n",
    "Action: [3, 2, 1]\n",
    "Period: 60\n",
    "Track 1: ['m1']\n",
    "Rack 2: []\n",
    "Track 3: []\n",
    "=============================\n",
    "Action: [3, 2, 1]\n",
    "Period: 61\n",
    "Track 1: ['m1']\n",
    "Rack 2: []\n",
    "Track 3: []\n",
    "=============================\n",
    "Action: [3, 2, 1]\n",
    "Period: 62\n",
    "Track 1: ['m1']\n",
    "Rack 2: []\n",
    "Track 3: []\n",
    "=============================\n",
    "Action: [3, 2, 1]\n",
    "Period: 63\n",
    "Track 1: ['m1']\n",
    "Rack 2: []\n",
    "Track 3: []\n",
    "=============================\n",
    "Action: [3, 2, 1]\n",
    "Period: 64\n",
    "Track 1: ['m1']\n",
    "Rack 2: []\n",
    "Track 3: []\n",
    "=============================\n",
    "Action: [3, 2, 1]\n",
    "Period: 65\n",
    "Track 1: ['m1']\n",
    "Rack 2: []\n",
    "Track 3: []\n",
    "=============================\n",
    "Action: [3, 2, 1]\n",
    "Period: 66\n",
    "Track 1: ['m1']\n",
    "Rack 2: []\n",
    "Track 3: []\n",
    "=============================\n",
    "Action: [3, 2, 1]\n",
    "Period: 67\n",
    "Track 1: ['m1']\n",
    "Rack 2: []\n",
    "Track 3: []\n",
    "=============================\n",
    "Action: [3, 2, 1]\n",
    "Period: 68\n",
    "Track 1: ['m1']\n",
    "Rack 2: []\n",
    "Track 3: []\n",
    "=============================\n",
    "Action: [3, 2, 1]\n",
    "Period: 69\n",
    "Track 1: ['m1']\n",
    "Rack 2: []\n",
    "Track 3: []\n",
    "=============================\n",
    "Action: [3, 2, 1]\n",
    "Period: 70\n",
    "Track 1: ['m1']\n",
    "Rack 2: []\n",
    "Track 3: []\n",
    "=============================\n",
    "Action: [3, 2, 1]\n",
    "Period: 71\n",
    "Track 1: ['m1']\n",
    "Rack 2: []\n",
    "Track 3: []\n",
    "=============================\n",
    "Action: [3, 2, 1]\n",
    "Period: 72\n",
    "Track 1: ['m1']\n",
    "Rack 2: []\n",
    "Track 3: []\n",
    "=============================\n",
    "Action: [3, 2, 1]\n",
    "Period: 73\n",
    "Track 1: ['m1']\n",
    "Rack 2: []\n",
    "Track 3: []\n",
    "=============================\n",
    "Action: [3, 2, 1]\n",
    "Period: 74\n",
    "Track 1: ['m1']\n",
    "Rack 2: []\n",
    "Track 3: []\n",
    "=============================\n",
    "Action: [3, 2, 1]\n",
    "Period: 75\n",
    "Track 1: ['m1']\n",
    "Rack 2: []\n",
    "Track 3: []\n",
    "=============================\n",
    "Action: [3, 2, 1]\n",
    "Period: 76\n",
    "Track 1: ['m1']\n",
    "Rack 2: []\n",
    "Track 3: []\n",
    "=============================\n",
    "Action: [3, 2, 1]\n",
    "Period: 77\n",
    "Track 1: ['m1']\n",
    "Rack 2: []\n",
    "Track 3: []\n",
    "=============================\n",
    "Action: [3, 2, 1]\n",
    "Period: 78\n",
    "Track 1: ['m1']\n",
    "Rack 2: []\n",
    "Track 3: []\n",
    "=============================\n",
    "Action: [3, 2, 1]\n",
    "Period: 79\n",
    "Track 1: ['m1']\n",
    "Rack 2: []\n",
    "Track 3: []\n",
    "=============================\n",
    "Action: [3, 2, 1]\n",
    "Period: 80\n",
    "Track 1: ['m1']\n",
    "Rack 2: []\n",
    "Track 3: []\n",
    "=============================\n",
    "Action: [3, 2, 1]\n",
    "Period: 81\n",
    "Track 1: ['m1']\n",
    "Rack 2: []\n",
    "Track 3: []\n",
    "=============================\n",
    "Action: [3, 2, 1]\n",
    "Period: 82\n",
    "Track 1: ['m1']\n",
    "Rack 2: []\n",
    "Track 3: []\n",
    "=============================\n",
    "Action: [3, 2, 1]\n",
    "Period: 83\n",
    "Track 1: ['m1']\n",
    "Rack 2: []\n",
    "Track 3: []\n",
    "=============================\n",
    "Action: [3, 2, 1]\n",
    "Period: 84\n",
    "Track 1: ['m1']\n",
    "Rack 2: []\n",
    "Track 3: []\n",
    "=============================\n",
    "Action: [3, 2, 1]\n",
    "Period: 85\n",
    "Track 1: ['m1']\n",
    "Rack 2: []\n",
    "Track 3: []\n",
    "=============================\n",
    "Action: [3, 2, 1]\n",
    "Period: 86\n",
    "Track 1: ['m1']\n",
    "Rack 2: []\n",
    "Track 3: []\n",
    "=============================\n",
    "Action: [3, 2, 1]\n",
    "Period: 87\n",
    "Track 1: ['m1']\n",
    "Rack 2: []\n",
    "Track 3: []\n",
    "=============================\n",
    "Action: [3, 2, 1]\n",
    "Period: 88\n",
    "Track 1: ['m1']\n",
    "Rack 2: []\n",
    "Track 3: []\n",
    "=============================\n",
    "Action: [3, 2, 1]\n",
    "Period: 89\n",
    "Track 1: ['m1']\n",
    "Rack 2: []\n",
    "Track 3: []\n",
    "=============================\n",
    "Action: [3, 2, 1]\n",
    "Period: 90\n",
    "Track 1: ['m1']\n",
    "Rack 2: []\n",
    "Track 3: []\n",
    "=============================\n",
    "Action: [3, 2, 1]\n",
    "Period: 91\n",
    "Track 1: ['m1']\n",
    "Rack 2: []\n",
    "Track 3: []\n",
    "=============================\n",
    "Action: [3, 2, 1]\n",
    "Period: 92\n",
    "Track 1: ['m1']\n",
    "Rack 2: []\n",
    "Track 3: []\n",
    "=============================\n",
    "Action: [3, 2, 1]\n",
    "Period: 93\n",
    "Track 1: ['m1']\n",
    "Rack 2: []\n",
    "Track 3: []\n",
    "=============================\n",
    "Action: [3, 2, 1]\n",
    "Period: 94\n",
    "Track 1: ['m1']\n",
    "Rack 2: []\n",
    "Track 3: []\n",
    "=============================\n",
    "Action: [3, 2, 1]\n",
    "Period: 95\n",
    "Track 1: ['m1']\n",
    "Rack 2: []\n",
    "Track 3: []\n",
    "=============================\n",
    "Action: [3, 2, 1]\n",
    "Period: 96\n",
    "Track 1: ['m1']\n",
    "Rack 2: []\n",
    "Track 3: []\n",
    "=============================\n",
    "Action: [3, 2, 1]\n",
    "Period: 97\n",
    "Track 1: ['m1']\n",
    "Rack 2: []\n",
    "Track 3: []\n",
    "=============================\n",
    "Action: [3, 2, 1]\n",
    "Period: 98\n",
    "Track 1: ['m1']\n",
    "Rack 2: []\n",
    "Track 3: []\n",
    "=============================\n",
    "Action: [3, 2, 1]\n",
    "Period: 99\n",
    "Track 1: ['m1']\n",
    "Rack 2: []\n",
    "Track 3: []\n",
    "=============================\n",
    "Action: [3, 2, 1]\n",
    "Period: 100\n",
    "Track 1: ['m1']\n",
    "Rack 2: []\n",
    "Track 3: []\n",
    "Period: 0\n",
    "Track 1: ['m1']\n",
    "Rack 2: []\n",
    "Track 3: []\n",
    "=============================\n",
    "Action: [3, 2, 1]\n",
    "Period: 1\n",
    "Track 1: ['m1']\n",
    "Rack 2: []\n",
    "Track 3: []\n",
    "=============================\n",
    "Action: [3, 2, 1]\n",
    "Period: 2\n",
    "Track 1: ['m1']\n",
    "Rack 2: []\n",
    "Track 3: []\n",
    "=============================\n",
    "Action: [3, 2, 1]\n",
    "Period: 3\n",
    "Track 1: ['m1']\n",
    "Rack 2: []\n",
    "Track 3: []\n",
    "=============================\n",
    "Action: [3, 2, 1]\n",
    "Period: 4\n",
    "Track 1: ['m1']\n",
    "Rack 2: []\n",
    "Track 3: []\n",
    "=============================\n",
    "Action: [3, 2, 1]\n",
    "Period: 5\n",
    "Track 1: ['m1']\n",
    "Rack 2: []\n",
    "Track 3: []\n",
    "=============================\n",
    "Action: [3, 2, 1]\n",
    "Period: 6\n",
    "Track 1: ['m1']\n",
    "Rack 2: []\n",
    "Track 3: []\n",
    "=============================\n",
    "Action: [3, 2, 1]\n",
    "Period: 7\n",
    "Track 1: ['m1']\n",
    "Rack 2: []\n",
    "Track 3: []\n",
    "=============================\n",
    "Action: [3, 2, 1]\n",
    "Period: 8\n",
    "Track 1: ['m1']\n",
    "Rack 2: []\n",
    "Track 3: []\n",
    "=============================\n",
    "Action: [3, 2, 1]\n",
    "Period: 9\n",
    "Track 1: ['m1']\n",
    "Rack 2: []\n",
    "Track 3: []\n",
    "=============================\n",
    "Action: [3, 2, 1]\n",
    "Period: 10\n",
    "Track 1: ['m1']\n",
    "Rack 2: []\n",
    "Track 3: []\n",
    "=============================\n",
    "Action: [3, 2, 1]\n",
    "Period: 11\n",
    "Track 1: ['m1']\n",
    "Rack 2: []\n",
    "Track 3: []\n",
    "=============================\n",
    "Action: [3, 2, 1]\n",
    "Period: 12\n",
    "Track 1: ['m1']\n",
    "Rack 2: []\n",
    "Track 3: []\n",
    "=============================\n",
    "Action: [3, 2, 1]\n",
    "Period: 13\n",
    "Track 1: ['m1']\n",
    "Rack 2: []\n",
    "Track 3: []\n",
    "=============================\n",
    "Action: [3, 2, 1]\n",
    "Period: 14\n",
    "Track 1: ['m1']\n",
    "Rack 2: []\n",
    "Track 3: []\n",
    "=============================\n",
    "Action: [3, 2, 1]\n",
    "Period: 15\n",
    "Track 1: ['m1']\n",
    "Rack 2: []\n",
    "Track 3: []\n",
    "=============================\n",
    "Action: [3, 2, 1]\n",
    "Period: 16\n",
    "Track 1: ['m1']\n",
    "Rack 2: []\n",
    "Track 3: []\n",
    "=============================\n",
    "Action: [3, 2, 1]\n",
    "Period: 17\n",
    "Track 1: ['m1']\n",
    "Rack 2: []\n",
    "Track 3: []\n",
    "=============================\n",
    "Action: [3, 2, 1]\n",
    "Period: 18\n",
    "Track 1: ['m1']\n",
    "Rack 2: []\n",
    "Track 3: []\n",
    "=============================\n",
    "Action: [3, 2, 1]\n",
    "Period: 19\n",
    "Track 1: ['m1']\n",
    "Rack 2: []\n",
    "Track 3: []\n",
    "=============================\n",
    "Action: [3, 2, 1]\n",
    "Period: 20\n",
    "Track 1: ['m1']\n",
    "Rack 2: []\n",
    "Track 3: []\n",
    "=============================\n",
    "Action: [3, 2, 1]\n",
    "Period: 21\n",
    "Track 1: ['m1']\n",
    "Rack 2: []\n",
    "Track 3: []\n",
    "=============================\n",
    "Action: [3, 2, 1]\n",
    "Period: 22\n",
    "Track 1: ['m1']\n",
    "Rack 2: []\n",
    "Track 3: []\n",
    "=============================\n",
    "Action: [3, 2, 1]\n",
    "Period: 23\n",
    "Track 1: ['m1']\n",
    "Rack 2: []\n",
    "Track 3: []\n",
    "=============================\n",
    "Action: [3, 2, 1]\n",
    "Period: 24\n",
    "Track 1: ['m1']\n",
    "Rack 2: []\n",
    "Track 3: []\n",
    "=============================\n",
    "Action: [3, 2, 1]\n",
    "Period: 25\n",
    "Track 1: ['m1']\n",
    "Rack 2: []\n",
    "Track 3: []\n",
    "=============================\n",
    "Action: [3, 2, 1]\n",
    "Period: 26\n",
    "Track 1: ['m1']\n",
    "Rack 2: []\n",
    "Track 3: []\n",
    "=============================\n",
    "Action: [3, 2, 1]\n",
    "Period: 27\n",
    "Track 1: ['m1']\n",
    "Rack 2: []\n",
    "Track 3: []\n",
    "=============================\n",
    "Action: [3, 2, 1]\n",
    "Period: 28\n",
    "Track 1: ['m1']\n",
    "Rack 2: []\n",
    "Track 3: []\n",
    "=============================\n",
    "Action: [3, 2, 1]\n",
    "Period: 29\n",
    "Track 1: ['m1']\n",
    "Rack 2: []\n",
    "Track 3: []\n",
    "=============================\n",
    "Action: [3, 2, 1]\n",
    "Period: 30\n",
    "Track 1: ['m1']\n",
    "Rack 2: []\n",
    "Track 3: []\n",
    "=============================\n",
    "Action: [3, 2, 1]\n",
    "Period: 31\n",
    "Track 1: ['m1']\n",
    "Rack 2: []\n",
    "Track 3: []\n",
    "=============================\n",
    "Action: [3, 2, 1]\n",
    "Period: 32\n",
    "Track 1: ['m1']\n",
    "Rack 2: []\n",
    "Track 3: []\n",
    "=============================\n",
    "Action: [3, 2, 1]\n",
    "Period: 33\n",
    "Track 1: ['m1']\n",
    "Rack 2: []\n",
    "Track 3: []\n",
    "=============================\n",
    "Action: [3, 2, 1]\n",
    "Period: 34\n",
    "Track 1: ['m1']\n",
    "Rack 2: []\n",
    "Track 3: []\n",
    "=============================\n",
    "Action: [3, 2, 1]\n",
    "Period: 35\n",
    "Track 1: ['m1']\n",
    "Rack 2: []\n",
    "Track 3: []\n",
    "=============================\n",
    "Action: [3, 2, 1]\n",
    "Period: 36\n",
    "Track 1: ['m1']\n",
    "Rack 2: []\n",
    "Track 3: []\n",
    "=============================\n",
    "Action: [3, 2, 1]\n",
    "Period: 37\n",
    "Track 1: ['m1']\n",
    "Rack 2: []\n",
    "Track 3: []\n",
    "=============================\n",
    "Action: [3, 2, 1]\n",
    "Period: 38\n",
    "Track 1: ['m1']\n",
    "Rack 2: []\n",
    "Track 3: []\n",
    "=============================\n",
    "Action: [3, 2, 1]\n",
    "Period: 39\n",
    "Track 1: ['m1']\n",
    "Rack 2: []\n",
    "Track 3: []\n",
    "=============================\n",
    "Action: [3, 2, 1]\n",
    "Period: 40\n",
    "Track 1: ['m1']\n",
    "Rack 2: []\n",
    "Track 3: []\n",
    "=============================\n",
    "Action: [3, 2, 1]\n",
    "Period: 41\n",
    "Track 1: ['m1']\n",
    "Rack 2: []\n",
    "Track 3: []\n",
    "=============================\n",
    "Action: [3, 2, 1]\n",
    "Period: 42\n",
    "Track 1: ['m1']\n",
    "Rack 2: []\n",
    "Track 3: []\n",
    "=============================\n",
    "Action: [3, 2, 1]\n",
    "Period: 43\n",
    "Track 1: ['m1']\n",
    "Rack 2: []\n",
    "Track 3: []\n",
    "=============================\n",
    "Action: [3, 2, 1]\n",
    "Period: 44\n",
    "Track 1: ['m1']\n",
    "Rack 2: []\n",
    "Track 3: []\n",
    "=============================\n",
    "Action: [3, 2, 1]\n",
    "Period: 45\n",
    "Track 1: ['m1']\n",
    "Rack 2: []\n",
    "Track 3: []\n",
    "=============================\n",
    "Action: [3, 2, 1]\n",
    "Period: 46\n",
    "Track 1: ['m1']\n",
    "Rack 2: []\n",
    "Track 3: []\n",
    "=============================\n",
    "Action: [3, 2, 1]\n",
    "Period: 47\n",
    "Track 1: ['m1']\n",
    "Rack 2: []\n",
    "Track 3: []\n",
    "=============================\n",
    "Action: [3, 2, 1]\n",
    "Period: 48\n",
    "Track 1: ['m1']\n",
    "Rack 2: []\n",
    "Track 3: []\n",
    "=============================\n",
    "Action: [3, 2, 1]\n",
    "Period: 49\n",
    "Track 1: ['m1']\n",
    "Rack 2: []\n",
    "Track 3: []\n",
    "=============================\n",
    "Action: [3, 2, 1]\n",
    "Period: 50\n",
    "Track 1: ['m1']\n",
    "Rack 2: []\n",
    "Track 3: []\n",
    "=============================\n",
    "Action: [3, 2, 1]\n",
    "Period: 51\n",
    "Track 1: ['m1']\n",
    "Rack 2: []\n",
    "Track 3: []\n",
    "=============================\n",
    "Action: [3, 2, 1]\n",
    "Period: 52\n",
    "Track 1: ['m1']\n",
    "Rack 2: []\n",
    "Track 3: []\n",
    "=============================\n",
    "Action: [3, 2, 1]\n",
    "Period: 53\n",
    "Track 1: ['m1']\n",
    "Rack 2: []\n",
    "Track 3: []\n",
    "=============================\n",
    "Action: [3, 2, 1]\n",
    "Period: 54\n",
    "Track 1: ['m1']\n",
    "Rack 2: []\n",
    "Track 3: []\n",
    "=============================\n",
    "Action: [3, 2, 1]\n",
    "Period: 55\n",
    "Track 1: ['m1']\n",
    "Rack 2: []\n",
    "Track 3: []\n",
    "=============================\n",
    "Action: [3, 2, 1]\n",
    "Period: 56\n",
    "Track 1: ['m1']\n",
    "Rack 2: []\n",
    "Track 3: []\n",
    "=============================\n",
    "Action: [3, 2, 1]\n",
    "Period: 57\n",
    "Track 1: ['m1']\n",
    "Rack 2: []\n",
    "Track 3: []\n",
    "=============================\n",
    "Action: [3, 2, 1]\n",
    "Period: 58\n",
    "Track 1: ['m1']\n",
    "Rack 2: []\n",
    "Track 3: []\n",
    "=============================\n",
    "Action: [3, 2, 1]\n",
    "Period: 59\n",
    "Track 1: ['m1']\n",
    "Rack 2: []\n",
    "Track 3: []\n",
    "=============================\n",
    "Action: [3, 2, 1]\n",
    "Period: 60\n",
    "Track 1: ['m1']\n",
    "Rack 2: []\n",
    "Track 3: []\n",
    "=============================\n",
    "Action: [3, 2, 1]\n",
    "Period: 61\n",
    "Track 1: ['m1']\n",
    "Rack 2: []\n",
    "Track 3: []\n",
    "=============================\n",
    "Action: [3, 2, 1]\n",
    "Period: 62\n",
    "Track 1: ['m1']\n",
    "Rack 2: []\n",
    "Track 3: []\n",
    "=============================\n",
    "Action: [3, 2, 1]\n",
    "Period: 63\n",
    "Track 1: ['m1']\n",
    "Rack 2: []\n",
    "Track 3: []\n",
    "=============================\n",
    "Action: [3, 2, 1]\n",
    "Period: 64\n",
    "Track 1: ['m1']\n",
    "Rack 2: []\n",
    "Track 3: []\n",
    "=============================\n",
    "Action: [3, 2, 1]\n",
    "Period: 65\n",
    "Track 1: ['m1']\n",
    "Rack 2: []\n",
    "Track 3: []\n",
    "=============================\n",
    "Action: [3, 2, 1]\n",
    "Period: 66\n",
    "Track 1: ['m1']\n",
    "Rack 2: []\n",
    "Track 3: []\n",
    "=============================\n",
    "Action: [3, 2, 1]\n",
    "Period: 67\n",
    "Track 1: ['m1']\n",
    "Rack 2: []\n",
    "Track 3: []\n",
    "=============================\n",
    "Action: [3, 2, 1]\n",
    "Period: 68\n",
    "Track 1: ['m1']\n",
    "Rack 2: []\n",
    "Track 3: []\n",
    "=============================\n",
    "Action: [3, 2, 1]\n",
    "Period: 69\n",
    "Track 1: ['m1']\n",
    "Rack 2: []\n",
    "Track 3: []\n",
    "=============================\n",
    "Action: [3, 2, 1]\n",
    "Period: 70\n",
    "Track 1: ['m1']\n",
    "Rack 2: []\n",
    "Track 3: []\n",
    "=============================\n",
    "Action: [3, 2, 1]\n",
    "Period: 71\n",
    "Track 1: ['m1']\n",
    "Rack 2: []\n",
    "Track 3: []\n",
    "=============================\n",
    "Action: [3, 2, 1]\n",
    "Period: 72\n",
    "Track 1: ['m1']\n",
    "Rack 2: []\n",
    "Track 3: []\n",
    "=============================\n",
    "Action: [3, 2, 1]\n",
    "Period: 73\n",
    "Track 1: ['m1']\n",
    "Rack 2: []\n",
    "Track 3: []\n",
    "=============================\n",
    "Action: [3, 2, 1]\n",
    "Period: 74\n",
    "Track 1: ['m1']\n",
    "Rack 2: []\n",
    "Track 3: []\n",
    "=============================\n",
    "Action: [3, 2, 1]\n",
    "Period: 75\n",
    "Track 1: ['m1']\n",
    "Rack 2: []\n",
    "Track 3: []\n",
    "=============================\n",
    "Action: [3, 2, 1]\n",
    "Period: 76\n",
    "Track 1: ['m1']\n",
    "Rack 2: []\n",
    "Track 3: []\n",
    "=============================\n",
    "Action: [3, 2, 1]\n",
    "Period: 77\n",
    "Track 1: ['m1']\n",
    "Rack 2: []\n",
    "Track 3: []\n",
    "=============================\n",
    "Action: [3, 2, 1]\n",
    "Period: 78\n",
    "Track 1: ['m1']\n",
    "Rack 2: []\n",
    "Track 3: []\n",
    "=============================\n",
    "Action: [3, 2, 1]\n",
    "Period: 79\n",
    "Track 1: ['m1']\n",
    "Rack 2: []\n",
    "Track 3: []\n",
    "=============================\n",
    "Action: [3, 2, 1]\n",
    "Period: 80\n",
    "Track 1: ['m1']\n",
    "Rack 2: []\n",
    "Track 3: []\n",
    "=============================\n",
    "Action: [3, 2, 1]\n",
    "Period: 81\n",
    "Track 1: ['m1']\n",
    "Rack 2: []\n",
    "Track 3: []\n",
    "=============================\n",
    "Action: [3, 2, 1]\n",
    "Period: 82\n",
    "Track 1: ['m1']\n",
    "Rack 2: []\n",
    "Track 3: []\n",
    "=============================\n",
    "Action: [3, 2, 1]\n",
    "Period: 83\n",
    "Track 1: ['m1']\n",
    "Rack 2: []\n",
    "Track 3: []\n",
    "=============================\n",
    "Action: [3, 2, 1]\n",
    "Period: 84\n",
    "Track 1: ['m1']\n",
    "Rack 2: []\n",
    "Track 3: []\n",
    "=============================\n",
    "Action: [3, 2, 1]\n",
    "Period: 85\n",
    "Track 1: ['m1']\n",
    "Rack 2: []\n",
    "Track 3: []\n",
    "=============================\n",
    "Action: [3, 2, 1]\n",
    "Period: 86\n",
    "Track 1: ['m1']\n",
    "Rack 2: []\n",
    "Track 3: []\n",
    "=============================\n",
    "Action: [3, 2, 1]\n",
    "Period: 87\n",
    "Track 1: ['m1']\n",
    "Rack 2: []\n",
    "Track 3: []\n",
    "=============================\n",
    "Action: [3, 2, 1]\n",
    "Period: 88\n",
    "Track 1: ['m1']\n",
    "Rack 2: []\n",
    "Track 3: []\n",
    "=============================\n",
    "Action: [3, 2, 1]\n",
    "Period: 89\n",
    "Track 1: ['m1']\n",
    "Rack 2: []\n",
    "Track 3: []\n",
    "=============================\n",
    "Action: [3, 2, 1]\n",
    "Period: 90\n",
    "Track 1: ['m1']\n",
    "Rack 2: []\n",
    "Track 3: []\n",
    "=============================\n",
    "Action: [3, 2, 1]\n",
    "Period: 91\n",
    "Track 1: ['m1']\n",
    "Rack 2: []\n",
    "Track 3: []\n",
    "=============================\n",
    "Action: [3, 2, 1]\n",
    "Period: 92\n",
    "Track 1: ['m1']\n",
    "Rack 2: []\n",
    "Track 3: []\n",
    "=============================\n",
    "Action: [3, 2, 1]\n",
    "Period: 93\n",
    "Track 1: ['m1']\n",
    "Rack 2: []\n",
    "Track 3: []\n",
    "=============================\n",
    "Action: [3, 2, 1]\n",
    "Period: 94\n",
    "Track 1: ['m1']\n",
    "Rack 2: []\n",
    "Track 3: []\n",
    "=============================\n",
    "Action: [3, 2, 1]\n",
    "Period: 95\n",
    "Track 1: ['m1']\n",
    "Rack 2: []\n",
    "Track 3: []\n",
    "=============================\n",
    "Action: [3, 2, 1]\n",
    "Period: 96\n",
    "Track 1: ['m1']\n",
    "Rack 2: []\n",
    "Track 3: []\n",
    "=============================\n",
    "Action: [3, 2, 1]\n",
    "Period: 97\n",
    "Track 1: ['m1']\n",
    "Rack 2: []\n",
    "Track 3: []\n",
    "=============================\n",
    "Action: [3, 2, 1]\n",
    "Period: 98\n",
    "Track 1: ['m1']\n",
    "Rack 2: []\n",
    "Track 3: []\n",
    "=============================\n",
    "Action: [3, 2, 1]\n",
    "Period: 99\n",
    "Track 1: ['m1']\n",
    "Rack 2: []\n",
    "Track 3: []\n",
    "=============================\n",
    "Action: [3, 2, 1]\n",
    "Period: 100\n",
    "Track 1: ['m1']\n",
    "Rack 2: []\n",
    "Track 3: []\n",
    "Period: 0\n",
    "Track 1: ['m1']\n",
    "Rack 2: []\n",
    "Track 3: []\n",
    "=============================\n",
    "Action: [3, 2, 1]\n",
    "Period: 1\n",
    "Track 1: ['m1']\n",
    "Rack 2: []\n",
    "Track 3: []\n",
    "=============================\n",
    "Action: [3, 2, 1]\n",
    "Period: 2\n",
    "Track 1: ['m1']\n",
    "Rack 2: []\n",
    "Track 3: []\n",
    "=============================\n",
    "Action: [3, 2, 1]\n",
    "Period: 3\n",
    "Track 1: ['m1']\n",
    "Rack 2: []\n",
    "Track 3: []\n",
    "=============================\n",
    "Action: [3, 2, 1]\n",
    "Period: 4\n",
    "Track 1: ['m1']\n",
    "Rack 2: []\n",
    "Track 3: []\n",
    "=============================\n",
    "Action: [3, 2, 1]\n",
    "Period: 5\n",
    "Track 1: ['m1']\n",
    "Rack 2: []\n",
    "Track 3: []\n",
    "=============================\n",
    "Action: [3, 2, 1]\n",
    "Period: 6\n",
    "Track 1: ['m1']\n",
    "Rack 2: []\n",
    "Track 3: []\n",
    "=============================\n",
    "Action: [3, 2, 1]\n",
    "Period: 7\n",
    "Track 1: ['m1']\n",
    "Rack 2: []\n",
    "Track 3: []\n",
    "=============================\n",
    "Action: [3, 2, 1]\n",
    "Period: 8\n",
    "Track 1: ['m1']\n",
    "Rack 2: []\n",
    "Track 3: []\n",
    "=============================\n",
    "Action: [3, 2, 1]\n",
    "Period: 9\n",
    "Track 1: ['m1']\n",
    "Rack 2: []\n",
    "Track 3: []\n",
    "=============================\n",
    "Action: [3, 2, 1]\n",
    "Period: 10\n",
    "Track 1: ['m1']\n",
    "Rack 2: []\n",
    "Track 3: []\n",
    "=============================\n",
    "Action: [3, 2, 1]\n",
    "Period: 11\n",
    "Track 1: ['m1']\n",
    "Rack 2: []\n",
    "Track 3: []\n",
    "=============================\n",
    "Action: [3, 2, 1]\n",
    "Period: 12\n",
    "Track 1: ['m1']\n",
    "Rack 2: []\n",
    "Track 3: []\n",
    "=============================\n",
    "Action: [3, 2, 1]\n",
    "Period: 13\n",
    "Track 1: ['m1']\n",
    "Rack 2: []\n",
    "Track 3: []\n",
    "=============================\n",
    "Action: [3, 2, 1]\n",
    "Period: 14\n",
    "Track 1: ['m1']\n",
    "Rack 2: []\n",
    "Track 3: []\n",
    "=============================\n",
    "Action: [3, 2, 1]\n",
    "Period: 15\n",
    "Track 1: ['m1']\n",
    "Rack 2: []\n",
    "Track 3: []\n",
    "=============================\n",
    "Action: [3, 2, 1]\n",
    "Period: 16\n",
    "Track 1: ['m1']\n",
    "Rack 2: []\n",
    "Track 3: []\n",
    "=============================\n",
    "Action: [3, 2, 1]\n",
    "Period: 17\n",
    "Track 1: ['m1']\n",
    "Rack 2: []\n",
    "Track 3: []\n",
    "=============================\n",
    "Action: [3, 2, 1]\n",
    "Period: 18\n",
    "Track 1: ['m1']\n",
    "Rack 2: []\n",
    "Track 3: []\n",
    "=============================\n",
    "Action: [3, 2, 1]\n",
    "Period: 19\n",
    "Track 1: ['m1']\n",
    "Rack 2: []\n",
    "Track 3: []\n",
    "=============================\n",
    "Action: [3, 2, 1]\n",
    "Period: 20\n",
    "Track 1: ['m1']\n",
    "Rack 2: []\n",
    "Track 3: []\n",
    "=============================\n",
    "Action: [3, 2, 1]\n",
    "Period: 21\n",
    "Track 1: ['m1']\n",
    "Rack 2: []\n",
    "Track 3: []\n",
    "=============================\n",
    "Action: [3, 2, 1]\n",
    "Period: 22\n",
    "Track 1: ['m1']\n",
    "Rack 2: []\n",
    "Track 3: []\n",
    "=============================\n",
    "Action: [3, 2, 1]\n",
    "Period: 23\n",
    "Track 1: ['m1']\n",
    "Rack 2: []\n",
    "Track 3: []\n",
    "=============================\n",
    "Action: [3, 2, 1]\n",
    "Period: 24\n",
    "Track 1: ['m1']\n",
    "Rack 2: []\n",
    "Track 3: []\n",
    "=============================\n",
    "Action: [3, 2, 1]\n",
    "Period: 25\n",
    "Track 1: ['m1']\n",
    "Rack 2: []\n",
    "Track 3: []\n",
    "=============================\n",
    "Action: [3, 2, 1]\n",
    "Period: 26\n",
    "Track 1: ['m1']\n",
    "Rack 2: []\n",
    "Track 3: []\n",
    "=============================\n",
    "Action: [3, 2, 1]\n",
    "Period: 27\n",
    "Track 1: ['m1']\n",
    "Rack 2: []\n",
    "Track 3: []\n",
    "=============================\n",
    "Action: [3, 2, 1]\n",
    "Period: 28\n",
    "Track 1: ['m1']\n",
    "Rack 2: []\n",
    "Track 3: []\n",
    "=============================\n",
    "Action: [3, 2, 1]\n",
    "Period: 29\n",
    "Track 1: ['m1']\n",
    "Rack 2: []\n",
    "Track 3: []\n",
    "=============================\n",
    "Action: [3, 2, 1]\n",
    "Period: 30\n",
    "Track 1: ['m1']\n",
    "Rack 2: []\n",
    "Track 3: []\n",
    "=============================\n",
    "Action: [3, 2, 1]\n",
    "Period: 31\n",
    "Track 1: ['m1']\n",
    "Rack 2: []\n",
    "Track 3: []\n",
    "=============================\n",
    "Action: [3, 2, 1]\n",
    "Period: 32\n",
    "Track 1: ['m1']\n",
    "Rack 2: []\n",
    "Track 3: []\n",
    "=============================\n",
    "Action: [3, 2, 1]\n",
    "Period: 33\n",
    "Track 1: ['m1']\n",
    "Rack 2: []\n",
    "Track 3: []\n",
    "=============================\n",
    "Action: [3, 2, 1]\n",
    "Period: 34\n",
    "Track 1: ['m1']\n",
    "Rack 2: []\n",
    "Track 3: []\n",
    "=============================\n",
    "Action: [3, 2, 1]\n",
    "Period: 35\n",
    "Track 1: ['m1']\n",
    "Rack 2: []\n",
    "Track 3: []\n",
    "=============================\n",
    "Action: [3, 2, 1]\n",
    "Period: 36\n",
    "Track 1: ['m1']\n",
    "Rack 2: []\n",
    "Track 3: []\n",
    "=============================\n",
    "Action: [3, 2, 1]\n",
    "Period: 37\n",
    "Track 1: ['m1']\n",
    "Rack 2: []\n",
    "Track 3: []\n",
    "=============================\n",
    "Action: [3, 2, 1]\n",
    "Period: 38\n",
    "Track 1: ['m1']\n",
    "Rack 2: []\n",
    "Track 3: []\n",
    "=============================\n",
    "Action: [3, 2, 1]\n",
    "Period: 39\n",
    "Track 1: ['m1']\n",
    "Rack 2: []\n",
    "Track 3: []\n",
    "=============================\n",
    "Action: [3, 2, 1]\n",
    "Period: 40\n",
    "Track 1: ['m1']\n",
    "Rack 2: []\n",
    "Track 3: []\n",
    "=============================\n",
    "Action: [3, 2, 1]\n",
    "Period: 41\n",
    "Track 1: ['m1']\n",
    "Rack 2: []\n",
    "Track 3: []\n",
    "=============================\n",
    "Action: [3, 2, 1]\n",
    "Period: 42\n",
    "Track 1: ['m1']\n",
    "Rack 2: []\n",
    "Track 3: []\n",
    "=============================\n",
    "Action: [3, 2, 1]\n",
    "Period: 43\n",
    "Track 1: ['m1']\n",
    "Rack 2: []\n",
    "Track 3: []\n",
    "=============================\n",
    "Action: [3, 2, 1]\n",
    "Period: 44\n",
    "Track 1: ['m1']\n",
    "Rack 2: []\n",
    "Track 3: []\n",
    "=============================\n",
    "Action: [3, 2, 1]\n",
    "Period: 45\n",
    "Track 1: ['m1']\n",
    "Rack 2: []\n",
    "Track 3: []\n",
    "=============================\n",
    "Action: [3, 2, 1]\n",
    "Period: 46\n",
    "Track 1: ['m1']\n",
    "Rack 2: []\n",
    "Track 3: []\n",
    "=============================\n",
    "Action: [3, 2, 1]\n",
    "Period: 47\n",
    "Track 1: ['m1']\n",
    "Rack 2: []\n",
    "Track 3: []\n",
    "=============================\n",
    "Action: [3, 2, 1]\n",
    "Period: 48\n",
    "Track 1: ['m1']\n",
    "Rack 2: []\n",
    "Track 3: []\n",
    "=============================\n",
    "Action: [3, 2, 1]\n",
    "Period: 49\n",
    "Track 1: ['m1']\n",
    "Rack 2: []\n",
    "Track 3: []\n",
    "=============================\n",
    "Action: [3, 2, 1]\n",
    "Period: 50\n",
    "Track 1: ['m1']\n",
    "Rack 2: []\n",
    "Track 3: []\n",
    "=============================\n",
    "Action: [3, 2, 1]\n",
    "Period: 51\n",
    "Track 1: ['m1']\n",
    "Rack 2: []\n",
    "Track 3: []\n",
    "=============================\n",
    "Action: [3, 2, 1]\n",
    "Period: 52\n",
    "Track 1: ['m1']\n",
    "Rack 2: []\n",
    "Track 3: []\n",
    "=============================\n",
    "Action: [3, 2, 1]\n",
    "Period: 53\n",
    "Track 1: ['m1']\n",
    "Rack 2: []\n",
    "Track 3: []\n",
    "=============================\n",
    "Action: [3, 2, 1]\n",
    "Period: 54\n",
    "Track 1: ['m1']\n",
    "Rack 2: []\n",
    "Track 3: []\n",
    "=============================\n",
    "Action: [3, 2, 1]\n",
    "Period: 55\n",
    "Track 1: ['m1']\n",
    "Rack 2: []\n",
    "Track 3: []\n",
    "=============================\n",
    "Action: [3, 2, 1]\n",
    "Period: 56\n",
    "Track 1: ['m1']\n",
    "Rack 2: []\n",
    "Track 3: []\n",
    "=============================\n",
    "Action: [3, 2, 1]\n",
    "Period: 57\n",
    "Track 1: ['m1']\n",
    "Rack 2: []\n",
    "Track 3: []\n",
    "=============================\n",
    "Action: [3, 2, 1]\n",
    "Period: 58\n",
    "Track 1: ['m1']\n",
    "Rack 2: []\n",
    "Track 3: []\n",
    "=============================\n",
    "Action: [3, 2, 1]\n",
    "Period: 59\n",
    "Track 1: ['m1']\n",
    "Rack 2: []\n",
    "Track 3: []\n",
    "=============================\n",
    "Action: [3, 2, 1]\n",
    "Period: 60\n",
    "Track 1: ['m1']\n",
    "Rack 2: []\n",
    "Track 3: []\n",
    "=============================\n",
    "Action: [3, 2, 1]\n",
    "Period: 61\n",
    "Track 1: ['m1']\n",
    "Rack 2: []\n",
    "Track 3: []\n",
    "=============================\n",
    "Action: [3, 2, 1]\n",
    "Period: 62\n",
    "Track 1: ['m1']\n",
    "Rack 2: []\n",
    "Track 3: []\n",
    "=============================\n",
    "Action: [3, 2, 1]\n",
    "Period: 63\n",
    "Track 1: ['m1']\n",
    "Rack 2: []\n",
    "Track 3: []\n",
    "=============================\n",
    "Action: [3, 2, 1]\n",
    "Period: 64\n",
    "Track 1: ['m1']\n",
    "Rack 2: []\n",
    "Track 3: []\n",
    "=============================\n",
    "Action: [3, 2, 1]\n",
    "Period: 65\n",
    "Track 1: ['m1']\n",
    "Rack 2: []\n",
    "Track 3: []\n",
    "=============================\n",
    "Action: [3, 2, 1]\n",
    "Period: 66\n",
    "Track 1: ['m1']\n",
    "Rack 2: []\n",
    "Track 3: []\n",
    "=============================\n",
    "Action: [3, 2, 1]\n",
    "Period: 67\n",
    "Track 1: ['m1']\n",
    "Rack 2: []\n",
    "Track 3: []\n",
    "=============================\n",
    "Action: [3, 2, 1]\n",
    "Period: 68\n",
    "Track 1: ['m1']\n",
    "Rack 2: []\n",
    "Track 3: []\n",
    "=============================\n",
    "Action: [3, 2, 1]\n",
    "Period: 69\n",
    "Track 1: ['m1']\n",
    "Rack 2: []\n",
    "Track 3: []\n",
    "=============================\n",
    "Action: [3, 2, 1]\n",
    "Period: 70\n",
    "Track 1: ['m1']\n",
    "Rack 2: []\n",
    "Track 3: []\n",
    "=============================\n",
    "Action: [3, 2, 1]\n",
    "Period: 71\n",
    "Track 1: ['m1']\n",
    "Rack 2: []\n",
    "Track 3: []\n",
    "=============================\n",
    "Action: [3, 2, 1]\n",
    "Period: 72\n",
    "Track 1: ['m1']\n",
    "Rack 2: []\n",
    "Track 3: []\n",
    "=============================\n",
    "Action: [3, 2, 1]\n",
    "Period: 73\n",
    "Track 1: ['m1']\n",
    "Rack 2: []\n",
    "Track 3: []\n",
    "=============================\n",
    "Action: [3, 2, 1]\n",
    "Period: 74\n",
    "Track 1: ['m1']\n",
    "Rack 2: []\n",
    "Track 3: []\n",
    "=============================\n",
    "Action: [3, 2, 1]\n",
    "Period: 75\n",
    "Track 1: ['m1']\n",
    "Rack 2: []\n",
    "Track 3: []\n",
    "=============================\n",
    "Action: [3, 2, 1]\n",
    "Period: 76\n",
    "Track 1: ['m1']\n",
    "Rack 2: []\n",
    "Track 3: []\n",
    "=============================\n",
    "Action: [3, 2, 1]\n",
    "Period: 77\n",
    "Track 1: ['m1']\n",
    "Rack 2: []\n",
    "Track 3: []\n",
    "=============================\n",
    "Action: [3, 2, 1]\n",
    "Period: 78\n",
    "Track 1: ['m1']\n",
    "Rack 2: []\n",
    "Track 3: []\n",
    "=============================\n",
    "Action: [3, 2, 1]\n",
    "Period: 79\n",
    "Track 1: ['m1']\n",
    "Rack 2: []\n",
    "Track 3: []\n",
    "=============================\n",
    "Action: [3, 2, 1]\n",
    "Period: 80\n",
    "Track 1: ['m1']\n",
    "Rack 2: []\n",
    "Track 3: []\n",
    "=============================\n",
    "Action: [3, 2, 1]\n",
    "Period: 81\n",
    "Track 1: ['m1']\n",
    "Rack 2: []\n",
    "Track 3: []\n",
    "=============================\n",
    "Action: [3, 2, 1]\n",
    "Period: 82\n",
    "Track 1: ['m1']\n",
    "Rack 2: []\n",
    "Track 3: []\n",
    "=============================\n",
    "Action: [3, 2, 1]\n",
    "Period: 83\n",
    "Track 1: ['m1']\n",
    "Rack 2: []\n",
    "Track 3: []\n",
    "=============================\n",
    "Action: [3, 2, 1]\n",
    "Period: 84\n",
    "Track 1: ['m1']\n",
    "Rack 2: []\n",
    "Track 3: []\n",
    "=============================\n",
    "Action: [3, 2, 1]\n",
    "Period: 85\n",
    "Track 1: ['m1']\n",
    "Rack 2: []\n",
    "Track 3: []\n",
    "=============================\n",
    "Action: [3, 2, 1]\n",
    "Period: 86\n",
    "Track 1: ['m1']\n",
    "Rack 2: []\n",
    "Track 3: []\n",
    "=============================\n",
    "Action: [3, 2, 1]\n",
    "Period: 87\n",
    "Track 1: ['m1']\n",
    "Rack 2: []\n",
    "Track 3: []\n",
    "=============================\n",
    "Action: [3, 2, 1]\n",
    "Period: 88\n",
    "Track 1: ['m1']\n",
    "Rack 2: []\n",
    "Track 3: []\n",
    "=============================\n",
    "Action: [3, 2, 1]\n",
    "Period: 89\n",
    "Track 1: ['m1']\n",
    "Rack 2: []\n",
    "Track 3: []\n",
    "=============================\n",
    "Action: [3, 2, 1]\n",
    "Period: 90\n",
    "Track 1: ['m1']\n",
    "Rack 2: []\n",
    "Track 3: []\n",
    "=============================\n",
    "Action: [3, 2, 1]\n",
    "Period: 91\n",
    "Track 1: ['m1']\n",
    "Rack 2: []\n",
    "Track 3: []\n",
    "=============================\n",
    "Action: [3, 2, 1]\n",
    "Period: 92\n",
    "Track 1: ['m1']\n",
    "Rack 2: []\n",
    "Track 3: []\n",
    "=============================\n",
    "Action: [3, 2, 1]\n",
    "Period: 93\n",
    "Track 1: ['m1']\n",
    "Rack 2: []\n",
    "Track 3: []\n",
    "=============================\n",
    "Action: [3, 2, 1]\n",
    "Period: 94\n",
    "Track 1: ['m1']\n",
    "Rack 2: []\n",
    "Track 3: []\n",
    "=============================\n",
    "Action: [3, 2, 1]\n",
    "Period: 95\n",
    "Track 1: ['m1']\n",
    "Rack 2: []\n",
    "Track 3: []\n",
    "=============================\n",
    "Action: [3, 2, 1]\n",
    "Period: 96\n",
    "Track 1: ['m1']\n",
    "Rack 2: []\n",
    "Track 3: []\n",
    "=============================\n",
    "Action: [3, 2, 1]\n",
    "Period: 97\n",
    "Track 1: ['m1']\n",
    "Rack 2: []\n",
    "Track 3: []\n",
    "=============================\n",
    "Action: [3, 2, 1]\n",
    "Period: 98\n",
    "Track 1: ['m1']\n",
    "Rack 2: []\n",
    "Track 3: []\n",
    "=============================\n",
    "Action: [3, 2, 1]\n",
    "Period: 99\n",
    "Track 1: ['m1']\n",
    "Rack 2: []\n",
    "Track 3: []\n",
    "=============================\n",
    "Action: [3, 2, 1]\n",
    "Period: 100\n",
    "Track 1: ['m1']\n",
    "Rack 2: []\n",
    "Track 3: []\n",
    "Period: 0\n",
    "Track 1: ['m1']\n",
    "Rack 2: []\n",
    "Track 3: []\n",
    "=============================\n",
    "Action: [3, 2, 1]\n",
    "Period: 1\n",
    "Track 1: ['m1']\n",
    "Rack 2: []\n",
    "Track 3: []\n",
    "=============================\n",
    "Action: [3, 2, 1]\n",
    "Period: 2\n",
    "Track 1: ['m1']\n",
    "Rack 2: []\n",
    "Track 3: []\n",
    "=============================\n",
    "Action: [3, 2, 1]\n",
    "Period: 3\n",
    "Track 1: ['m1']\n",
    "Rack 2: []\n",
    "Track 3: []\n",
    "=============================\n",
    "Action: [3, 2, 1]\n",
    "Period: 4\n",
    "Track 1: ['m1']\n",
    "Rack 2: []\n",
    "Track 3: []\n",
    "=============================\n",
    "Action: [3, 2, 1]\n",
    "Period: 5\n",
    "Track 1: ['m1']\n",
    "Rack 2: []\n",
    "Track 3: []\n",
    "=============================\n",
    "Action: [3, 2, 1]\n",
    "Period: 6\n",
    "Track 1: ['m1']\n",
    "Rack 2: []\n",
    "Track 3: []\n",
    "=============================\n",
    "Action: [3, 2, 1]\n",
    "Period: 7\n",
    "Track 1: ['m1']\n",
    "Rack 2: []\n",
    "Track 3: []\n",
    "=============================\n",
    "Action: [3, 2, 1]\n",
    "Period: 8\n",
    "Track 1: ['m1']\n",
    "Rack 2: []\n",
    "Track 3: []\n",
    "=============================\n",
    "Action: [3, 2, 1]\n",
    "Period: 9\n",
    "Track 1: ['m1']\n",
    "Rack 2: []\n",
    "Track 3: []\n",
    "=============================\n",
    "Action: [3, 2, 1]\n",
    "Period: 10\n",
    "Track 1: ['m1']\n",
    "Rack 2: []\n",
    "Track 3: []\n",
    "=============================\n",
    "Action: [3, 2, 1]\n",
    "Period: 11\n",
    "Track 1: ['m1']\n",
    "Rack 2: []\n",
    "Track 3: []\n",
    "=============================\n",
    "Action: [3, 2, 1]\n",
    "Period: 12\n",
    "Track 1: ['m1']\n",
    "Rack 2: []\n",
    "Track 3: []\n",
    "=============================\n",
    "Action: [3, 2, 1]\n",
    "Period: 13\n",
    "Track 1: ['m1']\n",
    "Rack 2: []\n",
    "Track 3: []\n",
    "=============================\n",
    "Action: [3, 2, 1]\n",
    "Period: 14\n",
    "Track 1: ['m1']\n",
    "Rack 2: []\n",
    "Track 3: []\n",
    "=============================\n",
    "Action: [3, 2, 1]\n",
    "Period: 15\n",
    "Track 1: ['m1']\n",
    "Rack 2: []\n",
    "Track 3: []\n",
    "=============================\n",
    "Action: [3, 2, 1]\n",
    "Period: 16\n",
    "Track 1: ['m1']\n",
    "Rack 2: []\n",
    "Track 3: []\n",
    "=============================\n",
    "Action: [3, 2, 1]\n",
    "Period: 17\n",
    "Track 1: ['m1']\n",
    "Rack 2: []\n",
    "Track 3: []\n",
    "=============================\n",
    "Action: [3, 2, 1]\n",
    "Period: 18\n",
    "Track 1: ['m1']\n",
    "Rack 2: []\n",
    "Track 3: []\n",
    "=============================\n",
    "Action: [3, 2, 1]\n",
    "Period: 19\n",
    "Track 1: ['m1']\n",
    "Rack 2: []\n",
    "Track 3: []\n",
    "=============================\n",
    "Action: [3, 2, 1]\n",
    "Period: 20\n",
    "Track 1: ['m1']\n",
    "Rack 2: []\n",
    "Track 3: []\n",
    "=============================\n",
    "Action: [3, 2, 1]\n",
    "Period: 21\n",
    "Track 1: ['m1']\n",
    "Rack 2: []\n",
    "Track 3: []\n",
    "=============================\n",
    "Action: [3, 2, 1]\n",
    "Period: 22\n",
    "Track 1: ['m1']\n",
    "Rack 2: []\n",
    "Track 3: []\n",
    "=============================\n",
    "Action: [3, 2, 1]\n",
    "Period: 23\n",
    "Track 1: ['m1']\n",
    "Rack 2: []\n",
    "Track 3: []\n",
    "=============================\n",
    "Action: [3, 2, 1]\n",
    "Period: 24\n",
    "Track 1: ['m1']\n",
    "Rack 2: []\n",
    "Track 3: []\n",
    "=============================\n",
    "Action: [3, 2, 1]\n",
    "Period: 25\n",
    "Track 1: ['m1']\n",
    "Rack 2: []\n",
    "Track 3: []\n",
    "=============================\n",
    "Action: [3, 2, 1]\n",
    "Period: 26\n",
    "Track 1: ['m1']\n",
    "Rack 2: []\n",
    "Track 3: []\n",
    "=============================\n",
    "Action: [3, 2, 1]\n",
    "Period: 27\n",
    "Track 1: ['m1']\n",
    "Rack 2: []\n",
    "Track 3: []\n",
    "=============================\n",
    "Action: [3, 2, 1]\n",
    "Period: 28\n",
    "Track 1: ['m1']\n",
    "Rack 2: []\n",
    "Track 3: []\n",
    "=============================\n",
    "Action: [3, 2, 1]\n",
    "Period: 29\n",
    "Track 1: ['m1']\n",
    "Rack 2: []\n",
    "Track 3: []\n",
    "=============================\n",
    "Action: [3, 2, 1]\n",
    "Period: 30\n",
    "Track 1: ['m1']\n",
    "Rack 2: []\n",
    "Track 3: []\n",
    "=============================\n",
    "Action: [3, 2, 1]\n",
    "Period: 31\n",
    "Track 1: ['m1']\n",
    "Rack 2: []\n",
    "Track 3: []\n",
    "=============================\n",
    "Action: [3, 2, 1]\n",
    "Period: 32\n",
    "Track 1: ['m1']\n",
    "Rack 2: []\n",
    "Track 3: []\n",
    "=============================\n",
    "Action: [3, 2, 1]\n",
    "Period: 33\n",
    "Track 1: ['m1']\n",
    "Rack 2: []\n",
    "Track 3: []\n",
    "=============================\n",
    "Action: [3, 2, 1]\n",
    "Period: 34\n",
    "Track 1: ['m1']\n",
    "Rack 2: []\n",
    "Track 3: []\n",
    "=============================\n",
    "Action: [3, 2, 1]\n",
    "Period: 35\n",
    "Track 1: ['m1']\n",
    "Rack 2: []\n",
    "Track 3: []\n",
    "=============================\n",
    "Action: [3, 2, 1]\n",
    "Period: 36\n",
    "Track 1: ['m1']\n",
    "Rack 2: []\n",
    "Track 3: []\n",
    "=============================\n",
    "Action: [3, 2, 1]\n",
    "Period: 37\n",
    "Track 1: ['m1']\n",
    "Rack 2: []\n",
    "Track 3: []\n",
    "=============================\n",
    "Action: [3, 2, 1]\n",
    "Period: 38\n",
    "Track 1: ['m1']\n",
    "Rack 2: []\n",
    "Track 3: []\n",
    "=============================\n",
    "Action: [3, 2, 1]\n",
    "Period: 39\n",
    "Track 1: ['m1']\n",
    "Rack 2: []\n",
    "Track 3: []\n",
    "=============================\n",
    "Action: [3, 2, 1]\n",
    "Period: 40\n",
    "Track 1: ['m1']\n",
    "Rack 2: []\n",
    "Track 3: []\n",
    "=============================\n",
    "Action: [3, 2, 1]\n",
    "Period: 41\n",
    "Track 1: ['m1']\n",
    "Rack 2: []\n",
    "Track 3: []\n",
    "=============================\n",
    "Action: [3, 2, 1]\n",
    "Period: 42\n",
    "Track 1: ['m1']\n",
    "Rack 2: []\n",
    "Track 3: []\n",
    "=============================\n",
    "Action: [3, 2, 1]\n",
    "Period: 43\n",
    "Track 1: ['m1']\n",
    "Rack 2: []\n",
    "Track 3: []\n",
    "=============================\n",
    "Action: [3, 2, 1]\n",
    "Period: 44\n",
    "Track 1: ['m1']\n",
    "Rack 2: []\n",
    "Track 3: []\n",
    "=============================\n",
    "Action: [3, 2, 1]\n",
    "Period: 45\n",
    "Track 1: ['m1']\n",
    "Rack 2: []\n",
    "Track 3: []\n",
    "=============================\n",
    "Action: [3, 2, 1]\n",
    "Period: 46\n",
    "Track 1: ['m1']\n",
    "Rack 2: []\n",
    "Track 3: []\n",
    "=============================\n",
    "Action: [3, 2, 1]\n",
    "Period: 47\n",
    "Track 1: ['m1']\n",
    "Rack 2: []\n",
    "Track 3: []\n",
    "=============================\n",
    "Action: [3, 2, 1]\n",
    "Period: 48\n",
    "Track 1: ['m1']\n",
    "Rack 2: []\n",
    "Track 3: []\n",
    "=============================\n",
    "Action: [3, 2, 1]\n",
    "Period: 49\n",
    "Track 1: ['m1']\n",
    "Rack 2: []\n",
    "Track 3: []\n",
    "=============================\n",
    "Action: [3, 2, 1]\n",
    "Period: 50\n",
    "Track 1: ['m1']\n",
    "Rack 2: []\n",
    "Track 3: []\n",
    "=============================\n",
    "Action: [3, 2, 1]\n",
    "Period: 51\n",
    "Track 1: ['m1']\n",
    "Rack 2: []\n",
    "Track 3: []\n",
    "=============================\n",
    "Action: [3, 2, 1]\n",
    "Period: 52\n",
    "Track 1: ['m1']\n",
    "Rack 2: []\n",
    "Track 3: []\n",
    "=============================\n",
    "Action: [3, 2, 1]\n",
    "Period: 53\n",
    "Track 1: ['m1']\n",
    "Rack 2: []\n",
    "Track 3: []\n",
    "=============================\n",
    "Action: [3, 2, 1]\n",
    "Period: 54\n",
    "Track 1: ['m1']\n",
    "Rack 2: []\n",
    "Track 3: []\n",
    "=============================\n",
    "Action: [3, 2, 1]\n",
    "Period: 55\n",
    "Track 1: ['m1']\n",
    "Rack 2: []\n",
    "Track 3: []\n",
    "=============================\n",
    "Action: [3, 2, 1]\n",
    "Period: 56\n",
    "Track 1: ['m1']\n",
    "Rack 2: []\n",
    "Track 3: []\n",
    "=============================\n",
    "Action: [3, 2, 1]\n",
    "Period: 57\n",
    "Track 1: ['m1']\n",
    "Rack 2: []\n",
    "Track 3: []\n",
    "=============================\n",
    "Action: [3, 2, 1]\n",
    "Period: 58\n",
    "Track 1: ['m1']\n",
    "Rack 2: []\n",
    "Track 3: []\n",
    "=============================\n",
    "Action: [3, 2, 1]\n",
    "Period: 59\n",
    "Track 1: ['m1']\n",
    "Rack 2: []\n",
    "Track 3: []\n",
    "=============================\n",
    "Action: [3, 2, 1]\n",
    "Period: 60\n",
    "Track 1: ['m1']\n",
    "Rack 2: []\n",
    "Track 3: []\n",
    "=============================\n",
    "Action: [3, 2, 1]\n",
    "Period: 61\n",
    "Track 1: ['m1']\n",
    "Rack 2: []\n",
    "Track 3: []\n",
    "=============================\n",
    "Action: [3, 2, 1]\n",
    "Period: 62\n",
    "Track 1: ['m1']\n",
    "Rack 2: []\n",
    "Track 3: []\n",
    "=============================\n",
    "Action: [3, 2, 1]\n",
    "Period: 63\n",
    "Track 1: ['m1']\n",
    "Rack 2: []\n",
    "Track 3: []\n",
    "=============================\n",
    "Action: [3, 2, 1]\n",
    "Period: 64\n",
    "Track 1: ['m1']\n",
    "Rack 2: []\n",
    "Track 3: []\n",
    "=============================\n",
    "Action: [3, 2, 1]\n",
    "Period: 65\n",
    "Track 1: ['m1']\n",
    "Rack 2: []\n",
    "Track 3: []\n",
    "=============================\n",
    "Action: [3, 2, 1]\n",
    "Period: 66\n",
    "Track 1: ['m1']\n",
    "Rack 2: []\n",
    "Track 3: []\n",
    "=============================\n",
    "Action: [3, 2, 1]\n",
    "Period: 67\n",
    "Track 1: ['m1']\n",
    "Rack 2: []\n",
    "Track 3: []\n",
    "=============================\n",
    "Action: [3, 2, 1]\n",
    "Period: 68\n",
    "Track 1: ['m1']\n",
    "Rack 2: []\n",
    "Track 3: []\n",
    "=============================\n",
    "Action: [3, 2, 1]\n",
    "Period: 69\n",
    "Track 1: ['m1']\n",
    "Rack 2: []\n",
    "Track 3: []\n",
    "=============================\n",
    "Action: [3, 2, 1]\n",
    "Period: 70\n",
    "Track 1: ['m1']\n",
    "Rack 2: []\n",
    "Track 3: []\n",
    "=============================\n",
    "Action: [3, 2, 1]\n",
    "Period: 71\n",
    "Track 1: ['m1']\n",
    "Rack 2: []\n",
    "Track 3: []\n",
    "=============================\n",
    "Action: [3, 2, 1]\n",
    "Period: 72\n",
    "Track 1: ['m1']\n",
    "Rack 2: []\n",
    "Track 3: []\n",
    "=============================\n",
    "Action: [3, 2, 1]\n",
    "Period: 73\n",
    "Track 1: ['m1']\n",
    "Rack 2: []\n",
    "Track 3: []\n",
    "=============================\n",
    "Action: [3, 2, 1]\n",
    "Period: 74\n",
    "Track 1: ['m1']\n",
    "Rack 2: []\n",
    "Track 3: []\n",
    "=============================\n",
    "Action: [3, 2, 1]\n",
    "Period: 75\n",
    "Track 1: ['m1']\n",
    "Rack 2: []\n",
    "Track 3: []\n",
    "=============================\n",
    "Action: [3, 2, 1]\n",
    "Period: 76\n",
    "Track 1: ['m1']\n",
    "Rack 2: []\n",
    "Track 3: []\n",
    "=============================\n",
    "Action: [3, 2, 1]\n",
    "Period: 77\n",
    "Track 1: ['m1']\n",
    "Rack 2: []\n",
    "Track 3: []\n",
    "=============================\n",
    "Action: [3, 2, 1]\n",
    "Period: 78\n",
    "Track 1: ['m1']\n",
    "Rack 2: []\n",
    "Track 3: []\n",
    "=============================\n",
    "Action: [3, 2, 1]\n",
    "Period: 79\n",
    "Track 1: ['m1']\n",
    "Rack 2: []\n",
    "Track 3: []\n",
    "=============================\n",
    "Action: [3, 2, 1]\n",
    "Period: 80\n",
    "Track 1: ['m1']\n",
    "Rack 2: []\n",
    "Track 3: []\n",
    "=============================\n",
    "Action: [3, 2, 1]\n",
    "Period: 81\n",
    "Track 1: ['m1']\n",
    "Rack 2: []\n",
    "Track 3: []\n",
    "=============================\n",
    "Action: [3, 2, 1]\n",
    "Period: 82\n",
    "Track 1: ['m1']\n",
    "Rack 2: []\n",
    "Track 3: []\n",
    "=============================\n",
    "Action: [3, 2, 1]\n",
    "Period: 83\n",
    "Track 1: ['m1']\n",
    "Rack 2: []\n",
    "Track 3: []\n",
    "=============================\n",
    "Action: [3, 2, 1]\n",
    "Period: 84\n",
    "Track 1: ['m1']\n",
    "Rack 2: []\n",
    "Track 3: []\n",
    "=============================\n",
    "Action: [3, 2, 1]\n",
    "Period: 85\n",
    "Track 1: ['m1']\n",
    "Rack 2: []\n",
    "Track 3: []\n",
    "=============================\n",
    "Action: [3, 2, 1]\n",
    "Period: 86\n",
    "Track 1: ['m1']\n",
    "Rack 2: []\n",
    "Track 3: []\n",
    "=============================\n",
    "Action: [3, 2, 1]\n",
    "Period: 87\n",
    "Track 1: ['m1']\n",
    "Rack 2: []\n",
    "Track 3: []\n",
    "=============================\n",
    "Action: [3, 2, 1]\n",
    "Period: 88\n",
    "Track 1: ['m1']\n",
    "Rack 2: []\n",
    "Track 3: []\n",
    "=============================\n",
    "Action: [3, 2, 1]\n",
    "Period: 89\n",
    "Track 1: ['m1']\n",
    "Rack 2: []\n",
    "Track 3: []\n",
    "=============================\n",
    "Action: [3, 2, 1]\n",
    "Period: 90\n",
    "Track 1: ['m1']\n",
    "Rack 2: []\n",
    "Track 3: []\n",
    "=============================\n",
    "Action: [3, 2, 1]\n",
    "Period: 91\n",
    "Track 1: ['m1']\n",
    "Rack 2: []\n",
    "Track 3: []\n",
    "=============================\n",
    "Action: [3, 2, 1]\n",
    "Period: 92\n",
    "Track 1: ['m1']\n",
    "Rack 2: []\n",
    "Track 3: []\n",
    "=============================\n",
    "Action: [3, 2, 1]\n",
    "Period: 93\n",
    "Track 1: ['m1']\n",
    "Rack 2: []\n",
    "Track 3: []\n",
    "=============================\n",
    "Action: [3, 2, 1]\n",
    "Period: 94\n",
    "Track 1: ['m1']\n",
    "Rack 2: []\n",
    "Track 3: []\n",
    "=============================\n",
    "Action: [3, 2, 1]\n",
    "Period: 95\n",
    "Track 1: ['m1']\n",
    "Rack 2: []\n",
    "Track 3: []\n",
    "=============================\n",
    "Action: [3, 2, 1]\n",
    "Period: 96\n",
    "Track 1: ['m1']\n",
    "Rack 2: []\n",
    "Track 3: []\n",
    "=============================\n",
    "Action: [3, 2, 1]\n",
    "Period: 97\n",
    "Track 1: ['m1']\n",
    "Rack 2: []\n",
    "Track 3: []\n",
    "=============================\n",
    "Action: [3, 2, 1]\n",
    "Period: 98\n",
    "Track 1: ['m1']\n",
    "Rack 2: []\n",
    "Track 3: []\n",
    "=============================\n",
    "Action: [3, 2, 1]\n",
    "Period: 99\n",
    "Track 1: ['m1']\n",
    "Rack 2: []\n",
    "Track 3: []\n",
    "=============================\n",
    "Action: [3, 2, 1]\n",
    "Period: 100\n",
    "Track 1: ['m1']\n",
    "Rack 2: []\n",
    "Track 3: []\n",
    "Period: 0\n",
    "Track 1: ['m1']\n",
    "Rack 2: []\n",
    "Track 3: []\n",
    "=============================\n",
    "Action: [3, 2, 1]\n",
    "Period: 1\n",
    "Track 1: ['m1']\n",
    "Rack 2: []\n",
    "Track 3: []\n",
    "=============================\n",
    "Action: [3, 2, 1]\n",
    "Period: 2\n",
    "Track 1: ['m1']\n",
    "Rack 2: []\n",
    "Track 3: []\n",
    "=============================\n",
    "Action: [3, 2, 1]\n",
    "Period: 3\n",
    "Track 1: ['m1']\n",
    "Rack 2: []\n",
    "Track 3: []\n",
    "=============================\n",
    "Action: [3, 2, 1]\n",
    "Period: 4\n",
    "Track 1: ['m1']\n",
    "Rack 2: []\n",
    "Track 3: []\n",
    "=============================\n",
    "Action: [3, 2, 1]\n",
    "Period: 5\n",
    "Track 1: ['m1']\n",
    "Rack 2: []\n",
    "Track 3: []\n",
    "=============================\n",
    "Action: [3, 2, 1]\n",
    "Period: 6\n",
    "Track 1: ['m1']\n",
    "Rack 2: []\n",
    "Track 3: []\n",
    "=============================\n",
    "Action: [3, 2, 1]\n",
    "Period: 7\n",
    "Track 1: ['m1']\n",
    "Rack 2: []\n",
    "Track 3: []\n",
    "=============================\n",
    "Action: [3, 2, 1]\n",
    "Period: 8\n",
    "Track 1: ['m1']\n",
    "Rack 2: []\n",
    "Track 3: []\n",
    "=============================\n",
    "Action: [3, 2, 1]\n",
    "Period: 9\n",
    "Track 1: ['m1']\n",
    "Rack 2: []\n",
    "Track 3: []\n",
    "=============================\n",
    "Action: [3, 2, 1]\n",
    "Period: 10\n",
    "Track 1: ['m1']\n",
    "Rack 2: []\n",
    "Track 3: []\n",
    "=============================\n",
    "Action: [3, 2, 1]\n",
    "Period: 11\n",
    "Track 1: ['m1']\n",
    "Rack 2: []\n",
    "Track 3: []\n",
    "=============================\n",
    "Action: [3, 2, 1]\n",
    "Period: 12\n",
    "Track 1: ['m1']\n",
    "Rack 2: []\n",
    "Track 3: []\n",
    "=============================\n",
    "Action: [3, 2, 1]\n",
    "Period: 13\n",
    "Track 1: ['m1']\n",
    "Rack 2: []\n",
    "Track 3: []\n",
    "=============================\n",
    "Action: [3, 2, 1]\n",
    "Period: 14\n",
    "Track 1: ['m1']\n",
    "Rack 2: []\n",
    "Track 3: []\n",
    "=============================\n",
    "Action: [3, 2, 1]\n",
    "Period: 15\n",
    "Track 1: ['m1']\n",
    "Rack 2: []\n",
    "Track 3: []\n",
    "=============================\n",
    "Action: [3, 2, 1]\n",
    "Period: 16\n",
    "Track 1: ['m1']\n",
    "Rack 2: []\n",
    "Track 3: []\n",
    "=============================\n",
    "Action: [3, 2, 1]\n",
    "Period: 17\n",
    "Track 1: ['m1']\n",
    "Rack 2: []\n",
    "Track 3: []\n",
    "=============================\n",
    "Action: [3, 2, 1]\n",
    "Period: 18\n",
    "Track 1: ['m1']\n",
    "Rack 2: []\n",
    "Track 3: []\n",
    "=============================\n",
    "Action: [3, 2, 1]\n",
    "Period: 19\n",
    "Track 1: ['m1']\n",
    "Rack 2: []\n",
    "Track 3: []\n",
    "=============================\n",
    "Action: [3, 2, 1]\n",
    "Period: 20\n",
    "Track 1: ['m1']\n",
    "Rack 2: []\n",
    "Track 3: []\n",
    "=============================\n",
    "Action: [3, 2, 1]\n",
    "Period: 21\n",
    "Track 1: ['m1']\n",
    "Rack 2: []\n",
    "Track 3: []\n",
    "=============================\n",
    "Action: [3, 2, 1]\n",
    "Period: 22\n",
    "Track 1: ['m1']\n",
    "Rack 2: []\n",
    "Track 3: []\n",
    "=============================\n",
    "Action: [3, 2, 1]\n",
    "Period: 23\n",
    "Track 1: ['m1']\n",
    "Rack 2: []\n",
    "Track 3: []\n",
    "=============================\n",
    "Action: [3, 2, 1]\n",
    "Period: 24\n",
    "Track 1: ['m1']\n",
    "Rack 2: []\n",
    "Track 3: []\n",
    "=============================\n",
    "Action: [3, 2, 1]\n",
    "Period: 25\n",
    "Track 1: ['m1']\n",
    "Rack 2: []\n",
    "Track 3: []\n",
    "=============================\n",
    "Action: [3, 2, 1]\n",
    "Period: 26\n",
    "Track 1: ['m1']\n",
    "Rack 2: []\n",
    "Track 3: []\n",
    "=============================\n",
    "Action: [3, 2, 1]\n",
    "Period: 27\n",
    "Track 1: ['m1']\n",
    "Rack 2: []\n",
    "Track 3: []\n",
    "=============================\n",
    "Action: [3, 2, 1]\n",
    "Period: 28\n",
    "Track 1: ['m1']\n",
    "Rack 2: []\n",
    "Track 3: []\n",
    "=============================\n",
    "Action: [3, 2, 1]\n",
    "Period: 29\n",
    "Track 1: ['m1']\n",
    "Rack 2: []\n",
    "Track 3: []\n",
    "=============================\n",
    "Action: [3, 2, 1]\n",
    "Period: 30\n",
    "Track 1: ['m1']\n",
    "Rack 2: []\n",
    "Track 3: []\n",
    "=============================\n",
    "Action: [3, 2, 1]\n",
    "Period: 31\n",
    "Track 1: ['m1']\n",
    "Rack 2: []\n",
    "Track 3: []\n",
    "=============================\n",
    "Action: [3, 2, 1]\n",
    "Period: 32\n",
    "Track 1: ['m1']\n",
    "Rack 2: []\n",
    "Track 3: []\n",
    "=============================\n",
    "Action: [3, 2, 1]\n",
    "Period: 33\n",
    "Track 1: ['m1']\n",
    "Rack 2: []\n",
    "Track 3: []\n",
    "=============================\n",
    "Action: [3, 2, 1]\n",
    "Period: 34\n",
    "Track 1: ['m1']\n",
    "Rack 2: []\n",
    "Track 3: []\n",
    "=============================\n",
    "Action: [3, 2, 1]\n",
    "Period: 35\n",
    "Track 1: ['m1']\n",
    "Rack 2: []\n",
    "Track 3: []\n",
    "=============================\n",
    "Action: [3, 2, 1]\n",
    "Period: 36\n",
    "Track 1: ['m1']\n",
    "Rack 2: []\n",
    "Track 3: []\n",
    "=============================\n",
    "Action: [3, 2, 1]\n",
    "Period: 37\n",
    "Track 1: ['m1']\n",
    "Rack 2: []\n",
    "Track 3: []\n",
    "=============================\n",
    "Action: [3, 2, 1]\n",
    "Period: 38\n",
    "Track 1: ['m1']\n",
    "Rack 2: []\n",
    "Track 3: []\n",
    "=============================\n",
    "Action: [3, 2, 1]\n",
    "Period: 39\n",
    "Track 1: ['m1']\n",
    "Rack 2: []\n",
    "Track 3: []\n",
    "=============================\n",
    "Action: [3, 2, 1]\n",
    "Period: 40\n",
    "Track 1: ['m1']\n",
    "Rack 2: []\n",
    "Track 3: []\n",
    "=============================\n",
    "Action: [3, 2, 1]\n",
    "Period: 41\n",
    "Track 1: ['m1']\n",
    "Rack 2: []\n",
    "Track 3: []\n",
    "=============================\n",
    "Action: [3, 2, 1]\n",
    "Period: 42\n",
    "Track 1: ['m1']\n",
    "Rack 2: []\n",
    "Track 3: []\n",
    "=============================\n",
    "Action: [3, 2, 1]\n",
    "Period: 43\n",
    "Track 1: ['m1']\n",
    "Rack 2: []\n",
    "Track 3: []\n",
    "=============================\n",
    "Action: [3, 2, 1]\n",
    "Period: 44\n",
    "Track 1: ['m1']\n",
    "Rack 2: []\n",
    "Track 3: []\n",
    "=============================\n",
    "Action: [3, 2, 1]\n",
    "Period: 45\n",
    "Track 1: ['m1']\n",
    "Rack 2: []\n",
    "Track 3: []\n",
    "=============================\n",
    "Action: [3, 2, 1]\n",
    "Period: 46\n",
    "Track 1: ['m1']\n",
    "Rack 2: []\n",
    "Track 3: []\n",
    "=============================\n",
    "Action: [3, 2, 1]\n",
    "Period: 47\n",
    "Track 1: ['m1']\n",
    "Rack 2: []\n",
    "Track 3: []\n",
    "=============================\n",
    "Action: [3, 2, 1]\n",
    "Period: 48\n",
    "Track 1: ['m1']\n",
    "Rack 2: []\n",
    "Track 3: []\n",
    "=============================\n",
    "Action: [3, 2, 1]\n",
    "Period: 49\n",
    "Track 1: ['m1']\n",
    "Rack 2: []\n",
    "Track 3: []\n",
    "=============================\n",
    "Action: [3, 2, 1]\n",
    "Period: 50\n",
    "Track 1: ['m1']\n",
    "Rack 2: []\n",
    "Track 3: []\n",
    "=============================\n",
    "Action: [3, 2, 1]\n",
    "Period: 51\n",
    "Track 1: ['m1']\n",
    "Rack 2: []\n",
    "Track 3: []\n",
    "=============================\n",
    "Action: [3, 2, 1]\n",
    "Period: 52\n",
    "Track 1: ['m1']\n",
    "Rack 2: []\n",
    "Track 3: []\n",
    "=============================\n",
    "Action: [3, 2, 1]\n",
    "Period: 53\n",
    "Track 1: ['m1']\n",
    "Rack 2: []\n",
    "Track 3: []\n",
    "=============================\n",
    "Action: [3, 2, 1]\n",
    "Period: 54\n",
    "Track 1: ['m1']\n",
    "Rack 2: []\n",
    "Track 3: []\n",
    "=============================\n",
    "Action: [3, 2, 1]\n",
    "Period: 55\n",
    "Track 1: ['m1']\n",
    "Rack 2: []\n",
    "Track 3: []\n",
    "=============================\n",
    "Action: [3, 2, 1]\n",
    "Period: 56\n",
    "Track 1: ['m1']\n",
    "Rack 2: []\n",
    "Track 3: []\n",
    "=============================\n",
    "Action: [3, 2, 1]\n",
    "Period: 57\n",
    "Track 1: ['m1']\n",
    "Rack 2: []\n",
    "Track 3: []\n",
    "=============================\n",
    "Action: [3, 2, 1]\n",
    "Period: 58\n",
    "Track 1: ['m1']\n",
    "Rack 2: []\n",
    "Track 3: []\n",
    "=============================\n",
    "Action: [3, 2, 1]\n",
    "Period: 59\n",
    "Track 1: ['m1']\n",
    "Rack 2: []\n",
    "Track 3: []\n",
    "=============================\n",
    "Action: [3, 2, 1]\n",
    "Period: 60\n",
    "Track 1: ['m1']\n",
    "Rack 2: []\n",
    "Track 3: []\n",
    "=============================\n",
    "Action: [3, 2, 1]\n",
    "Period: 61\n",
    "Track 1: ['m1']\n",
    "Rack 2: []\n",
    "Track 3: []\n",
    "=============================\n",
    "Action: [3, 2, 1]\n",
    "Period: 62\n",
    "Track 1: ['m1']\n",
    "Rack 2: []\n",
    "Track 3: []\n",
    "=============================\n",
    "Action: [3, 2, 1]\n",
    "Period: 63\n",
    "Track 1: ['m1']\n",
    "Rack 2: []\n",
    "Track 3: []\n",
    "=============================\n",
    "Action: [3, 2, 1]\n",
    "Period: 64\n",
    "Track 1: ['m1']\n",
    "Rack 2: []\n",
    "Track 3: []\n",
    "=============================\n",
    "Action: [3, 2, 1]\n",
    "Period: 65\n",
    "Track 1: ['m1']\n",
    "Rack 2: []\n",
    "Track 3: []\n",
    "=============================\n",
    "Action: [3, 2, 1]\n",
    "Period: 66\n",
    "Track 1: ['m1']\n",
    "Rack 2: []\n",
    "Track 3: []\n",
    "=============================\n",
    "Action: [3, 2, 1]\n",
    "Period: 67\n",
    "Track 1: ['m1']\n",
    "Rack 2: []\n",
    "Track 3: []\n",
    "=============================\n",
    "Action: [3, 2, 1]\n",
    "Period: 68\n",
    "Track 1: ['m1']\n",
    "Rack 2: []\n",
    "Track 3: []\n",
    "=============================\n",
    "Action: [3, 2, 1]\n",
    "Period: 69\n",
    "Track 1: ['m1']\n",
    "Rack 2: []\n",
    "Track 3: []\n",
    "=============================\n",
    "Action: [3, 2, 1]\n",
    "Period: 70\n",
    "Track 1: ['m1']\n",
    "Rack 2: []\n",
    "Track 3: []\n",
    "=============================\n",
    "Action: [3, 2, 1]\n",
    "Period: 71\n",
    "Track 1: ['m1']\n",
    "Rack 2: []\n",
    "Track 3: []\n",
    "=============================\n",
    "Action: [3, 2, 1]\n",
    "Period: 72\n",
    "Track 1: ['m1']\n",
    "Rack 2: []\n",
    "Track 3: []\n",
    "=============================\n",
    "Action: [3, 2, 1]\n",
    "Period: 73\n",
    "Track 1: ['m1']\n",
    "Rack 2: []\n",
    "Track 3: []\n",
    "=============================\n",
    "Action: [3, 2, 1]\n",
    "Period: 74\n",
    "Track 1: ['m1']\n",
    "Rack 2: []\n",
    "Track 3: []\n",
    "=============================\n",
    "Action: [3, 2, 1]\n",
    "Period: 75\n",
    "Track 1: ['m1']\n",
    "Rack 2: []\n",
    "Track 3: []\n",
    "=============================\n",
    "Action: [3, 2, 1]\n",
    "Period: 76\n",
    "Track 1: ['m1']\n",
    "Rack 2: []\n",
    "Track 3: []\n",
    "=============================\n",
    "Action: [3, 2, 1]\n",
    "Period: 77\n",
    "Track 1: ['m1']\n",
    "Rack 2: []\n",
    "Track 3: []\n",
    "=============================\n",
    "Action: [3, 2, 1]\n",
    "Period: 78\n",
    "Track 1: ['m1']\n",
    "Rack 2: []\n",
    "Track 3: []\n",
    "=============================\n",
    "Action: [3, 2, 1]\n",
    "Period: 79\n",
    "Track 1: ['m1']\n",
    "Rack 2: []\n",
    "Track 3: []\n",
    "=============================\n",
    "Action: [3, 2, 1]\n",
    "Period: 80\n",
    "Track 1: ['m1']\n",
    "Rack 2: []\n",
    "Track 3: []\n",
    "=============================\n",
    "Action: [3, 2, 1]\n",
    "Period: 81\n",
    "Track 1: ['m1']\n",
    "Rack 2: []\n",
    "Track 3: []\n",
    "=============================\n",
    "Action: [3, 2, 1]\n",
    "Period: 82\n",
    "Track 1: ['m1']\n",
    "Rack 2: []\n",
    "Track 3: []\n",
    "=============================\n",
    "Action: [3, 2, 1]\n",
    "Period: 83\n",
    "Track 1: ['m1']\n",
    "Rack 2: []\n",
    "Track 3: []\n",
    "=============================\n",
    "Action: [3, 2, 1]\n",
    "Period: 84\n",
    "Track 1: ['m1']\n",
    "Rack 2: []\n",
    "Track 3: []\n",
    "=============================\n",
    "Action: [3, 2, 1]\n",
    "Period: 85\n",
    "Track 1: ['m1']\n",
    "Rack 2: []\n",
    "Track 3: []\n",
    "=============================\n",
    "Action: [3, 2, 1]\n",
    "Period: 86\n",
    "Track 1: ['m1']\n",
    "Rack 2: []\n",
    "Track 3: []\n",
    "=============================\n",
    "Action: [3, 2, 1]\n",
    "Period: 87\n",
    "Track 1: ['m1']\n",
    "Rack 2: []\n",
    "Track 3: []\n",
    "=============================\n",
    "Action: [3, 2, 1]\n",
    "Period: 88\n",
    "Track 1: ['m1']\n",
    "Rack 2: []\n",
    "Track 3: []\n",
    "=============================\n",
    "Action: [3, 2, 1]\n",
    "Period: 89\n",
    "Track 1: ['m1']\n",
    "Rack 2: []\n",
    "Track 3: []\n",
    "=============================\n",
    "Action: [3, 2, 1]\n",
    "Period: 90\n",
    "Track 1: ['m1']\n",
    "Rack 2: []\n",
    "Track 3: []\n",
    "=============================\n",
    "Action: [3, 2, 1]\n",
    "Period: 91\n",
    "Track 1: ['m1']\n",
    "Rack 2: []\n",
    "Track 3: []\n",
    "=============================\n",
    "Action: [3, 2, 1]\n",
    "Period: 92\n",
    "Track 1: ['m1']\n",
    "Rack 2: []\n",
    "Track 3: []\n",
    "=============================\n",
    "Action: [3, 2, 1]\n",
    "Period: 93\n",
    "Track 1: ['m1']\n",
    "Rack 2: []\n",
    "Track 3: []\n",
    "=============================\n",
    "Action: [3, 2, 1]\n",
    "Period: 94\n",
    "Track 1: ['m1']\n",
    "Rack 2: []\n",
    "Track 3: []\n",
    "=============================\n",
    "Action: [3, 2, 1]\n",
    "Period: 95\n",
    "Track 1: ['m1']\n",
    "Rack 2: []\n",
    "Track 3: []\n",
    "=============================\n",
    "Action: [3, 2, 1]\n",
    "Period: 96\n",
    "Track 1: ['m1']\n",
    "Rack 2: []\n",
    "Track 3: []\n",
    "=============================\n",
    "Action: [3, 2, 1]\n",
    "Period: 97\n",
    "Track 1: ['m1']\n",
    "Rack 2: []\n",
    "Track 3: []\n",
    "=============================\n",
    "Action: [3, 2, 1]\n",
    "Period: 98\n",
    "Track 1: ['m1']\n",
    "Rack 2: []\n",
    "Track 3: []\n",
    "=============================\n",
    "Action: [3, 2, 1]\n",
    "Period: 99\n",
    "Track 1: ['m1']\n",
    "Rack 2: []\n",
    "Track 3: []\n",
    "=============================\n",
    "Action: [3, 2, 1]\n",
    "Period: 100\n",
    "Track 1: ['m1']\n",
    "Rack 2: []\n",
    "Track 3: []\n"
   ]
  },
  {
   "cell_type": "code",
   "execution_count": null,
   "metadata": {},
   "outputs": [],
   "source": []
  }
 ],
 "metadata": {
  "file_extension": ".py",
  "kernelspec": {
   "display_name": "Python 3.6.10 64-bit ('tf-agents': conda)",
   "language": "python",
   "name": "python361064bittfagentsconda3ec0262858e54c8c9e7f078b9dfd58a1"
  },
  "language_info": {
   "codemirror_mode": {
    "name": "ipython",
    "version": 3
   },
   "file_extension": ".py",
   "mimetype": "text/x-python",
   "name": "python",
   "nbconvert_exporter": "python",
   "pygments_lexer": "ipython3",
   "version": "3.6.10"
  },
  "mimetype": "text/x-python",
  "name": "python",
  "npconvert_exporter": "python",
  "pygments_lexer": "ipython3",
  "version": 3
 },
 "nbformat": 4,
 "nbformat_minor": 2
}
