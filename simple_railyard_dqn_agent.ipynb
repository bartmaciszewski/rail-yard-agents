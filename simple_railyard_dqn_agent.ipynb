{
 "cells": [
  {
   "cell_type": "markdown",
   "metadata": {},
   "source": [
    "#### Creating a custom Rail Yard gym environment"
   ]
  },
  {
   "cell_type": "markdown",
   "metadata": {},
   "source": [
    "We first create a custome rail yard environment or \"game\". We are using the Open AI Gym library which is intended to help test out different AI agents on various game like environments. We created this environment by subclassing the Gym evironment class and overiding key methods such as __init__(), step(), and reset()."
   ]
  },
  {
   "cell_type": "code",
   "execution_count": 1,
   "metadata": {
    "scrolled": true
   },
   "outputs": [],
   "source": [
    "import gym\n",
    "import RailYardGymEnv\n",
    "env_name = 'RailYardGymEnv-v0'\n",
    "rail_yard_env = gym.make(env_name)"
   ]
  },
  {
   "cell_type": "markdown",
   "metadata": {},
   "source": [
    "The environment is a text based game. The objective is to load the cars as per the schedule in as few steps as possible.  Each step you take you lose -10 points.  If you load all the required cars you get 1000 points.  Let's reset the environment and see the loading schedule:"
   ]
  },
  {
   "cell_type": "code",
   "execution_count": 2,
   "metadata": {},
   "outputs": [
    {
     "name": "stdout",
     "output_type": "stream",
     "text": [
      "Loading Schedule:\n",
      "Set: 1\n",
      "Car: m2 Product:M\n",
      "Car: d3 Product:D\n",
      "Set: 2\n",
      "Car: d4 Product:D\n",
      "\n",
      "\n"
     ]
    }
   ],
   "source": [
    "rail_yard_env.reset()\n",
    "print(\"Loading Schedule:\")\n",
    "print(str(rail_yard_env.ry.loading_schedule) + \"\\n\")"
   ]
  },
  {
   "cell_type": "markdown",
   "metadata": {},
   "source": [
    "As you can see the schedule is broken up into sets.  Each set lists the car number and product to load (e.g. Car: m2 Product:M).  \n",
    "\n",
    "Now let's create a main game loop for this environment and play the game!  Note that the environment expects an action at each step of the game that indicates how many cars to move from a source to destination track. The user can also \"wait\" or \"skip the turn\" by entering a blank for any of the fields. Finally, if there are insufficient cars, spots or the tracks do not connect the moves are considered invalid and result in a loss of -10 points.\n",
    "\n",
    "The environment returns an observation,m "
   ]
  },
  {
   "cell_type": "code",
   "execution_count": 3,
   "metadata": {},
   "outputs": [
    {
     "name": "stdout",
     "output_type": "stream",
     "text": [
      "Period: 0\n",
      "Track 1: []\n",
      "Track 2: ['m1', 'm2', 'd3', 'd4']\n",
      "Track 3: []\n",
      "Track 4: []\n",
      "Rack 5: []\n",
      "Rack 6: []\n",
      "Track 7: []\n",
      "\n",
      "From track: 2\n",
      "To track: 1\n",
      "Number of cars: 4\n",
      "Period: 1\n",
      "Track 1: ['d4', 'd3', 'm2', 'm1']\n",
      "Track 2: []\n",
      "Track 3: []\n",
      "Track 4: []\n",
      "Rack 5: []\n",
      "Rack 6: []\n",
      "Track 7: []\n",
      "\n",
      "From track: 1\n",
      "To track: 5\n",
      "Number of cars: 2\n",
      "Period: 2\n",
      "Track 1: ['d4', 'd3']\n",
      "Track 2: []\n",
      "Track 3: []\n",
      "Track 4: []\n",
      "Rack 5: ['m1', 'm2']\n",
      "Rack 6: []\n",
      "Track 7: []\n",
      "\n",
      "From track: 1\n",
      "To track: 6\n",
      "Number of cars: 2\n",
      "Period: 3\n",
      "Track 1: []\n",
      "Track 2: []\n",
      "Track 3: []\n",
      "Track 4: []\n",
      "Rack 5: ['m1', 'm2']\n",
      "Rack 6: ['d3', 'd4']\n",
      "Track 7: []\n",
      "\n",
      "From track: \n",
      "To track: \n",
      "Number of cars: \n",
      "Period: 4\n",
      "Track 1: []\n",
      "Track 2: []\n",
      "Track 3: []\n",
      "Track 4: []\n",
      "Rack 5: ['m1', 'm2']\n",
      "Rack 6: ['d3', 'd4']\n",
      "Track 7: []\n",
      "\n",
      "From track: \n",
      "To track: \n",
      "Number of cars: \n",
      "Period: 5\n",
      "Track 1: []\n",
      "Track 2: []\n",
      "Track 3: []\n",
      "Track 4: []\n",
      "Rack 5: ['M1', 'M2']\n",
      "Rack 6: ['d3', 'd4']\n",
      "Track 7: []\n",
      "\n",
      "From track: 5\n",
      "To track: 1\n",
      "Number of cars: 2\n",
      "Period: 6\n",
      "Track 1: ['M2', 'M1']\n",
      "Track 2: []\n",
      "Track 3: []\n",
      "Track 4: []\n",
      "Rack 5: []\n",
      "Rack 6: ['D3', 'D4']\n",
      "Track 7: []\n",
      "\n",
      "From track: 6\n",
      "To track: 1\n",
      "Number of cars: 2\n",
      "Period: 7\n",
      "Track 1: ['M2', 'M1', 'D4', 'D3']\n",
      "Track 2: []\n",
      "Track 3: []\n",
      "Track 4: []\n",
      "Rack 5: []\n",
      "Rack 6: []\n",
      "Track 7: []\n",
      "\n",
      "From track: 1\n",
      "To track: 7\n",
      "Number of cars: 4\n",
      "Period: 8\n",
      "Track 1: []\n",
      "Track 2: []\n",
      "Track 3: []\n",
      "Track 4: []\n",
      "Rack 5: []\n",
      "Rack 6: []\n",
      "Track 7: ['D3', 'D4', 'M1', 'M2']\n",
      "\n"
     ]
    }
   ],
   "source": [
    "def run_railyard_game(rail_yard_env):\n",
    "    print(rail_yard_env.render())\n",
    "    done = False\n",
    "    while not done:\n",
    "        #get input from user\n",
    "        from_track = input(\"From track: \")\n",
    "        to_track = input(\"To track: \")\n",
    "        num_cars = input(\"Number of cars: \")\n",
    "        if from_track == \"\" or to_track  == \"\" or num_cars == \"\" :\n",
    "            action = 0 #DO_NOTHING_ACTION\n",
    "        else:    \n",
    "            action = rail_yard_env.encode_action(int(from_track), int(to_track), int(num_cars))\n",
    "\n",
    "        observation, reward, done, info = rail_yard_env.step(action)\n",
    "        print(rail_yard_env.render())\n",
    "        \n",
    "run_railyard_game(rail_yard_env)"
   ]
  },
  {
   "cell_type": "code",
   "execution_count": 4,
   "metadata": {},
   "outputs": [
    {
     "data": {
      "text/plain": [
       "array([[2, 0, 0, 0, 0],\n",
       "       [2, 1, 0, 1, 0],\n",
       "       [2, 2, 0, 1, 1],\n",
       "       [2, 3, 0, 2, 1]])"
      ]
     },
     "execution_count": 4,
     "metadata": {},
     "output_type": "execute_result"
    }
   ],
   "source": [
    "rail_yard_env.reset()"
   ]
  },
  {
   "cell_type": "markdown",
   "metadata": {},
   "source": [
    "Each row in our observation corresponds to a rail car and is of the form: (track number, position on track, loaded or empty, set number and product if on loading schedule).  Thus the second row in the matrix  [2, 1, 0, 1, 0] means that rail car 2 is on track number 2, in spot 1, it is empty, it is scheduled for loading on set 1, and should be loaded with product 0 (M).\n",
    "\n",
    "Let's take an action in the environment and see how the observation changes:"
   ]
  },
  {
   "cell_type": "code",
   "execution_count": 5,
   "metadata": {},
   "outputs": [
    {
     "data": {
      "text/plain": [
       "(array([[2, 0, 0, 0, 0],\n",
       "        [2, 1, 0, 1, 0],\n",
       "        [1, 1, 0, 1, 1],\n",
       "        [1, 0, 0, 2, 1]]),\n",
       " -10,\n",
       " False,\n",
       " None)"
      ]
     },
     "execution_count": 5,
     "metadata": {},
     "output_type": "execute_result"
    }
   ],
   "source": [
    "rail_yard_env.step(rail_yard_env.encode_action(2,1,2))"
   ]
  },
  {
   "cell_type": "markdown",
   "metadata": {},
   "source": [
    "We \"popped\" 2 cars from track 2 and \"pushed\" them onto 1.  Note we used the encode_action() method in our custom gym environment which assigns a unique integer to every possible action in our discrete action space."
   ]
  },
  {
   "cell_type": "markdown",
   "metadata": {},
   "source": [
    "Let's start with the smallest problem of just 3 tracks, 1 car and 1 product to load."
   ]
  },
  {
   "cell_type": "code",
   "execution_count": 6,
   "metadata": {},
   "outputs": [
    {
     "name": "stdout",
     "output_type": "stream",
     "text": [
      "Loading Schedule:\n",
      "Set: 1\n",
      "Car: m1 Product:M\n",
      "\n",
      "\n",
      "Period: 0\n",
      "Track 1: ['m1']\n",
      "Rack 2: []\n",
      "Track 3: []\n",
      "\n",
      "From track: 1\n",
      "To track: 2\n",
      "Number of cars: 1\n",
      "Period: 1\n",
      "Track 1: []\n",
      "Rack 2: ['m1']\n",
      "Track 3: []\n",
      "\n",
      "From track: \n",
      "To track: \n",
      "Number of cars: \n",
      "Period: 2\n",
      "Track 1: []\n",
      "Rack 2: ['m1']\n",
      "Track 3: []\n",
      "\n",
      "From track: \n",
      "To track: \n",
      "Number of cars: \n",
      "Period: 3\n",
      "Track 1: []\n",
      "Rack 2: ['m1']\n",
      "Track 3: []\n",
      "\n",
      "From track: \n",
      "To track: \n",
      "Number of cars: \n",
      "Period: 4\n",
      "Track 1: []\n",
      "Rack 2: ['M1']\n",
      "Track 3: []\n",
      "\n",
      "From track: 2\n",
      "To track: 1\n",
      "Number of cars: 1\n",
      "Period: 5\n",
      "Track 1: ['M1']\n",
      "Rack 2: []\n",
      "Track 3: []\n",
      "\n",
      "From track: 1\n",
      "To track: 3\n",
      "Number of cars: 1\n",
      "Period: 6\n",
      "Track 1: []\n",
      "Rack 2: []\n",
      "Track 3: ['M1']\n",
      "\n"
     ]
    }
   ],
   "source": [
    "env_name = 'MinScenarioRailYardGymEnv-v0'\n",
    "rail_yard_env = gym.make(env_name)\n",
    "rail_yard_env.reset()\n",
    "print(\"Loading Schedule:\")\n",
    "print(str(rail_yard_env.ry.loading_schedule) + \"\\n\")\n",
    "run_railyard_game(rail_yard_env)"
   ]
  },
  {
   "cell_type": "markdown",
   "metadata": {},
   "source": [
    "#### Wrapping the environment for use by TF Agents"
   ]
  },
  {
   "cell_type": "markdown",
   "metadata": {},
   "source": [
    "Here we are going to start using the TensorFlow Agents library. We load and wrap our gym environment in a Tensorflow wrapper.  This allows us to exchange obserations, actions, and rewards between the agent and the environment as tensors and be callable from within a high performance graph code. Note we typically create one environment for training and one for evaluation."
   ]
  },
  {
   "cell_type": "code",
   "execution_count": 7,
   "metadata": {},
   "outputs": [],
   "source": [
    "from tf_agents.environments import suite_gym\n",
    "from tf_agents.environments import tf_py_environment\n",
    "\n",
    "train_py_env = suite_gym.load(env_name)\n",
    "eval_py_env = suite_gym.load(env_name)\n",
    "train_env = tf_py_environment.TFPyEnvironment(train_py_env)\n",
    "eval_env = tf_py_environment.TFPyEnvironment(eval_py_env)"
   ]
  },
  {
   "cell_type": "markdown",
   "metadata": {},
   "source": [
    "The reset method returns an observation in a TimeStep object."
   ]
  },
  {
   "cell_type": "code",
   "execution_count": 8,
   "metadata": {},
   "outputs": [
    {
     "data": {
      "text/plain": [
       "TimeStep(step_type=<tf.Tensor: shape=(1,), dtype=int32, numpy=array([0])>, reward=<tf.Tensor: shape=(1,), dtype=float32, numpy=array([0.], dtype=float32)>, discount=<tf.Tensor: shape=(1,), dtype=float32, numpy=array([1.], dtype=float32)>, observation=<tf.Tensor: shape=(1, 1, 5), dtype=int32, numpy=array([[[1, 0, 0, 1, 0]]])>)"
      ]
     },
     "execution_count": 8,
     "metadata": {},
     "output_type": "execute_result"
    }
   ],
   "source": [
    "train_env.reset()\n",
    "eval_env.reset()"
   ]
  },
  {
   "cell_type": "markdown",
   "metadata": {},
   "source": [
    "We can also see the specifications of our observation and action space.  These are used to configure the agent network input and out layers so that we can vary the environment implementation without impacting the agents."
   ]
  },
  {
   "cell_type": "code",
   "execution_count": 9,
   "metadata": {},
   "outputs": [
    {
     "data": {
      "text/plain": [
       "BoundedTensorSpec(shape=(1, 5), dtype=tf.int32, name='observation', minimum=array(0), maximum=array(4))"
      ]
     },
     "execution_count": 9,
     "metadata": {},
     "output_type": "execute_result"
    }
   ],
   "source": [
    "train_env.observation_spec()"
   ]
  },
  {
   "cell_type": "code",
   "execution_count": 10,
   "metadata": {},
   "outputs": [
    {
     "data": {
      "text/plain": [
       "BoundedTensorSpec(shape=(), dtype=tf.int64, name='action', minimum=array(0, dtype=int64), maximum=array(9, dtype=int64))"
      ]
     },
     "execution_count": 10,
     "metadata": {},
     "output_type": "execute_result"
    }
   ],
   "source": [
    "train_env.action_spec()"
   ]
  },
  {
   "cell_type": "markdown",
   "metadata": {},
   "source": [
    "#### Creating a DQN agent\n",
    "\n",
    "A TF-Agents training program is split into an environment exploration part (a driver that explores the environment using a collect policy and sends trajectories (observations, actions, rewards) to one or more observers who write to a replay buffer) and a learning part (an agent who pulls batches off the replay buffer and trains networks to be leveraged by the collect policy and the final agent policy).\n",
    "\n",
    "We first create a Q network with a fully connected layer of 32 neurons"
   ]
  },
  {
   "cell_type": "code",
   "execution_count": 11,
   "metadata": {},
   "outputs": [],
   "source": [
    "from tf_agents.networks import q_network\n",
    "fc_layer_params = [32]\n",
    "q_net = q_network.QNetwork(\n",
    "    train_env.observation_spec(),\n",
    "    train_env.action_spec(),\n",
    "    fc_layer_params=fc_layer_params)"
   ]
  },
  {
   "cell_type": "markdown",
   "metadata": {},
   "source": [
    "We then use the network to create a DQN agent which uses 2 Q networks (one for exploration and one for setting targets in loss calculations) and an epsilon greedy policy for exploration.  Note we also provide a gradient based optimizer for performnig updates to the network weights to minimize the loss, the loss function (Huber loss which is just the squared different of the target vs current estimate of the value state/action function), and the "
   ]
  },
  {
   "cell_type": "code",
   "execution_count": 12,
   "metadata": {},
   "outputs": [],
   "source": [
    "import tensorflow as tf\n",
    "from tensorflow import keras\n",
    "from tf_agents.agents.dqn.dqn_agent import DqnAgent\n",
    "\n",
    "num_iterations = 200000\n",
    "learning_rate = 2.5e-3 #how fast to update the Q value function\n",
    "initial_e = 0.5 #initial epsilon\n",
    "final_e = 0.01 #final epsilon\n",
    "target_update_period = 100 #how many training iterations to play between every update to the target Q value function\n",
    "\n",
    "train_step = tf.Variable(0,dtype=tf.int64) #keeps track of number of training iterations\n",
    "\n",
    "optimizer = tf.compat.v1.train.RMSPropOptimizer(learning_rate=learning_rate, decay=0.95, momentum=0.0,\n",
    "                                     epsilon=0.00001, centered=True)\n",
    "\n",
    "epsilon_fn = keras.optimizers.schedules.PolynomialDecay(\n",
    "    initial_learning_rate=initial_e, # initial ε\n",
    "    decay_steps=num_iterations,\n",
    "    end_learning_rate=final_e) # final ε\n",
    "\n",
    "agent = DqnAgent(train_env.time_step_spec(),\n",
    "                 train_env.action_spec(),\n",
    "                 q_network=q_net,\n",
    "                 optimizer=optimizer,\n",
    "                 #observation_and_action_constraint_splitter=observation_and_action_constraint_splitter,\n",
    "                 target_update_period=100,\n",
    "                 td_errors_loss_fn=keras.losses.Huber(reduction=\"none\"),\n",
    "                 gamma=0.99, # discount factor\n",
    "                 train_step_counter=train_step,\n",
    "                 epsilon_greedy=lambda: epsilon_fn(train_step))\n",
    "agent.initialize()"
   ]
  },
  {
   "cell_type": "markdown",
   "metadata": {},
   "source": [
    "Let's create a replay buffer to store the trajectories (experience) collected by the driver and passed to the observer."
   ]
  },
  {
   "cell_type": "code",
   "execution_count": 13,
   "metadata": {},
   "outputs": [],
   "source": [
    "from tf_agents.replay_buffers import tf_uniform_replay_buffer\n",
    "replay_buffer_max_length = 10000\n",
    "\n",
    "# A buffer to stores the experience from interacting with the environment\n",
    "replay_buffer = tf_uniform_replay_buffer.TFUniformReplayBuffer(\n",
    "    data_spec=agent.collect_data_spec,\n",
    "    batch_size=train_env.batch_size,\n",
    "    max_length=replay_buffer_max_length)"
   ]
  },
  {
   "cell_type": "markdown",
   "metadata": {},
   "source": [
    "Let's create the observer that writes the experience to the replay buffer"
   ]
  },
  {
   "cell_type": "code",
   "execution_count": 14,
   "metadata": {},
   "outputs": [],
   "source": [
    "#An observer to write the trajectories to the buffer\n",
    "replay_buffer_observer = replay_buffer.add_batch"
   ]
  },
  {
   "cell_type": "markdown",
   "metadata": {},
   "source": [
    "Let's create the metrics to be written to the screen and tensorboard"
   ]
  },
  {
   "cell_type": "code",
   "execution_count": 15,
   "metadata": {},
   "outputs": [],
   "source": [
    "from tf_agents.metrics import tf_metrics\n",
    "import logging\n",
    "#Training metrics\n",
    "train_metrics = [\n",
    "    tf_metrics.NumberOfEpisodes(),\n",
    "    tf_metrics.EnvironmentSteps(),\n",
    "    tf_metrics.AverageReturnMetric(),\n",
    "    tf_metrics.AverageEpisodeLengthMetric()\n",
    "]\n",
    "logging.getLogger().setLevel(logging.INFO)"
   ]
  },
  {
   "cell_type": "markdown",
   "metadata": {},
   "source": [
    "Now let's create the driver to explore the environment.  The driver will use the collect policy and pass the experience trajectories from num_steps to the replay_buffer_observer.add_batch and all the train_metrics functions."
   ]
  },
  {
   "cell_type": "code",
   "execution_count": 16,
   "metadata": {},
   "outputs": [],
   "source": [
    "from tf_agents.drivers.dynamic_step_driver import DynamicStepDriver\n",
    "collect_steps_per_iteration = 1 #how many steps to play in each training iteration\n",
    "#Create the driver\n",
    "collect_driver = DynamicStepDriver(\n",
    "    train_env,\n",
    "    agent.collect_policy,\n",
    "    observers=[replay_buffer_observer] + train_metrics,\n",
    "    num_steps=collect_steps_per_iteration) # collect # steps for each training iteration"
   ]
  },
  {
   "cell_type": "markdown",
   "metadata": {},
   "source": [
    "Finally create a data set from the buffer that the agent will use to pull records for training"
   ]
  },
  {
   "cell_type": "code",
   "execution_count": 17,
   "metadata": {},
   "outputs": [],
   "source": [
    "batch_size = 32\n",
    "# Dataset generates trajectories with shape [Bx2x...]\n",
    "dataset = replay_buffer.as_dataset(\n",
    "    num_parallel_calls=3, \n",
    "    sample_batch_size=batch_size, \n",
    "    num_steps=2).prefetch(3)"
   ]
  },
  {
   "cell_type": "markdown",
   "metadata": {},
   "source": [
    "Create the main training loop and convert it to a graph function for high performance execution"
   ]
  },
  {
   "cell_type": "code",
   "execution_count": 18,
   "metadata": {},
   "outputs": [],
   "source": [
    "import datetime\n",
    "from tf_agents.utils.common import function\n",
    "from tf_agents.eval.metric_utils import log_metrics\n",
    "\n",
    "def train_agent(n_iterations):\n",
    "    current_time = datetime.datetime.now().strftime(\"%Y%m%d-%H%M%S\")\n",
    "    train_log_dir = 'logs/dqn_agent/' + current_time + '/train'\n",
    "    writer = tf.summary.create_file_writer(train_log_dir)\n",
    "    time_step = None\n",
    "    policy_state = agent.collect_policy.get_initial_state(train_env.batch_size)\n",
    "    iterator = iter(dataset)\n",
    "    with writer.as_default():\n",
    "        for iteration in range(n_iterations):\n",
    "            time_step, policy_state = collect_driver.run(time_step, policy_state)\n",
    "            trajectories, buffer_info = next(iterator)\n",
    "            train_loss = agent.train(trajectories)\n",
    "            #log metrics\n",
    "            print(\"\\r{} loss:{:.5f}\".format(iteration, train_loss.loss.numpy()), end=\"\")\n",
    "            if iteration % 1000 == 0:\n",
    "                log_metrics(train_metrics)\n",
    "                tf.summary.scalar(\"number_of_episodes\", train_metrics[0].result(), iteration)\n",
    "                tf.summary.scalar(\"environment_steps\", train_metrics[1].result(), iteration)\n",
    "                tf.summary.scalar(\"average_return\", train_metrics[2].result(), iteration)\n",
    "                tf.summary.scalar(\"average_episode_length\", train_metrics[3].result(), iteration)\n",
    "                writer.flush()\n",
    "                \n",
    "collect_driver.run = function(collect_driver.run)\n",
    "agent.train = function(agent.train)"
   ]
  },
  {
   "cell_type": "markdown",
   "metadata": {},
   "source": [
    "We are now ready to start the training.  The first thing we will do is prefill the buffer with actions following the optimal policy (this is a very simple environment and we know it!). We also create a utility observer to track progress on the initial run."
   ]
  },
  {
   "cell_type": "code",
   "execution_count": 19,
   "metadata": {},
   "outputs": [
    {
     "name": "stdout",
     "output_type": "stream",
     "text": [
      "WARNING:tensorflow:From c:\\users\\bart\\dev\\agents\\tf_agents\\drivers\\dynamic_step_driver.py:201: calling while_loop_v2 (from tensorflow.python.ops.control_flow_ops) with back_prop=False is deprecated and will be removed in a future version.\n",
      "Instructions for updating:\n",
      "back_prop=False is deprecated. Consider using tf.stop_gradient instead.\n",
      "Instead of:\n",
      "results = tf.while_loop(c, b, vars, back_prop=False)\n",
      "Use:\n",
      "results = tf.nest.map_structure(tf.stop_gradient, tf.while_loop(c, b, vars))\n",
      "10000/10000"
     ]
    }
   ],
   "source": [
    "class ShowProgress:\n",
    "    def __init__(self, total):\n",
    "        self.counter = 0\n",
    "        self.total = total\n",
    "    def __call__(self, trajectory):\n",
    "        if not trajectory.is_boundary():\n",
    "            self.counter += 1\n",
    "        if self.counter % 100 == 0:\n",
    "            print(\"\\r{}/{}\".format(self.counter, self.total), end=\"\")\n",
    "            \n",
    "from min_scenario_policy import MinYardScenarioPolicy\n",
    "pretrain_steps = 10000 #number of steps to initialize the buffer with a pre trained policy\n",
    "initial_collect_policy = MinYardScenarioPolicy(train_env.time_step_spec(),train_env.action_spec())\n",
    "\n",
    "init_driver = DynamicStepDriver(\n",
    "    train_env,\n",
    "    initial_collect_policy,\n",
    "    observers=[replay_buffer.add_batch,ShowProgress(pretrain_steps)],\n",
    "    num_steps=pretrain_steps)\n",
    "final_time_step, final_policy_state = init_driver.run()"
   ]
  },
  {
   "cell_type": "code",
   "execution_count": null,
   "metadata": {},
   "outputs": [],
   "source": [
    "%load_ext tensorboard\n",
    "%tensorboard --logdir logs/dqn_agent"
   ]
  },
  {
   "cell_type": "markdown",
   "metadata": {},
   "source": [
    "Finally let's run the training loop..."
   ]
  },
  {
   "cell_type": "code",
   "execution_count": 20,
   "metadata": {},
   "outputs": [
    {
     "name": "stderr",
     "output_type": "stream",
     "text": [
      "INFO:absl: \n",
      "\t\t NumberOfEpisodes = 0\n",
      "\t\t EnvironmentSteps = 1\n",
      "\t\t AverageReturn = 0.0\n",
      "\t\t AverageEpisodeLength = 0.0\n"
     ]
    },
    {
     "name": "stdout",
     "output_type": "stream",
     "text": [
      "996 loss:35.950918"
     ]
    },
    {
     "name": "stderr",
     "output_type": "stream",
     "text": [
      "INFO:absl: \n",
      "\t\t NumberOfEpisodes = 12\n",
      "\t\t EnvironmentSteps = 1001\n",
      "\t\t AverageReturn = -268.0\n",
      "\t\t AverageEpisodeLength = 77.30000305175781\n"
     ]
    },
    {
     "name": "stdout",
     "output_type": "stream",
     "text": [
      "1928 loss:617.93292"
     ]
    },
    {
     "name": "stderr",
     "output_type": "stream",
     "text": [
      "INFO:absl: \n",
      "\t\t NumberOfEpisodes = 23\n",
      "\t\t EnvironmentSteps = 2001\n",
      "\t\t AverageReturn = -707.0\n",
      "\t\t AverageEpisodeLength = 90.9000015258789\n"
     ]
    },
    {
     "name": "stdout",
     "output_type": "stream",
     "text": [
      "2956 loss:312.771589"
     ]
    },
    {
     "name": "stderr",
     "output_type": "stream",
     "text": [
      "INFO:absl: \n",
      "\t\t NumberOfEpisodes = 34\n",
      "\t\t EnvironmentSteps = 3001\n",
      "\t\t AverageReturn = -710.0\n",
      "\t\t AverageEpisodeLength = 91.19999694824219\n"
     ]
    },
    {
     "name": "stdout",
     "output_type": "stream",
     "text": [
      "3954 loss:503.131536"
     ]
    },
    {
     "name": "stderr",
     "output_type": "stream",
     "text": [
      "INFO:absl: \n",
      "\t\t NumberOfEpisodes = 45\n",
      "\t\t EnvironmentSteps = 4001\n",
      "\t\t AverageReturn = -743.0\n",
      "\t\t AverageEpisodeLength = 94.5\n"
     ]
    },
    {
     "name": "stdout",
     "output_type": "stream",
     "text": [
      "4957 loss:323.67532"
     ]
    },
    {
     "name": "stderr",
     "output_type": "stream",
     "text": [
      "INFO:absl: \n",
      "\t\t NumberOfEpisodes = 58\n",
      "\t\t EnvironmentSteps = 5001\n",
      "\t\t AverageReturn = -312.0\n",
      "\t\t AverageEpisodeLength = 71.5999984741211\n"
     ]
    },
    {
     "name": "stdout",
     "output_type": "stream",
     "text": [
      "5962 loss:174.01700"
     ]
    },
    {
     "name": "stderr",
     "output_type": "stream",
     "text": [
      "INFO:absl: \n",
      "\t\t NumberOfEpisodes = 68\n",
      "\t\t EnvironmentSteps = 6001\n",
      "\t\t AverageReturn = -838.0\n",
      "\t\t AverageEpisodeLength = 93.9000015258789\n"
     ]
    },
    {
     "name": "stdout",
     "output_type": "stream",
     "text": [
      "6971 loss:53.202502"
     ]
    },
    {
     "name": "stderr",
     "output_type": "stream",
     "text": [
      "INFO:absl: \n",
      "\t\t NumberOfEpisodes = 80\n",
      "\t\t EnvironmentSteps = 7001\n",
      "\t\t AverageReturn = -558.0\n",
      "\t\t AverageEpisodeLength = 86.0999984741211\n"
     ]
    },
    {
     "name": "stdout",
     "output_type": "stream",
     "text": [
      "7998 loss:42.349954"
     ]
    },
    {
     "name": "stderr",
     "output_type": "stream",
     "text": [
      "INFO:absl: \n",
      "\t\t NumberOfEpisodes = 91\n",
      "\t\t EnvironmentSteps = 8001\n",
      "\t\t AverageReturn = -598.0\n",
      "\t\t AverageEpisodeLength = 90.0999984741211\n"
     ]
    },
    {
     "name": "stdout",
     "output_type": "stream",
     "text": [
      "8939 loss:61.503953"
     ]
    },
    {
     "name": "stderr",
     "output_type": "stream",
     "text": [
      "INFO:absl: \n",
      "\t\t NumberOfEpisodes = 103\n",
      "\t\t EnvironmentSteps = 9001\n",
      "\t\t AverageReturn = -518.0\n",
      "\t\t AverageEpisodeLength = 82.0999984741211\n"
     ]
    },
    {
     "name": "stdout",
     "output_type": "stream",
     "text": [
      "9938 loss:59.946227"
     ]
    },
    {
     "name": "stderr",
     "output_type": "stream",
     "text": [
      "INFO:absl: \n",
      "\t\t NumberOfEpisodes = 114\n",
      "\t\t EnvironmentSteps = 10001\n",
      "\t\t AverageReturn = -713.0\n",
      "\t\t AverageEpisodeLength = 91.5\n"
     ]
    },
    {
     "name": "stdout",
     "output_type": "stream",
     "text": [
      "10946 loss:31.91829"
     ]
    },
    {
     "name": "stderr",
     "output_type": "stream",
     "text": [
      "INFO:absl: \n",
      "\t\t NumberOfEpisodes = 124\n",
      "\t\t EnvironmentSteps = 11001\n",
      "\t\t AverageReturn = -741.0\n",
      "\t\t AverageEpisodeLength = 94.30000305175781\n"
     ]
    },
    {
     "name": "stdout",
     "output_type": "stream",
     "text": [
      "11958 loss:8.863719"
     ]
    },
    {
     "name": "stderr",
     "output_type": "stream",
     "text": [
      "INFO:absl: \n",
      "\t\t NumberOfEpisodes = 136\n",
      "\t\t EnvironmentSteps = 12001\n",
      "\t\t AverageReturn = -476.0\n",
      "\t\t AverageEpisodeLength = 88.0\n"
     ]
    },
    {
     "name": "stdout",
     "output_type": "stream",
     "text": [
      "12957 loss:26.84812"
     ]
    },
    {
     "name": "stderr",
     "output_type": "stream",
     "text": [
      "INFO:absl: \n",
      "\t\t NumberOfEpisodes = 146\n",
      "\t\t EnvironmentSteps = 13001\n",
      "\t\t AverageReturn = -630.0\n",
      "\t\t AverageEpisodeLength = 93.30000305175781\n"
     ]
    },
    {
     "name": "stdout",
     "output_type": "stream",
     "text": [
      "13942 loss:5.573612"
     ]
    },
    {
     "name": "stderr",
     "output_type": "stream",
     "text": [
      "INFO:absl: \n",
      "\t\t NumberOfEpisodes = 158\n",
      "\t\t EnvironmentSteps = 14001\n",
      "\t\t AverageReturn = -491.0\n",
      "\t\t AverageEpisodeLength = 79.4000015258789\n"
     ]
    },
    {
     "name": "stdout",
     "output_type": "stream",
     "text": [
      "14995 loss:10.79337"
     ]
    },
    {
     "name": "stderr",
     "output_type": "stream",
     "text": [
      "INFO:absl: \n",
      "\t\t NumberOfEpisodes = 170\n",
      "\t\t EnvironmentSteps = 15001\n",
      "\t\t AverageReturn = -688.0\n",
      "\t\t AverageEpisodeLength = 89.0\n"
     ]
    },
    {
     "name": "stdout",
     "output_type": "stream",
     "text": [
      "15989 loss:10.52639"
     ]
    },
    {
     "name": "stderr",
     "output_type": "stream",
     "text": [
      "INFO:absl: \n",
      "\t\t NumberOfEpisodes = 181\n",
      "\t\t EnvironmentSteps = 16001\n",
      "\t\t AverageReturn = -706.0\n",
      "\t\t AverageEpisodeLength = 90.80000305175781\n"
     ]
    },
    {
     "name": "stdout",
     "output_type": "stream",
     "text": [
      "16973 loss:2.564711"
     ]
    },
    {
     "name": "stderr",
     "output_type": "stream",
     "text": [
      "INFO:absl: \n",
      "\t\t NumberOfEpisodes = 196\n",
      "\t\t EnvironmentSteps = 17001\n",
      "\t\t AverageReturn = -21.0\n",
      "\t\t AverageEpisodeLength = 62.70000076293945\n"
     ]
    },
    {
     "name": "stdout",
     "output_type": "stream",
     "text": [
      "17975 loss:3.946339"
     ]
    },
    {
     "name": "stderr",
     "output_type": "stream",
     "text": [
      "INFO:absl: \n",
      "\t\t NumberOfEpisodes = 206\n",
      "\t\t EnvironmentSteps = 18001\n",
      "\t\t AverageReturn = -884.0\n",
      "\t\t AverageEpisodeLength = 98.5\n"
     ]
    },
    {
     "name": "stdout",
     "output_type": "stream",
     "text": [
      "18990 loss:1.084138"
     ]
    },
    {
     "name": "stderr",
     "output_type": "stream",
     "text": [
      "INFO:absl: \n",
      "\t\t NumberOfEpisodes = 216\n",
      "\t\t EnvironmentSteps = 19001\n",
      "\t\t AverageReturn = -747.0\n",
      "\t\t AverageEpisodeLength = 94.9000015258789\n"
     ]
    },
    {
     "name": "stdout",
     "output_type": "stream",
     "text": [
      "19935 loss:0.610151"
     ]
    },
    {
     "name": "stderr",
     "output_type": "stream",
     "text": [
      "INFO:absl: \n",
      "\t\t NumberOfEpisodes = 228\n",
      "\t\t EnvironmentSteps = 20001\n",
      "\t\t AverageReturn = -385.0\n",
      "\t\t AverageEpisodeLength = 78.9000015258789\n"
     ]
    },
    {
     "name": "stdout",
     "output_type": "stream",
     "text": [
      "20992 loss:6.996137"
     ]
    },
    {
     "name": "stderr",
     "output_type": "stream",
     "text": [
      "INFO:absl: \n",
      "\t\t NumberOfEpisodes = 240\n",
      "\t\t EnvironmentSteps = 21001\n",
      "\t\t AverageReturn = -623.0\n",
      "\t\t AverageEpisodeLength = 92.5999984741211\n"
     ]
    },
    {
     "name": "stdout",
     "output_type": "stream",
     "text": [
      "21935 loss:5.678431"
     ]
    },
    {
     "name": "stderr",
     "output_type": "stream",
     "text": [
      "INFO:absl: \n",
      "\t\t NumberOfEpisodes = 250\n",
      "\t\t EnvironmentSteps = 22001\n",
      "\t\t AverageReturn = -873.0\n",
      "\t\t AverageEpisodeLength = 97.4000015258789\n"
     ]
    },
    {
     "name": "stdout",
     "output_type": "stream",
     "text": [
      "22938 loss:0.049947"
     ]
    },
    {
     "name": "stderr",
     "output_type": "stream",
     "text": [
      "INFO:absl: \n",
      "\t\t NumberOfEpisodes = 270\n",
      "\t\t EnvironmentSteps = 23001\n",
      "\t\t AverageReturn = 70.0\n",
      "\t\t AverageEpisodeLength = 63.70000076293945\n"
     ]
    },
    {
     "name": "stdout",
     "output_type": "stream",
     "text": [
      "23946 loss:0.546991"
     ]
    },
    {
     "name": "stderr",
     "output_type": "stream",
     "text": [
      "INFO:absl: \n",
      "\t\t NumberOfEpisodes = 291\n",
      "\t\t EnvironmentSteps = 24001\n",
      "\t\t AverageReturn = 289.0\n",
      "\t\t AverageEpisodeLength = 51.900001525878906\n"
     ]
    },
    {
     "name": "stdout",
     "output_type": "stream",
     "text": [
      "24961 loss:0.895157"
     ]
    },
    {
     "name": "stderr",
     "output_type": "stream",
     "text": [
      "INFO:absl: \n",
      "\t\t NumberOfEpisodes = 310\n",
      "\t\t EnvironmentSteps = 25001\n",
      "\t\t AverageReturn = 352.0\n",
      "\t\t AverageEpisodeLength = 55.70000076293945\n"
     ]
    },
    {
     "name": "stdout",
     "output_type": "stream",
     "text": [
      "25985 loss:40.06608"
     ]
    },
    {
     "name": "stderr",
     "output_type": "stream",
     "text": [
      "INFO:absl: \n",
      "\t\t NumberOfEpisodes = 333\n",
      "\t\t EnvironmentSteps = 26001\n",
      "\t\t AverageReturn = 800.0\n",
      "\t\t AverageEpisodeLength = 21.0\n"
     ]
    },
    {
     "name": "stdout",
     "output_type": "stream",
     "text": [
      "26990 loss:5.8002371"
     ]
    },
    {
     "name": "stderr",
     "output_type": "stream",
     "text": [
      "INFO:absl: \n",
      "\t\t NumberOfEpisodes = 363\n",
      "\t\t EnvironmentSteps = 27001\n",
      "\t\t AverageReturn = 405.0\n",
      "\t\t AverageEpisodeLength = 40.29999923706055\n"
     ]
    },
    {
     "name": "stdout",
     "output_type": "stream",
     "text": [
      "27942 loss:0.5589093"
     ]
    },
    {
     "name": "stderr",
     "output_type": "stream",
     "text": [
      "INFO:absl: \n",
      "\t\t NumberOfEpisodes = 387\n",
      "\t\t EnvironmentSteps = 28001\n",
      "\t\t AverageReturn = 676.0\n",
      "\t\t AverageEpisodeLength = 33.400001525878906\n"
     ]
    },
    {
     "name": "stdout",
     "output_type": "stream",
     "text": [
      "28940 loss:6.5347030"
     ]
    },
    {
     "name": "stderr",
     "output_type": "stream",
     "text": [
      "INFO:absl: \n",
      "\t\t NumberOfEpisodes = 412\n",
      "\t\t EnvironmentSteps = 29001\n",
      "\t\t AverageReturn = 543.0\n",
      "\t\t AverageEpisodeLength = 36.599998474121094\n"
     ]
    },
    {
     "name": "stdout",
     "output_type": "stream",
     "text": [
      "29949 loss:9.4913303"
     ]
    },
    {
     "name": "stderr",
     "output_type": "stream",
     "text": [
      "INFO:absl: \n",
      "\t\t NumberOfEpisodes = 438\n",
      "\t\t EnvironmentSteps = 30001\n",
      "\t\t AverageReturn = 280.0\n",
      "\t\t AverageEpisodeLength = 62.900001525878906\n"
     ]
    },
    {
     "name": "stdout",
     "output_type": "stream",
     "text": [
      "30929 loss:0.0474438"
     ]
    },
    {
     "name": "stderr",
     "output_type": "stream",
     "text": [
      "INFO:absl: \n",
      "\t\t NumberOfEpisodes = 470\n",
      "\t\t EnvironmentSteps = 31001\n",
      "\t\t AverageReturn = 688.0\n",
      "\t\t AverageEpisodeLength = 32.20000076293945\n"
     ]
    },
    {
     "name": "stdout",
     "output_type": "stream",
     "text": [
      "31942 loss:43.216755"
     ]
    },
    {
     "name": "stderr",
     "output_type": "stream",
     "text": [
      "INFO:absl: \n",
      "\t\t NumberOfEpisodes = 503\n",
      "\t\t EnvironmentSteps = 32001\n",
      "\t\t AverageReturn = 781.0\n",
      "\t\t AverageEpisodeLength = 22.899999618530273\n"
     ]
    },
    {
     "name": "stdout",
     "output_type": "stream",
     "text": [
      "32953 loss:0.4814321"
     ]
    },
    {
     "name": "stderr",
     "output_type": "stream",
     "text": [
      "INFO:absl: \n",
      "\t\t NumberOfEpisodes = 531\n",
      "\t\t EnvironmentSteps = 33001\n",
      "\t\t AverageReturn = 758.0\n",
      "\t\t AverageEpisodeLength = 25.200000762939453\n"
     ]
    },
    {
     "name": "stdout",
     "output_type": "stream",
     "text": [
      "33951 loss:0.5411916"
     ]
    },
    {
     "name": "stderr",
     "output_type": "stream",
     "text": [
      "INFO:absl: \n",
      "\t\t NumberOfEpisodes = 552\n",
      "\t\t EnvironmentSteps = 34001\n",
      "\t\t AverageReturn = 701.0\n",
      "\t\t AverageEpisodeLength = 30.899999618530273\n"
     ]
    },
    {
     "name": "stdout",
     "output_type": "stream",
     "text": [
      "34941 loss:0.6413388"
     ]
    },
    {
     "name": "stderr",
     "output_type": "stream",
     "text": [
      "INFO:absl: \n",
      "\t\t NumberOfEpisodes = 576\n",
      "\t\t EnvironmentSteps = 35001\n",
      "\t\t AverageReturn = 525.0\n",
      "\t\t AverageEpisodeLength = 48.5\n"
     ]
    },
    {
     "name": "stdout",
     "output_type": "stream",
     "text": [
      "35978 loss:13.801953"
     ]
    },
    {
     "name": "stderr",
     "output_type": "stream",
     "text": [
      "INFO:absl: \n",
      "\t\t NumberOfEpisodes = 599\n",
      "\t\t EnvironmentSteps = 36001\n",
      "\t\t AverageReturn = 668.0\n",
      "\t\t AverageEpisodeLength = 34.20000076293945\n"
     ]
    },
    {
     "name": "stdout",
     "output_type": "stream",
     "text": [
      "36972 loss:44.323910"
     ]
    },
    {
     "name": "stderr",
     "output_type": "stream",
     "text": [
      "INFO:absl: \n",
      "\t\t NumberOfEpisodes = 627\n",
      "\t\t EnvironmentSteps = 37001\n",
      "\t\t AverageReturn = 713.0\n",
      "\t\t AverageEpisodeLength = 29.700000762939453\n"
     ]
    },
    {
     "name": "stdout",
     "output_type": "stream",
     "text": [
      "37990 loss:46.770132"
     ]
    },
    {
     "name": "stderr",
     "output_type": "stream",
     "text": [
      "INFO:absl: \n",
      "\t\t NumberOfEpisodes = 652\n",
      "\t\t EnvironmentSteps = 38001\n",
      "\t\t AverageReturn = 187.0\n",
      "\t\t AverageEpisodeLength = 52.0\n"
     ]
    },
    {
     "name": "stdout",
     "output_type": "stream",
     "text": [
      "38944 loss:39.350230"
     ]
    },
    {
     "name": "stderr",
     "output_type": "stream",
     "text": [
      "INFO:absl: \n",
      "\t\t NumberOfEpisodes = 676\n",
      "\t\t EnvironmentSteps = 39001\n",
      "\t\t AverageReturn = 162.0\n",
      "\t\t AverageEpisodeLength = 54.5\n"
     ]
    },
    {
     "name": "stdout",
     "output_type": "stream",
     "text": [
      "39961 loss:17.196355"
     ]
    },
    {
     "name": "stderr",
     "output_type": "stream",
     "text": [
      "INFO:absl: \n",
      "\t\t NumberOfEpisodes = 694\n",
      "\t\t EnvironmentSteps = 40001\n",
      "\t\t AverageReturn = 160.0\n",
      "\t\t AverageEpisodeLength = 54.70000076293945\n"
     ]
    },
    {
     "name": "stdout",
     "output_type": "stream",
     "text": [
      "40968 loss:0.7134881"
     ]
    },
    {
     "name": "stderr",
     "output_type": "stream",
     "text": [
      "INFO:absl: \n",
      "\t\t NumberOfEpisodes = 724\n",
      "\t\t EnvironmentSteps = 41001\n",
      "\t\t AverageReturn = 758.0\n",
      "\t\t AverageEpisodeLength = 25.200000762939453\n"
     ]
    },
    {
     "name": "stdout",
     "output_type": "stream",
     "text": [
      "41968 loss:93.532186"
     ]
    },
    {
     "name": "stderr",
     "output_type": "stream",
     "text": [
      "INFO:absl: \n",
      "\t\t NumberOfEpisodes = 755\n",
      "\t\t EnvironmentSteps = 42001\n",
      "\t\t AverageReturn = 695.0\n",
      "\t\t AverageEpisodeLength = 31.5\n"
     ]
    },
    {
     "name": "stdout",
     "output_type": "stream",
     "text": [
      "42980 loss:21.258953"
     ]
    },
    {
     "name": "stderr",
     "output_type": "stream",
     "text": [
      "INFO:absl: \n",
      "\t\t NumberOfEpisodes = 795\n",
      "\t\t EnvironmentSteps = 43001\n",
      "\t\t AverageReturn = 726.0\n",
      "\t\t AverageEpisodeLength = 28.399999618530273\n"
     ]
    },
    {
     "name": "stdout",
     "output_type": "stream",
     "text": [
      "43973 loss:57.613775"
     ]
    },
    {
     "name": "stderr",
     "output_type": "stream",
     "text": [
      "INFO:absl: \n",
      "\t\t NumberOfEpisodes = 825\n",
      "\t\t EnvironmentSteps = 44001\n",
      "\t\t AverageReturn = 558.0\n",
      "\t\t AverageEpisodeLength = 35.099998474121094\n"
     ]
    },
    {
     "name": "stdout",
     "output_type": "stream",
     "text": [
      "44991 loss:44.458563"
     ]
    },
    {
     "name": "stderr",
     "output_type": "stream",
     "text": [
      "INFO:absl: \n",
      "\t\t NumberOfEpisodes = 869\n",
      "\t\t EnvironmentSteps = 45001\n",
      "\t\t AverageReturn = 747.0\n",
      "\t\t AverageEpisodeLength = 26.299999237060547\n"
     ]
    },
    {
     "name": "stdout",
     "output_type": "stream",
     "text": [
      "45997 loss:69.164696"
     ]
    },
    {
     "name": "stderr",
     "output_type": "stream",
     "text": [
      "INFO:absl: \n",
      "\t\t NumberOfEpisodes = 914\n",
      "\t\t EnvironmentSteps = 46001\n",
      "\t\t AverageReturn = 785.0\n",
      "\t\t AverageEpisodeLength = 22.5\n"
     ]
    },
    {
     "name": "stdout",
     "output_type": "stream",
     "text": [
      "46992 loss:58.026796"
     ]
    },
    {
     "name": "stderr",
     "output_type": "stream",
     "text": [
      "INFO:absl: \n",
      "\t\t NumberOfEpisodes = 946\n",
      "\t\t EnvironmentSteps = 47001\n",
      "\t\t AverageReturn = 358.0\n",
      "\t\t AverageEpisodeLength = 45.0\n"
     ]
    },
    {
     "name": "stdout",
     "output_type": "stream",
     "text": [
      "47996 loss:82.541445"
     ]
    },
    {
     "name": "stderr",
     "output_type": "stream",
     "text": [
      "INFO:absl: \n",
      "\t\t NumberOfEpisodes = 982\n",
      "\t\t EnvironmentSteps = 48001\n",
      "\t\t AverageReturn = 333.0\n",
      "\t\t AverageEpisodeLength = 47.5\n"
     ]
    },
    {
     "name": "stdout",
     "output_type": "stream",
     "text": [
      "48935 loss:66.708145"
     ]
    },
    {
     "name": "stderr",
     "output_type": "stream",
     "text": [
      "INFO:absl: \n",
      "\t\t NumberOfEpisodes = 1008\n",
      "\t\t EnvironmentSteps = 49001\n",
      "\t\t AverageReturn = 506.0\n",
      "\t\t AverageEpisodeLength = 40.29999923706055\n"
     ]
    },
    {
     "name": "stdout",
     "output_type": "stream",
     "text": [
      "49931 loss:76.857616"
     ]
    },
    {
     "name": "stderr",
     "output_type": "stream",
     "text": [
      "INFO:absl: \n",
      "\t\t NumberOfEpisodes = 1031\n",
      "\t\t EnvironmentSteps = 50001\n",
      "\t\t AverageReturn = 91.0\n",
      "\t\t AverageEpisodeLength = 51.5\n"
     ]
    },
    {
     "name": "stdout",
     "output_type": "stream",
     "text": [
      "50997 loss:58.585302"
     ]
    },
    {
     "name": "stderr",
     "output_type": "stream",
     "text": [
      "INFO:absl: \n",
      "\t\t NumberOfEpisodes = 1060\n",
      "\t\t EnvironmentSteps = 51001\n",
      "\t\t AverageReturn = 729.0\n",
      "\t\t AverageEpisodeLength = 28.100000381469727\n"
     ]
    },
    {
     "name": "stdout",
     "output_type": "stream",
     "text": [
      "51985 loss:26.691731"
     ]
    },
    {
     "name": "stderr",
     "output_type": "stream",
     "text": [
      "INFO:absl: \n",
      "\t\t NumberOfEpisodes = 1086\n",
      "\t\t EnvironmentSteps = 52001\n",
      "\t\t AverageReturn = 614.0\n",
      "\t\t AverageEpisodeLength = 39.599998474121094\n"
     ]
    },
    {
     "name": "stdout",
     "output_type": "stream",
     "text": [
      "52968 loss:117.58325"
     ]
    },
    {
     "name": "stderr",
     "output_type": "stream",
     "text": [
      "INFO:absl: \n",
      "\t\t NumberOfEpisodes = 1118\n",
      "\t\t EnvironmentSteps = 53001\n",
      "\t\t AverageReturn = 589.0\n",
      "\t\t AverageEpisodeLength = 32.0\n"
     ]
    },
    {
     "name": "stdout",
     "output_type": "stream",
     "text": [
      "53957 loss:32.669903"
     ]
    },
    {
     "name": "stderr",
     "output_type": "stream",
     "text": [
      "INFO:absl: \n",
      "\t\t NumberOfEpisodes = 1143\n",
      "\t\t EnvironmentSteps = 54001\n",
      "\t\t AverageReturn = 222.0\n",
      "\t\t AverageEpisodeLength = 48.5\n"
     ]
    },
    {
     "name": "stdout",
     "output_type": "stream",
     "text": [
      "54947 loss:32.493033"
     ]
    },
    {
     "name": "stderr",
     "output_type": "stream",
     "text": [
      "INFO:absl: \n",
      "\t\t NumberOfEpisodes = 1181\n",
      "\t\t EnvironmentSteps = 55001\n",
      "\t\t AverageReturn = 759.0\n",
      "\t\t AverageEpisodeLength = 25.100000381469727\n"
     ]
    },
    {
     "name": "stdout",
     "output_type": "stream",
     "text": [
      "55948 loss:27.792185"
     ]
    },
    {
     "name": "stderr",
     "output_type": "stream",
     "text": [
      "INFO:absl: \n",
      "\t\t NumberOfEpisodes = 1221\n",
      "\t\t EnvironmentSteps = 56001\n",
      "\t\t AverageReturn = 826.0\n",
      "\t\t AverageEpisodeLength = 18.399999618530273\n"
     ]
    },
    {
     "name": "stdout",
     "output_type": "stream",
     "text": [
      "56939 loss:59.482029"
     ]
    },
    {
     "name": "stderr",
     "output_type": "stream",
     "text": [
      "INFO:absl: \n",
      "\t\t NumberOfEpisodes = 1245\n",
      "\t\t EnvironmentSteps = 57001\n",
      "\t\t AverageReturn = 190.0\n",
      "\t\t AverageEpisodeLength = 51.70000076293945\n"
     ]
    },
    {
     "name": "stdout",
     "output_type": "stream",
     "text": [
      "57948 loss:118.35806"
     ]
    },
    {
     "name": "stderr",
     "output_type": "stream",
     "text": [
      "INFO:absl: \n",
      "\t\t NumberOfEpisodes = 1281\n",
      "\t\t EnvironmentSteps = 58001\n",
      "\t\t AverageReturn = 585.0\n",
      "\t\t AverageEpisodeLength = 32.400001525878906\n"
     ]
    },
    {
     "name": "stdout",
     "output_type": "stream",
     "text": [
      "58943 loss:82.927678"
     ]
    },
    {
     "name": "stderr",
     "output_type": "stream",
     "text": [
      "INFO:absl: \n",
      "\t\t NumberOfEpisodes = 1328\n",
      "\t\t EnvironmentSteps = 59001\n",
      "\t\t AverageReturn = 716.0\n",
      "\t\t AverageEpisodeLength = 19.299999237060547\n"
     ]
    },
    {
     "name": "stdout",
     "output_type": "stream",
     "text": [
      "59958 loss:0.4609489"
     ]
    },
    {
     "name": "stderr",
     "output_type": "stream",
     "text": [
      "INFO:absl: \n",
      "\t\t NumberOfEpisodes = 1361\n",
      "\t\t EnvironmentSteps = 60001\n",
      "\t\t AverageReturn = 607.0\n",
      "\t\t AverageEpisodeLength = 30.200000762939453\n"
     ]
    },
    {
     "name": "stdout",
     "output_type": "stream",
     "text": [
      "60987 loss:27.871786"
     ]
    },
    {
     "name": "stderr",
     "output_type": "stream",
     "text": [
      "INFO:absl: \n",
      "\t\t NumberOfEpisodes = 1387\n",
      "\t\t EnvironmentSteps = 61001\n",
      "\t\t AverageReturn = 436.0\n",
      "\t\t AverageEpisodeLength = 37.20000076293945\n"
     ]
    },
    {
     "name": "stdout",
     "output_type": "stream",
     "text": [
      "61979 loss:146.73911"
     ]
    },
    {
     "name": "stderr",
     "output_type": "stream",
     "text": [
      "INFO:absl: \n",
      "\t\t NumberOfEpisodes = 1418\n",
      "\t\t EnvironmentSteps = 62001\n",
      "\t\t AverageReturn = 777.0\n",
      "\t\t AverageEpisodeLength = 23.299999237060547\n"
     ]
    },
    {
     "name": "stdout",
     "output_type": "stream",
     "text": [
      "62997 loss:118.90281"
     ]
    },
    {
     "name": "stderr",
     "output_type": "stream",
     "text": [
      "INFO:absl: \n",
      "\t\t NumberOfEpisodes = 1452\n",
      "\t\t EnvironmentSteps = 63001\n",
      "\t\t AverageReturn = 722.0\n",
      "\t\t AverageEpisodeLength = 28.799999237060547\n"
     ]
    },
    {
     "name": "stdout",
     "output_type": "stream",
     "text": [
      "63988 loss:91.238339"
     ]
    },
    {
     "name": "stderr",
     "output_type": "stream",
     "text": [
      "INFO:absl: \n",
      "\t\t NumberOfEpisodes = 1493\n",
      "\t\t EnvironmentSteps = 64001\n",
      "\t\t AverageReturn = 823.0\n",
      "\t\t AverageEpisodeLength = 18.700000762939453\n"
     ]
    },
    {
     "name": "stdout",
     "output_type": "stream",
     "text": [
      "64990 loss:120.17636"
     ]
    },
    {
     "name": "stderr",
     "output_type": "stream",
     "text": [
      "INFO:absl: \n",
      "\t\t NumberOfEpisodes = 1521\n",
      "\t\t EnvironmentSteps = 65001\n",
      "\t\t AverageReturn = 640.0\n",
      "\t\t AverageEpisodeLength = 37.0\n"
     ]
    },
    {
     "name": "stdout",
     "output_type": "stream",
     "text": [
      "65991 loss:88.193820"
     ]
    },
    {
     "name": "stderr",
     "output_type": "stream",
     "text": [
      "INFO:absl: \n",
      "\t\t NumberOfEpisodes = 1557\n",
      "\t\t EnvironmentSteps = 66001\n",
      "\t\t AverageReturn = 857.0\n",
      "\t\t AverageEpisodeLength = 15.300000190734863\n"
     ]
    },
    {
     "name": "stdout",
     "output_type": "stream",
     "text": [
      "66995 loss:122.34111"
     ]
    },
    {
     "name": "stderr",
     "output_type": "stream",
     "text": [
      "INFO:absl: \n",
      "\t\t NumberOfEpisodes = 1601\n",
      "\t\t EnvironmentSteps = 67001\n",
      "\t\t AverageReturn = 785.0\n",
      "\t\t AverageEpisodeLength = 22.5\n"
     ]
    },
    {
     "name": "stdout",
     "output_type": "stream",
     "text": [
      "67968 loss:1.0866728"
     ]
    },
    {
     "name": "stderr",
     "output_type": "stream",
     "text": [
      "INFO:absl: \n",
      "\t\t NumberOfEpisodes = 1631\n",
      "\t\t EnvironmentSteps = 68001\n",
      "\t\t AverageReturn = 728.0\n",
      "\t\t AverageEpisodeLength = 28.200000762939453\n"
     ]
    },
    {
     "name": "stdout",
     "output_type": "stream",
     "text": [
      "68987 loss:32.167252"
     ]
    },
    {
     "name": "stderr",
     "output_type": "stream",
     "text": [
      "INFO:absl: \n",
      "\t\t NumberOfEpisodes = 1670\n",
      "\t\t EnvironmentSteps = 69001\n",
      "\t\t AverageReturn = 565.0\n",
      "\t\t AverageEpisodeLength = 34.400001525878906\n"
     ]
    },
    {
     "name": "stdout",
     "output_type": "stream",
     "text": [
      "69970 loss:85.363776"
     ]
    },
    {
     "name": "stderr",
     "output_type": "stream",
     "text": [
      "INFO:absl: \n",
      "\t\t NumberOfEpisodes = 1704\n",
      "\t\t EnvironmentSteps = 70001\n",
      "\t\t AverageReturn = 756.0\n",
      "\t\t AverageEpisodeLength = 25.399999618530273\n"
     ]
    },
    {
     "name": "stdout",
     "output_type": "stream",
     "text": [
      "70956 loss:56.881133"
     ]
    },
    {
     "name": "stderr",
     "output_type": "stream",
     "text": [
      "INFO:absl: \n",
      "\t\t NumberOfEpisodes = 1742\n",
      "\t\t EnvironmentSteps = 71001\n",
      "\t\t AverageReturn = 405.0\n",
      "\t\t AverageEpisodeLength = 40.29999923706055\n"
     ]
    },
    {
     "name": "stdout",
     "output_type": "stream",
     "text": [
      "71968 loss:31.747351"
     ]
    },
    {
     "name": "stderr",
     "output_type": "stream",
     "text": [
      "INFO:absl: \n",
      "\t\t NumberOfEpisodes = 1765\n",
      "\t\t EnvironmentSteps = 72001\n",
      "\t\t AverageReturn = 511.0\n",
      "\t\t AverageEpisodeLength = 39.79999923706055\n"
     ]
    },
    {
     "name": "stdout",
     "output_type": "stream",
     "text": [
      "72979 loss:145.12764"
     ]
    },
    {
     "name": "stderr",
     "output_type": "stream",
     "text": [
      "INFO:absl: \n",
      "\t\t NumberOfEpisodes = 1789\n",
      "\t\t EnvironmentSteps = 73001\n",
      "\t\t AverageReturn = 165.0\n",
      "\t\t AverageEpisodeLength = 54.20000076293945\n"
     ]
    },
    {
     "name": "stdout",
     "output_type": "stream",
     "text": [
      "73990 loss:29.014186"
     ]
    },
    {
     "name": "stderr",
     "output_type": "stream",
     "text": [
      "INFO:absl: \n",
      "\t\t NumberOfEpisodes = 1824\n",
      "\t\t EnvironmentSteps = 74001\n",
      "\t\t AverageReturn = 787.0\n",
      "\t\t AverageEpisodeLength = 22.299999237060547\n"
     ]
    },
    {
     "name": "stdout",
     "output_type": "stream",
     "text": [
      "74941 loss:91.293457"
     ]
    },
    {
     "name": "stderr",
     "output_type": "stream",
     "text": [
      "INFO:absl: \n",
      "\t\t NumberOfEpisodes = 1859\n",
      "\t\t EnvironmentSteps = 75001\n",
      "\t\t AverageReturn = 654.0\n",
      "\t\t AverageEpisodeLength = 35.599998474121094\n"
     ]
    },
    {
     "name": "stdout",
     "output_type": "stream",
     "text": [
      "75959 loss:0.2039638"
     ]
    },
    {
     "name": "stderr",
     "output_type": "stream",
     "text": [
      "INFO:absl: \n",
      "\t\t NumberOfEpisodes = 1890\n",
      "\t\t EnvironmentSteps = 76001\n",
      "\t\t AverageReturn = 775.0\n",
      "\t\t AverageEpisodeLength = 23.5\n"
     ]
    },
    {
     "name": "stdout",
     "output_type": "stream",
     "text": [
      "76986 loss:0.4319174"
     ]
    },
    {
     "name": "stderr",
     "output_type": "stream",
     "text": [
      "INFO:absl: \n",
      "\t\t NumberOfEpisodes = 1923\n",
      "\t\t EnvironmentSteps = 77001\n",
      "\t\t AverageReturn = 744.0\n",
      "\t\t AverageEpisodeLength = 26.600000381469727\n"
     ]
    },
    {
     "name": "stdout",
     "output_type": "stream",
     "text": [
      "77938 loss:93.798189"
     ]
    },
    {
     "name": "stderr",
     "output_type": "stream",
     "text": [
      "INFO:absl: \n",
      "\t\t NumberOfEpisodes = 1955\n",
      "\t\t EnvironmentSteps = 78001\n",
      "\t\t AverageReturn = 384.0\n",
      "\t\t AverageEpisodeLength = 42.400001525878906\n"
     ]
    },
    {
     "name": "stdout",
     "output_type": "stream",
     "text": [
      "78981 loss:0.4721892"
     ]
    },
    {
     "name": "stderr",
     "output_type": "stream",
     "text": [
      "INFO:absl: \n",
      "\t\t NumberOfEpisodes = 2007\n",
      "\t\t EnvironmentSteps = 79001\n",
      "\t\t AverageReturn = 767.0\n",
      "\t\t AverageEpisodeLength = 24.299999237060547\n"
     ]
    },
    {
     "name": "stdout",
     "output_type": "stream",
     "text": [
      "79999 loss:57.300394"
     ]
    },
    {
     "name": "stderr",
     "output_type": "stream",
     "text": [
      "INFO:absl: \n",
      "\t\t NumberOfEpisodes = 2024\n",
      "\t\t EnvironmentSteps = 80001\n",
      "\t\t AverageReturn = 104.0\n",
      "\t\t AverageEpisodeLength = 70.4000015258789\n"
     ]
    },
    {
     "name": "stdout",
     "output_type": "stream",
     "text": [
      "80937 loss:0.4009364"
     ]
    },
    {
     "name": "stderr",
     "output_type": "stream",
     "text": [
      "INFO:absl: \n",
      "\t\t NumberOfEpisodes = 2040\n",
      "\t\t EnvironmentSteps = 81001\n",
      "\t\t AverageReturn = 325.0\n",
      "\t\t AverageEpisodeLength = 58.400001525878906\n"
     ]
    },
    {
     "name": "stdout",
     "output_type": "stream",
     "text": [
      "81963 loss:119.82726"
     ]
    },
    {
     "name": "stderr",
     "output_type": "stream",
     "text": [
      "INFO:absl: \n",
      "\t\t NumberOfEpisodes = 2076\n",
      "\t\t EnvironmentSteps = 82001\n",
      "\t\t AverageReturn = 569.0\n",
      "\t\t AverageEpisodeLength = 34.0\n"
     ]
    },
    {
     "name": "stdout",
     "output_type": "stream",
     "text": [
      "82981 loss:89.082197"
     ]
    },
    {
     "name": "stderr",
     "output_type": "stream",
     "text": [
      "INFO:absl: \n",
      "\t\t NumberOfEpisodes = 2099\n",
      "\t\t EnvironmentSteps = 83001\n",
      "\t\t AverageReturn = 456.0\n",
      "\t\t AverageEpisodeLength = 35.20000076293945\n"
     ]
    },
    {
     "name": "stdout",
     "output_type": "stream",
     "text": [
      "83964 loss:91.574261"
     ]
    },
    {
     "name": "stderr",
     "output_type": "stream",
     "text": [
      "INFO:absl: \n",
      "\t\t NumberOfEpisodes = 2127\n",
      "\t\t EnvironmentSteps = 84001\n",
      "\t\t AverageReturn = 783.0\n",
      "\t\t AverageEpisodeLength = 22.700000762939453\n"
     ]
    },
    {
     "name": "stdout",
     "output_type": "stream",
     "text": [
      "84935 loss:31.400778"
     ]
    },
    {
     "name": "stderr",
     "output_type": "stream",
     "text": [
      "INFO:absl: \n",
      "\t\t NumberOfEpisodes = 2166\n",
      "\t\t EnvironmentSteps = 85001\n",
      "\t\t AverageReturn = 754.0\n",
      "\t\t AverageEpisodeLength = 25.600000381469727\n"
     ]
    },
    {
     "name": "stdout",
     "output_type": "stream",
     "text": [
      "85989 loss:60.051439"
     ]
    },
    {
     "name": "stderr",
     "output_type": "stream",
     "text": [
      "INFO:absl: \n",
      "\t\t NumberOfEpisodes = 2202\n",
      "\t\t EnvironmentSteps = 86001\n",
      "\t\t AverageReturn = 710.0\n",
      "\t\t AverageEpisodeLength = 30.0\n"
     ]
    },
    {
     "name": "stdout",
     "output_type": "stream",
     "text": [
      "86979 loss:63.109896"
     ]
    },
    {
     "name": "stderr",
     "output_type": "stream",
     "text": [
      "INFO:absl: \n",
      "\t\t NumberOfEpisodes = 2227\n",
      "\t\t EnvironmentSteps = 87001\n",
      "\t\t AverageReturn = 168.0\n",
      "\t\t AverageEpisodeLength = 64.0\n"
     ]
    },
    {
     "name": "stdout",
     "output_type": "stream",
     "text": [
      "87946 loss:62.551548"
     ]
    },
    {
     "name": "stderr",
     "output_type": "stream",
     "text": [
      "INFO:absl: \n",
      "\t\t NumberOfEpisodes = 2262\n",
      "\t\t EnvironmentSteps = 88001\n",
      "\t\t AverageReturn = 514.0\n",
      "\t\t AverageEpisodeLength = 39.5\n"
     ]
    },
    {
     "name": "stdout",
     "output_type": "stream",
     "text": [
      "88935 loss:58.213602"
     ]
    },
    {
     "name": "stderr",
     "output_type": "stream",
     "text": [
      "INFO:absl: \n",
      "\t\t NumberOfEpisodes = 2297\n",
      "\t\t EnvironmentSteps = 89001\n",
      "\t\t AverageReturn = 762.0\n",
      "\t\t AverageEpisodeLength = 24.799999237060547\n"
     ]
    },
    {
     "name": "stdout",
     "output_type": "stream",
     "text": [
      "89965 loss:29.084265"
     ]
    },
    {
     "name": "stderr",
     "output_type": "stream",
     "text": [
      "INFO:absl: \n",
      "\t\t NumberOfEpisodes = 2330\n",
      "\t\t EnvironmentSteps = 90001\n",
      "\t\t AverageReturn = 399.0\n",
      "\t\t AverageEpisodeLength = 40.900001525878906\n"
     ]
    },
    {
     "name": "stdout",
     "output_type": "stream",
     "text": [
      "90953 loss:152.03320"
     ]
    },
    {
     "name": "stderr",
     "output_type": "stream",
     "text": [
      "INFO:absl: \n",
      "\t\t NumberOfEpisodes = 2374\n",
      "\t\t EnvironmentSteps = 91001\n",
      "\t\t AverageReturn = 583.0\n",
      "\t\t AverageEpisodeLength = 32.599998474121094\n"
     ]
    },
    {
     "name": "stdout",
     "output_type": "stream",
     "text": [
      "91968 loss:29.043610"
     ]
    },
    {
     "name": "stderr",
     "output_type": "stream",
     "text": [
      "INFO:absl: \n",
      "\t\t NumberOfEpisodes = 2415\n",
      "\t\t EnvironmentSteps = 92001\n",
      "\t\t AverageReturn = 797.0\n",
      "\t\t AverageEpisodeLength = 21.299999237060547\n"
     ]
    },
    {
     "name": "stdout",
     "output_type": "stream",
     "text": [
      "92936 loss:60.007607"
     ]
    },
    {
     "name": "stderr",
     "output_type": "stream",
     "text": [
      "INFO:absl: \n",
      "\t\t NumberOfEpisodes = 2451\n",
      "\t\t EnvironmentSteps = 93001\n",
      "\t\t AverageReturn = 638.0\n",
      "\t\t AverageEpisodeLength = 27.100000381469727\n"
     ]
    },
    {
     "name": "stdout",
     "output_type": "stream",
     "text": [
      "93944 loss:91.065764"
     ]
    },
    {
     "name": "stderr",
     "output_type": "stream",
     "text": [
      "INFO:absl: \n",
      "\t\t NumberOfEpisodes = 2478\n",
      "\t\t EnvironmentSteps = 94001\n",
      "\t\t AverageReturn = 750.0\n",
      "\t\t AverageEpisodeLength = 26.0\n"
     ]
    },
    {
     "name": "stdout",
     "output_type": "stream",
     "text": [
      "94940 loss:62.526415"
     ]
    },
    {
     "name": "stderr",
     "output_type": "stream",
     "text": [
      "INFO:absl: \n",
      "\t\t NumberOfEpisodes = 2515\n",
      "\t\t EnvironmentSteps = 95001\n",
      "\t\t AverageReturn = 547.0\n",
      "\t\t AverageEpisodeLength = 36.20000076293945\n"
     ]
    },
    {
     "name": "stdout",
     "output_type": "stream",
     "text": [
      "95995 loss:31.532655"
     ]
    },
    {
     "name": "stderr",
     "output_type": "stream",
     "text": [
      "INFO:absl: \n",
      "\t\t NumberOfEpisodes = 2560\n",
      "\t\t EnvironmentSteps = 96001\n",
      "\t\t AverageReturn = 810.0\n",
      "\t\t AverageEpisodeLength = 20.0\n"
     ]
    },
    {
     "name": "stdout",
     "output_type": "stream",
     "text": [
      "96991 loss:91.514401"
     ]
    },
    {
     "name": "stderr",
     "output_type": "stream",
     "text": [
      "INFO:absl: \n",
      "\t\t NumberOfEpisodes = 2594\n",
      "\t\t EnvironmentSteps = 97001\n",
      "\t\t AverageReturn = 572.0\n",
      "\t\t AverageEpisodeLength = 33.70000076293945\n"
     ]
    },
    {
     "name": "stdout",
     "output_type": "stream",
     "text": [
      "97988 loss:118.47575"
     ]
    },
    {
     "name": "stderr",
     "output_type": "stream",
     "text": [
      "INFO:absl: \n",
      "\t\t NumberOfEpisodes = 2622\n",
      "\t\t EnvironmentSteps = 98001\n",
      "\t\t AverageReturn = 846.0\n",
      "\t\t AverageEpisodeLength = 16.399999618530273\n"
     ]
    },
    {
     "name": "stdout",
     "output_type": "stream",
     "text": [
      "98979 loss:60.430434"
     ]
    },
    {
     "name": "stderr",
     "output_type": "stream",
     "text": [
      "INFO:absl: \n",
      "\t\t NumberOfEpisodes = 2647\n",
      "\t\t EnvironmentSteps = 99001\n",
      "\t\t AverageReturn = 299.0\n",
      "\t\t AverageEpisodeLength = 50.900001525878906\n"
     ]
    },
    {
     "name": "stdout",
     "output_type": "stream",
     "text": [
      "99971 loss:29.573418"
     ]
    },
    {
     "name": "stderr",
     "output_type": "stream",
     "text": [
      "INFO:absl: \n",
      "\t\t NumberOfEpisodes = 2669\n",
      "\t\t EnvironmentSteps = 100001\n",
      "\t\t AverageReturn = 246.0\n",
      "\t\t AverageEpisodeLength = 46.099998474121094\n"
     ]
    },
    {
     "name": "stdout",
     "output_type": "stream",
     "text": [
      "100959 loss:148.88002"
     ]
    },
    {
     "name": "stderr",
     "output_type": "stream",
     "text": [
      "INFO:absl: \n",
      "\t\t NumberOfEpisodes = 2703\n",
      "\t\t EnvironmentSteps = 101001\n",
      "\t\t AverageReturn = 816.0\n",
      "\t\t AverageEpisodeLength = 19.399999618530273\n"
     ]
    },
    {
     "name": "stdout",
     "output_type": "stream",
     "text": [
      "101994 loss:89.133070"
     ]
    },
    {
     "name": "stderr",
     "output_type": "stream",
     "text": [
      "INFO:absl: \n",
      "\t\t NumberOfEpisodes = 2738\n",
      "\t\t EnvironmentSteps = 102001\n",
      "\t\t AverageReturn = 630.0\n",
      "\t\t AverageEpisodeLength = 38.0\n"
     ]
    },
    {
     "name": "stdout",
     "output_type": "stream",
     "text": [
      "102973 loss:86.979770"
     ]
    },
    {
     "name": "stderr",
     "output_type": "stream",
     "text": [
      "INFO:absl: \n",
      "\t\t NumberOfEpisodes = 2771\n",
      "\t\t EnvironmentSteps = 103001\n",
      "\t\t AverageReturn = 573.0\n",
      "\t\t AverageEpisodeLength = 33.599998474121094\n"
     ]
    },
    {
     "name": "stdout",
     "output_type": "stream",
     "text": [
      "103950 loss:0.0772035"
     ]
    },
    {
     "name": "stderr",
     "output_type": "stream",
     "text": [
      "INFO:absl: \n",
      "\t\t NumberOfEpisodes = 2807\n",
      "\t\t EnvironmentSteps = 104001\n",
      "\t\t AverageReturn = 685.0\n",
      "\t\t AverageEpisodeLength = 32.5\n"
     ]
    },
    {
     "name": "stdout",
     "output_type": "stream",
     "text": [
      "104937 loss:61.775310"
     ]
    },
    {
     "name": "stderr",
     "output_type": "stream",
     "text": [
      "INFO:absl: \n",
      "\t\t NumberOfEpisodes = 2841\n",
      "\t\t EnvironmentSteps = 105001\n",
      "\t\t AverageReturn = 827.0\n",
      "\t\t AverageEpisodeLength = 18.299999237060547\n"
     ]
    },
    {
     "name": "stdout",
     "output_type": "stream",
     "text": [
      "105960 loss:60.255921"
     ]
    },
    {
     "name": "stderr",
     "output_type": "stream",
     "text": [
      "INFO:absl: \n",
      "\t\t NumberOfEpisodes = 2883\n",
      "\t\t EnvironmentSteps = 106001\n",
      "\t\t AverageReturn = 779.0\n",
      "\t\t AverageEpisodeLength = 23.100000381469727\n"
     ]
    },
    {
     "name": "stdout",
     "output_type": "stream",
     "text": [
      "106991 loss:60.123285"
     ]
    },
    {
     "name": "stderr",
     "output_type": "stream",
     "text": [
      "INFO:absl: \n",
      "\t\t NumberOfEpisodes = 2919\n",
      "\t\t EnvironmentSteps = 107001\n",
      "\t\t AverageReturn = 753.0\n",
      "\t\t AverageEpisodeLength = 25.700000762939453\n"
     ]
    },
    {
     "name": "stdout",
     "output_type": "stream",
     "text": [
      "107970 loss:149.87672"
     ]
    },
    {
     "name": "stderr",
     "output_type": "stream",
     "text": [
      "INFO:absl: \n",
      "\t\t NumberOfEpisodes = 2966\n",
      "\t\t EnvironmentSteps = 108001\n",
      "\t\t AverageReturn = 801.0\n",
      "\t\t AverageEpisodeLength = 20.899999618530273\n"
     ]
    },
    {
     "name": "stdout",
     "output_type": "stream",
     "text": [
      "108990 loss:60.300742"
     ]
    },
    {
     "name": "stderr",
     "output_type": "stream",
     "text": [
      "INFO:absl: \n",
      "\t\t NumberOfEpisodes = 3009\n",
      "\t\t EnvironmentSteps = 109001\n",
      "\t\t AverageReturn = 687.0\n",
      "\t\t AverageEpisodeLength = 22.200000762939453\n"
     ]
    },
    {
     "name": "stdout",
     "output_type": "stream",
     "text": [
      "109968 loss:120.48978"
     ]
    },
    {
     "name": "stderr",
     "output_type": "stream",
     "text": [
      "INFO:absl: \n",
      "\t\t NumberOfEpisodes = 3036\n",
      "\t\t EnvironmentSteps = 110001\n",
      "\t\t AverageReturn = 705.0\n",
      "\t\t AverageEpisodeLength = 30.5\n"
     ]
    },
    {
     "name": "stdout",
     "output_type": "stream",
     "text": [
      "110990 loss:29.781445"
     ]
    },
    {
     "name": "stderr",
     "output_type": "stream",
     "text": [
      "INFO:absl: \n",
      "\t\t NumberOfEpisodes = 3077\n",
      "\t\t EnvironmentSteps = 111001\n",
      "\t\t AverageReturn = 816.0\n",
      "\t\t AverageEpisodeLength = 19.399999618530273\n"
     ]
    },
    {
     "name": "stdout",
     "output_type": "stream",
     "text": [
      "111952 loss:60.742804"
     ]
    },
    {
     "name": "stderr",
     "output_type": "stream",
     "text": [
      "INFO:absl: \n",
      "\t\t NumberOfEpisodes = 3102\n",
      "\t\t EnvironmentSteps = 112001\n",
      "\t\t AverageReturn = 10.0\n",
      "\t\t AverageEpisodeLength = 59.599998474121094\n"
     ]
    },
    {
     "name": "stdout",
     "output_type": "stream",
     "text": [
      "112970 loss:30.697775"
     ]
    },
    {
     "name": "stderr",
     "output_type": "stream",
     "text": [
      "INFO:absl: \n",
      "\t\t NumberOfEpisodes = 3135\n",
      "\t\t EnvironmentSteps = 113001\n",
      "\t\t AverageReturn = 640.0\n",
      "\t\t AverageEpisodeLength = 37.0\n"
     ]
    },
    {
     "name": "stdout",
     "output_type": "stream",
     "text": [
      "113955 loss:60.185557"
     ]
    },
    {
     "name": "stderr",
     "output_type": "stream",
     "text": [
      "INFO:absl: \n",
      "\t\t NumberOfEpisodes = 3168\n",
      "\t\t EnvironmentSteps = 114001\n",
      "\t\t AverageReturn = 622.0\n",
      "\t\t AverageEpisodeLength = 28.700000762939453\n"
     ]
    },
    {
     "name": "stdout",
     "output_type": "stream",
     "text": [
      "114958 loss:30.733293"
     ]
    },
    {
     "name": "stderr",
     "output_type": "stream",
     "text": [
      "INFO:absl: \n",
      "\t\t NumberOfEpisodes = 3202\n",
      "\t\t EnvironmentSteps = 115001\n",
      "\t\t AverageReturn = 753.0\n",
      "\t\t AverageEpisodeLength = 25.700000762939453\n"
     ]
    },
    {
     "name": "stdout",
     "output_type": "stream",
     "text": [
      "115993 loss:30.773441"
     ]
    },
    {
     "name": "stderr",
     "output_type": "stream",
     "text": [
      "INFO:absl: \n",
      "\t\t NumberOfEpisodes = 3237\n",
      "\t\t EnvironmentSteps = 116001\n",
      "\t\t AverageReturn = 809.0\n",
      "\t\t AverageEpisodeLength = 20.100000381469727\n"
     ]
    },
    {
     "name": "stdout",
     "output_type": "stream",
     "text": [
      "116936 loss:59.705043"
     ]
    },
    {
     "name": "stderr",
     "output_type": "stream",
     "text": [
      "INFO:absl: \n",
      "\t\t NumberOfEpisodes = 3271\n",
      "\t\t EnvironmentSteps = 117001\n",
      "\t\t AverageReturn = 799.0\n",
      "\t\t AverageEpisodeLength = 21.100000381469727\n"
     ]
    },
    {
     "name": "stdout",
     "output_type": "stream",
     "text": [
      "117964 loss:121.79776"
     ]
    },
    {
     "name": "stderr",
     "output_type": "stream",
     "text": [
      "INFO:absl: \n",
      "\t\t NumberOfEpisodes = 3310\n",
      "\t\t EnvironmentSteps = 118001\n",
      "\t\t AverageReturn = 807.0\n",
      "\t\t AverageEpisodeLength = 20.299999237060547\n"
     ]
    },
    {
     "name": "stdout",
     "output_type": "stream",
     "text": [
      "118948 loss:30.986847"
     ]
    },
    {
     "name": "stderr",
     "output_type": "stream",
     "text": [
      "INFO:absl: \n",
      "\t\t NumberOfEpisodes = 3343\n",
      "\t\t EnvironmentSteps = 119001\n",
      "\t\t AverageReturn = 390.0\n",
      "\t\t AverageEpisodeLength = 41.79999923706055\n"
     ]
    },
    {
     "name": "stdout",
     "output_type": "stream",
     "text": [
      "119928 loss:30.537481"
     ]
    },
    {
     "name": "stderr",
     "output_type": "stream",
     "text": [
      "INFO:absl: \n",
      "\t\t NumberOfEpisodes = 3382\n",
      "\t\t EnvironmentSteps = 120001\n",
      "\t\t AverageReturn = 804.0\n",
      "\t\t AverageEpisodeLength = 20.600000381469727\n"
     ]
    },
    {
     "name": "stdout",
     "output_type": "stream",
     "text": [
      "120987 loss:0.6690086"
     ]
    },
    {
     "name": "stderr",
     "output_type": "stream",
     "text": [
      "INFO:absl: \n",
      "\t\t NumberOfEpisodes = 3418\n",
      "\t\t EnvironmentSteps = 121001\n",
      "\t\t AverageReturn = 752.0\n",
      "\t\t AverageEpisodeLength = 25.799999237060547\n"
     ]
    },
    {
     "name": "stdout",
     "output_type": "stream",
     "text": [
      "121944 loss:120.90750"
     ]
    },
    {
     "name": "stderr",
     "output_type": "stream",
     "text": [
      "INFO:absl: \n",
      "\t\t NumberOfEpisodes = 3455\n",
      "\t\t EnvironmentSteps = 122001\n",
      "\t\t AverageReturn = 772.0\n",
      "\t\t AverageEpisodeLength = 23.799999237060547\n"
     ]
    },
    {
     "name": "stdout",
     "output_type": "stream",
     "text": [
      "122982 loss:121.46243"
     ]
    },
    {
     "name": "stderr",
     "output_type": "stream",
     "text": [
      "INFO:absl: \n",
      "\t\t NumberOfEpisodes = 3498\n",
      "\t\t EnvironmentSteps = 123001\n",
      "\t\t AverageReturn = 805.0\n",
      "\t\t AverageEpisodeLength = 20.5\n"
     ]
    },
    {
     "name": "stdout",
     "output_type": "stream",
     "text": [
      "123971 loss:182.67772"
     ]
    },
    {
     "name": "stderr",
     "output_type": "stream",
     "text": [
      "INFO:absl: \n",
      "\t\t NumberOfEpisodes = 3531\n",
      "\t\t EnvironmentSteps = 124001\n",
      "\t\t AverageReturn = 820.0\n",
      "\t\t AverageEpisodeLength = 19.0\n"
     ]
    },
    {
     "name": "stdout",
     "output_type": "stream",
     "text": [
      "124986 loss:60.786066"
     ]
    },
    {
     "name": "stderr",
     "output_type": "stream",
     "text": [
      "INFO:absl: \n",
      "\t\t NumberOfEpisodes = 3573\n",
      "\t\t EnvironmentSteps = 125001\n",
      "\t\t AverageReturn = 754.0\n",
      "\t\t AverageEpisodeLength = 25.600000381469727\n"
     ]
    },
    {
     "name": "stdout",
     "output_type": "stream",
     "text": [
      "125966 loss:121.38045"
     ]
    },
    {
     "name": "stderr",
     "output_type": "stream",
     "text": [
      "INFO:absl: \n",
      "\t\t NumberOfEpisodes = 3602\n",
      "\t\t EnvironmentSteps = 126001\n",
      "\t\t AverageReturn = 636.0\n",
      "\t\t AverageEpisodeLength = 37.400001525878906\n"
     ]
    },
    {
     "name": "stdout",
     "output_type": "stream",
     "text": [
      "126936 loss:60.101503"
     ]
    },
    {
     "name": "stderr",
     "output_type": "stream",
     "text": [
      "INFO:absl: \n",
      "\t\t NumberOfEpisodes = 3630\n",
      "\t\t EnvironmentSteps = 127001\n",
      "\t\t AverageReturn = 782.0\n",
      "\t\t AverageEpisodeLength = 22.799999237060547\n"
     ]
    },
    {
     "name": "stdout",
     "output_type": "stream",
     "text": [
      "127949 loss:60.926288"
     ]
    },
    {
     "name": "stderr",
     "output_type": "stream",
     "text": [
      "INFO:absl: \n",
      "\t\t NumberOfEpisodes = 3681\n",
      "\t\t EnvironmentSteps = 128001\n",
      "\t\t AverageReturn = 853.0\n",
      "\t\t AverageEpisodeLength = 15.699999809265137\n"
     ]
    },
    {
     "name": "stdout",
     "output_type": "stream",
     "text": [
      "128978 loss:92.507552"
     ]
    },
    {
     "name": "stderr",
     "output_type": "stream",
     "text": [
      "INFO:absl: \n",
      "\t\t NumberOfEpisodes = 3722\n",
      "\t\t EnvironmentSteps = 129001\n",
      "\t\t AverageReturn = 534.0\n",
      "\t\t AverageEpisodeLength = 37.5\n"
     ]
    },
    {
     "name": "stdout",
     "output_type": "stream",
     "text": [
      "129961 loss:121.07977"
     ]
    },
    {
     "name": "stderr",
     "output_type": "stream",
     "text": [
      "INFO:absl: \n",
      "\t\t NumberOfEpisodes = 3764\n",
      "\t\t EnvironmentSteps = 130001\n",
      "\t\t AverageReturn = 581.0\n",
      "\t\t AverageEpisodeLength = 32.79999923706055\n"
     ]
    },
    {
     "name": "stdout",
     "output_type": "stream",
     "text": [
      "130979 loss:150.80159"
     ]
    },
    {
     "name": "stderr",
     "output_type": "stream",
     "text": [
      "INFO:absl: \n",
      "\t\t NumberOfEpisodes = 3800\n",
      "\t\t EnvironmentSteps = 131001\n",
      "\t\t AverageReturn = 792.0\n",
      "\t\t AverageEpisodeLength = 21.799999237060547\n"
     ]
    },
    {
     "name": "stdout",
     "output_type": "stream",
     "text": [
      "131983 loss:90.682887"
     ]
    },
    {
     "name": "stderr",
     "output_type": "stream",
     "text": [
      "INFO:absl: \n",
      "\t\t NumberOfEpisodes = 3846\n",
      "\t\t EnvironmentSteps = 132001\n",
      "\t\t AverageReturn = 779.0\n",
      "\t\t AverageEpisodeLength = 23.100000381469727\n"
     ]
    },
    {
     "name": "stdout",
     "output_type": "stream",
     "text": [
      "132945 loss:60.359560"
     ]
    },
    {
     "name": "stderr",
     "output_type": "stream",
     "text": [
      "INFO:absl: \n",
      "\t\t NumberOfEpisodes = 3868\n",
      "\t\t EnvironmentSteps = 133001\n",
      "\t\t AverageReturn = 313.0\n",
      "\t\t AverageEpisodeLength = 49.5\n"
     ]
    },
    {
     "name": "stdout",
     "output_type": "stream",
     "text": [
      "133959 loss:120.58293"
     ]
    },
    {
     "name": "stderr",
     "output_type": "stream",
     "text": [
      "INFO:absl: \n",
      "\t\t NumberOfEpisodes = 3902\n",
      "\t\t EnvironmentSteps = 134001\n",
      "\t\t AverageReturn = 776.0\n",
      "\t\t AverageEpisodeLength = 23.399999618530273\n"
     ]
    },
    {
     "name": "stdout",
     "output_type": "stream",
     "text": [
      "134978 loss:1.1456907"
     ]
    },
    {
     "name": "stderr",
     "output_type": "stream",
     "text": [
      "INFO:absl: \n",
      "\t\t NumberOfEpisodes = 3930\n",
      "\t\t EnvironmentSteps = 135001\n",
      "\t\t AverageReturn = 590.0\n",
      "\t\t AverageEpisodeLength = 42.0\n"
     ]
    },
    {
     "name": "stdout",
     "output_type": "stream",
     "text": [
      "135990 loss:1.9938649"
     ]
    },
    {
     "name": "stderr",
     "output_type": "stream",
     "text": [
      "INFO:absl: \n",
      "\t\t NumberOfEpisodes = 3971\n",
      "\t\t EnvironmentSteps = 136001\n",
      "\t\t AverageReturn = 872.0\n",
      "\t\t AverageEpisodeLength = 13.800000190734863\n"
     ]
    },
    {
     "name": "stdout",
     "output_type": "stream",
     "text": [
      "136996 loss:60.270961"
     ]
    },
    {
     "name": "stderr",
     "output_type": "stream",
     "text": [
      "INFO:absl: \n",
      "\t\t NumberOfEpisodes = 3997\n",
      "\t\t EnvironmentSteps = 137001\n",
      "\t\t AverageReturn = 784.0\n",
      "\t\t AverageEpisodeLength = 22.600000381469727\n"
     ]
    },
    {
     "name": "stdout",
     "output_type": "stream",
     "text": [
      "137965 loss:59.923937"
     ]
    },
    {
     "name": "stderr",
     "output_type": "stream",
     "text": [
      "INFO:absl: \n",
      "\t\t NumberOfEpisodes = 4034\n",
      "\t\t EnvironmentSteps = 138001\n",
      "\t\t AverageReturn = 721.0\n",
      "\t\t AverageEpisodeLength = 28.899999618530273\n"
     ]
    },
    {
     "name": "stdout",
     "output_type": "stream",
     "text": [
      "138935 loss:31.317318"
     ]
    },
    {
     "name": "stderr",
     "output_type": "stream",
     "text": [
      "INFO:absl: \n",
      "\t\t NumberOfEpisodes = 4069\n",
      "\t\t EnvironmentSteps = 139001\n",
      "\t\t AverageReturn = 591.0\n",
      "\t\t AverageEpisodeLength = 31.799999237060547\n"
     ]
    },
    {
     "name": "stdout",
     "output_type": "stream",
     "text": [
      "139994 loss:59.939099"
     ]
    },
    {
     "name": "stderr",
     "output_type": "stream",
     "text": [
      "INFO:absl: \n",
      "\t\t NumberOfEpisodes = 4091\n",
      "\t\t EnvironmentSteps = 140001\n",
      "\t\t AverageReturn = 434.0\n",
      "\t\t AverageEpisodeLength = 37.400001525878906\n"
     ]
    },
    {
     "name": "stdout",
     "output_type": "stream",
     "text": [
      "141000 loss:29.920284"
     ]
    },
    {
     "name": "stderr",
     "output_type": "stream",
     "text": [
      "INFO:absl: \n",
      "\t\t NumberOfEpisodes = 4129\n",
      "\t\t EnvironmentSteps = 141001\n",
      "\t\t AverageReturn = 816.0\n",
      "\t\t AverageEpisodeLength = 19.399999618530273\n"
     ]
    },
    {
     "name": "stdout",
     "output_type": "stream",
     "text": [
      "141999 loss:121.12251"
     ]
    },
    {
     "name": "stderr",
     "output_type": "stream",
     "text": [
      "INFO:absl: \n",
      "\t\t NumberOfEpisodes = 4166\n",
      "\t\t EnvironmentSteps = 142001\n",
      "\t\t AverageReturn = 756.0\n",
      "\t\t AverageEpisodeLength = 25.399999618530273\n"
     ]
    },
    {
     "name": "stdout",
     "output_type": "stream",
     "text": [
      "142950 loss:61.052359"
     ]
    },
    {
     "name": "stderr",
     "output_type": "stream",
     "text": [
      "INFO:absl: \n",
      "\t\t NumberOfEpisodes = 4203\n",
      "\t\t EnvironmentSteps = 143001\n",
      "\t\t AverageReturn = 817.0\n",
      "\t\t AverageEpisodeLength = 19.299999237060547\n"
     ]
    },
    {
     "name": "stdout",
     "output_type": "stream",
     "text": [
      "143973 loss:60.492469"
     ]
    },
    {
     "name": "stderr",
     "output_type": "stream",
     "text": [
      "INFO:absl: \n",
      "\t\t NumberOfEpisodes = 4237\n",
      "\t\t EnvironmentSteps = 144001\n",
      "\t\t AverageReturn = 703.0\n",
      "\t\t AverageEpisodeLength = 30.700000762939453\n"
     ]
    },
    {
     "name": "stdout",
     "output_type": "stream",
     "text": [
      "144963 loss:59.593898"
     ]
    },
    {
     "name": "stderr",
     "output_type": "stream",
     "text": [
      "INFO:absl: \n",
      "\t\t NumberOfEpisodes = 4266\n",
      "\t\t EnvironmentSteps = 145001\n",
      "\t\t AverageReturn = -7.0\n",
      "\t\t AverageEpisodeLength = 61.29999923706055\n"
     ]
    },
    {
     "name": "stdout",
     "output_type": "stream",
     "text": [
      "145933 loss:149.75023"
     ]
    },
    {
     "name": "stderr",
     "output_type": "stream",
     "text": [
      "INFO:absl: \n",
      "\t\t NumberOfEpisodes = 4316\n",
      "\t\t EnvironmentSteps = 146001\n",
      "\t\t AverageReturn = 835.0\n",
      "\t\t AverageEpisodeLength = 17.5\n"
     ]
    },
    {
     "name": "stdout",
     "output_type": "stream",
     "text": [
      "146964 loss:59.410326"
     ]
    },
    {
     "name": "stderr",
     "output_type": "stream",
     "text": [
      "INFO:absl: \n",
      "\t\t NumberOfEpisodes = 4347\n",
      "\t\t EnvironmentSteps = 147001\n",
      "\t\t AverageReturn = 509.0\n",
      "\t\t AverageEpisodeLength = 40.0\n"
     ]
    },
    {
     "name": "stdout",
     "output_type": "stream",
     "text": [
      "147935 loss:89.142176"
     ]
    },
    {
     "name": "stderr",
     "output_type": "stream",
     "text": [
      "INFO:absl: \n",
      "\t\t NumberOfEpisodes = 4382\n",
      "\t\t EnvironmentSteps = 148001\n",
      "\t\t AverageReturn = 613.0\n",
      "\t\t AverageEpisodeLength = 39.70000076293945\n"
     ]
    },
    {
     "name": "stdout",
     "output_type": "stream",
     "text": [
      "148988 loss:60.581533"
     ]
    },
    {
     "name": "stderr",
     "output_type": "stream",
     "text": [
      "INFO:absl: \n",
      "\t\t NumberOfEpisodes = 4406\n",
      "\t\t EnvironmentSteps = 149001\n",
      "\t\t AverageReturn = 157.0\n",
      "\t\t AverageEpisodeLength = 55.0\n"
     ]
    },
    {
     "name": "stdout",
     "output_type": "stream",
     "text": [
      "149962 loss:30.618392"
     ]
    },
    {
     "name": "stderr",
     "output_type": "stream",
     "text": [
      "INFO:absl: \n",
      "\t\t NumberOfEpisodes = 4435\n",
      "\t\t EnvironmentSteps = 150001\n",
      "\t\t AverageReturn = 335.0\n",
      "\t\t AverageEpisodeLength = 47.29999923706055\n"
     ]
    },
    {
     "name": "stdout",
     "output_type": "stream",
     "text": [
      "150958 loss:1.8844393"
     ]
    },
    {
     "name": "stderr",
     "output_type": "stream",
     "text": [
      "INFO:absl: \n",
      "\t\t NumberOfEpisodes = 4474\n",
      "\t\t EnvironmentSteps = 151001\n",
      "\t\t AverageReturn = 739.0\n",
      "\t\t AverageEpisodeLength = 27.100000381469727\n"
     ]
    },
    {
     "name": "stdout",
     "output_type": "stream",
     "text": [
      "151965 loss:62.345479"
     ]
    },
    {
     "name": "stderr",
     "output_type": "stream",
     "text": [
      "INFO:absl: \n",
      "\t\t NumberOfEpisodes = 4506\n",
      "\t\t EnvironmentSteps = 152001\n",
      "\t\t AverageReturn = 542.0\n",
      "\t\t AverageEpisodeLength = 36.70000076293945\n"
     ]
    },
    {
     "name": "stdout",
     "output_type": "stream",
     "text": [
      "152968 loss:1.8152781"
     ]
    },
    {
     "name": "stderr",
     "output_type": "stream",
     "text": [
      "INFO:absl: \n",
      "\t\t NumberOfEpisodes = 4534\n",
      "\t\t EnvironmentSteps = 153001\n",
      "\t\t AverageReturn = 495.0\n",
      "\t\t AverageEpisodeLength = 41.400001525878906\n"
     ]
    },
    {
     "name": "stdout",
     "output_type": "stream",
     "text": [
      "153990 loss:0.7096608"
     ]
    },
    {
     "name": "stderr",
     "output_type": "stream",
     "text": [
      "INFO:absl: \n",
      "\t\t NumberOfEpisodes = 4574\n",
      "\t\t EnvironmentSteps = 154001\n",
      "\t\t AverageReturn = 787.0\n",
      "\t\t AverageEpisodeLength = 22.299999237060547\n"
     ]
    },
    {
     "name": "stdout",
     "output_type": "stream",
     "text": [
      "154997 loss:89.327150"
     ]
    },
    {
     "name": "stderr",
     "output_type": "stream",
     "text": [
      "INFO:absl: \n",
      "\t\t NumberOfEpisodes = 4599\n",
      "\t\t EnvironmentSteps = 155001\n",
      "\t\t AverageReturn = 557.0\n",
      "\t\t AverageEpisodeLength = 35.20000076293945\n"
     ]
    },
    {
     "name": "stdout",
     "output_type": "stream",
     "text": [
      "155972 loss:59.160650"
     ]
    },
    {
     "name": "stderr",
     "output_type": "stream",
     "text": [
      "INFO:absl: \n",
      "\t\t NumberOfEpisodes = 4624\n",
      "\t\t EnvironmentSteps = 156001\n",
      "\t\t AverageReturn = 792.0\n",
      "\t\t AverageEpisodeLength = 21.799999237060547\n"
     ]
    },
    {
     "name": "stdout",
     "output_type": "stream",
     "text": [
      "156989 loss:30.312019"
     ]
    },
    {
     "name": "stderr",
     "output_type": "stream",
     "text": [
      "INFO:absl: \n",
      "\t\t NumberOfEpisodes = 4665\n",
      "\t\t EnvironmentSteps = 157001\n",
      "\t\t AverageReturn = 789.0\n",
      "\t\t AverageEpisodeLength = 22.100000381469727\n"
     ]
    },
    {
     "name": "stdout",
     "output_type": "stream",
     "text": [
      "157986 loss:89.092299"
     ]
    },
    {
     "name": "stderr",
     "output_type": "stream",
     "text": [
      "INFO:absl: \n",
      "\t\t NumberOfEpisodes = 4692\n",
      "\t\t EnvironmentSteps = 158001\n",
      "\t\t AverageReturn = 738.0\n",
      "\t\t AverageEpisodeLength = 27.200000762939453\n"
     ]
    },
    {
     "name": "stdout",
     "output_type": "stream",
     "text": [
      "158995 loss:29.577906"
     ]
    },
    {
     "name": "stderr",
     "output_type": "stream",
     "text": [
      "INFO:absl: \n",
      "\t\t NumberOfEpisodes = 4705\n",
      "\t\t EnvironmentSteps = 159001\n",
      "\t\t AverageReturn = -209.0\n",
      "\t\t AverageEpisodeLength = 71.4000015258789\n"
     ]
    },
    {
     "name": "stdout",
     "output_type": "stream",
     "text": [
      "159943 loss:58.986226"
     ]
    },
    {
     "name": "stderr",
     "output_type": "stream",
     "text": [
      "INFO:absl: \n",
      "\t\t NumberOfEpisodes = 4726\n",
      "\t\t EnvironmentSteps = 160001\n",
      "\t\t AverageReturn = 153.0\n",
      "\t\t AverageEpisodeLength = 55.400001525878906\n"
     ]
    },
    {
     "name": "stdout",
     "output_type": "stream",
     "text": [
      "160998 loss:89.917374"
     ]
    },
    {
     "name": "stderr",
     "output_type": "stream",
     "text": [
      "INFO:absl: \n",
      "\t\t NumberOfEpisodes = 4759\n",
      "\t\t EnvironmentSteps = 161001\n",
      "\t\t AverageReturn = 663.0\n",
      "\t\t AverageEpisodeLength = 34.70000076293945\n"
     ]
    },
    {
     "name": "stdout",
     "output_type": "stream",
     "text": [
      "161991 loss:29.412216"
     ]
    },
    {
     "name": "stderr",
     "output_type": "stream",
     "text": [
      "INFO:absl: \n",
      "\t\t NumberOfEpisodes = 4783\n",
      "\t\t EnvironmentSteps = 162001\n",
      "\t\t AverageReturn = 526.0\n",
      "\t\t AverageEpisodeLength = 38.29999923706055\n"
     ]
    },
    {
     "name": "stdout",
     "output_type": "stream",
     "text": [
      "162970 loss:32.145779"
     ]
    },
    {
     "name": "stderr",
     "output_type": "stream",
     "text": [
      "INFO:absl: \n",
      "\t\t NumberOfEpisodes = 4815\n",
      "\t\t EnvironmentSteps = 163001\n",
      "\t\t AverageReturn = 601.0\n",
      "\t\t AverageEpisodeLength = 30.799999237060547\n"
     ]
    },
    {
     "name": "stdout",
     "output_type": "stream",
     "text": [
      "163990 loss:30.626396"
     ]
    },
    {
     "name": "stderr",
     "output_type": "stream",
     "text": [
      "INFO:absl: \n",
      "\t\t NumberOfEpisodes = 4843\n",
      "\t\t EnvironmentSteps = 164001\n",
      "\t\t AverageReturn = 809.0\n",
      "\t\t AverageEpisodeLength = 20.100000381469727\n"
     ]
    },
    {
     "name": "stdout",
     "output_type": "stream",
     "text": [
      "164979 loss:0.2952628"
     ]
    },
    {
     "name": "stderr",
     "output_type": "stream",
     "text": [
      "INFO:absl: \n",
      "\t\t NumberOfEpisodes = 4878\n",
      "\t\t EnvironmentSteps = 165001\n",
      "\t\t AverageReturn = 870.0\n",
      "\t\t AverageEpisodeLength = 14.0\n"
     ]
    },
    {
     "name": "stdout",
     "output_type": "stream",
     "text": [
      "165968 loss:0.1934972"
     ]
    },
    {
     "name": "stderr",
     "output_type": "stream",
     "text": [
      "INFO:absl: \n",
      "\t\t NumberOfEpisodes = 4901\n",
      "\t\t EnvironmentSteps = 166001\n",
      "\t\t AverageReturn = 188.0\n",
      "\t\t AverageEpisodeLength = 51.900001525878906\n"
     ]
    },
    {
     "name": "stdout",
     "output_type": "stream",
     "text": [
      "166985 loss:59.799663"
     ]
    },
    {
     "name": "stderr",
     "output_type": "stream",
     "text": [
      "INFO:absl: \n",
      "\t\t NumberOfEpisodes = 4935\n",
      "\t\t EnvironmentSteps = 167001\n",
      "\t\t AverageReturn = 727.0\n",
      "\t\t AverageEpisodeLength = 28.299999237060547\n"
     ]
    },
    {
     "name": "stdout",
     "output_type": "stream",
     "text": [
      "167951 loss:2.1553244"
     ]
    },
    {
     "name": "stderr",
     "output_type": "stream",
     "text": [
      "INFO:absl: \n",
      "\t\t NumberOfEpisodes = 4963\n",
      "\t\t EnvironmentSteps = 168001\n",
      "\t\t AverageReturn = 832.0\n",
      "\t\t AverageEpisodeLength = 17.799999237060547\n"
     ]
    },
    {
     "name": "stdout",
     "output_type": "stream",
     "text": [
      "168978 loss:30.848695"
     ]
    },
    {
     "name": "stderr",
     "output_type": "stream",
     "text": [
      "INFO:absl: \n",
      "\t\t NumberOfEpisodes = 4993\n",
      "\t\t EnvironmentSteps = 169001\n",
      "\t\t AverageReturn = 632.0\n",
      "\t\t AverageEpisodeLength = 37.79999923706055\n"
     ]
    },
    {
     "name": "stdout",
     "output_type": "stream",
     "text": [
      "169953 loss:29.077562"
     ]
    },
    {
     "name": "stderr",
     "output_type": "stream",
     "text": [
      "INFO:absl: \n",
      "\t\t NumberOfEpisodes = 5021\n",
      "\t\t EnvironmentSteps = 170001\n",
      "\t\t AverageReturn = 246.0\n",
      "\t\t AverageEpisodeLength = 56.20000076293945\n"
     ]
    },
    {
     "name": "stdout",
     "output_type": "stream",
     "text": [
      "170947 loss:88.799138"
     ]
    },
    {
     "name": "stderr",
     "output_type": "stream",
     "text": [
      "INFO:absl: \n",
      "\t\t NumberOfEpisodes = 5049\n",
      "\t\t EnvironmentSteps = 171001\n",
      "\t\t AverageReturn = 354.0\n",
      "\t\t AverageEpisodeLength = 45.400001525878906\n"
     ]
    },
    {
     "name": "stdout",
     "output_type": "stream",
     "text": [
      "171995 loss:60.076136"
     ]
    },
    {
     "name": "stderr",
     "output_type": "stream",
     "text": [
      "INFO:absl: \n",
      "\t\t NumberOfEpisodes = 5084\n",
      "\t\t EnvironmentSteps = 172001\n",
      "\t\t AverageReturn = 604.0\n",
      "\t\t AverageEpisodeLength = 30.5\n"
     ]
    },
    {
     "name": "stdout",
     "output_type": "stream",
     "text": [
      "172935 loss:89.010809"
     ]
    },
    {
     "name": "stderr",
     "output_type": "stream",
     "text": [
      "INFO:absl: \n",
      "\t\t NumberOfEpisodes = 5111\n",
      "\t\t EnvironmentSteps = 173001\n",
      "\t\t AverageReturn = 636.0\n",
      "\t\t AverageEpisodeLength = 37.400001525878906\n"
     ]
    },
    {
     "name": "stdout",
     "output_type": "stream",
     "text": [
      "173938 loss:31.016466"
     ]
    },
    {
     "name": "stderr",
     "output_type": "stream",
     "text": [
      "INFO:absl: \n",
      "\t\t NumberOfEpisodes = 5136\n",
      "\t\t EnvironmentSteps = 174001\n",
      "\t\t AverageReturn = 426.0\n",
      "\t\t AverageEpisodeLength = 38.20000076293945\n"
     ]
    },
    {
     "name": "stdout",
     "output_type": "stream",
     "text": [
      "174993 loss:119.67645"
     ]
    },
    {
     "name": "stderr",
     "output_type": "stream",
     "text": [
      "INFO:absl: \n",
      "\t\t NumberOfEpisodes = 5174\n",
      "\t\t EnvironmentSteps = 175001\n",
      "\t\t AverageReturn = 425.0\n",
      "\t\t AverageEpisodeLength = 38.29999923706055\n"
     ]
    },
    {
     "name": "stdout",
     "output_type": "stream",
     "text": [
      "176000 loss:121.53664"
     ]
    },
    {
     "name": "stderr",
     "output_type": "stream",
     "text": [
      "INFO:absl: \n",
      "\t\t NumberOfEpisodes = 5204\n",
      "\t\t EnvironmentSteps = 176001\n",
      "\t\t AverageReturn = 790.0\n",
      "\t\t AverageEpisodeLength = 22.0\n"
     ]
    },
    {
     "name": "stdout",
     "output_type": "stream",
     "text": [
      "176990 loss:31.323188"
     ]
    },
    {
     "name": "stderr",
     "output_type": "stream",
     "text": [
      "INFO:absl: \n",
      "\t\t NumberOfEpisodes = 5245\n",
      "\t\t EnvironmentSteps = 177001\n",
      "\t\t AverageReturn = 835.0\n",
      "\t\t AverageEpisodeLength = 17.5\n"
     ]
    },
    {
     "name": "stdout",
     "output_type": "stream",
     "text": [
      "177951 loss:28.907621"
     ]
    },
    {
     "name": "stderr",
     "output_type": "stream",
     "text": [
      "INFO:absl: \n",
      "\t\t NumberOfEpisodes = 5270\n",
      "\t\t EnvironmentSteps = 178001\n",
      "\t\t AverageReturn = 746.0\n",
      "\t\t AverageEpisodeLength = 26.399999618530273\n"
     ]
    },
    {
     "name": "stdout",
     "output_type": "stream",
     "text": [
      "178990 loss:62.080135"
     ]
    },
    {
     "name": "stderr",
     "output_type": "stream",
     "text": [
      "INFO:absl: \n",
      "\t\t NumberOfEpisodes = 5306\n",
      "\t\t EnvironmentSteps = 179001\n",
      "\t\t AverageReturn = 706.0\n",
      "\t\t AverageEpisodeLength = 30.399999618530273\n"
     ]
    },
    {
     "name": "stdout",
     "output_type": "stream",
     "text": [
      "179993 loss:91.139928"
     ]
    },
    {
     "name": "stderr",
     "output_type": "stream",
     "text": [
      "INFO:absl: \n",
      "\t\t NumberOfEpisodes = 5325\n",
      "\t\t EnvironmentSteps = 180001\n",
      "\t\t AverageReturn = 104.0\n",
      "\t\t AverageEpisodeLength = 60.29999923706055\n"
     ]
    },
    {
     "name": "stdout",
     "output_type": "stream",
     "text": [
      "180992 loss:86.737375"
     ]
    },
    {
     "name": "stderr",
     "output_type": "stream",
     "text": [
      "INFO:absl: \n",
      "\t\t NumberOfEpisodes = 5362\n",
      "\t\t EnvironmentSteps = 181001\n",
      "\t\t AverageReturn = 688.0\n",
      "\t\t AverageEpisodeLength = 32.20000076293945\n"
     ]
    },
    {
     "name": "stdout",
     "output_type": "stream",
     "text": [
      "181971 loss:60.114405"
     ]
    },
    {
     "name": "stderr",
     "output_type": "stream",
     "text": [
      "INFO:absl: \n",
      "\t\t NumberOfEpisodes = 5391\n",
      "\t\t EnvironmentSteps = 182001\n",
      "\t\t AverageReturn = 664.0\n",
      "\t\t AverageEpisodeLength = 34.599998474121094\n"
     ]
    },
    {
     "name": "stdout",
     "output_type": "stream",
     "text": [
      "182958 loss:0.1904752"
     ]
    },
    {
     "name": "stderr",
     "output_type": "stream",
     "text": [
      "INFO:absl: \n",
      "\t\t NumberOfEpisodes = 5411\n",
      "\t\t EnvironmentSteps = 183001\n",
      "\t\t AverageReturn = 234.0\n",
      "\t\t AverageEpisodeLength = 47.29999923706055\n"
     ]
    },
    {
     "name": "stdout",
     "output_type": "stream",
     "text": [
      "183941 loss:0.7423322"
     ]
    },
    {
     "name": "stderr",
     "output_type": "stream",
     "text": [
      "INFO:absl: \n",
      "\t\t NumberOfEpisodes = 5448\n",
      "\t\t EnvironmentSteps = 184001\n",
      "\t\t AverageReturn = 603.0\n",
      "\t\t AverageEpisodeLength = 30.600000381469727\n"
     ]
    },
    {
     "name": "stdout",
     "output_type": "stream",
     "text": [
      "184935 loss:60.084003"
     ]
    },
    {
     "name": "stderr",
     "output_type": "stream",
     "text": [
      "INFO:absl: \n",
      "\t\t NumberOfEpisodes = 5475\n",
      "\t\t EnvironmentSteps = 185001\n",
      "\t\t AverageReturn = 672.0\n",
      "\t\t AverageEpisodeLength = 33.79999923706055\n"
     ]
    },
    {
     "name": "stdout",
     "output_type": "stream",
     "text": [
      "185969 loss:60.134627"
     ]
    },
    {
     "name": "stderr",
     "output_type": "stream",
     "text": [
      "INFO:absl: \n",
      "\t\t NumberOfEpisodes = 5511\n",
      "\t\t EnvironmentSteps = 186001\n",
      "\t\t AverageReturn = 821.0\n",
      "\t\t AverageEpisodeLength = 18.899999618530273\n"
     ]
    },
    {
     "name": "stdout",
     "output_type": "stream",
     "text": [
      "186943 loss:31.347438"
     ]
    },
    {
     "name": "stderr",
     "output_type": "stream",
     "text": [
      "INFO:absl: \n",
      "\t\t NumberOfEpisodes = 5552\n",
      "\t\t EnvironmentSteps = 187001\n",
      "\t\t AverageReturn = 605.0\n",
      "\t\t AverageEpisodeLength = 40.5\n"
     ]
    },
    {
     "name": "stdout",
     "output_type": "stream",
     "text": [
      "187987 loss:0.2400854"
     ]
    },
    {
     "name": "stderr",
     "output_type": "stream",
     "text": [
      "INFO:absl: \n",
      "\t\t NumberOfEpisodes = 5586\n",
      "\t\t EnvironmentSteps = 188001\n",
      "\t\t AverageReturn = 722.0\n",
      "\t\t AverageEpisodeLength = 28.799999237060547\n"
     ]
    },
    {
     "name": "stdout",
     "output_type": "stream",
     "text": [
      "188992 loss:119.95657"
     ]
    },
    {
     "name": "stderr",
     "output_type": "stream",
     "text": [
      "INFO:absl: \n",
      "\t\t NumberOfEpisodes = 5621\n",
      "\t\t EnvironmentSteps = 189001\n",
      "\t\t AverageReturn = 367.0\n",
      "\t\t AverageEpisodeLength = 44.099998474121094\n"
     ]
    },
    {
     "name": "stdout",
     "output_type": "stream",
     "text": [
      "189975 loss:0.4183431"
     ]
    },
    {
     "name": "stderr",
     "output_type": "stream",
     "text": [
      "INFO:absl: \n",
      "\t\t NumberOfEpisodes = 5643\n",
      "\t\t EnvironmentSteps = 190001\n",
      "\t\t AverageReturn = 76.0\n",
      "\t\t AverageEpisodeLength = 53.0\n"
     ]
    },
    {
     "name": "stdout",
     "output_type": "stream",
     "text": [
      "190985 loss:60.263104"
     ]
    },
    {
     "name": "stderr",
     "output_type": "stream",
     "text": [
      "INFO:absl: \n",
      "\t\t NumberOfEpisodes = 5667\n",
      "\t\t EnvironmentSteps = 191001\n",
      "\t\t AverageReturn = 484.0\n",
      "\t\t AverageEpisodeLength = 42.5\n"
     ]
    },
    {
     "name": "stdout",
     "output_type": "stream",
     "text": [
      "191958 loss:90.966094"
     ]
    },
    {
     "name": "stderr",
     "output_type": "stream",
     "text": [
      "INFO:absl: \n",
      "\t\t NumberOfEpisodes = 5698\n",
      "\t\t EnvironmentSteps = 192001\n",
      "\t\t AverageReturn = 735.0\n",
      "\t\t AverageEpisodeLength = 27.5\n"
     ]
    },
    {
     "name": "stdout",
     "output_type": "stream",
     "text": [
      "192949 loss:119.72161"
     ]
    },
    {
     "name": "stderr",
     "output_type": "stream",
     "text": [
      "INFO:absl: \n",
      "\t\t NumberOfEpisodes = 5727\n",
      "\t\t EnvironmentSteps = 193001\n",
      "\t\t AverageReturn = 256.0\n",
      "\t\t AverageEpisodeLength = 45.099998474121094\n"
     ]
    },
    {
     "name": "stdout",
     "output_type": "stream",
     "text": [
      "193969 loss:59.600111"
     ]
    },
    {
     "name": "stderr",
     "output_type": "stream",
     "text": [
      "INFO:absl: \n",
      "\t\t NumberOfEpisodes = 5743\n",
      "\t\t EnvironmentSteps = 194001\n",
      "\t\t AverageReturn = -136.0\n",
      "\t\t AverageEpisodeLength = 64.0999984741211\n"
     ]
    },
    {
     "name": "stdout",
     "output_type": "stream",
     "text": [
      "194968 loss:88.489327"
     ]
    },
    {
     "name": "stderr",
     "output_type": "stream",
     "text": [
      "INFO:absl: \n",
      "\t\t NumberOfEpisodes = 5774\n",
      "\t\t EnvironmentSteps = 195001\n",
      "\t\t AverageReturn = 446.0\n",
      "\t\t AverageEpisodeLength = 36.20000076293945\n"
     ]
    },
    {
     "name": "stdout",
     "output_type": "stream",
     "text": [
      "195999 loss:31.130538"
     ]
    },
    {
     "name": "stderr",
     "output_type": "stream",
     "text": [
      "INFO:absl: \n",
      "\t\t NumberOfEpisodes = 5790\n",
      "\t\t EnvironmentSteps = 196001\n",
      "\t\t AverageReturn = -63.0\n",
      "\t\t AverageEpisodeLength = 66.9000015258789\n"
     ]
    },
    {
     "name": "stdout",
     "output_type": "stream",
     "text": [
      "196990 loss:0.2620439"
     ]
    },
    {
     "name": "stderr",
     "output_type": "stream",
     "text": [
      "INFO:absl: \n",
      "\t\t NumberOfEpisodes = 5812\n",
      "\t\t EnvironmentSteps = 197001\n",
      "\t\t AverageReturn = 364.0\n",
      "\t\t AverageEpisodeLength = 44.400001525878906\n"
     ]
    },
    {
     "name": "stdout",
     "output_type": "stream",
     "text": [
      "197977 loss:59.401369"
     ]
    },
    {
     "name": "stderr",
     "output_type": "stream",
     "text": [
      "INFO:absl: \n",
      "\t\t NumberOfEpisodes = 5842\n",
      "\t\t EnvironmentSteps = 198001\n",
      "\t\t AverageReturn = 841.0\n",
      "\t\t AverageEpisodeLength = 16.899999618530273\n"
     ]
    },
    {
     "name": "stdout",
     "output_type": "stream",
     "text": [
      "198990 loss:33.583356"
     ]
    },
    {
     "name": "stderr",
     "output_type": "stream",
     "text": [
      "INFO:absl: \n",
      "\t\t NumberOfEpisodes = 5879\n",
      "\t\t EnvironmentSteps = 199001\n",
      "\t\t AverageReturn = 831.0\n",
      "\t\t AverageEpisodeLength = 17.899999618530273\n"
     ]
    },
    {
     "name": "stdout",
     "output_type": "stream",
     "text": [
      "199999 loss:0.1344757"
     ]
    }
   ],
   "source": [
    "train_agent(num_iterations)"
   ]
  },
  {
   "cell_type": "markdown",
   "metadata": {},
   "source": [
    "Let's evaluate the agent to see if it can solve the rail yard on its own"
   ]
  },
  {
   "cell_type": "code",
   "execution_count": null,
   "metadata": {},
   "outputs": [],
   "source": [
    "#how many episodes to play to evaluate the agent \n",
    "num_eval_episodes = 5 \n",
    "\n",
    "def create_policy_eval_text_log(policy, filename, num_episodes=5):\n",
    "    logfile = open(filename + \".txt\",\"w\")\n",
    "    for _ in range(num_episodes):\n",
    "        time_step = eval_env.reset()\n",
    "        logfile.write(eval_py_env.render())\n",
    "        while not time_step.is_last():\n",
    "            action_step = policy.action(time_step)\n",
    "            time_step = eval_env.step(action_step.action)\n",
    "            logfile.write(\"=============================\\n\")\n",
    "            logfile.write(\"Action: \" + str(eval_py_env.decode_action(action_step.action.numpy()[0])) + \"\\n\")\n",
    "            logfile.write(eval_py_env.render())\n",
    "\n",
    "create_policy_eval_text_log(agent.policy, \"trained-agent\",num_eval_episodes)"
   ]
  },
  {
   "cell_type": "code",
   "execution_count": null,
   "metadata": {},
   "outputs": [],
   "source": [
    "# %load trained-agent.txt\n",
    "Period: 0\n",
    "Track 1: ['m1']\n",
    "Rack 2: []\n",
    "Track 3: []\n",
    "=============================\n",
    "Action: [3, 2, 1]\n",
    "Period: 1\n",
    "Track 1: ['m1']\n",
    "Rack 2: []\n",
    "Track 3: []\n",
    "=============================\n",
    "Action: [3, 2, 1]\n",
    "Period: 2\n",
    "Track 1: ['m1']\n",
    "Rack 2: []\n",
    "Track 3: []\n",
    "=============================\n",
    "Action: [3, 2, 1]\n",
    "Period: 3\n",
    "Track 1: ['m1']\n",
    "Rack 2: []\n",
    "Track 3: []\n",
    "=============================\n",
    "Action: [3, 2, 1]\n",
    "Period: 4\n",
    "Track 1: ['m1']\n",
    "Rack 2: []\n",
    "Track 3: []\n",
    "=============================\n",
    "Action: [3, 2, 1]\n",
    "Period: 5\n",
    "Track 1: ['m1']\n",
    "Rack 2: []\n",
    "Track 3: []\n",
    "=============================\n",
    "Action: [3, 2, 1]\n",
    "Period: 6\n",
    "Track 1: ['m1']\n",
    "Rack 2: []\n",
    "Track 3: []\n",
    "=============================\n",
    "Action: [3, 2, 1]\n",
    "Period: 7\n",
    "Track 1: ['m1']\n",
    "Rack 2: []\n",
    "Track 3: []\n",
    "=============================\n",
    "Action: [3, 2, 1]\n",
    "Period: 8\n",
    "Track 1: ['m1']\n",
    "Rack 2: []\n",
    "Track 3: []\n",
    "=============================\n",
    "Action: [3, 2, 1]\n",
    "Period: 9\n",
    "Track 1: ['m1']\n",
    "Rack 2: []\n",
    "Track 3: []\n",
    "=============================\n",
    "Action: [3, 2, 1]\n",
    "Period: 10\n",
    "Track 1: ['m1']\n",
    "Rack 2: []\n",
    "Track 3: []\n",
    "=============================\n",
    "Action: [3, 2, 1]\n",
    "Period: 11\n",
    "Track 1: ['m1']\n",
    "Rack 2: []\n",
    "Track 3: []\n",
    "=============================\n",
    "Action: [3, 2, 1]\n",
    "Period: 12\n",
    "Track 1: ['m1']\n",
    "Rack 2: []\n",
    "Track 3: []\n",
    "=============================\n",
    "Action: [3, 2, 1]\n",
    "Period: 13\n",
    "Track 1: ['m1']\n",
    "Rack 2: []\n",
    "Track 3: []\n",
    "=============================\n",
    "Action: [3, 2, 1]\n",
    "Period: 14\n",
    "Track 1: ['m1']\n",
    "Rack 2: []\n",
    "Track 3: []\n",
    "=============================\n",
    "Action: [3, 2, 1]\n",
    "Period: 15\n",
    "Track 1: ['m1']\n",
    "Rack 2: []\n",
    "Track 3: []\n",
    "=============================\n",
    "Action: [3, 2, 1]\n",
    "Period: 16\n",
    "Track 1: ['m1']\n",
    "Rack 2: []\n",
    "Track 3: []\n",
    "=============================\n",
    "Action: [3, 2, 1]\n",
    "Period: 17\n",
    "Track 1: ['m1']\n",
    "Rack 2: []\n",
    "Track 3: []\n",
    "=============================\n",
    "Action: [3, 2, 1]\n",
    "Period: 18\n",
    "Track 1: ['m1']\n",
    "Rack 2: []\n",
    "Track 3: []\n",
    "=============================\n",
    "Action: [3, 2, 1]\n",
    "Period: 19\n",
    "Track 1: ['m1']\n",
    "Rack 2: []\n",
    "Track 3: []\n",
    "=============================\n",
    "Action: [3, 2, 1]\n",
    "Period: 20\n",
    "Track 1: ['m1']\n",
    "Rack 2: []\n",
    "Track 3: []\n",
    "=============================\n",
    "Action: [3, 2, 1]\n",
    "Period: 21\n",
    "Track 1: ['m1']\n",
    "Rack 2: []\n",
    "Track 3: []\n",
    "=============================\n",
    "Action: [3, 2, 1]\n",
    "Period: 22\n",
    "Track 1: ['m1']\n",
    "Rack 2: []\n",
    "Track 3: []\n",
    "=============================\n",
    "Action: [3, 2, 1]\n",
    "Period: 23\n",
    "Track 1: ['m1']\n",
    "Rack 2: []\n",
    "Track 3: []\n",
    "=============================\n",
    "Action: [3, 2, 1]\n",
    "Period: 24\n",
    "Track 1: ['m1']\n",
    "Rack 2: []\n",
    "Track 3: []\n",
    "=============================\n",
    "Action: [3, 2, 1]\n",
    "Period: 25\n",
    "Track 1: ['m1']\n",
    "Rack 2: []\n",
    "Track 3: []\n",
    "=============================\n",
    "Action: [3, 2, 1]\n",
    "Period: 26\n",
    "Track 1: ['m1']\n",
    "Rack 2: []\n",
    "Track 3: []\n",
    "=============================\n",
    "Action: [3, 2, 1]\n",
    "Period: 27\n",
    "Track 1: ['m1']\n",
    "Rack 2: []\n",
    "Track 3: []\n",
    "=============================\n",
    "Action: [3, 2, 1]\n",
    "Period: 28\n",
    "Track 1: ['m1']\n",
    "Rack 2: []\n",
    "Track 3: []\n",
    "=============================\n",
    "Action: [3, 2, 1]\n",
    "Period: 29\n",
    "Track 1: ['m1']\n",
    "Rack 2: []\n",
    "Track 3: []\n",
    "=============================\n",
    "Action: [3, 2, 1]\n",
    "Period: 30\n",
    "Track 1: ['m1']\n",
    "Rack 2: []\n",
    "Track 3: []\n",
    "=============================\n",
    "Action: [3, 2, 1]\n",
    "Period: 31\n",
    "Track 1: ['m1']\n",
    "Rack 2: []\n",
    "Track 3: []\n",
    "=============================\n",
    "Action: [3, 2, 1]\n",
    "Period: 32\n",
    "Track 1: ['m1']\n",
    "Rack 2: []\n",
    "Track 3: []\n",
    "=============================\n",
    "Action: [3, 2, 1]\n",
    "Period: 33\n",
    "Track 1: ['m1']\n",
    "Rack 2: []\n",
    "Track 3: []\n",
    "=============================\n",
    "Action: [3, 2, 1]\n",
    "Period: 34\n",
    "Track 1: ['m1']\n",
    "Rack 2: []\n",
    "Track 3: []\n",
    "=============================\n",
    "Action: [3, 2, 1]\n",
    "Period: 35\n",
    "Track 1: ['m1']\n",
    "Rack 2: []\n",
    "Track 3: []\n",
    "=============================\n",
    "Action: [3, 2, 1]\n",
    "Period: 36\n",
    "Track 1: ['m1']\n",
    "Rack 2: []\n",
    "Track 3: []\n",
    "=============================\n",
    "Action: [3, 2, 1]\n",
    "Period: 37\n",
    "Track 1: ['m1']\n",
    "Rack 2: []\n",
    "Track 3: []\n",
    "=============================\n",
    "Action: [3, 2, 1]\n",
    "Period: 38\n",
    "Track 1: ['m1']\n",
    "Rack 2: []\n",
    "Track 3: []\n",
    "=============================\n",
    "Action: [3, 2, 1]\n",
    "Period: 39\n",
    "Track 1: ['m1']\n",
    "Rack 2: []\n",
    "Track 3: []\n",
    "=============================\n",
    "Action: [3, 2, 1]\n",
    "Period: 40\n",
    "Track 1: ['m1']\n",
    "Rack 2: []\n",
    "Track 3: []\n",
    "=============================\n",
    "Action: [3, 2, 1]\n",
    "Period: 41\n",
    "Track 1: ['m1']\n",
    "Rack 2: []\n",
    "Track 3: []\n",
    "=============================\n",
    "Action: [3, 2, 1]\n",
    "Period: 42\n",
    "Track 1: ['m1']\n",
    "Rack 2: []\n",
    "Track 3: []\n",
    "=============================\n",
    "Action: [3, 2, 1]\n",
    "Period: 43\n",
    "Track 1: ['m1']\n",
    "Rack 2: []\n",
    "Track 3: []\n",
    "=============================\n",
    "Action: [3, 2, 1]\n",
    "Period: 44\n",
    "Track 1: ['m1']\n",
    "Rack 2: []\n",
    "Track 3: []\n",
    "=============================\n",
    "Action: [3, 2, 1]\n",
    "Period: 45\n",
    "Track 1: ['m1']\n",
    "Rack 2: []\n",
    "Track 3: []\n",
    "=============================\n",
    "Action: [3, 2, 1]\n",
    "Period: 46\n",
    "Track 1: ['m1']\n",
    "Rack 2: []\n",
    "Track 3: []\n",
    "=============================\n",
    "Action: [3, 2, 1]\n",
    "Period: 47\n",
    "Track 1: ['m1']\n",
    "Rack 2: []\n",
    "Track 3: []\n",
    "=============================\n",
    "Action: [3, 2, 1]\n",
    "Period: 48\n",
    "Track 1: ['m1']\n",
    "Rack 2: []\n",
    "Track 3: []\n",
    "=============================\n",
    "Action: [3, 2, 1]\n",
    "Period: 49\n",
    "Track 1: ['m1']\n",
    "Rack 2: []\n",
    "Track 3: []\n",
    "=============================\n",
    "Action: [3, 2, 1]\n",
    "Period: 50\n",
    "Track 1: ['m1']\n",
    "Rack 2: []\n",
    "Track 3: []\n",
    "=============================\n",
    "Action: [3, 2, 1]\n",
    "Period: 51\n",
    "Track 1: ['m1']\n",
    "Rack 2: []\n",
    "Track 3: []\n",
    "=============================\n",
    "Action: [3, 2, 1]\n",
    "Period: 52\n",
    "Track 1: ['m1']\n",
    "Rack 2: []\n",
    "Track 3: []\n",
    "=============================\n",
    "Action: [3, 2, 1]\n",
    "Period: 53\n",
    "Track 1: ['m1']\n",
    "Rack 2: []\n",
    "Track 3: []\n",
    "=============================\n",
    "Action: [3, 2, 1]\n",
    "Period: 54\n",
    "Track 1: ['m1']\n",
    "Rack 2: []\n",
    "Track 3: []\n",
    "=============================\n",
    "Action: [3, 2, 1]\n",
    "Period: 55\n",
    "Track 1: ['m1']\n",
    "Rack 2: []\n",
    "Track 3: []\n",
    "=============================\n",
    "Action: [3, 2, 1]\n",
    "Period: 56\n",
    "Track 1: ['m1']\n",
    "Rack 2: []\n",
    "Track 3: []\n",
    "=============================\n",
    "Action: [3, 2, 1]\n",
    "Period: 57\n",
    "Track 1: ['m1']\n",
    "Rack 2: []\n",
    "Track 3: []\n",
    "=============================\n",
    "Action: [3, 2, 1]\n",
    "Period: 58\n",
    "Track 1: ['m1']\n",
    "Rack 2: []\n",
    "Track 3: []\n",
    "=============================\n",
    "Action: [3, 2, 1]\n",
    "Period: 59\n",
    "Track 1: ['m1']\n",
    "Rack 2: []\n",
    "Track 3: []\n",
    "=============================\n",
    "Action: [3, 2, 1]\n",
    "Period: 60\n",
    "Track 1: ['m1']\n",
    "Rack 2: []\n",
    "Track 3: []\n",
    "=============================\n",
    "Action: [3, 2, 1]\n",
    "Period: 61\n",
    "Track 1: ['m1']\n",
    "Rack 2: []\n",
    "Track 3: []\n",
    "=============================\n",
    "Action: [3, 2, 1]\n",
    "Period: 62\n",
    "Track 1: ['m1']\n",
    "Rack 2: []\n",
    "Track 3: []\n",
    "=============================\n",
    "Action: [3, 2, 1]\n",
    "Period: 63\n",
    "Track 1: ['m1']\n",
    "Rack 2: []\n",
    "Track 3: []\n",
    "=============================\n",
    "Action: [3, 2, 1]\n",
    "Period: 64\n",
    "Track 1: ['m1']\n",
    "Rack 2: []\n",
    "Track 3: []\n",
    "=============================\n",
    "Action: [3, 2, 1]\n",
    "Period: 65\n",
    "Track 1: ['m1']\n",
    "Rack 2: []\n",
    "Track 3: []\n",
    "=============================\n",
    "Action: [3, 2, 1]\n",
    "Period: 66\n",
    "Track 1: ['m1']\n",
    "Rack 2: []\n",
    "Track 3: []\n",
    "=============================\n",
    "Action: [3, 2, 1]\n",
    "Period: 67\n",
    "Track 1: ['m1']\n",
    "Rack 2: []\n",
    "Track 3: []\n",
    "=============================\n",
    "Action: [3, 2, 1]\n",
    "Period: 68\n",
    "Track 1: ['m1']\n",
    "Rack 2: []\n",
    "Track 3: []\n",
    "=============================\n",
    "Action: [3, 2, 1]\n",
    "Period: 69\n",
    "Track 1: ['m1']\n",
    "Rack 2: []\n",
    "Track 3: []\n",
    "=============================\n",
    "Action: [3, 2, 1]\n",
    "Period: 70\n",
    "Track 1: ['m1']\n",
    "Rack 2: []\n",
    "Track 3: []\n",
    "=============================\n",
    "Action: [3, 2, 1]\n",
    "Period: 71\n",
    "Track 1: ['m1']\n",
    "Rack 2: []\n",
    "Track 3: []\n",
    "=============================\n",
    "Action: [3, 2, 1]\n",
    "Period: 72\n",
    "Track 1: ['m1']\n",
    "Rack 2: []\n",
    "Track 3: []\n",
    "=============================\n",
    "Action: [3, 2, 1]\n",
    "Period: 73\n",
    "Track 1: ['m1']\n",
    "Rack 2: []\n",
    "Track 3: []\n",
    "=============================\n",
    "Action: [3, 2, 1]\n",
    "Period: 74\n",
    "Track 1: ['m1']\n",
    "Rack 2: []\n",
    "Track 3: []\n",
    "=============================\n",
    "Action: [3, 2, 1]\n",
    "Period: 75\n",
    "Track 1: ['m1']\n",
    "Rack 2: []\n",
    "Track 3: []\n",
    "=============================\n",
    "Action: [3, 2, 1]\n",
    "Period: 76\n",
    "Track 1: ['m1']\n",
    "Rack 2: []\n",
    "Track 3: []\n",
    "=============================\n",
    "Action: [3, 2, 1]\n",
    "Period: 77\n",
    "Track 1: ['m1']\n",
    "Rack 2: []\n",
    "Track 3: []\n",
    "=============================\n",
    "Action: [3, 2, 1]\n",
    "Period: 78\n",
    "Track 1: ['m1']\n",
    "Rack 2: []\n",
    "Track 3: []\n",
    "=============================\n",
    "Action: [3, 2, 1]\n",
    "Period: 79\n",
    "Track 1: ['m1']\n",
    "Rack 2: []\n",
    "Track 3: []\n",
    "=============================\n",
    "Action: [3, 2, 1]\n",
    "Period: 80\n",
    "Track 1: ['m1']\n",
    "Rack 2: []\n",
    "Track 3: []\n",
    "=============================\n",
    "Action: [3, 2, 1]\n",
    "Period: 81\n",
    "Track 1: ['m1']\n",
    "Rack 2: []\n",
    "Track 3: []\n",
    "=============================\n",
    "Action: [3, 2, 1]\n",
    "Period: 82\n",
    "Track 1: ['m1']\n",
    "Rack 2: []\n",
    "Track 3: []\n",
    "=============================\n",
    "Action: [3, 2, 1]\n",
    "Period: 83\n",
    "Track 1: ['m1']\n",
    "Rack 2: []\n",
    "Track 3: []\n",
    "=============================\n",
    "Action: [3, 2, 1]\n",
    "Period: 84\n",
    "Track 1: ['m1']\n",
    "Rack 2: []\n",
    "Track 3: []\n",
    "=============================\n",
    "Action: [3, 2, 1]\n",
    "Period: 85\n",
    "Track 1: ['m1']\n",
    "Rack 2: []\n",
    "Track 3: []\n",
    "=============================\n",
    "Action: [3, 2, 1]\n",
    "Period: 86\n",
    "Track 1: ['m1']\n",
    "Rack 2: []\n",
    "Track 3: []\n",
    "=============================\n",
    "Action: [3, 2, 1]\n",
    "Period: 87\n",
    "Track 1: ['m1']\n",
    "Rack 2: []\n",
    "Track 3: []\n",
    "=============================\n",
    "Action: [3, 2, 1]\n",
    "Period: 88\n",
    "Track 1: ['m1']\n",
    "Rack 2: []\n",
    "Track 3: []\n",
    "=============================\n",
    "Action: [3, 2, 1]\n",
    "Period: 89\n",
    "Track 1: ['m1']\n",
    "Rack 2: []\n",
    "Track 3: []\n",
    "=============================\n",
    "Action: [3, 2, 1]\n",
    "Period: 90\n",
    "Track 1: ['m1']\n",
    "Rack 2: []\n",
    "Track 3: []\n",
    "=============================\n",
    "Action: [3, 2, 1]\n",
    "Period: 91\n",
    "Track 1: ['m1']\n",
    "Rack 2: []\n",
    "Track 3: []\n",
    "=============================\n",
    "Action: [3, 2, 1]\n",
    "Period: 92\n",
    "Track 1: ['m1']\n",
    "Rack 2: []\n",
    "Track 3: []\n",
    "=============================\n",
    "Action: [3, 2, 1]\n",
    "Period: 93\n",
    "Track 1: ['m1']\n",
    "Rack 2: []\n",
    "Track 3: []\n",
    "=============================\n",
    "Action: [3, 2, 1]\n",
    "Period: 94\n",
    "Track 1: ['m1']\n",
    "Rack 2: []\n",
    "Track 3: []\n",
    "=============================\n",
    "Action: [3, 2, 1]\n",
    "Period: 95\n",
    "Track 1: ['m1']\n",
    "Rack 2: []\n",
    "Track 3: []\n",
    "=============================\n",
    "Action: [3, 2, 1]\n",
    "Period: 96\n",
    "Track 1: ['m1']\n",
    "Rack 2: []\n",
    "Track 3: []\n",
    "=============================\n",
    "Action: [3, 2, 1]\n",
    "Period: 97\n",
    "Track 1: ['m1']\n",
    "Rack 2: []\n",
    "Track 3: []\n",
    "=============================\n",
    "Action: [3, 2, 1]\n",
    "Period: 98\n",
    "Track 1: ['m1']\n",
    "Rack 2: []\n",
    "Track 3: []\n",
    "=============================\n",
    "Action: [3, 2, 1]\n",
    "Period: 99\n",
    "Track 1: ['m1']\n",
    "Rack 2: []\n",
    "Track 3: []\n",
    "=============================\n",
    "Action: [3, 2, 1]\n",
    "Period: 100\n",
    "Track 1: ['m1']\n",
    "Rack 2: []\n",
    "Track 3: []\n",
    "Period: 0\n",
    "Track 1: ['m1']\n",
    "Rack 2: []\n",
    "Track 3: []\n",
    "=============================\n",
    "Action: [3, 2, 1]\n",
    "Period: 1\n",
    "Track 1: ['m1']\n",
    "Rack 2: []\n",
    "Track 3: []\n",
    "=============================\n",
    "Action: [3, 2, 1]\n",
    "Period: 2\n",
    "Track 1: ['m1']\n",
    "Rack 2: []\n",
    "Track 3: []\n",
    "=============================\n",
    "Action: [3, 2, 1]\n",
    "Period: 3\n",
    "Track 1: ['m1']\n",
    "Rack 2: []\n",
    "Track 3: []\n",
    "=============================\n",
    "Action: [3, 2, 1]\n",
    "Period: 4\n",
    "Track 1: ['m1']\n",
    "Rack 2: []\n",
    "Track 3: []\n",
    "=============================\n",
    "Action: [3, 2, 1]\n",
    "Period: 5\n",
    "Track 1: ['m1']\n",
    "Rack 2: []\n",
    "Track 3: []\n",
    "=============================\n",
    "Action: [3, 2, 1]\n",
    "Period: 6\n",
    "Track 1: ['m1']\n",
    "Rack 2: []\n",
    "Track 3: []\n",
    "=============================\n",
    "Action: [3, 2, 1]\n",
    "Period: 7\n",
    "Track 1: ['m1']\n",
    "Rack 2: []\n",
    "Track 3: []\n",
    "=============================\n",
    "Action: [3, 2, 1]\n",
    "Period: 8\n",
    "Track 1: ['m1']\n",
    "Rack 2: []\n",
    "Track 3: []\n",
    "=============================\n",
    "Action: [3, 2, 1]\n",
    "Period: 9\n",
    "Track 1: ['m1']\n",
    "Rack 2: []\n",
    "Track 3: []\n",
    "=============================\n",
    "Action: [3, 2, 1]\n",
    "Period: 10\n",
    "Track 1: ['m1']\n",
    "Rack 2: []\n",
    "Track 3: []\n",
    "=============================\n",
    "Action: [3, 2, 1]\n",
    "Period: 11\n",
    "Track 1: ['m1']\n",
    "Rack 2: []\n",
    "Track 3: []\n",
    "=============================\n",
    "Action: [3, 2, 1]\n",
    "Period: 12\n",
    "Track 1: ['m1']\n",
    "Rack 2: []\n",
    "Track 3: []\n",
    "=============================\n",
    "Action: [3, 2, 1]\n",
    "Period: 13\n",
    "Track 1: ['m1']\n",
    "Rack 2: []\n",
    "Track 3: []\n",
    "=============================\n",
    "Action: [3, 2, 1]\n",
    "Period: 14\n",
    "Track 1: ['m1']\n",
    "Rack 2: []\n",
    "Track 3: []\n",
    "=============================\n",
    "Action: [3, 2, 1]\n",
    "Period: 15\n",
    "Track 1: ['m1']\n",
    "Rack 2: []\n",
    "Track 3: []\n",
    "=============================\n",
    "Action: [3, 2, 1]\n",
    "Period: 16\n",
    "Track 1: ['m1']\n",
    "Rack 2: []\n",
    "Track 3: []\n",
    "=============================\n",
    "Action: [3, 2, 1]\n",
    "Period: 17\n",
    "Track 1: ['m1']\n",
    "Rack 2: []\n",
    "Track 3: []\n",
    "=============================\n",
    "Action: [3, 2, 1]\n",
    "Period: 18\n",
    "Track 1: ['m1']\n",
    "Rack 2: []\n",
    "Track 3: []\n",
    "=============================\n",
    "Action: [3, 2, 1]\n",
    "Period: 19\n",
    "Track 1: ['m1']\n",
    "Rack 2: []\n",
    "Track 3: []\n",
    "=============================\n",
    "Action: [3, 2, 1]\n",
    "Period: 20\n",
    "Track 1: ['m1']\n",
    "Rack 2: []\n",
    "Track 3: []\n",
    "=============================\n",
    "Action: [3, 2, 1]\n",
    "Period: 21\n",
    "Track 1: ['m1']\n",
    "Rack 2: []\n",
    "Track 3: []\n",
    "=============================\n",
    "Action: [3, 2, 1]\n",
    "Period: 22\n",
    "Track 1: ['m1']\n",
    "Rack 2: []\n",
    "Track 3: []\n",
    "=============================\n",
    "Action: [3, 2, 1]\n",
    "Period: 23\n",
    "Track 1: ['m1']\n",
    "Rack 2: []\n",
    "Track 3: []\n",
    "=============================\n",
    "Action: [3, 2, 1]\n",
    "Period: 24\n",
    "Track 1: ['m1']\n",
    "Rack 2: []\n",
    "Track 3: []\n",
    "=============================\n",
    "Action: [3, 2, 1]\n",
    "Period: 25\n",
    "Track 1: ['m1']\n",
    "Rack 2: []\n",
    "Track 3: []\n",
    "=============================\n",
    "Action: [3, 2, 1]\n",
    "Period: 26\n",
    "Track 1: ['m1']\n",
    "Rack 2: []\n",
    "Track 3: []\n",
    "=============================\n",
    "Action: [3, 2, 1]\n",
    "Period: 27\n",
    "Track 1: ['m1']\n",
    "Rack 2: []\n",
    "Track 3: []\n",
    "=============================\n",
    "Action: [3, 2, 1]\n",
    "Period: 28\n",
    "Track 1: ['m1']\n",
    "Rack 2: []\n",
    "Track 3: []\n",
    "=============================\n",
    "Action: [3, 2, 1]\n",
    "Period: 29\n",
    "Track 1: ['m1']\n",
    "Rack 2: []\n",
    "Track 3: []\n",
    "=============================\n",
    "Action: [3, 2, 1]\n",
    "Period: 30\n",
    "Track 1: ['m1']\n",
    "Rack 2: []\n",
    "Track 3: []\n",
    "=============================\n",
    "Action: [3, 2, 1]\n",
    "Period: 31\n",
    "Track 1: ['m1']\n",
    "Rack 2: []\n",
    "Track 3: []\n",
    "=============================\n",
    "Action: [3, 2, 1]\n",
    "Period: 32\n",
    "Track 1: ['m1']\n",
    "Rack 2: []\n",
    "Track 3: []\n",
    "=============================\n",
    "Action: [3, 2, 1]\n",
    "Period: 33\n",
    "Track 1: ['m1']\n",
    "Rack 2: []\n",
    "Track 3: []\n",
    "=============================\n",
    "Action: [3, 2, 1]\n",
    "Period: 34\n",
    "Track 1: ['m1']\n",
    "Rack 2: []\n",
    "Track 3: []\n",
    "=============================\n",
    "Action: [3, 2, 1]\n",
    "Period: 35\n",
    "Track 1: ['m1']\n",
    "Rack 2: []\n",
    "Track 3: []\n",
    "=============================\n",
    "Action: [3, 2, 1]\n",
    "Period: 36\n",
    "Track 1: ['m1']\n",
    "Rack 2: []\n",
    "Track 3: []\n",
    "=============================\n",
    "Action: [3, 2, 1]\n",
    "Period: 37\n",
    "Track 1: ['m1']\n",
    "Rack 2: []\n",
    "Track 3: []\n",
    "=============================\n",
    "Action: [3, 2, 1]\n",
    "Period: 38\n",
    "Track 1: ['m1']\n",
    "Rack 2: []\n",
    "Track 3: []\n",
    "=============================\n",
    "Action: [3, 2, 1]\n",
    "Period: 39\n",
    "Track 1: ['m1']\n",
    "Rack 2: []\n",
    "Track 3: []\n",
    "=============================\n",
    "Action: [3, 2, 1]\n",
    "Period: 40\n",
    "Track 1: ['m1']\n",
    "Rack 2: []\n",
    "Track 3: []\n",
    "=============================\n",
    "Action: [3, 2, 1]\n",
    "Period: 41\n",
    "Track 1: ['m1']\n",
    "Rack 2: []\n",
    "Track 3: []\n",
    "=============================\n",
    "Action: [3, 2, 1]\n",
    "Period: 42\n",
    "Track 1: ['m1']\n",
    "Rack 2: []\n",
    "Track 3: []\n",
    "=============================\n",
    "Action: [3, 2, 1]\n",
    "Period: 43\n",
    "Track 1: ['m1']\n",
    "Rack 2: []\n",
    "Track 3: []\n",
    "=============================\n",
    "Action: [3, 2, 1]\n",
    "Period: 44\n",
    "Track 1: ['m1']\n",
    "Rack 2: []\n",
    "Track 3: []\n",
    "=============================\n",
    "Action: [3, 2, 1]\n",
    "Period: 45\n",
    "Track 1: ['m1']\n",
    "Rack 2: []\n",
    "Track 3: []\n",
    "=============================\n",
    "Action: [3, 2, 1]\n",
    "Period: 46\n",
    "Track 1: ['m1']\n",
    "Rack 2: []\n",
    "Track 3: []\n",
    "=============================\n",
    "Action: [3, 2, 1]\n",
    "Period: 47\n",
    "Track 1: ['m1']\n",
    "Rack 2: []\n",
    "Track 3: []\n",
    "=============================\n",
    "Action: [3, 2, 1]\n",
    "Period: 48\n",
    "Track 1: ['m1']\n",
    "Rack 2: []\n",
    "Track 3: []\n",
    "=============================\n",
    "Action: [3, 2, 1]\n",
    "Period: 49\n",
    "Track 1: ['m1']\n",
    "Rack 2: []\n",
    "Track 3: []\n",
    "=============================\n",
    "Action: [3, 2, 1]\n",
    "Period: 50\n",
    "Track 1: ['m1']\n",
    "Rack 2: []\n",
    "Track 3: []\n",
    "=============================\n",
    "Action: [3, 2, 1]\n",
    "Period: 51\n",
    "Track 1: ['m1']\n",
    "Rack 2: []\n",
    "Track 3: []\n",
    "=============================\n",
    "Action: [3, 2, 1]\n",
    "Period: 52\n",
    "Track 1: ['m1']\n",
    "Rack 2: []\n",
    "Track 3: []\n",
    "=============================\n",
    "Action: [3, 2, 1]\n",
    "Period: 53\n",
    "Track 1: ['m1']\n",
    "Rack 2: []\n",
    "Track 3: []\n",
    "=============================\n",
    "Action: [3, 2, 1]\n",
    "Period: 54\n",
    "Track 1: ['m1']\n",
    "Rack 2: []\n",
    "Track 3: []\n",
    "=============================\n",
    "Action: [3, 2, 1]\n",
    "Period: 55\n",
    "Track 1: ['m1']\n",
    "Rack 2: []\n",
    "Track 3: []\n",
    "=============================\n",
    "Action: [3, 2, 1]\n",
    "Period: 56\n",
    "Track 1: ['m1']\n",
    "Rack 2: []\n",
    "Track 3: []\n",
    "=============================\n",
    "Action: [3, 2, 1]\n",
    "Period: 57\n",
    "Track 1: ['m1']\n",
    "Rack 2: []\n",
    "Track 3: []\n",
    "=============================\n",
    "Action: [3, 2, 1]\n",
    "Period: 58\n",
    "Track 1: ['m1']\n",
    "Rack 2: []\n",
    "Track 3: []\n",
    "=============================\n",
    "Action: [3, 2, 1]\n",
    "Period: 59\n",
    "Track 1: ['m1']\n",
    "Rack 2: []\n",
    "Track 3: []\n",
    "=============================\n",
    "Action: [3, 2, 1]\n",
    "Period: 60\n",
    "Track 1: ['m1']\n",
    "Rack 2: []\n",
    "Track 3: []\n",
    "=============================\n",
    "Action: [3, 2, 1]\n",
    "Period: 61\n",
    "Track 1: ['m1']\n",
    "Rack 2: []\n",
    "Track 3: []\n",
    "=============================\n",
    "Action: [3, 2, 1]\n",
    "Period: 62\n",
    "Track 1: ['m1']\n",
    "Rack 2: []\n",
    "Track 3: []\n",
    "=============================\n",
    "Action: [3, 2, 1]\n",
    "Period: 63\n",
    "Track 1: ['m1']\n",
    "Rack 2: []\n",
    "Track 3: []\n",
    "=============================\n",
    "Action: [3, 2, 1]\n",
    "Period: 64\n",
    "Track 1: ['m1']\n",
    "Rack 2: []\n",
    "Track 3: []\n",
    "=============================\n",
    "Action: [3, 2, 1]\n",
    "Period: 65\n",
    "Track 1: ['m1']\n",
    "Rack 2: []\n",
    "Track 3: []\n",
    "=============================\n",
    "Action: [3, 2, 1]\n",
    "Period: 66\n",
    "Track 1: ['m1']\n",
    "Rack 2: []\n",
    "Track 3: []\n",
    "=============================\n",
    "Action: [3, 2, 1]\n",
    "Period: 67\n",
    "Track 1: ['m1']\n",
    "Rack 2: []\n",
    "Track 3: []\n",
    "=============================\n",
    "Action: [3, 2, 1]\n",
    "Period: 68\n",
    "Track 1: ['m1']\n",
    "Rack 2: []\n",
    "Track 3: []\n",
    "=============================\n",
    "Action: [3, 2, 1]\n",
    "Period: 69\n",
    "Track 1: ['m1']\n",
    "Rack 2: []\n",
    "Track 3: []\n",
    "=============================\n",
    "Action: [3, 2, 1]\n",
    "Period: 70\n",
    "Track 1: ['m1']\n",
    "Rack 2: []\n",
    "Track 3: []\n",
    "=============================\n",
    "Action: [3, 2, 1]\n",
    "Period: 71\n",
    "Track 1: ['m1']\n",
    "Rack 2: []\n",
    "Track 3: []\n",
    "=============================\n",
    "Action: [3, 2, 1]\n",
    "Period: 72\n",
    "Track 1: ['m1']\n",
    "Rack 2: []\n",
    "Track 3: []\n",
    "=============================\n",
    "Action: [3, 2, 1]\n",
    "Period: 73\n",
    "Track 1: ['m1']\n",
    "Rack 2: []\n",
    "Track 3: []\n",
    "=============================\n",
    "Action: [3, 2, 1]\n",
    "Period: 74\n",
    "Track 1: ['m1']\n",
    "Rack 2: []\n",
    "Track 3: []\n",
    "=============================\n",
    "Action: [3, 2, 1]\n",
    "Period: 75\n",
    "Track 1: ['m1']\n",
    "Rack 2: []\n",
    "Track 3: []\n",
    "=============================\n",
    "Action: [3, 2, 1]\n",
    "Period: 76\n",
    "Track 1: ['m1']\n",
    "Rack 2: []\n",
    "Track 3: []\n",
    "=============================\n",
    "Action: [3, 2, 1]\n",
    "Period: 77\n",
    "Track 1: ['m1']\n",
    "Rack 2: []\n",
    "Track 3: []\n",
    "=============================\n",
    "Action: [3, 2, 1]\n",
    "Period: 78\n",
    "Track 1: ['m1']\n",
    "Rack 2: []\n",
    "Track 3: []\n",
    "=============================\n",
    "Action: [3, 2, 1]\n",
    "Period: 79\n",
    "Track 1: ['m1']\n",
    "Rack 2: []\n",
    "Track 3: []\n",
    "=============================\n",
    "Action: [3, 2, 1]\n",
    "Period: 80\n",
    "Track 1: ['m1']\n",
    "Rack 2: []\n",
    "Track 3: []\n",
    "=============================\n",
    "Action: [3, 2, 1]\n",
    "Period: 81\n",
    "Track 1: ['m1']\n",
    "Rack 2: []\n",
    "Track 3: []\n",
    "=============================\n",
    "Action: [3, 2, 1]\n",
    "Period: 82\n",
    "Track 1: ['m1']\n",
    "Rack 2: []\n",
    "Track 3: []\n",
    "=============================\n",
    "Action: [3, 2, 1]\n",
    "Period: 83\n",
    "Track 1: ['m1']\n",
    "Rack 2: []\n",
    "Track 3: []\n",
    "=============================\n",
    "Action: [3, 2, 1]\n",
    "Period: 84\n",
    "Track 1: ['m1']\n",
    "Rack 2: []\n",
    "Track 3: []\n",
    "=============================\n",
    "Action: [3, 2, 1]\n",
    "Period: 85\n",
    "Track 1: ['m1']\n",
    "Rack 2: []\n",
    "Track 3: []\n",
    "=============================\n",
    "Action: [3, 2, 1]\n",
    "Period: 86\n",
    "Track 1: ['m1']\n",
    "Rack 2: []\n",
    "Track 3: []\n",
    "=============================\n",
    "Action: [3, 2, 1]\n",
    "Period: 87\n",
    "Track 1: ['m1']\n",
    "Rack 2: []\n",
    "Track 3: []\n",
    "=============================\n",
    "Action: [3, 2, 1]\n",
    "Period: 88\n",
    "Track 1: ['m1']\n",
    "Rack 2: []\n",
    "Track 3: []\n",
    "=============================\n",
    "Action: [3, 2, 1]\n",
    "Period: 89\n",
    "Track 1: ['m1']\n",
    "Rack 2: []\n",
    "Track 3: []\n",
    "=============================\n",
    "Action: [3, 2, 1]\n",
    "Period: 90\n",
    "Track 1: ['m1']\n",
    "Rack 2: []\n",
    "Track 3: []\n",
    "=============================\n",
    "Action: [3, 2, 1]\n",
    "Period: 91\n",
    "Track 1: ['m1']\n",
    "Rack 2: []\n",
    "Track 3: []\n",
    "=============================\n",
    "Action: [3, 2, 1]\n",
    "Period: 92\n",
    "Track 1: ['m1']\n",
    "Rack 2: []\n",
    "Track 3: []\n",
    "=============================\n",
    "Action: [3, 2, 1]\n",
    "Period: 93\n",
    "Track 1: ['m1']\n",
    "Rack 2: []\n",
    "Track 3: []\n",
    "=============================\n",
    "Action: [3, 2, 1]\n",
    "Period: 94\n",
    "Track 1: ['m1']\n",
    "Rack 2: []\n",
    "Track 3: []\n",
    "=============================\n",
    "Action: [3, 2, 1]\n",
    "Period: 95\n",
    "Track 1: ['m1']\n",
    "Rack 2: []\n",
    "Track 3: []\n",
    "=============================\n",
    "Action: [3, 2, 1]\n",
    "Period: 96\n",
    "Track 1: ['m1']\n",
    "Rack 2: []\n",
    "Track 3: []\n",
    "=============================\n",
    "Action: [3, 2, 1]\n",
    "Period: 97\n",
    "Track 1: ['m1']\n",
    "Rack 2: []\n",
    "Track 3: []\n",
    "=============================\n",
    "Action: [3, 2, 1]\n",
    "Period: 98\n",
    "Track 1: ['m1']\n",
    "Rack 2: []\n",
    "Track 3: []\n",
    "=============================\n",
    "Action: [3, 2, 1]\n",
    "Period: 99\n",
    "Track 1: ['m1']\n",
    "Rack 2: []\n",
    "Track 3: []\n",
    "=============================\n",
    "Action: [3, 2, 1]\n",
    "Period: 100\n",
    "Track 1: ['m1']\n",
    "Rack 2: []\n",
    "Track 3: []\n",
    "Period: 0\n",
    "Track 1: ['m1']\n",
    "Rack 2: []\n",
    "Track 3: []\n",
    "=============================\n",
    "Action: [3, 2, 1]\n",
    "Period: 1\n",
    "Track 1: ['m1']\n",
    "Rack 2: []\n",
    "Track 3: []\n",
    "=============================\n",
    "Action: [3, 2, 1]\n",
    "Period: 2\n",
    "Track 1: ['m1']\n",
    "Rack 2: []\n",
    "Track 3: []\n",
    "=============================\n",
    "Action: [3, 2, 1]\n",
    "Period: 3\n",
    "Track 1: ['m1']\n",
    "Rack 2: []\n",
    "Track 3: []\n",
    "=============================\n",
    "Action: [3, 2, 1]\n",
    "Period: 4\n",
    "Track 1: ['m1']\n",
    "Rack 2: []\n",
    "Track 3: []\n",
    "=============================\n",
    "Action: [3, 2, 1]\n",
    "Period: 5\n",
    "Track 1: ['m1']\n",
    "Rack 2: []\n",
    "Track 3: []\n",
    "=============================\n",
    "Action: [3, 2, 1]\n",
    "Period: 6\n",
    "Track 1: ['m1']\n",
    "Rack 2: []\n",
    "Track 3: []\n",
    "=============================\n",
    "Action: [3, 2, 1]\n",
    "Period: 7\n",
    "Track 1: ['m1']\n",
    "Rack 2: []\n",
    "Track 3: []\n",
    "=============================\n",
    "Action: [3, 2, 1]\n",
    "Period: 8\n",
    "Track 1: ['m1']\n",
    "Rack 2: []\n",
    "Track 3: []\n",
    "=============================\n",
    "Action: [3, 2, 1]\n",
    "Period: 9\n",
    "Track 1: ['m1']\n",
    "Rack 2: []\n",
    "Track 3: []\n",
    "=============================\n",
    "Action: [3, 2, 1]\n",
    "Period: 10\n",
    "Track 1: ['m1']\n",
    "Rack 2: []\n",
    "Track 3: []\n",
    "=============================\n",
    "Action: [3, 2, 1]\n",
    "Period: 11\n",
    "Track 1: ['m1']\n",
    "Rack 2: []\n",
    "Track 3: []\n",
    "=============================\n",
    "Action: [3, 2, 1]\n",
    "Period: 12\n",
    "Track 1: ['m1']\n",
    "Rack 2: []\n",
    "Track 3: []\n",
    "=============================\n",
    "Action: [3, 2, 1]\n",
    "Period: 13\n",
    "Track 1: ['m1']\n",
    "Rack 2: []\n",
    "Track 3: []\n",
    "=============================\n",
    "Action: [3, 2, 1]\n",
    "Period: 14\n",
    "Track 1: ['m1']\n",
    "Rack 2: []\n",
    "Track 3: []\n",
    "=============================\n",
    "Action: [3, 2, 1]\n",
    "Period: 15\n",
    "Track 1: ['m1']\n",
    "Rack 2: []\n",
    "Track 3: []\n",
    "=============================\n",
    "Action: [3, 2, 1]\n",
    "Period: 16\n",
    "Track 1: ['m1']\n",
    "Rack 2: []\n",
    "Track 3: []\n",
    "=============================\n",
    "Action: [3, 2, 1]\n",
    "Period: 17\n",
    "Track 1: ['m1']\n",
    "Rack 2: []\n",
    "Track 3: []\n",
    "=============================\n",
    "Action: [3, 2, 1]\n",
    "Period: 18\n",
    "Track 1: ['m1']\n",
    "Rack 2: []\n",
    "Track 3: []\n",
    "=============================\n",
    "Action: [3, 2, 1]\n",
    "Period: 19\n",
    "Track 1: ['m1']\n",
    "Rack 2: []\n",
    "Track 3: []\n",
    "=============================\n",
    "Action: [3, 2, 1]\n",
    "Period: 20\n",
    "Track 1: ['m1']\n",
    "Rack 2: []\n",
    "Track 3: []\n",
    "=============================\n",
    "Action: [3, 2, 1]\n",
    "Period: 21\n",
    "Track 1: ['m1']\n",
    "Rack 2: []\n",
    "Track 3: []\n",
    "=============================\n",
    "Action: [3, 2, 1]\n",
    "Period: 22\n",
    "Track 1: ['m1']\n",
    "Rack 2: []\n",
    "Track 3: []\n",
    "=============================\n",
    "Action: [3, 2, 1]\n",
    "Period: 23\n",
    "Track 1: ['m1']\n",
    "Rack 2: []\n",
    "Track 3: []\n",
    "=============================\n",
    "Action: [3, 2, 1]\n",
    "Period: 24\n",
    "Track 1: ['m1']\n",
    "Rack 2: []\n",
    "Track 3: []\n",
    "=============================\n",
    "Action: [3, 2, 1]\n",
    "Period: 25\n",
    "Track 1: ['m1']\n",
    "Rack 2: []\n",
    "Track 3: []\n",
    "=============================\n",
    "Action: [3, 2, 1]\n",
    "Period: 26\n",
    "Track 1: ['m1']\n",
    "Rack 2: []\n",
    "Track 3: []\n",
    "=============================\n",
    "Action: [3, 2, 1]\n",
    "Period: 27\n",
    "Track 1: ['m1']\n",
    "Rack 2: []\n",
    "Track 3: []\n",
    "=============================\n",
    "Action: [3, 2, 1]\n",
    "Period: 28\n",
    "Track 1: ['m1']\n",
    "Rack 2: []\n",
    "Track 3: []\n",
    "=============================\n",
    "Action: [3, 2, 1]\n",
    "Period: 29\n",
    "Track 1: ['m1']\n",
    "Rack 2: []\n",
    "Track 3: []\n",
    "=============================\n",
    "Action: [3, 2, 1]\n",
    "Period: 30\n",
    "Track 1: ['m1']\n",
    "Rack 2: []\n",
    "Track 3: []\n",
    "=============================\n",
    "Action: [3, 2, 1]\n",
    "Period: 31\n",
    "Track 1: ['m1']\n",
    "Rack 2: []\n",
    "Track 3: []\n",
    "=============================\n",
    "Action: [3, 2, 1]\n",
    "Period: 32\n",
    "Track 1: ['m1']\n",
    "Rack 2: []\n",
    "Track 3: []\n",
    "=============================\n",
    "Action: [3, 2, 1]\n",
    "Period: 33\n",
    "Track 1: ['m1']\n",
    "Rack 2: []\n",
    "Track 3: []\n",
    "=============================\n",
    "Action: [3, 2, 1]\n",
    "Period: 34\n",
    "Track 1: ['m1']\n",
    "Rack 2: []\n",
    "Track 3: []\n",
    "=============================\n",
    "Action: [3, 2, 1]\n",
    "Period: 35\n",
    "Track 1: ['m1']\n",
    "Rack 2: []\n",
    "Track 3: []\n",
    "=============================\n",
    "Action: [3, 2, 1]\n",
    "Period: 36\n",
    "Track 1: ['m1']\n",
    "Rack 2: []\n",
    "Track 3: []\n",
    "=============================\n",
    "Action: [3, 2, 1]\n",
    "Period: 37\n",
    "Track 1: ['m1']\n",
    "Rack 2: []\n",
    "Track 3: []\n",
    "=============================\n",
    "Action: [3, 2, 1]\n",
    "Period: 38\n",
    "Track 1: ['m1']\n",
    "Rack 2: []\n",
    "Track 3: []\n",
    "=============================\n",
    "Action: [3, 2, 1]\n",
    "Period: 39\n",
    "Track 1: ['m1']\n",
    "Rack 2: []\n",
    "Track 3: []\n",
    "=============================\n",
    "Action: [3, 2, 1]\n",
    "Period: 40\n",
    "Track 1: ['m1']\n",
    "Rack 2: []\n",
    "Track 3: []\n",
    "=============================\n",
    "Action: [3, 2, 1]\n",
    "Period: 41\n",
    "Track 1: ['m1']\n",
    "Rack 2: []\n",
    "Track 3: []\n",
    "=============================\n",
    "Action: [3, 2, 1]\n",
    "Period: 42\n",
    "Track 1: ['m1']\n",
    "Rack 2: []\n",
    "Track 3: []\n",
    "=============================\n",
    "Action: [3, 2, 1]\n",
    "Period: 43\n",
    "Track 1: ['m1']\n",
    "Rack 2: []\n",
    "Track 3: []\n",
    "=============================\n",
    "Action: [3, 2, 1]\n",
    "Period: 44\n",
    "Track 1: ['m1']\n",
    "Rack 2: []\n",
    "Track 3: []\n",
    "=============================\n",
    "Action: [3, 2, 1]\n",
    "Period: 45\n",
    "Track 1: ['m1']\n",
    "Rack 2: []\n",
    "Track 3: []\n",
    "=============================\n",
    "Action: [3, 2, 1]\n",
    "Period: 46\n",
    "Track 1: ['m1']\n",
    "Rack 2: []\n",
    "Track 3: []\n",
    "=============================\n",
    "Action: [3, 2, 1]\n",
    "Period: 47\n",
    "Track 1: ['m1']\n",
    "Rack 2: []\n",
    "Track 3: []\n",
    "=============================\n",
    "Action: [3, 2, 1]\n",
    "Period: 48\n",
    "Track 1: ['m1']\n",
    "Rack 2: []\n",
    "Track 3: []\n",
    "=============================\n",
    "Action: [3, 2, 1]\n",
    "Period: 49\n",
    "Track 1: ['m1']\n",
    "Rack 2: []\n",
    "Track 3: []\n",
    "=============================\n",
    "Action: [3, 2, 1]\n",
    "Period: 50\n",
    "Track 1: ['m1']\n",
    "Rack 2: []\n",
    "Track 3: []\n",
    "=============================\n",
    "Action: [3, 2, 1]\n",
    "Period: 51\n",
    "Track 1: ['m1']\n",
    "Rack 2: []\n",
    "Track 3: []\n",
    "=============================\n",
    "Action: [3, 2, 1]\n",
    "Period: 52\n",
    "Track 1: ['m1']\n",
    "Rack 2: []\n",
    "Track 3: []\n",
    "=============================\n",
    "Action: [3, 2, 1]\n",
    "Period: 53\n",
    "Track 1: ['m1']\n",
    "Rack 2: []\n",
    "Track 3: []\n",
    "=============================\n",
    "Action: [3, 2, 1]\n",
    "Period: 54\n",
    "Track 1: ['m1']\n",
    "Rack 2: []\n",
    "Track 3: []\n",
    "=============================\n",
    "Action: [3, 2, 1]\n",
    "Period: 55\n",
    "Track 1: ['m1']\n",
    "Rack 2: []\n",
    "Track 3: []\n",
    "=============================\n",
    "Action: [3, 2, 1]\n",
    "Period: 56\n",
    "Track 1: ['m1']\n",
    "Rack 2: []\n",
    "Track 3: []\n",
    "=============================\n",
    "Action: [3, 2, 1]\n",
    "Period: 57\n",
    "Track 1: ['m1']\n",
    "Rack 2: []\n",
    "Track 3: []\n",
    "=============================\n",
    "Action: [3, 2, 1]\n",
    "Period: 58\n",
    "Track 1: ['m1']\n",
    "Rack 2: []\n",
    "Track 3: []\n",
    "=============================\n",
    "Action: [3, 2, 1]\n",
    "Period: 59\n",
    "Track 1: ['m1']\n",
    "Rack 2: []\n",
    "Track 3: []\n",
    "=============================\n",
    "Action: [3, 2, 1]\n",
    "Period: 60\n",
    "Track 1: ['m1']\n",
    "Rack 2: []\n",
    "Track 3: []\n",
    "=============================\n",
    "Action: [3, 2, 1]\n",
    "Period: 61\n",
    "Track 1: ['m1']\n",
    "Rack 2: []\n",
    "Track 3: []\n",
    "=============================\n",
    "Action: [3, 2, 1]\n",
    "Period: 62\n",
    "Track 1: ['m1']\n",
    "Rack 2: []\n",
    "Track 3: []\n",
    "=============================\n",
    "Action: [3, 2, 1]\n",
    "Period: 63\n",
    "Track 1: ['m1']\n",
    "Rack 2: []\n",
    "Track 3: []\n",
    "=============================\n",
    "Action: [3, 2, 1]\n",
    "Period: 64\n",
    "Track 1: ['m1']\n",
    "Rack 2: []\n",
    "Track 3: []\n",
    "=============================\n",
    "Action: [3, 2, 1]\n",
    "Period: 65\n",
    "Track 1: ['m1']\n",
    "Rack 2: []\n",
    "Track 3: []\n",
    "=============================\n",
    "Action: [3, 2, 1]\n",
    "Period: 66\n",
    "Track 1: ['m1']\n",
    "Rack 2: []\n",
    "Track 3: []\n",
    "=============================\n",
    "Action: [3, 2, 1]\n",
    "Period: 67\n",
    "Track 1: ['m1']\n",
    "Rack 2: []\n",
    "Track 3: []\n",
    "=============================\n",
    "Action: [3, 2, 1]\n",
    "Period: 68\n",
    "Track 1: ['m1']\n",
    "Rack 2: []\n",
    "Track 3: []\n",
    "=============================\n",
    "Action: [3, 2, 1]\n",
    "Period: 69\n",
    "Track 1: ['m1']\n",
    "Rack 2: []\n",
    "Track 3: []\n",
    "=============================\n",
    "Action: [3, 2, 1]\n",
    "Period: 70\n",
    "Track 1: ['m1']\n",
    "Rack 2: []\n",
    "Track 3: []\n",
    "=============================\n",
    "Action: [3, 2, 1]\n",
    "Period: 71\n",
    "Track 1: ['m1']\n",
    "Rack 2: []\n",
    "Track 3: []\n",
    "=============================\n",
    "Action: [3, 2, 1]\n",
    "Period: 72\n",
    "Track 1: ['m1']\n",
    "Rack 2: []\n",
    "Track 3: []\n",
    "=============================\n",
    "Action: [3, 2, 1]\n",
    "Period: 73\n",
    "Track 1: ['m1']\n",
    "Rack 2: []\n",
    "Track 3: []\n",
    "=============================\n",
    "Action: [3, 2, 1]\n",
    "Period: 74\n",
    "Track 1: ['m1']\n",
    "Rack 2: []\n",
    "Track 3: []\n",
    "=============================\n",
    "Action: [3, 2, 1]\n",
    "Period: 75\n",
    "Track 1: ['m1']\n",
    "Rack 2: []\n",
    "Track 3: []\n",
    "=============================\n",
    "Action: [3, 2, 1]\n",
    "Period: 76\n",
    "Track 1: ['m1']\n",
    "Rack 2: []\n",
    "Track 3: []\n",
    "=============================\n",
    "Action: [3, 2, 1]\n",
    "Period: 77\n",
    "Track 1: ['m1']\n",
    "Rack 2: []\n",
    "Track 3: []\n",
    "=============================\n",
    "Action: [3, 2, 1]\n",
    "Period: 78\n",
    "Track 1: ['m1']\n",
    "Rack 2: []\n",
    "Track 3: []\n",
    "=============================\n",
    "Action: [3, 2, 1]\n",
    "Period: 79\n",
    "Track 1: ['m1']\n",
    "Rack 2: []\n",
    "Track 3: []\n",
    "=============================\n",
    "Action: [3, 2, 1]\n",
    "Period: 80\n",
    "Track 1: ['m1']\n",
    "Rack 2: []\n",
    "Track 3: []\n",
    "=============================\n",
    "Action: [3, 2, 1]\n",
    "Period: 81\n",
    "Track 1: ['m1']\n",
    "Rack 2: []\n",
    "Track 3: []\n",
    "=============================\n",
    "Action: [3, 2, 1]\n",
    "Period: 82\n",
    "Track 1: ['m1']\n",
    "Rack 2: []\n",
    "Track 3: []\n",
    "=============================\n",
    "Action: [3, 2, 1]\n",
    "Period: 83\n",
    "Track 1: ['m1']\n",
    "Rack 2: []\n",
    "Track 3: []\n",
    "=============================\n",
    "Action: [3, 2, 1]\n",
    "Period: 84\n",
    "Track 1: ['m1']\n",
    "Rack 2: []\n",
    "Track 3: []\n",
    "=============================\n",
    "Action: [3, 2, 1]\n",
    "Period: 85\n",
    "Track 1: ['m1']\n",
    "Rack 2: []\n",
    "Track 3: []\n",
    "=============================\n",
    "Action: [3, 2, 1]\n",
    "Period: 86\n",
    "Track 1: ['m1']\n",
    "Rack 2: []\n",
    "Track 3: []\n",
    "=============================\n",
    "Action: [3, 2, 1]\n",
    "Period: 87\n",
    "Track 1: ['m1']\n",
    "Rack 2: []\n",
    "Track 3: []\n",
    "=============================\n",
    "Action: [3, 2, 1]\n",
    "Period: 88\n",
    "Track 1: ['m1']\n",
    "Rack 2: []\n",
    "Track 3: []\n",
    "=============================\n",
    "Action: [3, 2, 1]\n",
    "Period: 89\n",
    "Track 1: ['m1']\n",
    "Rack 2: []\n",
    "Track 3: []\n",
    "=============================\n",
    "Action: [3, 2, 1]\n",
    "Period: 90\n",
    "Track 1: ['m1']\n",
    "Rack 2: []\n",
    "Track 3: []\n",
    "=============================\n",
    "Action: [3, 2, 1]\n",
    "Period: 91\n",
    "Track 1: ['m1']\n",
    "Rack 2: []\n",
    "Track 3: []\n",
    "=============================\n",
    "Action: [3, 2, 1]\n",
    "Period: 92\n",
    "Track 1: ['m1']\n",
    "Rack 2: []\n",
    "Track 3: []\n",
    "=============================\n",
    "Action: [3, 2, 1]\n",
    "Period: 93\n",
    "Track 1: ['m1']\n",
    "Rack 2: []\n",
    "Track 3: []\n",
    "=============================\n",
    "Action: [3, 2, 1]\n",
    "Period: 94\n",
    "Track 1: ['m1']\n",
    "Rack 2: []\n",
    "Track 3: []\n",
    "=============================\n",
    "Action: [3, 2, 1]\n",
    "Period: 95\n",
    "Track 1: ['m1']\n",
    "Rack 2: []\n",
    "Track 3: []\n",
    "=============================\n",
    "Action: [3, 2, 1]\n",
    "Period: 96\n",
    "Track 1: ['m1']\n",
    "Rack 2: []\n",
    "Track 3: []\n",
    "=============================\n",
    "Action: [3, 2, 1]\n",
    "Period: 97\n",
    "Track 1: ['m1']\n",
    "Rack 2: []\n",
    "Track 3: []\n",
    "=============================\n",
    "Action: [3, 2, 1]\n",
    "Period: 98\n",
    "Track 1: ['m1']\n",
    "Rack 2: []\n",
    "Track 3: []\n",
    "=============================\n",
    "Action: [3, 2, 1]\n",
    "Period: 99\n",
    "Track 1: ['m1']\n",
    "Rack 2: []\n",
    "Track 3: []\n",
    "=============================\n",
    "Action: [3, 2, 1]\n",
    "Period: 100\n",
    "Track 1: ['m1']\n",
    "Rack 2: []\n",
    "Track 3: []\n",
    "Period: 0\n",
    "Track 1: ['m1']\n",
    "Rack 2: []\n",
    "Track 3: []\n",
    "=============================\n",
    "Action: [3, 2, 1]\n",
    "Period: 1\n",
    "Track 1: ['m1']\n",
    "Rack 2: []\n",
    "Track 3: []\n",
    "=============================\n",
    "Action: [3, 2, 1]\n",
    "Period: 2\n",
    "Track 1: ['m1']\n",
    "Rack 2: []\n",
    "Track 3: []\n",
    "=============================\n",
    "Action: [3, 2, 1]\n",
    "Period: 3\n",
    "Track 1: ['m1']\n",
    "Rack 2: []\n",
    "Track 3: []\n",
    "=============================\n",
    "Action: [3, 2, 1]\n",
    "Period: 4\n",
    "Track 1: ['m1']\n",
    "Rack 2: []\n",
    "Track 3: []\n",
    "=============================\n",
    "Action: [3, 2, 1]\n",
    "Period: 5\n",
    "Track 1: ['m1']\n",
    "Rack 2: []\n",
    "Track 3: []\n",
    "=============================\n",
    "Action: [3, 2, 1]\n",
    "Period: 6\n",
    "Track 1: ['m1']\n",
    "Rack 2: []\n",
    "Track 3: []\n",
    "=============================\n",
    "Action: [3, 2, 1]\n",
    "Period: 7\n",
    "Track 1: ['m1']\n",
    "Rack 2: []\n",
    "Track 3: []\n",
    "=============================\n",
    "Action: [3, 2, 1]\n",
    "Period: 8\n",
    "Track 1: ['m1']\n",
    "Rack 2: []\n",
    "Track 3: []\n",
    "=============================\n",
    "Action: [3, 2, 1]\n",
    "Period: 9\n",
    "Track 1: ['m1']\n",
    "Rack 2: []\n",
    "Track 3: []\n",
    "=============================\n",
    "Action: [3, 2, 1]\n",
    "Period: 10\n",
    "Track 1: ['m1']\n",
    "Rack 2: []\n",
    "Track 3: []\n",
    "=============================\n",
    "Action: [3, 2, 1]\n",
    "Period: 11\n",
    "Track 1: ['m1']\n",
    "Rack 2: []\n",
    "Track 3: []\n",
    "=============================\n",
    "Action: [3, 2, 1]\n",
    "Period: 12\n",
    "Track 1: ['m1']\n",
    "Rack 2: []\n",
    "Track 3: []\n",
    "=============================\n",
    "Action: [3, 2, 1]\n",
    "Period: 13\n",
    "Track 1: ['m1']\n",
    "Rack 2: []\n",
    "Track 3: []\n",
    "=============================\n",
    "Action: [3, 2, 1]\n",
    "Period: 14\n",
    "Track 1: ['m1']\n",
    "Rack 2: []\n",
    "Track 3: []\n",
    "=============================\n",
    "Action: [3, 2, 1]\n",
    "Period: 15\n",
    "Track 1: ['m1']\n",
    "Rack 2: []\n",
    "Track 3: []\n",
    "=============================\n",
    "Action: [3, 2, 1]\n",
    "Period: 16\n",
    "Track 1: ['m1']\n",
    "Rack 2: []\n",
    "Track 3: []\n",
    "=============================\n",
    "Action: [3, 2, 1]\n",
    "Period: 17\n",
    "Track 1: ['m1']\n",
    "Rack 2: []\n",
    "Track 3: []\n",
    "=============================\n",
    "Action: [3, 2, 1]\n",
    "Period: 18\n",
    "Track 1: ['m1']\n",
    "Rack 2: []\n",
    "Track 3: []\n",
    "=============================\n",
    "Action: [3, 2, 1]\n",
    "Period: 19\n",
    "Track 1: ['m1']\n",
    "Rack 2: []\n",
    "Track 3: []\n",
    "=============================\n",
    "Action: [3, 2, 1]\n",
    "Period: 20\n",
    "Track 1: ['m1']\n",
    "Rack 2: []\n",
    "Track 3: []\n",
    "=============================\n",
    "Action: [3, 2, 1]\n",
    "Period: 21\n",
    "Track 1: ['m1']\n",
    "Rack 2: []\n",
    "Track 3: []\n",
    "=============================\n",
    "Action: [3, 2, 1]\n",
    "Period: 22\n",
    "Track 1: ['m1']\n",
    "Rack 2: []\n",
    "Track 3: []\n",
    "=============================\n",
    "Action: [3, 2, 1]\n",
    "Period: 23\n",
    "Track 1: ['m1']\n",
    "Rack 2: []\n",
    "Track 3: []\n",
    "=============================\n",
    "Action: [3, 2, 1]\n",
    "Period: 24\n",
    "Track 1: ['m1']\n",
    "Rack 2: []\n",
    "Track 3: []\n",
    "=============================\n",
    "Action: [3, 2, 1]\n",
    "Period: 25\n",
    "Track 1: ['m1']\n",
    "Rack 2: []\n",
    "Track 3: []\n",
    "=============================\n",
    "Action: [3, 2, 1]\n",
    "Period: 26\n",
    "Track 1: ['m1']\n",
    "Rack 2: []\n",
    "Track 3: []\n",
    "=============================\n",
    "Action: [3, 2, 1]\n",
    "Period: 27\n",
    "Track 1: ['m1']\n",
    "Rack 2: []\n",
    "Track 3: []\n",
    "=============================\n",
    "Action: [3, 2, 1]\n",
    "Period: 28\n",
    "Track 1: ['m1']\n",
    "Rack 2: []\n",
    "Track 3: []\n",
    "=============================\n",
    "Action: [3, 2, 1]\n",
    "Period: 29\n",
    "Track 1: ['m1']\n",
    "Rack 2: []\n",
    "Track 3: []\n",
    "=============================\n",
    "Action: [3, 2, 1]\n",
    "Period: 30\n",
    "Track 1: ['m1']\n",
    "Rack 2: []\n",
    "Track 3: []\n",
    "=============================\n",
    "Action: [3, 2, 1]\n",
    "Period: 31\n",
    "Track 1: ['m1']\n",
    "Rack 2: []\n",
    "Track 3: []\n",
    "=============================\n",
    "Action: [3, 2, 1]\n",
    "Period: 32\n",
    "Track 1: ['m1']\n",
    "Rack 2: []\n",
    "Track 3: []\n",
    "=============================\n",
    "Action: [3, 2, 1]\n",
    "Period: 33\n",
    "Track 1: ['m1']\n",
    "Rack 2: []\n",
    "Track 3: []\n",
    "=============================\n",
    "Action: [3, 2, 1]\n",
    "Period: 34\n",
    "Track 1: ['m1']\n",
    "Rack 2: []\n",
    "Track 3: []\n",
    "=============================\n",
    "Action: [3, 2, 1]\n",
    "Period: 35\n",
    "Track 1: ['m1']\n",
    "Rack 2: []\n",
    "Track 3: []\n",
    "=============================\n",
    "Action: [3, 2, 1]\n",
    "Period: 36\n",
    "Track 1: ['m1']\n",
    "Rack 2: []\n",
    "Track 3: []\n",
    "=============================\n",
    "Action: [3, 2, 1]\n",
    "Period: 37\n",
    "Track 1: ['m1']\n",
    "Rack 2: []\n",
    "Track 3: []\n",
    "=============================\n",
    "Action: [3, 2, 1]\n",
    "Period: 38\n",
    "Track 1: ['m1']\n",
    "Rack 2: []\n",
    "Track 3: []\n",
    "=============================\n",
    "Action: [3, 2, 1]\n",
    "Period: 39\n",
    "Track 1: ['m1']\n",
    "Rack 2: []\n",
    "Track 3: []\n",
    "=============================\n",
    "Action: [3, 2, 1]\n",
    "Period: 40\n",
    "Track 1: ['m1']\n",
    "Rack 2: []\n",
    "Track 3: []\n",
    "=============================\n",
    "Action: [3, 2, 1]\n",
    "Period: 41\n",
    "Track 1: ['m1']\n",
    "Rack 2: []\n",
    "Track 3: []\n",
    "=============================\n",
    "Action: [3, 2, 1]\n",
    "Period: 42\n",
    "Track 1: ['m1']\n",
    "Rack 2: []\n",
    "Track 3: []\n",
    "=============================\n",
    "Action: [3, 2, 1]\n",
    "Period: 43\n",
    "Track 1: ['m1']\n",
    "Rack 2: []\n",
    "Track 3: []\n",
    "=============================\n",
    "Action: [3, 2, 1]\n",
    "Period: 44\n",
    "Track 1: ['m1']\n",
    "Rack 2: []\n",
    "Track 3: []\n",
    "=============================\n",
    "Action: [3, 2, 1]\n",
    "Period: 45\n",
    "Track 1: ['m1']\n",
    "Rack 2: []\n",
    "Track 3: []\n",
    "=============================\n",
    "Action: [3, 2, 1]\n",
    "Period: 46\n",
    "Track 1: ['m1']\n",
    "Rack 2: []\n",
    "Track 3: []\n",
    "=============================\n",
    "Action: [3, 2, 1]\n",
    "Period: 47\n",
    "Track 1: ['m1']\n",
    "Rack 2: []\n",
    "Track 3: []\n",
    "=============================\n",
    "Action: [3, 2, 1]\n",
    "Period: 48\n",
    "Track 1: ['m1']\n",
    "Rack 2: []\n",
    "Track 3: []\n",
    "=============================\n",
    "Action: [3, 2, 1]\n",
    "Period: 49\n",
    "Track 1: ['m1']\n",
    "Rack 2: []\n",
    "Track 3: []\n",
    "=============================\n",
    "Action: [3, 2, 1]\n",
    "Period: 50\n",
    "Track 1: ['m1']\n",
    "Rack 2: []\n",
    "Track 3: []\n",
    "=============================\n",
    "Action: [3, 2, 1]\n",
    "Period: 51\n",
    "Track 1: ['m1']\n",
    "Rack 2: []\n",
    "Track 3: []\n",
    "=============================\n",
    "Action: [3, 2, 1]\n",
    "Period: 52\n",
    "Track 1: ['m1']\n",
    "Rack 2: []\n",
    "Track 3: []\n",
    "=============================\n",
    "Action: [3, 2, 1]\n",
    "Period: 53\n",
    "Track 1: ['m1']\n",
    "Rack 2: []\n",
    "Track 3: []\n",
    "=============================\n",
    "Action: [3, 2, 1]\n",
    "Period: 54\n",
    "Track 1: ['m1']\n",
    "Rack 2: []\n",
    "Track 3: []\n",
    "=============================\n",
    "Action: [3, 2, 1]\n",
    "Period: 55\n",
    "Track 1: ['m1']\n",
    "Rack 2: []\n",
    "Track 3: []\n",
    "=============================\n",
    "Action: [3, 2, 1]\n",
    "Period: 56\n",
    "Track 1: ['m1']\n",
    "Rack 2: []\n",
    "Track 3: []\n",
    "=============================\n",
    "Action: [3, 2, 1]\n",
    "Period: 57\n",
    "Track 1: ['m1']\n",
    "Rack 2: []\n",
    "Track 3: []\n",
    "=============================\n",
    "Action: [3, 2, 1]\n",
    "Period: 58\n",
    "Track 1: ['m1']\n",
    "Rack 2: []\n",
    "Track 3: []\n",
    "=============================\n",
    "Action: [3, 2, 1]\n",
    "Period: 59\n",
    "Track 1: ['m1']\n",
    "Rack 2: []\n",
    "Track 3: []\n",
    "=============================\n",
    "Action: [3, 2, 1]\n",
    "Period: 60\n",
    "Track 1: ['m1']\n",
    "Rack 2: []\n",
    "Track 3: []\n",
    "=============================\n",
    "Action: [3, 2, 1]\n",
    "Period: 61\n",
    "Track 1: ['m1']\n",
    "Rack 2: []\n",
    "Track 3: []\n",
    "=============================\n",
    "Action: [3, 2, 1]\n",
    "Period: 62\n",
    "Track 1: ['m1']\n",
    "Rack 2: []\n",
    "Track 3: []\n",
    "=============================\n",
    "Action: [3, 2, 1]\n",
    "Period: 63\n",
    "Track 1: ['m1']\n",
    "Rack 2: []\n",
    "Track 3: []\n",
    "=============================\n",
    "Action: [3, 2, 1]\n",
    "Period: 64\n",
    "Track 1: ['m1']\n",
    "Rack 2: []\n",
    "Track 3: []\n",
    "=============================\n",
    "Action: [3, 2, 1]\n",
    "Period: 65\n",
    "Track 1: ['m1']\n",
    "Rack 2: []\n",
    "Track 3: []\n",
    "=============================\n",
    "Action: [3, 2, 1]\n",
    "Period: 66\n",
    "Track 1: ['m1']\n",
    "Rack 2: []\n",
    "Track 3: []\n",
    "=============================\n",
    "Action: [3, 2, 1]\n",
    "Period: 67\n",
    "Track 1: ['m1']\n",
    "Rack 2: []\n",
    "Track 3: []\n",
    "=============================\n",
    "Action: [3, 2, 1]\n",
    "Period: 68\n",
    "Track 1: ['m1']\n",
    "Rack 2: []\n",
    "Track 3: []\n",
    "=============================\n",
    "Action: [3, 2, 1]\n",
    "Period: 69\n",
    "Track 1: ['m1']\n",
    "Rack 2: []\n",
    "Track 3: []\n",
    "=============================\n",
    "Action: [3, 2, 1]\n",
    "Period: 70\n",
    "Track 1: ['m1']\n",
    "Rack 2: []\n",
    "Track 3: []\n",
    "=============================\n",
    "Action: [3, 2, 1]\n",
    "Period: 71\n",
    "Track 1: ['m1']\n",
    "Rack 2: []\n",
    "Track 3: []\n",
    "=============================\n",
    "Action: [3, 2, 1]\n",
    "Period: 72\n",
    "Track 1: ['m1']\n",
    "Rack 2: []\n",
    "Track 3: []\n",
    "=============================\n",
    "Action: [3, 2, 1]\n",
    "Period: 73\n",
    "Track 1: ['m1']\n",
    "Rack 2: []\n",
    "Track 3: []\n",
    "=============================\n",
    "Action: [3, 2, 1]\n",
    "Period: 74\n",
    "Track 1: ['m1']\n",
    "Rack 2: []\n",
    "Track 3: []\n",
    "=============================\n",
    "Action: [3, 2, 1]\n",
    "Period: 75\n",
    "Track 1: ['m1']\n",
    "Rack 2: []\n",
    "Track 3: []\n",
    "=============================\n",
    "Action: [3, 2, 1]\n",
    "Period: 76\n",
    "Track 1: ['m1']\n",
    "Rack 2: []\n",
    "Track 3: []\n",
    "=============================\n",
    "Action: [3, 2, 1]\n",
    "Period: 77\n",
    "Track 1: ['m1']\n",
    "Rack 2: []\n",
    "Track 3: []\n",
    "=============================\n",
    "Action: [3, 2, 1]\n",
    "Period: 78\n",
    "Track 1: ['m1']\n",
    "Rack 2: []\n",
    "Track 3: []\n",
    "=============================\n",
    "Action: [3, 2, 1]\n",
    "Period: 79\n",
    "Track 1: ['m1']\n",
    "Rack 2: []\n",
    "Track 3: []\n",
    "=============================\n",
    "Action: [3, 2, 1]\n",
    "Period: 80\n",
    "Track 1: ['m1']\n",
    "Rack 2: []\n",
    "Track 3: []\n",
    "=============================\n",
    "Action: [3, 2, 1]\n",
    "Period: 81\n",
    "Track 1: ['m1']\n",
    "Rack 2: []\n",
    "Track 3: []\n",
    "=============================\n",
    "Action: [3, 2, 1]\n",
    "Period: 82\n",
    "Track 1: ['m1']\n",
    "Rack 2: []\n",
    "Track 3: []\n",
    "=============================\n",
    "Action: [3, 2, 1]\n",
    "Period: 83\n",
    "Track 1: ['m1']\n",
    "Rack 2: []\n",
    "Track 3: []\n",
    "=============================\n",
    "Action: [3, 2, 1]\n",
    "Period: 84\n",
    "Track 1: ['m1']\n",
    "Rack 2: []\n",
    "Track 3: []\n",
    "=============================\n",
    "Action: [3, 2, 1]\n",
    "Period: 85\n",
    "Track 1: ['m1']\n",
    "Rack 2: []\n",
    "Track 3: []\n",
    "=============================\n",
    "Action: [3, 2, 1]\n",
    "Period: 86\n",
    "Track 1: ['m1']\n",
    "Rack 2: []\n",
    "Track 3: []\n",
    "=============================\n",
    "Action: [3, 2, 1]\n",
    "Period: 87\n",
    "Track 1: ['m1']\n",
    "Rack 2: []\n",
    "Track 3: []\n",
    "=============================\n",
    "Action: [3, 2, 1]\n",
    "Period: 88\n",
    "Track 1: ['m1']\n",
    "Rack 2: []\n",
    "Track 3: []\n",
    "=============================\n",
    "Action: [3, 2, 1]\n",
    "Period: 89\n",
    "Track 1: ['m1']\n",
    "Rack 2: []\n",
    "Track 3: []\n",
    "=============================\n",
    "Action: [3, 2, 1]\n",
    "Period: 90\n",
    "Track 1: ['m1']\n",
    "Rack 2: []\n",
    "Track 3: []\n",
    "=============================\n",
    "Action: [3, 2, 1]\n",
    "Period: 91\n",
    "Track 1: ['m1']\n",
    "Rack 2: []\n",
    "Track 3: []\n",
    "=============================\n",
    "Action: [3, 2, 1]\n",
    "Period: 92\n",
    "Track 1: ['m1']\n",
    "Rack 2: []\n",
    "Track 3: []\n",
    "=============================\n",
    "Action: [3, 2, 1]\n",
    "Period: 93\n",
    "Track 1: ['m1']\n",
    "Rack 2: []\n",
    "Track 3: []\n",
    "=============================\n",
    "Action: [3, 2, 1]\n",
    "Period: 94\n",
    "Track 1: ['m1']\n",
    "Rack 2: []\n",
    "Track 3: []\n",
    "=============================\n",
    "Action: [3, 2, 1]\n",
    "Period: 95\n",
    "Track 1: ['m1']\n",
    "Rack 2: []\n",
    "Track 3: []\n",
    "=============================\n",
    "Action: [3, 2, 1]\n",
    "Period: 96\n",
    "Track 1: ['m1']\n",
    "Rack 2: []\n",
    "Track 3: []\n",
    "=============================\n",
    "Action: [3, 2, 1]\n",
    "Period: 97\n",
    "Track 1: ['m1']\n",
    "Rack 2: []\n",
    "Track 3: []\n",
    "=============================\n",
    "Action: [3, 2, 1]\n",
    "Period: 98\n",
    "Track 1: ['m1']\n",
    "Rack 2: []\n",
    "Track 3: []\n",
    "=============================\n",
    "Action: [3, 2, 1]\n",
    "Period: 99\n",
    "Track 1: ['m1']\n",
    "Rack 2: []\n",
    "Track 3: []\n",
    "=============================\n",
    "Action: [3, 2, 1]\n",
    "Period: 100\n",
    "Track 1: ['m1']\n",
    "Rack 2: []\n",
    "Track 3: []\n",
    "Period: 0\n",
    "Track 1: ['m1']\n",
    "Rack 2: []\n",
    "Track 3: []\n",
    "=============================\n",
    "Action: [3, 2, 1]\n",
    "Period: 1\n",
    "Track 1: ['m1']\n",
    "Rack 2: []\n",
    "Track 3: []\n",
    "=============================\n",
    "Action: [3, 2, 1]\n",
    "Period: 2\n",
    "Track 1: ['m1']\n",
    "Rack 2: []\n",
    "Track 3: []\n",
    "=============================\n",
    "Action: [3, 2, 1]\n",
    "Period: 3\n",
    "Track 1: ['m1']\n",
    "Rack 2: []\n",
    "Track 3: []\n",
    "=============================\n",
    "Action: [3, 2, 1]\n",
    "Period: 4\n",
    "Track 1: ['m1']\n",
    "Rack 2: []\n",
    "Track 3: []\n",
    "=============================\n",
    "Action: [3, 2, 1]\n",
    "Period: 5\n",
    "Track 1: ['m1']\n",
    "Rack 2: []\n",
    "Track 3: []\n",
    "=============================\n",
    "Action: [3, 2, 1]\n",
    "Period: 6\n",
    "Track 1: ['m1']\n",
    "Rack 2: []\n",
    "Track 3: []\n",
    "=============================\n",
    "Action: [3, 2, 1]\n",
    "Period: 7\n",
    "Track 1: ['m1']\n",
    "Rack 2: []\n",
    "Track 3: []\n",
    "=============================\n",
    "Action: [3, 2, 1]\n",
    "Period: 8\n",
    "Track 1: ['m1']\n",
    "Rack 2: []\n",
    "Track 3: []\n",
    "=============================\n",
    "Action: [3, 2, 1]\n",
    "Period: 9\n",
    "Track 1: ['m1']\n",
    "Rack 2: []\n",
    "Track 3: []\n",
    "=============================\n",
    "Action: [3, 2, 1]\n",
    "Period: 10\n",
    "Track 1: ['m1']\n",
    "Rack 2: []\n",
    "Track 3: []\n",
    "=============================\n",
    "Action: [3, 2, 1]\n",
    "Period: 11\n",
    "Track 1: ['m1']\n",
    "Rack 2: []\n",
    "Track 3: []\n",
    "=============================\n",
    "Action: [3, 2, 1]\n",
    "Period: 12\n",
    "Track 1: ['m1']\n",
    "Rack 2: []\n",
    "Track 3: []\n",
    "=============================\n",
    "Action: [3, 2, 1]\n",
    "Period: 13\n",
    "Track 1: ['m1']\n",
    "Rack 2: []\n",
    "Track 3: []\n",
    "=============================\n",
    "Action: [3, 2, 1]\n",
    "Period: 14\n",
    "Track 1: ['m1']\n",
    "Rack 2: []\n",
    "Track 3: []\n",
    "=============================\n",
    "Action: [3, 2, 1]\n",
    "Period: 15\n",
    "Track 1: ['m1']\n",
    "Rack 2: []\n",
    "Track 3: []\n",
    "=============================\n",
    "Action: [3, 2, 1]\n",
    "Period: 16\n",
    "Track 1: ['m1']\n",
    "Rack 2: []\n",
    "Track 3: []\n",
    "=============================\n",
    "Action: [3, 2, 1]\n",
    "Period: 17\n",
    "Track 1: ['m1']\n",
    "Rack 2: []\n",
    "Track 3: []\n",
    "=============================\n",
    "Action: [3, 2, 1]\n",
    "Period: 18\n",
    "Track 1: ['m1']\n",
    "Rack 2: []\n",
    "Track 3: []\n",
    "=============================\n",
    "Action: [3, 2, 1]\n",
    "Period: 19\n",
    "Track 1: ['m1']\n",
    "Rack 2: []\n",
    "Track 3: []\n",
    "=============================\n",
    "Action: [3, 2, 1]\n",
    "Period: 20\n",
    "Track 1: ['m1']\n",
    "Rack 2: []\n",
    "Track 3: []\n",
    "=============================\n",
    "Action: [3, 2, 1]\n",
    "Period: 21\n",
    "Track 1: ['m1']\n",
    "Rack 2: []\n",
    "Track 3: []\n",
    "=============================\n",
    "Action: [3, 2, 1]\n",
    "Period: 22\n",
    "Track 1: ['m1']\n",
    "Rack 2: []\n",
    "Track 3: []\n",
    "=============================\n",
    "Action: [3, 2, 1]\n",
    "Period: 23\n",
    "Track 1: ['m1']\n",
    "Rack 2: []\n",
    "Track 3: []\n",
    "=============================\n",
    "Action: [3, 2, 1]\n",
    "Period: 24\n",
    "Track 1: ['m1']\n",
    "Rack 2: []\n",
    "Track 3: []\n",
    "=============================\n",
    "Action: [3, 2, 1]\n",
    "Period: 25\n",
    "Track 1: ['m1']\n",
    "Rack 2: []\n",
    "Track 3: []\n",
    "=============================\n",
    "Action: [3, 2, 1]\n",
    "Period: 26\n",
    "Track 1: ['m1']\n",
    "Rack 2: []\n",
    "Track 3: []\n",
    "=============================\n",
    "Action: [3, 2, 1]\n",
    "Period: 27\n",
    "Track 1: ['m1']\n",
    "Rack 2: []\n",
    "Track 3: []\n",
    "=============================\n",
    "Action: [3, 2, 1]\n",
    "Period: 28\n",
    "Track 1: ['m1']\n",
    "Rack 2: []\n",
    "Track 3: []\n",
    "=============================\n",
    "Action: [3, 2, 1]\n",
    "Period: 29\n",
    "Track 1: ['m1']\n",
    "Rack 2: []\n",
    "Track 3: []\n",
    "=============================\n",
    "Action: [3, 2, 1]\n",
    "Period: 30\n",
    "Track 1: ['m1']\n",
    "Rack 2: []\n",
    "Track 3: []\n",
    "=============================\n",
    "Action: [3, 2, 1]\n",
    "Period: 31\n",
    "Track 1: ['m1']\n",
    "Rack 2: []\n",
    "Track 3: []\n",
    "=============================\n",
    "Action: [3, 2, 1]\n",
    "Period: 32\n",
    "Track 1: ['m1']\n",
    "Rack 2: []\n",
    "Track 3: []\n",
    "=============================\n",
    "Action: [3, 2, 1]\n",
    "Period: 33\n",
    "Track 1: ['m1']\n",
    "Rack 2: []\n",
    "Track 3: []\n",
    "=============================\n",
    "Action: [3, 2, 1]\n",
    "Period: 34\n",
    "Track 1: ['m1']\n",
    "Rack 2: []\n",
    "Track 3: []\n",
    "=============================\n",
    "Action: [3, 2, 1]\n",
    "Period: 35\n",
    "Track 1: ['m1']\n",
    "Rack 2: []\n",
    "Track 3: []\n",
    "=============================\n",
    "Action: [3, 2, 1]\n",
    "Period: 36\n",
    "Track 1: ['m1']\n",
    "Rack 2: []\n",
    "Track 3: []\n",
    "=============================\n",
    "Action: [3, 2, 1]\n",
    "Period: 37\n",
    "Track 1: ['m1']\n",
    "Rack 2: []\n",
    "Track 3: []\n",
    "=============================\n",
    "Action: [3, 2, 1]\n",
    "Period: 38\n",
    "Track 1: ['m1']\n",
    "Rack 2: []\n",
    "Track 3: []\n",
    "=============================\n",
    "Action: [3, 2, 1]\n",
    "Period: 39\n",
    "Track 1: ['m1']\n",
    "Rack 2: []\n",
    "Track 3: []\n",
    "=============================\n",
    "Action: [3, 2, 1]\n",
    "Period: 40\n",
    "Track 1: ['m1']\n",
    "Rack 2: []\n",
    "Track 3: []\n",
    "=============================\n",
    "Action: [3, 2, 1]\n",
    "Period: 41\n",
    "Track 1: ['m1']\n",
    "Rack 2: []\n",
    "Track 3: []\n",
    "=============================\n",
    "Action: [3, 2, 1]\n",
    "Period: 42\n",
    "Track 1: ['m1']\n",
    "Rack 2: []\n",
    "Track 3: []\n",
    "=============================\n",
    "Action: [3, 2, 1]\n",
    "Period: 43\n",
    "Track 1: ['m1']\n",
    "Rack 2: []\n",
    "Track 3: []\n",
    "=============================\n",
    "Action: [3, 2, 1]\n",
    "Period: 44\n",
    "Track 1: ['m1']\n",
    "Rack 2: []\n",
    "Track 3: []\n",
    "=============================\n",
    "Action: [3, 2, 1]\n",
    "Period: 45\n",
    "Track 1: ['m1']\n",
    "Rack 2: []\n",
    "Track 3: []\n",
    "=============================\n",
    "Action: [3, 2, 1]\n",
    "Period: 46\n",
    "Track 1: ['m1']\n",
    "Rack 2: []\n",
    "Track 3: []\n",
    "=============================\n",
    "Action: [3, 2, 1]\n",
    "Period: 47\n",
    "Track 1: ['m1']\n",
    "Rack 2: []\n",
    "Track 3: []\n",
    "=============================\n",
    "Action: [3, 2, 1]\n",
    "Period: 48\n",
    "Track 1: ['m1']\n",
    "Rack 2: []\n",
    "Track 3: []\n",
    "=============================\n",
    "Action: [3, 2, 1]\n",
    "Period: 49\n",
    "Track 1: ['m1']\n",
    "Rack 2: []\n",
    "Track 3: []\n",
    "=============================\n",
    "Action: [3, 2, 1]\n",
    "Period: 50\n",
    "Track 1: ['m1']\n",
    "Rack 2: []\n",
    "Track 3: []\n",
    "=============================\n",
    "Action: [3, 2, 1]\n",
    "Period: 51\n",
    "Track 1: ['m1']\n",
    "Rack 2: []\n",
    "Track 3: []\n",
    "=============================\n",
    "Action: [3, 2, 1]\n",
    "Period: 52\n",
    "Track 1: ['m1']\n",
    "Rack 2: []\n",
    "Track 3: []\n",
    "=============================\n",
    "Action: [3, 2, 1]\n",
    "Period: 53\n",
    "Track 1: ['m1']\n",
    "Rack 2: []\n",
    "Track 3: []\n",
    "=============================\n",
    "Action: [3, 2, 1]\n",
    "Period: 54\n",
    "Track 1: ['m1']\n",
    "Rack 2: []\n",
    "Track 3: []\n",
    "=============================\n",
    "Action: [3, 2, 1]\n",
    "Period: 55\n",
    "Track 1: ['m1']\n",
    "Rack 2: []\n",
    "Track 3: []\n",
    "=============================\n",
    "Action: [3, 2, 1]\n",
    "Period: 56\n",
    "Track 1: ['m1']\n",
    "Rack 2: []\n",
    "Track 3: []\n",
    "=============================\n",
    "Action: [3, 2, 1]\n",
    "Period: 57\n",
    "Track 1: ['m1']\n",
    "Rack 2: []\n",
    "Track 3: []\n",
    "=============================\n",
    "Action: [3, 2, 1]\n",
    "Period: 58\n",
    "Track 1: ['m1']\n",
    "Rack 2: []\n",
    "Track 3: []\n",
    "=============================\n",
    "Action: [3, 2, 1]\n",
    "Period: 59\n",
    "Track 1: ['m1']\n",
    "Rack 2: []\n",
    "Track 3: []\n",
    "=============================\n",
    "Action: [3, 2, 1]\n",
    "Period: 60\n",
    "Track 1: ['m1']\n",
    "Rack 2: []\n",
    "Track 3: []\n",
    "=============================\n",
    "Action: [3, 2, 1]\n",
    "Period: 61\n",
    "Track 1: ['m1']\n",
    "Rack 2: []\n",
    "Track 3: []\n",
    "=============================\n",
    "Action: [3, 2, 1]\n",
    "Period: 62\n",
    "Track 1: ['m1']\n",
    "Rack 2: []\n",
    "Track 3: []\n",
    "=============================\n",
    "Action: [3, 2, 1]\n",
    "Period: 63\n",
    "Track 1: ['m1']\n",
    "Rack 2: []\n",
    "Track 3: []\n",
    "=============================\n",
    "Action: [3, 2, 1]\n",
    "Period: 64\n",
    "Track 1: ['m1']\n",
    "Rack 2: []\n",
    "Track 3: []\n",
    "=============================\n",
    "Action: [3, 2, 1]\n",
    "Period: 65\n",
    "Track 1: ['m1']\n",
    "Rack 2: []\n",
    "Track 3: []\n",
    "=============================\n",
    "Action: [3, 2, 1]\n",
    "Period: 66\n",
    "Track 1: ['m1']\n",
    "Rack 2: []\n",
    "Track 3: []\n",
    "=============================\n",
    "Action: [3, 2, 1]\n",
    "Period: 67\n",
    "Track 1: ['m1']\n",
    "Rack 2: []\n",
    "Track 3: []\n",
    "=============================\n",
    "Action: [3, 2, 1]\n",
    "Period: 68\n",
    "Track 1: ['m1']\n",
    "Rack 2: []\n",
    "Track 3: []\n",
    "=============================\n",
    "Action: [3, 2, 1]\n",
    "Period: 69\n",
    "Track 1: ['m1']\n",
    "Rack 2: []\n",
    "Track 3: []\n",
    "=============================\n",
    "Action: [3, 2, 1]\n",
    "Period: 70\n",
    "Track 1: ['m1']\n",
    "Rack 2: []\n",
    "Track 3: []\n",
    "=============================\n",
    "Action: [3, 2, 1]\n",
    "Period: 71\n",
    "Track 1: ['m1']\n",
    "Rack 2: []\n",
    "Track 3: []\n",
    "=============================\n",
    "Action: [3, 2, 1]\n",
    "Period: 72\n",
    "Track 1: ['m1']\n",
    "Rack 2: []\n",
    "Track 3: []\n",
    "=============================\n",
    "Action: [3, 2, 1]\n",
    "Period: 73\n",
    "Track 1: ['m1']\n",
    "Rack 2: []\n",
    "Track 3: []\n",
    "=============================\n",
    "Action: [3, 2, 1]\n",
    "Period: 74\n",
    "Track 1: ['m1']\n",
    "Rack 2: []\n",
    "Track 3: []\n",
    "=============================\n",
    "Action: [3, 2, 1]\n",
    "Period: 75\n",
    "Track 1: ['m1']\n",
    "Rack 2: []\n",
    "Track 3: []\n",
    "=============================\n",
    "Action: [3, 2, 1]\n",
    "Period: 76\n",
    "Track 1: ['m1']\n",
    "Rack 2: []\n",
    "Track 3: []\n",
    "=============================\n",
    "Action: [3, 2, 1]\n",
    "Period: 77\n",
    "Track 1: ['m1']\n",
    "Rack 2: []\n",
    "Track 3: []\n",
    "=============================\n",
    "Action: [3, 2, 1]\n",
    "Period: 78\n",
    "Track 1: ['m1']\n",
    "Rack 2: []\n",
    "Track 3: []\n",
    "=============================\n",
    "Action: [3, 2, 1]\n",
    "Period: 79\n",
    "Track 1: ['m1']\n",
    "Rack 2: []\n",
    "Track 3: []\n",
    "=============================\n",
    "Action: [3, 2, 1]\n",
    "Period: 80\n",
    "Track 1: ['m1']\n",
    "Rack 2: []\n",
    "Track 3: []\n",
    "=============================\n",
    "Action: [3, 2, 1]\n",
    "Period: 81\n",
    "Track 1: ['m1']\n",
    "Rack 2: []\n",
    "Track 3: []\n",
    "=============================\n",
    "Action: [3, 2, 1]\n",
    "Period: 82\n",
    "Track 1: ['m1']\n",
    "Rack 2: []\n",
    "Track 3: []\n",
    "=============================\n",
    "Action: [3, 2, 1]\n",
    "Period: 83\n",
    "Track 1: ['m1']\n",
    "Rack 2: []\n",
    "Track 3: []\n",
    "=============================\n",
    "Action: [3, 2, 1]\n",
    "Period: 84\n",
    "Track 1: ['m1']\n",
    "Rack 2: []\n",
    "Track 3: []\n",
    "=============================\n",
    "Action: [3, 2, 1]\n",
    "Period: 85\n",
    "Track 1: ['m1']\n",
    "Rack 2: []\n",
    "Track 3: []\n",
    "=============================\n",
    "Action: [3, 2, 1]\n",
    "Period: 86\n",
    "Track 1: ['m1']\n",
    "Rack 2: []\n",
    "Track 3: []\n",
    "=============================\n",
    "Action: [3, 2, 1]\n",
    "Period: 87\n",
    "Track 1: ['m1']\n",
    "Rack 2: []\n",
    "Track 3: []\n",
    "=============================\n",
    "Action: [3, 2, 1]\n",
    "Period: 88\n",
    "Track 1: ['m1']\n",
    "Rack 2: []\n",
    "Track 3: []\n",
    "=============================\n",
    "Action: [3, 2, 1]\n",
    "Period: 89\n",
    "Track 1: ['m1']\n",
    "Rack 2: []\n",
    "Track 3: []\n",
    "=============================\n",
    "Action: [3, 2, 1]\n",
    "Period: 90\n",
    "Track 1: ['m1']\n",
    "Rack 2: []\n",
    "Track 3: []\n",
    "=============================\n",
    "Action: [3, 2, 1]\n",
    "Period: 91\n",
    "Track 1: ['m1']\n",
    "Rack 2: []\n",
    "Track 3: []\n",
    "=============================\n",
    "Action: [3, 2, 1]\n",
    "Period: 92\n",
    "Track 1: ['m1']\n",
    "Rack 2: []\n",
    "Track 3: []\n",
    "=============================\n",
    "Action: [3, 2, 1]\n",
    "Period: 93\n",
    "Track 1: ['m1']\n",
    "Rack 2: []\n",
    "Track 3: []\n",
    "=============================\n",
    "Action: [3, 2, 1]\n",
    "Period: 94\n",
    "Track 1: ['m1']\n",
    "Rack 2: []\n",
    "Track 3: []\n",
    "=============================\n",
    "Action: [3, 2, 1]\n",
    "Period: 95\n",
    "Track 1: ['m1']\n",
    "Rack 2: []\n",
    "Track 3: []\n",
    "=============================\n",
    "Action: [3, 2, 1]\n",
    "Period: 96\n",
    "Track 1: ['m1']\n",
    "Rack 2: []\n",
    "Track 3: []\n",
    "=============================\n",
    "Action: [3, 2, 1]\n",
    "Period: 97\n",
    "Track 1: ['m1']\n",
    "Rack 2: []\n",
    "Track 3: []\n",
    "=============================\n",
    "Action: [3, 2, 1]\n",
    "Period: 98\n",
    "Track 1: ['m1']\n",
    "Rack 2: []\n",
    "Track 3: []\n",
    "=============================\n",
    "Action: [3, 2, 1]\n",
    "Period: 99\n",
    "Track 1: ['m1']\n",
    "Rack 2: []\n",
    "Track 3: []\n",
    "=============================\n",
    "Action: [3, 2, 1]\n",
    "Period: 100\n",
    "Track 1: ['m1']\n",
    "Rack 2: []\n",
    "Track 3: []\n"
   ]
  },
  {
   "cell_type": "code",
   "execution_count": null,
   "metadata": {},
   "outputs": [],
   "source": []
  }
 ],
 "metadata": {
  "file_extension": ".py",
  "kernelspec": {
   "display_name": "Python 3.6.10 64-bit ('tf-agents': conda)",
   "language": "python",
   "name": "python361064bittfagentsconda3ec0262858e54c8c9e7f078b9dfd58a1"
  },
  "language_info": {
   "codemirror_mode": {
    "name": "ipython",
    "version": 3
   },
   "file_extension": ".py",
   "mimetype": "text/x-python",
   "name": "python",
   "nbconvert_exporter": "python",
   "pygments_lexer": "ipython3",
   "version": "3.6.10"
  },
  "mimetype": "text/x-python",
  "name": "python",
  "npconvert_exporter": "python",
  "pygments_lexer": "ipython3",
  "version": 3
 },
 "nbformat": 4,
 "nbformat_minor": 2
}
